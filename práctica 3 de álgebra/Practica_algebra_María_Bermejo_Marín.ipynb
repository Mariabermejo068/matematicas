{
  "nbformat": 4,
  "nbformat_minor": 0,
  "metadata": {
    "colab": {
      "provenance": [],
      "include_colab_link": true
    },
    "kernelspec": {
      "name": "python3",
      "display_name": "Python 3"
    },
    "language_info": {
      "name": "python"
    }
  },
  "cells": [
    {
      "cell_type": "markdown",
      "metadata": {
        "id": "view-in-github",
        "colab_type": "text"
      },
      "source": [
        "<a href=\"https://colab.research.google.com/github/Mariabermejo068/matematicas/blob/main/pr%C3%A1ctica%203%20de%20%C3%A1lgebra/Practica_algebra_Mar%C3%ADa_Bermejo_Mar%C3%ADn.ipynb\" target=\"_parent\"><img src=\"https://colab.research.google.com/assets/colab-badge.svg\" alt=\"Open In Colab\"/></a>"
      ]
    },
    {
      "cell_type": "markdown",
      "source": [
        "# Práctica 3. Álgebra\n",
        "* Para aprender sobre Python vea la playlist [Python para Matemáticas](https://www.youtube.com/playlist?list=PL8gpDXwO-9l4HkDJ9QhB4H-cOiT0BYGau)\n",
        "* Para obtener ideas y vídeos para la resolución de la práctica vea los archivos siguientes: [Ideas](https://github.com/financieras/math/tree/main/ideas)"
      ],
      "metadata": {
        "id": "b13aYMDxmd7v"
      }
    },
    {
      "cell_type": "markdown",
      "source": [
        "## Práctica 3.1\n",
        "**Determinante en Excel**  \n",
        "\n",
        "* Cree un fichero en Excel de nombre algebra.xlsm.\n",
        "* La extensión **xlsm** corresponde a los archivos de Excel habilitados para macros.\n",
        "* Utilice la Hoja 1 para hacer la Práctica 3.1.\n",
        "* Se pide:\n",
        " 1. Cree una matriz cuadrada de dimensión 5×5, formada por números aleatorios enteros entre -9 y +9.\n",
        " 2. Calcule el determinante de esta matriz\n",
        " 3. Cree un programa en **VBA** que busque una matriz de este tipo cuyo determinante sea cero.\n",
        " 4. Copie la matriz encontrada y péguela debajo con \"pegado especial valores\" para que no varíe su contenido al efectuar el recálculo manual de la hoja."
      ],
      "metadata": {
        "id": "XWa9IdzJmpbB"
      }
    },
    {
      "cell_type": "markdown",
      "source": [
        "## Resuelto en **mi excel subido a la tarea** en el Aula Virtual."
      ],
      "metadata": {
        "id": "FXyxchMCna_Z"
      }
    },
    {
      "cell_type": "markdown",
      "source": [
        "## Práctica 3.2\n",
        "**Matriz inversa en Excel**  \n",
        "\n",
        "* Use el mismo archivo de Excel con extensión **xlsm** del caso anterior. \n",
        "* Utilice la Hoja 2 para hacer la Práctica 3.2.\n",
        "* Se pide:\n",
        " 1. Crea la matriz $A$ que es una matriz cuadrada de dimensiones 5×5 usando números aleatorios enteros entre -9 y +9, excepto cero\n",
        " 2. Calcule su determinante\n",
        " 3. Calcule su transpuesta usando la función ```TRANSPONER```\n",
        " 4. Calcule su matriz inversa $A^{-1}$\n",
        " 5. Multiplique la matriz $A$ por su inversa $A^{-1}$ y compruebe que el producto es la matriz identidad.\n",
        " $$AA^{-1}=I$$"
      ],
      "metadata": {
        "id": "cP-ppBE1rzGW"
      }
    },
    {
      "cell_type": "markdown",
      "source": [
        "## Resuelto en **mi excel subido a la tarea** en el Aula Virtual."
      ],
      "metadata": {
        "id": "4Y38S09snpJy"
      }
    },
    {
      "cell_type": "markdown",
      "source": [
        "## Práctica 3.3\n",
        "**Resolución de sistemas lineales en Excel**  \n",
        "\n",
        "* Use el mismo archivo de Excel con extensión **xlsm** del caso anterior. \n",
        "* Utilice la Hoja 3 para hacer la Práctica 3.3.\n",
        "* Se pide:\n",
        " 1. Cree un sistema de 5 ecuaciones con 5 incógnitas con **solución única**.\n",
        " 2. Una de las ecuaciones será: $\\quad x_1+2x_2-x_3+x_4-3x_5=6$\n",
        " 3. Muestre las ecuaciones del sistema usando el [editor de ecuaciones](https://support.microsoft.com/es-es/office/editor-de-ecuaciones-6eac7d71-3c74-437b-80d3-c7dea24fdf3f) de Excel. $\\quad Ax=b$\n",
        " 4. Monte la matriz $A$ del sistema de ecuaciones y la matriz $b$ con los términos independientes. Muestre ambas matrices.\n",
        " 5. Calcule la matriz inversa $A^{-1}$\n",
        " 6. Resuelva el sistema lineal de ecuaciones con este método: $\\quad Ax=b \\quad \\Longrightarrow \\quad x=A^{-1}b$\n",
        " 7. Compruebe si el resultado obtenido es la solución del sistema de ecuaciones. Justifique esa comprobación."
      ],
      "metadata": {
        "id": "jJRClauctBdf"
      }
    },
    {
      "cell_type": "markdown",
      "source": [
        "## Resuelto en **mi excel subido a la tarea** en el Aula Virtual."
      ],
      "metadata": {
        "id": "MGaLgr9JnraS"
      }
    },
    {
      "cell_type": "markdown",
      "source": [
        "## Práctica 3.4\n",
        "**Matriz inversa en Python**  \n",
        "\n",
        "Desarrolla un código en Python que al ejecutarse consiga los siguientes apartados.  \n",
        "1. Crea una matriz cuadrada de dimensiones 3×3 usando números aleatorios enteros entre -9 y +9, excepto cero\n",
        "2. Buscar un caso donde el determinante sea igual a 1\n",
        "3. Si el determinante es 1 imprime la matriz y su determinante\n",
        "4. Calcula e imprime su transpuesta\n",
        "5. Calcula e imprime su matriz inversa\n",
        "6. Multiplica la matriz creada por su inversa y comprueba que el producto es la matriz identidad.\n",
        "7. Calcula cuantos segundos ha tardado en realizarse el proceso."
      ],
      "metadata": {
        "id": "EMlUZC6Lqzfs"
      }
    },
    {
      "cell_type": "markdown",
      "source": [
        "## Resolución de la práctica 3.4:"
      ],
      "metadata": {
        "id": "28zBCUq3q2Vn"
      }
    },
    {
      "cell_type": "markdown",
      "source": [
        "## Matriz cuadrada de 3×3 usando **números aleatorios** enteros entre -9 y +9, excepto cero:"
      ],
      "metadata": {
        "id": "JNp77RFzoqU0"
      }
    },
    {
      "cell_type": "code",
      "source": [
        "from random import randint, seed\n",
        "seed()\n",
        "m = []\n",
        "for i in range(3):\n",
        "    fila = []\n",
        "    for j in range(3):\n",
        "        fila.append(randint(-9,9))\n",
        "    m.append(fila)\n",
        "\n",
        "m "
      ],
      "metadata": {
        "id": "j1ekQDX7o0-u",
        "outputId": "5476d04a-86af-4acd-ee32-9b9b36160c38",
        "colab": {
          "base_uri": "https://localhost:8080/"
        }
      },
      "execution_count": null,
      "outputs": [
        {
          "output_type": "execute_result",
          "data": {
            "text/plain": [
              "[[-1, -2, -9], [-9, 7, 1], [-1, -6, -1]]"
            ]
          },
          "metadata": {},
          "execution_count": 16
        }
      ]
    },
    {
      "cell_type": "markdown",
      "source": [
        "## Si el determinante es 1 **imprime la matriz y su determinante:**"
      ],
      "metadata": {
        "id": "D8kH2BJho6Ob"
      }
    },
    {
      "cell_type": "code",
      "source": [
        "import numpy as np\n",
        "\n",
        "n = 3   # orden nxn de la matriz cuadrada\n",
        "\n",
        "while True:\n",
        "    m = np.random.randint(-9,10, size=(n, n))   # aleatorios enteros entre -9 y +9\n",
        "    determ = np.linalg.det(m)\n",
        "    if determ == 1:\n",
        "        print(m)\n",
        "        break\n",
        "\n",
        "print(f\"El determinante de la matriz es {determ}\")"
      ],
      "metadata": {
        "id": "0VN-1fsApAED",
        "outputId": "922c4e2c-9143-4d0c-9b65-7d823004aaa4",
        "colab": {
          "base_uri": "https://localhost:8080/"
        }
      },
      "execution_count": null,
      "outputs": [
        {
          "output_type": "stream",
          "name": "stdout",
          "text": [
            "[[-8 -5  7]\n",
            " [ 0  0  1]\n",
            " [ 3  2 -6]]\n",
            "El determinante de la matriz es 1.0\n"
          ]
        }
      ]
    },
    {
      "cell_type": "markdown",
      "source": [
        "## **Matriz transpuesta:**"
      ],
      "metadata": {
        "id": "zoh2HbDjpSh2"
      }
    },
    {
      "cell_type": "code",
      "source": [
        "import numpy as np\n",
        "m = np.array([[-8,-5,7],[0,0,1],[3,2,-6]])\n",
        "print(\"Matriz:\")\n",
        "print(m)\n",
        "print(\"\\nTranspuesta:\")\n",
        "print(np.transpose(m))"
      ],
      "metadata": {
        "id": "ECcTYIPUpWtN",
        "outputId": "3f5c3cff-c09d-4c0d-f15e-71d2f1a90318",
        "colab": {
          "base_uri": "https://localhost:8080/"
        }
      },
      "execution_count": null,
      "outputs": [
        {
          "output_type": "stream",
          "name": "stdout",
          "text": [
            "Matriz:\n",
            "[[-8 -5  7]\n",
            " [ 0  0  1]\n",
            " [ 3  2 -6]]\n",
            "\n",
            "Transpuesta:\n",
            "[[-8  0  3]\n",
            " [-5  0  2]\n",
            " [ 7  1 -6]]\n"
          ]
        }
      ]
    },
    {
      "cell_type": "markdown",
      "source": [
        "## **Matriz inversa:**"
      ],
      "metadata": {
        "id": "rurotRJipasO"
      }
    },
    {
      "cell_type": "code",
      "source": [
        "import numpy as np\n",
        "\n",
        "m = np.array([[-8,-5,7],[0,0,1],[3,2,-6]])\n",
        "print(\"Matriz:\")\n",
        "print(m)\n",
        "print()\n",
        "\n",
        "print(\"Inversa:\")\n",
        "minv = np.linalg.inv(m)\n",
        "print(minv)\n",
        "print()\n"
      ],
      "metadata": {
        "id": "tLhnTTcUpfgQ",
        "outputId": "ea4ed329-3539-4d6b-82d5-663fe72031e4",
        "colab": {
          "base_uri": "https://localhost:8080/"
        }
      },
      "execution_count": null,
      "outputs": [
        {
          "output_type": "stream",
          "name": "stdout",
          "text": [
            "Matriz:\n",
            "[[-8 -5  7]\n",
            " [ 0  0  1]\n",
            " [ 3  2 -6]]\n",
            "\n",
            "Inversa:\n",
            "[[ -2. -16.  -5.]\n",
            " [  3.  27.   8.]\n",
            " [  0.   1.   0.]]\n",
            "\n"
          ]
        }
      ]
    },
    {
      "cell_type": "markdown",
      "source": [
        "##Multiplicamos la matriz creada por su **inversa** y comprobamos que el producto es la **matriz identidad:**"
      ],
      "metadata": {
        "id": "9jiJCEtZpkkP"
      }
    },
    {
      "cell_type": "code",
      "source": [
        "import numpy as np\n",
        "\n",
        "m = np.array([[-8,-5,7],[0,0,1],[3,2,-6]])\n",
        "print(\"Matriz:\")\n",
        "print(m)\n",
        "print()\n",
        "\n",
        "print(\"Inversa:\")\n",
        "minv = np.linalg.inv(m)\n",
        "print(minv)\n",
        "print()\n",
        "\n",
        "print(\"Matriz Identidad:\")\n",
        "identidad = np.dot(m, minv)   # multiplicación de matrices\n",
        "print(identidad)\n",
        "print()\n",
        "\n",
        "print(\"Matriz Identidad con valores enteros:\")\n",
        "print(identidad.astype(int))   # así forzamos a valores enteros"
      ],
      "metadata": {
        "id": "ZmYEIXJ2pokx",
        "outputId": "dca59ee6-142a-47ec-a97d-dd723dc0fb25",
        "colab": {
          "base_uri": "https://localhost:8080/"
        }
      },
      "execution_count": null,
      "outputs": [
        {
          "output_type": "stream",
          "name": "stdout",
          "text": [
            "Matriz:\n",
            "[[-8 -5  7]\n",
            " [ 0  0  1]\n",
            " [ 3  2 -6]]\n",
            "\n",
            "Inversa:\n",
            "[[ -2. -16.  -5.]\n",
            " [  3.  27.   8.]\n",
            " [  0.   1.   0.]]\n",
            "\n",
            "Matriz Identidad:\n",
            "[[1. 0. 0.]\n",
            " [0. 1. 0.]\n",
            " [0. 0. 1.]]\n",
            "\n",
            "Matriz Identidad con valores enteros:\n",
            "[[1 0 0]\n",
            " [0 1 0]\n",
            " [0 0 1]]\n"
          ]
        }
      ]
    },
    {
      "cell_type": "markdown",
      "source": [
        "## ¿Cuántos **segundos** ha tardado en realizarse el proceso?"
      ],
      "metadata": {
        "id": "yn6JXupfpvIq"
      }
    },
    {
      "cell_type": "code",
      "source": [
        "from time import process_time\n",
        "\n",
        "t1 = process_time()\n",
        "\n",
        "for i in range(10_000_000):\n",
        "    cuadrado = i**2\n",
        "\n",
        "t2 = process_time()\n",
        "print(f\"El proceso ha tardado {t2-t1} segundos.\")"
      ],
      "metadata": {
        "id": "4WW3rZQwpx8s",
        "outputId": "55b25712-ebfc-40bd-8415-1ab60afecdf8",
        "colab": {
          "base_uri": "https://localhost:8080/"
        }
      },
      "execution_count": null,
      "outputs": [
        {
          "output_type": "stream",
          "name": "stdout",
          "text": [
            "El proceso ha tardado 4.540950052000003 segundos.\n"
          ]
        }
      ]
    },
    {
      "cell_type": "markdown",
      "source": [
        "## Práctica 3.5\n",
        "**Resolución de sistemas lineales en Python**  \n",
        "\n",
        "1. Cree un sistema de 4 ecuaciones con 4 incógnitas con **solución única**.\n",
        "2. La solución del sistema es: $\\; \\begin{pmatrix}x_1, x_2, x_3, x_4\\end{pmatrix} = \\begin{pmatrix} 3, 4, 5, 2\\end{pmatrix}$  \n",
        "3. Una de las ecuaciones del sistema es: $\\enspace x_1+3x_2-x_3-2x_4=6$  \n",
        "4. El vector $b$ de términos independientes es: $\\enspace b=\\begin{pmatrix}6, 3, 5, 7\\end{pmatrix}$  \n",
        "5. Usando números aleatorios elija los coeficientes que faltan de la matriz $A$ del sistema de ecuaciones.\n",
        "  - Los coeficientes deben ser números enteros entre -5 y +5, excluido el cero.\n",
        "  - Imprima la matriz $A$.  \n",
        "6. Calcule e imprima el determinante de $A$.\n",
        "7. Calcule e imprima la matriz inversa $A^{-1}$  \n",
        "8. Resuelva el sistema lineal de ecuaciones con este método: $$Ax=b \\quad \\Longrightarrow \\quad x=A^{-1}b$$\n",
        "9. Compruebe que el resultado obtenido es la solución del sistema de ecuaciones.  \n",
        "10. Resuelva nuevamente el sistema de ecuaciones usando ```np.linalg.solve```."
      ],
      "metadata": {
        "id": "tQQS7GPXIdjH"
      }
    },
    {
      "cell_type": "markdown",
      "source": [
        "## Planteamiento y resolución de la práctica 3.5:\n",
        "* La **solución** del sistema es:\n",
        "$$\\begin{pmatrix}\n",
        "  x_1 \\\\\n",
        "  x_2 \\\\\n",
        "  x_3 \\\\\n",
        "  x_4\n",
        "\\end{pmatrix} = \\begin{pmatrix}\n",
        "  3 \\\\\n",
        "  4 \\\\\n",
        "  5 \\\\\n",
        "  2\n",
        "\\end{pmatrix}$$\n",
        "* **Una de las ecuaciones** del sistema es: $\\enspace x_1+3x_2-x_3-2x_4=6$\n",
        "* El vector $b$ de **términos independientes** es: \n",
        "$$b=\\begin{pmatrix}\n",
        "  6 \\\\\n",
        "  3 \\\\\n",
        "  5 \\\\\n",
        "  7\n",
        "\\end{pmatrix}$$\n",
        "* El sistema en **forma matricial:**  \n",
        "\n",
        "$$Ax = b$$\n",
        "* Los **datos** que conocemos: \n",
        "$$\\begin{pmatrix}\n",
        "    1 & 3 & -1 & -2 \\\\\n",
        "    a_{21} & a_{22} & a_{23} & a_{24} \\\\\n",
        "    a_{31} & a_{32} & a_{33} & a_{34} \\\\\n",
        "    a_{41} & a_{42} & a_{43} & a_{44}\n",
        "  \\end{pmatrix} \\begin{pmatrix}\n",
        "  3 \\\\\n",
        "  4 \\\\\n",
        "  5 \\\\\n",
        "  2\n",
        "\\end{pmatrix} = \\begin{pmatrix}\n",
        "  6 \\\\\n",
        "  3 \\\\\n",
        "  5 \\\\\n",
        "  7\n",
        "\\end{pmatrix}$$\n",
        "\n",
        "$$\\enspace$$"
      ],
      "metadata": {
        "id": "q964NuMac_NZ"
      }
    },
    {
      "cell_type": "markdown",
      "source": [
        "## ¿Cómo elegir **aleatoriamente** un número de una lista?"
      ],
      "metadata": {
        "id": "wByh_d98dImw"
      }
    },
    {
      "cell_type": "code",
      "source": [
        "import numpy as np\n",
        "np.random.choice([-5,-4,-3,-2,-1,1,2,3,4,5], 12)"
      ],
      "metadata": {
        "colab": {
          "base_uri": "https://localhost:8080/"
        },
        "id": "xUZB5v5GdMok",
        "outputId": "2dd560c3-6c6b-4bdb-a8b1-a9b1fa389539"
      },
      "execution_count": null,
      "outputs": [
        {
          "output_type": "execute_result",
          "data": {
            "text/plain": [
              "array([-2,  2, -2, -5, -2,  5, -5, -4, -1,  1, -3, -4])"
            ]
          },
          "metadata": {},
          "execution_count": 41
        }
      ]
    },
    {
      "cell_type": "markdown",
      "source": [
        "## ¿Cómo **concatenamos** dos listas?"
      ],
      "metadata": {
        "id": "8v_-5qpfdRR6"
      }
    },
    {
      "cell_type": "code",
      "source": [
        "list(range(-5,0)) + list(range(1,6))"
      ],
      "metadata": {
        "colab": {
          "base_uri": "https://localhost:8080/"
        },
        "id": "-gJnXUn4dVkF",
        "outputId": "551e6d1e-1efd-4795-d21e-8cba9a14f95e"
      },
      "execution_count": null,
      "outputs": [
        {
          "output_type": "execute_result",
          "data": {
            "text/plain": [
              "[-5, -4, -3, -2, -1, 1, 2, 3, 4, 5]"
            ]
          },
          "metadata": {},
          "execution_count": 42
        }
      ]
    },
    {
      "cell_type": "markdown",
      "source": [
        "## Buscamos **vector:**"
      ],
      "metadata": {
        "id": "peLCKB1PdbT3"
      }
    },
    {
      "cell_type": "code",
      "source": [
        "import numpy as np\n",
        "\n",
        "v = np.array([3,4,5,2])   # vector conocido, supongamos que es la solución de sistema lineal\n",
        "\n",
        "def busca(b):\n",
        "    while True:\n",
        "        w = np.random.choice(list(range(-5,0)) + list(range(1,6)), 4)\n",
        "        if np.matmul(v, w) == b:   # el producto de los dos vectores debe ser igual al número b\n",
        "            break\n",
        "    return w\n",
        "\n",
        "b =  6; print(f\"{busca(b)} x {v} = {b}\")\n",
        "b =  3; print(f\"{busca(b)} x {v} = {b}\")\n",
        "b =  5; print(f\"{busca(b)} x {v} = {b}\")\n",
        "b =  7; print(f\"{busca(b)} x {v} = {b}\")\n",
        "\n",
        "# Multiplicando a mano el primer vector sería un vector fila y\n",
        "# el segundo un vector columna\n",
        "# Al usar NumPy no nos preocupamos de la congruendia de vectores"
      ],
      "metadata": {
        "colab": {
          "base_uri": "https://localhost:8080/"
        },
        "id": "elWO96wsdfaD",
        "outputId": "d332e6e5-3c72-48dc-a9d7-991ba53e1b36"
      },
      "execution_count": null,
      "outputs": [
        {
          "output_type": "stream",
          "name": "stdout",
          "text": [
            "[ 1 -1  3 -4] x [3 4 5 2] = 6\n",
            "[ 2 -2  3 -5] x [3 4 5 2] = 3\n",
            "[ 4  3 -5  3] x [3 4 5 2] = 5\n",
            "[-1 -5  4  5] x [3 4 5 2] = 7\n"
          ]
        }
      ]
    },
    {
      "cell_type": "markdown",
      "source": [
        "## Construimos una **matriz** conocidas sus filas:"
      ],
      "metadata": {
        "id": "Uk9EULsedrto"
      }
    },
    {
      "cell_type": "code",
      "source": [
        "import numpy as np\n",
        "\n",
        "f1 = [1, 3, -1, -2]\n",
        "f2 = [2, -2, 3, -5]\n",
        "f3 = [4, 3, -5, 3]\n",
        "f4 = [-1, -5, 4, 5]\n",
        "matriz = [f1, f2, f3, f4]\n",
        "print(matriz)\n",
        "print()\n",
        "\n",
        "# m es un ndarray (n dimensional array)\n",
        "m = np.array(matriz)\n",
        "m"
      ],
      "metadata": {
        "colab": {
          "base_uri": "https://localhost:8080/"
        },
        "id": "jjpOVogreaJR",
        "outputId": "559a4767-3dd7-4e8e-9576-51675b150c45"
      },
      "execution_count": null,
      "outputs": [
        {
          "output_type": "stream",
          "name": "stdout",
          "text": [
            "[[1, 3, -1, -2], [2, -2, 3, -5], [4, 3, -5, 3], [-1, -5, 4, 5]]\n",
            "\n"
          ]
        },
        {
          "output_type": "execute_result",
          "data": {
            "text/plain": [
              "array([[ 1,  3, -1, -2],\n",
              "       [ 2, -2,  3, -5],\n",
              "       [ 4,  3, -5,  3],\n",
              "       [-1, -5,  4,  5]])"
            ]
          },
          "metadata": {},
          "execution_count": 9
        }
      ]
    },
    {
      "cell_type": "markdown",
      "source": [
        "## Calculamos e imprimimos el **determinante A:**"
      ],
      "metadata": {
        "id": "h1RiU_fTefYO"
      }
    },
    {
      "cell_type": "code",
      "source": [
        "import numpy as np \n",
        "M=np.array([[1, 3, -1, -2], [2, -2, 3, -5], [4, 3, -5, 3], [-1, -5, 4, 5]])\n",
        "d=np.linalg.det(M) \n",
        "print(d)"
      ],
      "metadata": {
        "colab": {
          "base_uri": "https://localhost:8080/"
        },
        "id": "1fzGVaT3eisr",
        "outputId": "b5024df4-e2ba-464d-ec27-822b28cd2ddd"
      },
      "execution_count": null,
      "outputs": [
        {
          "output_type": "stream",
          "name": "stdout",
          "text": [
            "342.00000000000017\n"
          ]
        }
      ]
    },
    {
      "cell_type": "markdown",
      "source": [
        "## Calculamos e imprimimos la **matriz inversa de A:**"
      ],
      "metadata": {
        "id": "5c-VyOT3eoQu"
      }
    },
    {
      "cell_type": "code",
      "source": [
        "import numpy as np\n",
        "m=np.array([[1, 3, -1, -2], [2, -2, 3, -5], [4, 3, -5, 3], [-1, -5, 4, 5]])\n",
        "np.linalg.inv(m)"
      ],
      "metadata": {
        "colab": {
          "base_uri": "https://localhost:8080/"
        },
        "id": "kYecdt3Aerbz",
        "outputId": "16bdbf9d-d9ce-45db-c0b7-3ae5cd181fb8"
      },
      "execution_count": null,
      "outputs": [
        {
          "output_type": "execute_result",
          "data": {
            "text/plain": [
              "array([[ 0.14327485,  0.16081871,  0.16374269,  0.11988304],\n",
              "       [ 0.57894737, -0.10526316, -0.05263158,  0.15789474],\n",
              "       [ 0.55847953,  0.01461988, -0.07602339,  0.28362573],\n",
              "       [ 0.16081871, -0.08479532,  0.04093567,  0.15497076]])"
            ]
          },
          "metadata": {},
          "execution_count": 14
        }
      ]
    },
    {
      "cell_type": "markdown",
      "source": [
        "## ¿Cómo resolver un **sistema 4x4**?\n",
        "$$\\left.\n",
        "\\begin{array}{rcl}\n",
        "     x+3y-z-2t  =  6\n",
        "  \\\\ 2x-2y+3z-5t  =  3\n",
        "  \\\\ 4x+3y-5z+3t  =  5\n",
        "  \\\\ -x-5y+4z+5t  =  7\n",
        "\\end{array}\n",
        "\\right\\}\n",
        "$$"
      ],
      "metadata": {
        "id": "veuuQmVreyQ6"
      }
    },
    {
      "cell_type": "markdown",
      "source": [
        "##Usando la **matriz inversa:**\n",
        "\n",
        "$$Ax=b \\quad \\Longrightarrow \\quad x=A^{-1}b$$"
      ],
      "metadata": {
        "id": "TlT-P1Nke3IL"
      }
    },
    {
      "cell_type": "code",
      "source": [
        "import numpy as np\n",
        "a = np.array([[1, 3, -1, -2], [2, -2, 3, -5], [4, 3, -5, 3], [-1, -5, 4, 5]])\n",
        "b = np.array([6,3,5,7])\n",
        "a_inv = np.linalg.inv(a)\n",
        "np.dot(a_inv, b)"
      ],
      "metadata": {
        "colab": {
          "base_uri": "https://localhost:8080/"
        },
        "id": "S_Es3t_3e6xU",
        "outputId": "9c16b3a7-9e27-408f-c11c-2107487ad2bb"
      },
      "execution_count": null,
      "outputs": [
        {
          "output_type": "execute_result",
          "data": {
            "text/plain": [
              "array([3., 4., 5., 2.])"
            ]
          },
          "metadata": {},
          "execution_count": 15
        }
      ]
    },
    {
      "cell_type": "markdown",
      "source": [
        "## Y a continuación, lo resolvemos usando **solve:**"
      ],
      "metadata": {
        "id": "XKnwr1TkfC6W"
      }
    },
    {
      "cell_type": "code",
      "source": [
        "import numpy as np\n",
        "a = np.array([[1, 3, -1, -2], [2, -2, 3, -5], [4, 3, -5, 3], [-1, -5, 4, 5]])\n",
        "b = np.array([6,3,5,7])\n",
        "solucion = np.linalg.solve(a,b)\n",
        "solucion"
      ],
      "metadata": {
        "colab": {
          "base_uri": "https://localhost:8080/"
        },
        "id": "gg5qtipJfIE0",
        "outputId": "99f72089-97a0-4b27-f4d3-a4d23cfb5868"
      },
      "execution_count": null,
      "outputs": [
        {
          "output_type": "execute_result",
          "data": {
            "text/plain": [
              "array([3., 4., 5., 2.])"
            ]
          },
          "metadata": {},
          "execution_count": 44
        }
      ]
    },
    {
      "cell_type": "markdown",
      "source": [
        "## Práctica 3.6\n",
        "**Resolución de sistemas lineales con Octave**  \n",
        "\n",
        "1. Tome el mismo sistema 4x4 con solución única del ejercicio anterior.\n",
        "2. Muestra el sistema usando $\\LaTeX$\n",
        "3. Resuélvelo con Octave por dos métodos\n",
        "4. ¿Ambos métodos dan el mismo resultado?"
      ],
      "metadata": {
        "id": "M39ufifh_Jr8"
      }
    },
    {
      "cell_type": "markdown",
      "source": [
        "## Resolviendo un **sistema 4x4:**\n",
        " + Aquí se muestra el sistema **usando $\\LaTeX$:**\n",
        "$$\\left.\n",
        "\\begin{array}{rcl}\n",
        "     x+3y-z-2t  =  6\n",
        "  \\\\ 2x-2y+3z-5t  =  3\n",
        "  \\\\ 4x+3y-5z+3t  =  5\n",
        "  \\\\ -x-5y+4z+5t  =  7\n",
        "\\end{array}\n",
        "\\right\\}\n",
        "$$"
      ],
      "metadata": {
        "id": "uGRs-QSUks8O"
      }
    },
    {
      "cell_type": "markdown",
      "source": [
        "* El sistema en **forma matricial** sería:  \n",
        "\n",
        "$$Ax = b$$\n",
        "\n",
        "+ Si existe la matriz inversa de $A$, el sistema tendrá **solución única.**  \n",
        "+ **Premultiplicamos** por $A^{-1}$:\n",
        "\n",
        "$$A^{-1}Ax = A^{-1}b$$\n",
        "\n",
        "+ A la izquierda, queda la **matriz identidad $I$:**\n",
        "\n",
        "$$Ix = A^{-1}b$$\n",
        "\n",
        "+ Y después, despejamos el **vector $x$:**\n",
        "\n",
        "$$x = A^{-1}b$$\n",
        "\n",
        "* Desarrollamos las **matrices:**\n",
        "\n",
        "$$\\left( \\begin{array}{rrrr}\n",
        "     1 & 3 & -1 & -2 \\\\\n",
        "     2 & -2 & 3 & -5 \\\\\n",
        "     4 & 3 & -5 & 3 \\\\\n",
        "     -1 & -5 & 4 & 5\n",
        "  \\end{array}\\right) \\begin{pmatrix}\n",
        "  x \\\\\n",
        "  y \\\\\n",
        "  z \\\\\n",
        "  t\n",
        "\\end{pmatrix} = \\begin{pmatrix}\n",
        "  6 \\\\\n",
        "  3 \\\\\n",
        "  5 \\\\\n",
        "  7\n",
        "\\end{pmatrix}$$\n",
        "\n",
        "+ Ahora, despejamos el **vector $x$:**\n",
        "\n",
        "$$\\begin{pmatrix}\n",
        "  x \\\\\n",
        "  y \\\\\n",
        "  z \\\\\n",
        "  t\n",
        "\\end{pmatrix} = \n",
        "\\left( \\begin{array}{rrrr}\n",
        "     1 & 3 & -1 & -2 \\\\\n",
        "     2 & -2 & 3 & -5 \\\\\n",
        "     4 & 3 & -5 & 3 \\\\\n",
        "     -1 & -5 & 4 & 5\n",
        "  \\end{array}\\right)  ^{-1} \\begin{pmatrix}\n",
        "  6 \\\\\n",
        "  3 \\\\\n",
        "  5 \\\\\n",
        "  7\n",
        "\\end{pmatrix}$$\n",
        "\n",
        "+ Por último, calculamos la **matriz inversa:**\n",
        "\n",
        "\n",
        "$$\\begin{pmatrix}\n",
        "  x \\\\\n",
        "  y \\\\\n",
        "  z \\\\\n",
        "  t\n",
        "\\end{pmatrix}=\n",
        "\\left( \\begin{array}{rrrr}\n",
        "     0.14327485 &  0.16081871 & 0.16374269 &  0.11988304 \\\\\n",
        "     0.57894737 &  -0.10526316 & -0.05263158 & 0.15789474 \\\\\n",
        "     0.55847953 & 0.01461988 & -0.07602339 & 0.28362573 \\\\\n",
        "      0.16081871 & -0.08479532 & 0.04093567 & 0.15497076    \n",
        "  \\end{array}\\right)= \\begin{pmatrix}\n",
        "  6 \\\\\n",
        "  3 \\\\\n",
        "  5 \\\\\n",
        "  7\n",
        "\\end{pmatrix}$$\n",
        "\n",
        "\n",
        "+ Y finalmente, la **solución** es:\n",
        "\n",
        "$$\\begin{pmatrix}\n",
        "  x \\\\\n",
        "  y \\\\\n",
        "z \\\\\n",
        "  t\n",
        "\\end{pmatrix} = \\begin{pmatrix}\n",
        "  3 \\\\\n",
        "  4 \\\\\n",
        "  5 \\\\\n",
        "  2\n",
        "\\end{pmatrix}$$\n",
        "\n"
      ],
      "metadata": {
        "id": "KxXfyVnIkzPK"
      }
    },
    {
      "cell_type": "markdown",
      "source": [
        "## A continuación, se muestra la **resolución con Octave:**"
      ],
      "metadata": {
        "id": "OfOGEYOmk77R"
      }
    },
    {
      "cell_type": "code",
      "source": [
        "!apt install octave"
      ],
      "metadata": {
        "colab": {
          "base_uri": "https://localhost:8080/"
        },
        "id": "SnTviJXxk_3a",
        "outputId": "2406d776-4576-450c-ad6f-f968758a1b9a"
      },
      "execution_count": null,
      "outputs": [
        {
          "output_type": "stream",
          "name": "stdout",
          "text": [
            "Reading package lists... Done\n",
            "Building dependency tree       \n",
            "Reading state information... Done\n",
            "The following package was automatically installed and is no longer required:\n",
            "  libnvidia-common-460\n",
            "Use 'apt autoremove' to remove it.\n",
            "The following additional packages will be installed:\n",
            "  aglfn epstool fonts-droid-fallback fonts-noto-mono ghostscript gnuplot-data\n",
            "  gnuplot-qt gsfonts imagemagick-6-common info install-info libamd2\n",
            "  libauthen-sasl-perl libcamd2 libccolamd2 libcholmod3 libcolamd2\n",
            "  libcupsfilters1 libcupsimage2 libcxsparse3 libdata-dump-perl libemf1\n",
            "  libencode-locale-perl libfftw3-single3 libfile-listing-perl libfltk-gl1.3\n",
            "  libfltk1.3 libfont-afm-perl libgail-common libgail18 libglpk40\n",
            "  libgraphicsmagick++-q16-12 libgraphicsmagick-q16-3 libgs9 libgs9-common\n",
            "  libgtk2.0-0 libgtk2.0-bin libgtk2.0-common libhtml-form-perl\n",
            "  libhtml-format-perl libhtml-parser-perl libhtml-tagset-perl\n",
            "  libhtml-tree-perl libhttp-cookies-perl libhttp-daemon-perl libhttp-date-perl\n",
            "  libhttp-message-perl libhttp-negotiate-perl libijs-0.35 libio-html-perl\n",
            "  libio-socket-ssl-perl libjbig2dec0 liblqr-1-0 liblua5.3-0\n",
            "  liblwp-mediatypes-perl liblwp-protocol-https-perl libmagick++-6.q16-7\n",
            "  libmagickcore-6.q16-3 libmagickwand-6.q16-3 libmailtools-perl libmetis5\n",
            "  libnet-http-perl libnet-smtp-ssl-perl libnet-ssleay-perl libnotify4\n",
            "  liboctave4 libosmesa6 libplot2c2 libportaudio2 libpstoedit0c2a libqrupdate1\n",
            "  libqscintilla2-qt5-13 libqscintilla2-qt5-l10n libqt5opengl5 libqt5svg5\n",
            "  libsuitesparseconfig5 libtext-unidecode-perl libtimedate-perl\n",
            "  libtry-tiny-perl libumfpack5 liburi-perl libwmf0.2-7 libwww-perl\n",
            "  libwww-robotrules-perl libwxbase3.0-0v5 libwxgtk3.0-0v5 libxml-libxml-perl\n",
            "  libxml-namespacesupport-perl libxml-parser-perl libxml-sax-base-perl\n",
            "  libxml-sax-expat-perl libxml-sax-perl libzip4 netbase notification-daemon\n",
            "  octave-common octave-doc perl-openssl-defaults poppler-data pstoedit\n",
            "  tex-common texinfo\n",
            "Suggested packages:\n",
            "  fonts-noto ghostscript-x gnuplot-doc texinfo-doc-nonfree libdigest-hmac-perl\n",
            "  libgssapi-perl libfftw3-bin libfftw3-dev libiodbc2-dev graphicsmagick-dbg\n",
            "  gvfs libcrypt-ssleay-perl libmagickcore-6.q16-3-extra libqscintilla2-doc\n",
            "  libwmf0.2-7-gtk libauthen-ntlm-perl liboctave-dev www-browser | pdf-viewer\n",
            "  poppler-utils fonts-japanese-mincho | fonts-ipafont-mincho\n",
            "  fonts-japanese-gothic | fonts-ipafont-gothic fonts-arphic-ukai\n",
            "  fonts-arphic-uming fonts-nanum xfig | ivtools-bin | tgif | transfig\n",
            "  debhelper texlive-base texlive-latex-base texlive-generic-recommended\n",
            "  texlive-fonts-recommended\n",
            "The following NEW packages will be installed:\n",
            "  aglfn epstool fonts-droid-fallback fonts-noto-mono ghostscript gnuplot-data\n",
            "  gnuplot-qt gsfonts imagemagick-6-common info install-info libamd2\n",
            "  libauthen-sasl-perl libcamd2 libccolamd2 libcholmod3 libcolamd2\n",
            "  libcupsfilters1 libcupsimage2 libcxsparse3 libdata-dump-perl libemf1\n",
            "  libencode-locale-perl libfftw3-single3 libfile-listing-perl libfltk-gl1.3\n",
            "  libfltk1.3 libfont-afm-perl libgail-common libgail18 libglpk40\n",
            "  libgraphicsmagick++-q16-12 libgraphicsmagick-q16-3 libgs9 libgs9-common\n",
            "  libgtk2.0-0 libgtk2.0-bin libgtk2.0-common libhtml-form-perl\n",
            "  libhtml-format-perl libhtml-parser-perl libhtml-tagset-perl\n",
            "  libhtml-tree-perl libhttp-cookies-perl libhttp-daemon-perl libhttp-date-perl\n",
            "  libhttp-message-perl libhttp-negotiate-perl libijs-0.35 libio-html-perl\n",
            "  libio-socket-ssl-perl libjbig2dec0 liblqr-1-0 liblua5.3-0\n",
            "  liblwp-mediatypes-perl liblwp-protocol-https-perl libmagick++-6.q16-7\n",
            "  libmagickcore-6.q16-3 libmagickwand-6.q16-3 libmailtools-perl libmetis5\n",
            "  libnet-http-perl libnet-smtp-ssl-perl libnet-ssleay-perl libnotify4\n",
            "  liboctave4 libosmesa6 libplot2c2 libportaudio2 libpstoedit0c2a libqrupdate1\n",
            "  libqscintilla2-qt5-13 libqscintilla2-qt5-l10n libqt5opengl5 libqt5svg5\n",
            "  libsuitesparseconfig5 libtext-unidecode-perl libtimedate-perl\n",
            "  libtry-tiny-perl libumfpack5 liburi-perl libwmf0.2-7 libwww-perl\n",
            "  libwww-robotrules-perl libwxbase3.0-0v5 libwxgtk3.0-0v5 libxml-libxml-perl\n",
            "  libxml-namespacesupport-perl libxml-parser-perl libxml-sax-base-perl\n",
            "  libxml-sax-expat-perl libxml-sax-perl libzip4 netbase notification-daemon\n",
            "  octave octave-common octave-doc perl-openssl-defaults poppler-data pstoedit\n",
            "  tex-common texinfo\n",
            "0 upgraded, 103 newly installed, 0 to remove and 20 not upgraded.\n",
            "Need to get 53.6 MB of archives.\n",
            "After this operation, 210 MB of additional disk space will be used.\n",
            "Get:1 http://archive.ubuntu.com/ubuntu bionic/main amd64 install-info amd64 6.5.0.dfsg.1-2 [55.4 kB]\n",
            "Get:2 http://archive.ubuntu.com/ubuntu bionic/main amd64 fonts-droid-fallback all 1:6.0.1r16-1.1 [1,805 kB]\n",
            "Get:3 http://archive.ubuntu.com/ubuntu bionic/main amd64 liblqr-1-0 amd64 0.4.2-2.1 [27.7 kB]\n",
            "Get:4 http://archive.ubuntu.com/ubuntu bionic-updates/main amd64 imagemagick-6-common all 8:6.9.7.4+dfsg-16ubuntu6.14 [60.5 kB]\n",
            "Get:5 http://archive.ubuntu.com/ubuntu bionic-updates/main amd64 libmagickcore-6.q16-3 amd64 8:6.9.7.4+dfsg-16ubuntu6.14 [1,622 kB]\n",
            "Get:6 http://archive.ubuntu.com/ubuntu bionic-updates/main amd64 libmagickwand-6.q16-3 amd64 8:6.9.7.4+dfsg-16ubuntu6.14 [294 kB]\n",
            "Get:7 http://archive.ubuntu.com/ubuntu bionic-updates/main amd64 libqt5svg5 amd64 5.9.5-0ubuntu1.1 [129 kB]\n",
            "Get:8 http://archive.ubuntu.com/ubuntu bionic/main amd64 poppler-data all 0.4.8-2 [1,479 kB]\n",
            "Get:9 http://archive.ubuntu.com/ubuntu bionic/main amd64 tex-common all 6.09 [33.0 kB]\n",
            "Get:10 http://archive.ubuntu.com/ubuntu bionic/main amd64 netbase all 5.4 [12.7 kB]\n",
            "Get:11 http://archive.ubuntu.com/ubuntu bionic/main amd64 info amd64 6.5.0.dfsg.1-2 [104 kB]\n",
            "Get:12 http://archive.ubuntu.com/ubuntu bionic-updates/main amd64 libcupsimage2 amd64 2.2.7-1ubuntu2.9 [18.6 kB]\n",
            "Get:13 http://archive.ubuntu.com/ubuntu bionic/main amd64 libijs-0.35 amd64 0.35-13 [15.5 kB]\n",
            "Get:14 http://archive.ubuntu.com/ubuntu bionic/main amd64 libjbig2dec0 amd64 0.13-6 [55.9 kB]\n",
            "Get:15 http://archive.ubuntu.com/ubuntu bionic-updates/main amd64 libgs9-common all 9.26~dfsg+0-0ubuntu0.18.04.17 [5,092 kB]\n",
            "Get:16 http://archive.ubuntu.com/ubuntu bionic-updates/main amd64 libgs9 amd64 9.26~dfsg+0-0ubuntu0.18.04.17 [2,267 kB]\n",
            "Get:17 http://archive.ubuntu.com/ubuntu bionic-updates/main amd64 ghostscript amd64 9.26~dfsg+0-0ubuntu0.18.04.17 [51.3 kB]\n",
            "Get:18 http://archive.ubuntu.com/ubuntu bionic/universe amd64 epstool amd64 3.08+repack-7 [108 kB]\n",
            "Get:19 http://archive.ubuntu.com/ubuntu bionic/main amd64 fonts-noto-mono all 20171026-2 [75.5 kB]\n",
            "Get:20 http://archive.ubuntu.com/ubuntu bionic/universe amd64 aglfn all 1.7-3 [29.4 kB]\n",
            "Get:21 http://archive.ubuntu.com/ubuntu bionic/universe amd64 gnuplot-data all 5.2.2+dfsg1-2ubuntu1 [56.7 kB]\n",
            "Get:22 http://archive.ubuntu.com/ubuntu bionic-updates/main amd64 liblua5.3-0 amd64 5.3.3-1ubuntu0.18.04.1 [115 kB]\n",
            "Get:23 http://archive.ubuntu.com/ubuntu bionic/universe amd64 libwxbase3.0-0v5 amd64 3.0.4+dfsg-3 [954 kB]\n",
            "Get:24 http://archive.ubuntu.com/ubuntu bionic/main amd64 libgtk2.0-common all 2.24.32-1ubuntu1 [125 kB]\n",
            "Get:25 http://archive.ubuntu.com/ubuntu bionic/main amd64 libgtk2.0-0 amd64 2.24.32-1ubuntu1 [1,769 kB]\n",
            "Get:26 http://archive.ubuntu.com/ubuntu bionic-updates/main amd64 libnotify4 amd64 0.7.7-3ubuntu0.18.04.1 [18.7 kB]\n",
            "Get:27 http://archive.ubuntu.com/ubuntu bionic/universe amd64 libwxgtk3.0-0v5 amd64 3.0.4+dfsg-3 [4,182 kB]\n",
            "Get:28 http://archive.ubuntu.com/ubuntu bionic/universe amd64 gnuplot-qt amd64 5.2.2+dfsg1-2ubuntu1 [1,013 kB]\n",
            "Get:29 http://archive.ubuntu.com/ubuntu bionic/main amd64 gsfonts all 1:8.11+urwcyr1.0.7~pre44-4.4 [3,120 kB]\n",
            "Get:30 http://archive.ubuntu.com/ubuntu bionic/main amd64 libsuitesparseconfig5 amd64 1:5.1.2-2 [9,044 B]\n",
            "Get:31 http://archive.ubuntu.com/ubuntu bionic/main amd64 libamd2 amd64 1:5.1.2-2 [19.5 kB]\n",
            "Get:32 http://archive.ubuntu.com/ubuntu bionic/main amd64 libcamd2 amd64 1:5.1.2-2 [20.9 kB]\n",
            "Get:33 http://archive.ubuntu.com/ubuntu bionic/main amd64 libccolamd2 amd64 1:5.1.2-2 [21.7 kB]\n",
            "Get:34 http://archive.ubuntu.com/ubuntu bionic/main amd64 libcolamd2 amd64 1:5.1.2-2 [16.2 kB]\n",
            "Get:35 http://archive.ubuntu.com/ubuntu bionic/main amd64 libmetis5 amd64 5.1.0.dfsg-5 [169 kB]\n",
            "Get:36 http://archive.ubuntu.com/ubuntu bionic/main amd64 libcholmod3 amd64 1:5.1.2-2 [300 kB]\n",
            "Get:37 http://archive.ubuntu.com/ubuntu bionic-updates/main amd64 libcupsfilters1 amd64 1.20.2-0ubuntu3.1 [108 kB]\n",
            "Get:38 http://archive.ubuntu.com/ubuntu bionic/main amd64 libcxsparse3 amd64 1:5.1.2-2 [63.9 kB]\n",
            "Get:39 http://archive.ubuntu.com/ubuntu bionic/main amd64 libdata-dump-perl all 1.23-1 [27.0 kB]\n",
            "Get:40 http://archive.ubuntu.com/ubuntu bionic/universe amd64 libemf1 amd64 1.0.9+git.10.3231442-1 [54.7 kB]\n",
            "Get:41 http://archive.ubuntu.com/ubuntu bionic/main amd64 libencode-locale-perl all 1.05-1 [12.3 kB]\n",
            "Get:42 http://archive.ubuntu.com/ubuntu bionic/main amd64 libfftw3-single3 amd64 3.3.7-1 [764 kB]\n",
            "Get:43 http://archive.ubuntu.com/ubuntu bionic/main amd64 libtimedate-perl all 2.3000-2 [37.5 kB]\n",
            "Get:44 http://archive.ubuntu.com/ubuntu bionic/main amd64 libhttp-date-perl all 6.02-1 [10.4 kB]\n",
            "Get:45 http://archive.ubuntu.com/ubuntu bionic/main amd64 libfile-listing-perl all 6.04-1 [9,774 B]\n",
            "Get:46 http://archive.ubuntu.com/ubuntu bionic/universe amd64 libfltk1.3 amd64 1.3.4-6 [523 kB]\n",
            "Get:47 http://archive.ubuntu.com/ubuntu bionic/universe amd64 libfltk-gl1.3 amd64 1.3.4-6 [37.7 kB]\n",
            "Get:48 http://archive.ubuntu.com/ubuntu bionic/main amd64 libfont-afm-perl all 1.20-2 [13.2 kB]\n",
            "Get:49 http://archive.ubuntu.com/ubuntu bionic/main amd64 libgail18 amd64 2.24.32-1ubuntu1 [14.2 kB]\n",
            "Get:50 http://archive.ubuntu.com/ubuntu bionic/main amd64 libgail-common amd64 2.24.32-1ubuntu1 [112 kB]\n",
            "Get:51 http://archive.ubuntu.com/ubuntu bionic/universe amd64 libglpk40 amd64 4.65-1 [378 kB]\n",
            "Get:52 http://archive.ubuntu.com/ubuntu bionic/main amd64 libwmf0.2-7 amd64 0.2.8.4-12 [150 kB]\n",
            "Get:53 http://archive.ubuntu.com/ubuntu bionic-updates/universe amd64 libgraphicsmagick-q16-3 amd64 1.3.28-2ubuntu0.1 [1,116 kB]\n",
            "Get:54 http://archive.ubuntu.com/ubuntu bionic-updates/universe amd64 libgraphicsmagick++-q16-12 amd64 1.3.28-2ubuntu0.1 [102 kB]\n",
            "Get:55 http://archive.ubuntu.com/ubuntu bionic/main amd64 libgtk2.0-bin amd64 2.24.32-1ubuntu1 [7,536 B]\n",
            "Get:56 http://archive.ubuntu.com/ubuntu bionic/main amd64 libhtml-tagset-perl all 3.20-3 [12.1 kB]\n",
            "Get:57 http://archive.ubuntu.com/ubuntu bionic/main amd64 liburi-perl all 1.73-1 [77.2 kB]\n",
            "Get:58 http://archive.ubuntu.com/ubuntu bionic/main amd64 libhtml-parser-perl amd64 3.72-3build1 [85.9 kB]\n",
            "Get:59 http://archive.ubuntu.com/ubuntu bionic/main amd64 libio-html-perl all 1.001-1 [14.9 kB]\n",
            "Get:60 http://archive.ubuntu.com/ubuntu bionic/main amd64 liblwp-mediatypes-perl all 6.02-1 [21.7 kB]\n",
            "Get:61 http://archive.ubuntu.com/ubuntu bionic/main amd64 libhttp-message-perl all 6.14-1 [72.1 kB]\n",
            "Get:62 http://archive.ubuntu.com/ubuntu bionic/main amd64 libhtml-form-perl all 6.03-1 [23.5 kB]\n",
            "Get:63 http://archive.ubuntu.com/ubuntu bionic/main amd64 libhtml-tree-perl all 5.07-1 [200 kB]\n",
            "Get:64 http://archive.ubuntu.com/ubuntu bionic/main amd64 libhtml-format-perl all 2.12-1 [41.3 kB]\n",
            "Get:65 http://archive.ubuntu.com/ubuntu bionic/main amd64 libhttp-cookies-perl all 6.04-1 [17.2 kB]\n",
            "Get:66 http://archive.ubuntu.com/ubuntu bionic-updates/main amd64 libhttp-daemon-perl all 6.01-1ubuntu0.1 [15.9 kB]\n",
            "Get:67 http://archive.ubuntu.com/ubuntu bionic/main amd64 libhttp-negotiate-perl all 6.00-2 [13.4 kB]\n",
            "Get:68 http://archive.ubuntu.com/ubuntu bionic/main amd64 perl-openssl-defaults amd64 3build1 [7,012 B]\n",
            "Get:69 http://archive.ubuntu.com/ubuntu bionic-updates/main amd64 libnet-ssleay-perl amd64 1.84-1ubuntu0.2 [283 kB]\n",
            "Get:70 http://archive.ubuntu.com/ubuntu bionic-updates/main amd64 libio-socket-ssl-perl all 2.060-3~ubuntu18.04.1 [173 kB]\n",
            "Get:71 http://archive.ubuntu.com/ubuntu bionic/main amd64 libnet-http-perl all 6.17-1 [22.7 kB]\n",
            "Get:72 http://archive.ubuntu.com/ubuntu bionic/main amd64 libtry-tiny-perl all 0.30-1 [20.5 kB]\n",
            "Get:73 http://archive.ubuntu.com/ubuntu bionic/main amd64 libwww-robotrules-perl all 6.01-1 [14.1 kB]\n",
            "Get:74 http://archive.ubuntu.com/ubuntu bionic-updates/main amd64 libwww-perl all 6.31-1ubuntu0.1 [137 kB]\n",
            "Get:75 http://archive.ubuntu.com/ubuntu bionic/main amd64 liblwp-protocol-https-perl all 6.07-2 [8,284 B]\n",
            "Get:76 http://archive.ubuntu.com/ubuntu bionic-updates/main amd64 libmagick++-6.q16-7 amd64 8:6.9.7.4+dfsg-16ubuntu6.14 [139 kB]\n",
            "Get:77 http://archive.ubuntu.com/ubuntu bionic/main amd64 libnet-smtp-ssl-perl all 1.04-1 [5,948 B]\n",
            "Get:78 http://archive.ubuntu.com/ubuntu bionic/main amd64 libmailtools-perl all 2.18-1 [74.0 kB]\n",
            "Get:79 http://archive.ubuntu.com/ubuntu bionic/universe amd64 libqrupdate1 amd64 1.1.2-2build1 [36.5 kB]\n",
            "Get:80 http://archive.ubuntu.com/ubuntu bionic/main amd64 libumfpack5 amd64 1:5.1.2-2 [229 kB]\n",
            "Get:81 http://archive.ubuntu.com/ubuntu bionic/universe amd64 liboctave4 amd64 4.2.2-1ubuntu1 [6,736 kB]\n",
            "Get:82 http://archive.ubuntu.com/ubuntu bionic/universe amd64 libplot2c2 amd64 2.6-9 [502 kB]\n",
            "Get:83 http://archive.ubuntu.com/ubuntu bionic/universe amd64 libportaudio2 amd64 19.6.0-1 [64.6 kB]\n",
            "Get:84 http://archive.ubuntu.com/ubuntu bionic/universe amd64 libzip4 amd64 1.1.2-1.1 [37.8 kB]\n",
            "Get:85 http://archive.ubuntu.com/ubuntu bionic/universe amd64 libpstoedit0c2a amd64 3.70-5 [349 kB]\n",
            "Get:86 http://archive.ubuntu.com/ubuntu bionic/universe amd64 libqscintilla2-qt5-l10n all 2.10.2+dfsg-4 [39.7 kB]\n",
            "Get:87 http://archive.ubuntu.com/ubuntu bionic/universe amd64 libqscintilla2-qt5-13 amd64 2.10.2+dfsg-4 [1,030 kB]\n",
            "Get:88 http://archive.ubuntu.com/ubuntu bionic-updates/main amd64 libqt5opengl5 amd64 5.9.5+dfsg-0ubuntu2.6 [132 kB]\n",
            "Get:89 http://archive.ubuntu.com/ubuntu bionic/universe amd64 libtext-unidecode-perl all 1.30-1 [99.0 kB]\n",
            "Get:90 http://archive.ubuntu.com/ubuntu bionic/main amd64 libxml-namespacesupport-perl all 1.12-1 [13.2 kB]\n",
            "Get:91 http://archive.ubuntu.com/ubuntu bionic/main amd64 libxml-sax-base-perl all 1.09-1 [18.8 kB]\n",
            "Get:92 http://archive.ubuntu.com/ubuntu bionic/main amd64 libxml-sax-perl all 0.99+dfsg-2ubuntu1 [64.6 kB]\n",
            "Get:93 http://archive.ubuntu.com/ubuntu bionic/main amd64 libxml-libxml-perl amd64 2.0128+dfsg-5 [316 kB]\n",
            "Get:94 http://archive.ubuntu.com/ubuntu bionic/main amd64 libxml-parser-perl amd64 2.44-2build3 [199 kB]\n",
            "Get:95 http://archive.ubuntu.com/ubuntu bionic/main amd64 libxml-sax-expat-perl all 0.40-2 [11.5 kB]\n",
            "Get:96 http://archive.ubuntu.com/ubuntu bionic/main amd64 notification-daemon amd64 3.20.0-3 [36.9 kB]\n",
            "Get:97 http://archive.ubuntu.com/ubuntu bionic/universe amd64 pstoedit amd64 3.70-5 [102 kB]\n",
            "Get:98 http://archive.ubuntu.com/ubuntu bionic/universe amd64 texinfo amd64 6.5.0.dfsg.1-2 [752 kB]\n",
            "Get:99 http://archive.ubuntu.com/ubuntu bionic/main amd64 libauthen-sasl-perl all 2.1600-1 [48.7 kB]\n",
            "Get:100 http://archive.ubuntu.com/ubuntu bionic-updates/main amd64 libosmesa6 amd64 20.0.8-0ubuntu1~18.04.1 [2,641 kB]\n",
            "Get:101 http://archive.ubuntu.com/ubuntu bionic/universe amd64 octave-common all 4.2.2-1ubuntu1 [1,444 kB]\n",
            "Get:102 http://archive.ubuntu.com/ubuntu bionic/universe amd64 octave amd64 4.2.2-1ubuntu1 [1,583 kB]\n",
            "Get:103 http://archive.ubuntu.com/ubuntu bionic/universe amd64 octave-doc all 4.2.2-1ubuntu1 [6,836 kB]\n",
            "Fetched 53.6 MB in 6s (8,389 kB/s)\n",
            "Extracting templates from packages: 100%\n",
            "Selecting previously unselected package install-info.\n",
            "(Reading database ... 124016 files and directories currently installed.)\n",
            "Preparing to unpack .../install-info_6.5.0.dfsg.1-2_amd64.deb ...\n",
            "Unpacking install-info (6.5.0.dfsg.1-2) ...\n",
            "Setting up install-info (6.5.0.dfsg.1-2) ...\n",
            "Selecting previously unselected package fonts-droid-fallback.\n",
            "(Reading database ... 124029 files and directories currently installed.)\n",
            "Preparing to unpack .../000-fonts-droid-fallback_1%3a6.0.1r16-1.1_all.deb ...\n",
            "Unpacking fonts-droid-fallback (1:6.0.1r16-1.1) ...\n",
            "Selecting previously unselected package liblqr-1-0:amd64.\n",
            "Preparing to unpack .../001-liblqr-1-0_0.4.2-2.1_amd64.deb ...\n",
            "Unpacking liblqr-1-0:amd64 (0.4.2-2.1) ...\n",
            "Selecting previously unselected package imagemagick-6-common.\n",
            "Preparing to unpack .../002-imagemagick-6-common_8%3a6.9.7.4+dfsg-16ubuntu6.14_all.deb ...\n",
            "Unpacking imagemagick-6-common (8:6.9.7.4+dfsg-16ubuntu6.14) ...\n",
            "Selecting previously unselected package libmagickcore-6.q16-3:amd64.\n",
            "Preparing to unpack .../003-libmagickcore-6.q16-3_8%3a6.9.7.4+dfsg-16ubuntu6.14_amd64.deb ...\n",
            "Unpacking libmagickcore-6.q16-3:amd64 (8:6.9.7.4+dfsg-16ubuntu6.14) ...\n",
            "Selecting previously unselected package libmagickwand-6.q16-3:amd64.\n",
            "Preparing to unpack .../004-libmagickwand-6.q16-3_8%3a6.9.7.4+dfsg-16ubuntu6.14_amd64.deb ...\n",
            "Unpacking libmagickwand-6.q16-3:amd64 (8:6.9.7.4+dfsg-16ubuntu6.14) ...\n",
            "Selecting previously unselected package libqt5svg5:amd64.\n",
            "Preparing to unpack .../005-libqt5svg5_5.9.5-0ubuntu1.1_amd64.deb ...\n",
            "Unpacking libqt5svg5:amd64 (5.9.5-0ubuntu1.1) ...\n",
            "Selecting previously unselected package poppler-data.\n",
            "Preparing to unpack .../006-poppler-data_0.4.8-2_all.deb ...\n",
            "Unpacking poppler-data (0.4.8-2) ...\n",
            "Selecting previously unselected package tex-common.\n",
            "Preparing to unpack .../007-tex-common_6.09_all.deb ...\n",
            "Unpacking tex-common (6.09) ...\n",
            "Selecting previously unselected package netbase.\n",
            "Preparing to unpack .../008-netbase_5.4_all.deb ...\n",
            "Unpacking netbase (5.4) ...\n",
            "Selecting previously unselected package info.\n",
            "Preparing to unpack .../009-info_6.5.0.dfsg.1-2_amd64.deb ...\n",
            "Unpacking info (6.5.0.dfsg.1-2) ...\n",
            "Selecting previously unselected package libcupsimage2:amd64.\n",
            "Preparing to unpack .../010-libcupsimage2_2.2.7-1ubuntu2.9_amd64.deb ...\n",
            "Unpacking libcupsimage2:amd64 (2.2.7-1ubuntu2.9) ...\n",
            "Selecting previously unselected package libijs-0.35:amd64.\n",
            "Preparing to unpack .../011-libijs-0.35_0.35-13_amd64.deb ...\n",
            "Unpacking libijs-0.35:amd64 (0.35-13) ...\n",
            "Selecting previously unselected package libjbig2dec0:amd64.\n",
            "Preparing to unpack .../012-libjbig2dec0_0.13-6_amd64.deb ...\n",
            "Unpacking libjbig2dec0:amd64 (0.13-6) ...\n",
            "Selecting previously unselected package libgs9-common.\n",
            "Preparing to unpack .../013-libgs9-common_9.26~dfsg+0-0ubuntu0.18.04.17_all.deb ...\n",
            "Unpacking libgs9-common (9.26~dfsg+0-0ubuntu0.18.04.17) ...\n",
            "Selecting previously unselected package libgs9:amd64.\n",
            "Preparing to unpack .../014-libgs9_9.26~dfsg+0-0ubuntu0.18.04.17_amd64.deb ...\n",
            "Unpacking libgs9:amd64 (9.26~dfsg+0-0ubuntu0.18.04.17) ...\n",
            "Selecting previously unselected package ghostscript.\n",
            "Preparing to unpack .../015-ghostscript_9.26~dfsg+0-0ubuntu0.18.04.17_amd64.deb ...\n",
            "Unpacking ghostscript (9.26~dfsg+0-0ubuntu0.18.04.17) ...\n",
            "Selecting previously unselected package epstool.\n",
            "Preparing to unpack .../016-epstool_3.08+repack-7_amd64.deb ...\n",
            "Unpacking epstool (3.08+repack-7) ...\n",
            "Selecting previously unselected package fonts-noto-mono.\n",
            "Preparing to unpack .../017-fonts-noto-mono_20171026-2_all.deb ...\n",
            "Unpacking fonts-noto-mono (20171026-2) ...\n",
            "Selecting previously unselected package aglfn.\n",
            "Preparing to unpack .../018-aglfn_1.7-3_all.deb ...\n",
            "Unpacking aglfn (1.7-3) ...\n",
            "Selecting previously unselected package gnuplot-data.\n",
            "Preparing to unpack .../019-gnuplot-data_5.2.2+dfsg1-2ubuntu1_all.deb ...\n",
            "Unpacking gnuplot-data (5.2.2+dfsg1-2ubuntu1) ...\n",
            "Selecting previously unselected package liblua5.3-0:amd64.\n",
            "Preparing to unpack .../020-liblua5.3-0_5.3.3-1ubuntu0.18.04.1_amd64.deb ...\n",
            "Unpacking liblua5.3-0:amd64 (5.3.3-1ubuntu0.18.04.1) ...\n",
            "Selecting previously unselected package libwxbase3.0-0v5:amd64.\n",
            "Preparing to unpack .../021-libwxbase3.0-0v5_3.0.4+dfsg-3_amd64.deb ...\n",
            "Unpacking libwxbase3.0-0v5:amd64 (3.0.4+dfsg-3) ...\n",
            "Selecting previously unselected package libgtk2.0-common.\n",
            "Preparing to unpack .../022-libgtk2.0-common_2.24.32-1ubuntu1_all.deb ...\n",
            "Unpacking libgtk2.0-common (2.24.32-1ubuntu1) ...\n",
            "Selecting previously unselected package libgtk2.0-0:amd64.\n",
            "Preparing to unpack .../023-libgtk2.0-0_2.24.32-1ubuntu1_amd64.deb ...\n",
            "Unpacking libgtk2.0-0:amd64 (2.24.32-1ubuntu1) ...\n",
            "Selecting previously unselected package libnotify4:amd64.\n",
            "Preparing to unpack .../024-libnotify4_0.7.7-3ubuntu0.18.04.1_amd64.deb ...\n",
            "Unpacking libnotify4:amd64 (0.7.7-3ubuntu0.18.04.1) ...\n",
            "Selecting previously unselected package libwxgtk3.0-0v5:amd64.\n",
            "Preparing to unpack .../025-libwxgtk3.0-0v5_3.0.4+dfsg-3_amd64.deb ...\n",
            "Unpacking libwxgtk3.0-0v5:amd64 (3.0.4+dfsg-3) ...\n",
            "Selecting previously unselected package gnuplot-qt.\n",
            "Preparing to unpack .../026-gnuplot-qt_5.2.2+dfsg1-2ubuntu1_amd64.deb ...\n",
            "Unpacking gnuplot-qt (5.2.2+dfsg1-2ubuntu1) ...\n",
            "Selecting previously unselected package gsfonts.\n",
            "Preparing to unpack .../027-gsfonts_1%3a8.11+urwcyr1.0.7~pre44-4.4_all.deb ...\n",
            "Unpacking gsfonts (1:8.11+urwcyr1.0.7~pre44-4.4) ...\n",
            "Selecting previously unselected package libsuitesparseconfig5:amd64.\n",
            "Preparing to unpack .../028-libsuitesparseconfig5_1%3a5.1.2-2_amd64.deb ...\n",
            "Unpacking libsuitesparseconfig5:amd64 (1:5.1.2-2) ...\n",
            "Selecting previously unselected package libamd2:amd64.\n",
            "Preparing to unpack .../029-libamd2_1%3a5.1.2-2_amd64.deb ...\n",
            "Unpacking libamd2:amd64 (1:5.1.2-2) ...\n",
            "Selecting previously unselected package libcamd2:amd64.\n",
            "Preparing to unpack .../030-libcamd2_1%3a5.1.2-2_amd64.deb ...\n",
            "Unpacking libcamd2:amd64 (1:5.1.2-2) ...\n",
            "Selecting previously unselected package libccolamd2:amd64.\n",
            "Preparing to unpack .../031-libccolamd2_1%3a5.1.2-2_amd64.deb ...\n",
            "Unpacking libccolamd2:amd64 (1:5.1.2-2) ...\n",
            "Selecting previously unselected package libcolamd2:amd64.\n",
            "Preparing to unpack .../032-libcolamd2_1%3a5.1.2-2_amd64.deb ...\n",
            "Unpacking libcolamd2:amd64 (1:5.1.2-2) ...\n",
            "Selecting previously unselected package libmetis5:amd64.\n",
            "Preparing to unpack .../033-libmetis5_5.1.0.dfsg-5_amd64.deb ...\n",
            "Unpacking libmetis5:amd64 (5.1.0.dfsg-5) ...\n",
            "Selecting previously unselected package libcholmod3:amd64.\n",
            "Preparing to unpack .../034-libcholmod3_1%3a5.1.2-2_amd64.deb ...\n",
            "Unpacking libcholmod3:amd64 (1:5.1.2-2) ...\n",
            "Selecting previously unselected package libcupsfilters1:amd64.\n",
            "Preparing to unpack .../035-libcupsfilters1_1.20.2-0ubuntu3.1_amd64.deb ...\n",
            "Unpacking libcupsfilters1:amd64 (1.20.2-0ubuntu3.1) ...\n",
            "Selecting previously unselected package libcxsparse3:amd64.\n",
            "Preparing to unpack .../036-libcxsparse3_1%3a5.1.2-2_amd64.deb ...\n",
            "Unpacking libcxsparse3:amd64 (1:5.1.2-2) ...\n",
            "Selecting previously unselected package libdata-dump-perl.\n",
            "Preparing to unpack .../037-libdata-dump-perl_1.23-1_all.deb ...\n",
            "Unpacking libdata-dump-perl (1.23-1) ...\n",
            "Selecting previously unselected package libemf1:amd64.\n",
            "Preparing to unpack .../038-libemf1_1.0.9+git.10.3231442-1_amd64.deb ...\n",
            "Unpacking libemf1:amd64 (1.0.9+git.10.3231442-1) ...\n",
            "Selecting previously unselected package libencode-locale-perl.\n",
            "Preparing to unpack .../039-libencode-locale-perl_1.05-1_all.deb ...\n",
            "Unpacking libencode-locale-perl (1.05-1) ...\n",
            "Selecting previously unselected package libfftw3-single3:amd64.\n",
            "Preparing to unpack .../040-libfftw3-single3_3.3.7-1_amd64.deb ...\n",
            "Unpacking libfftw3-single3:amd64 (3.3.7-1) ...\n",
            "Selecting previously unselected package libtimedate-perl.\n",
            "Preparing to unpack .../041-libtimedate-perl_2.3000-2_all.deb ...\n",
            "Unpacking libtimedate-perl (2.3000-2) ...\n",
            "Selecting previously unselected package libhttp-date-perl.\n",
            "Preparing to unpack .../042-libhttp-date-perl_6.02-1_all.deb ...\n",
            "Unpacking libhttp-date-perl (6.02-1) ...\n",
            "Selecting previously unselected package libfile-listing-perl.\n",
            "Preparing to unpack .../043-libfile-listing-perl_6.04-1_all.deb ...\n",
            "Unpacking libfile-listing-perl (6.04-1) ...\n",
            "Selecting previously unselected package libfltk1.3:amd64.\n",
            "Preparing to unpack .../044-libfltk1.3_1.3.4-6_amd64.deb ...\n",
            "Unpacking libfltk1.3:amd64 (1.3.4-6) ...\n",
            "Selecting previously unselected package libfltk-gl1.3:amd64.\n",
            "Preparing to unpack .../045-libfltk-gl1.3_1.3.4-6_amd64.deb ...\n",
            "Unpacking libfltk-gl1.3:amd64 (1.3.4-6) ...\n",
            "Selecting previously unselected package libfont-afm-perl.\n",
            "Preparing to unpack .../046-libfont-afm-perl_1.20-2_all.deb ...\n",
            "Unpacking libfont-afm-perl (1.20-2) ...\n",
            "Selecting previously unselected package libgail18:amd64.\n",
            "Preparing to unpack .../047-libgail18_2.24.32-1ubuntu1_amd64.deb ...\n",
            "Unpacking libgail18:amd64 (2.24.32-1ubuntu1) ...\n",
            "Selecting previously unselected package libgail-common:amd64.\n",
            "Preparing to unpack .../048-libgail-common_2.24.32-1ubuntu1_amd64.deb ...\n",
            "Unpacking libgail-common:amd64 (2.24.32-1ubuntu1) ...\n",
            "Selecting previously unselected package libglpk40:amd64.\n",
            "Preparing to unpack .../049-libglpk40_4.65-1_amd64.deb ...\n",
            "Unpacking libglpk40:amd64 (4.65-1) ...\n",
            "Selecting previously unselected package libwmf0.2-7:amd64.\n",
            "Preparing to unpack .../050-libwmf0.2-7_0.2.8.4-12_amd64.deb ...\n",
            "Unpacking libwmf0.2-7:amd64 (0.2.8.4-12) ...\n",
            "Selecting previously unselected package libgraphicsmagick-q16-3.\n",
            "Preparing to unpack .../051-libgraphicsmagick-q16-3_1.3.28-2ubuntu0.1_amd64.deb ...\n",
            "Unpacking libgraphicsmagick-q16-3 (1.3.28-2ubuntu0.1) ...\n",
            "Selecting previously unselected package libgraphicsmagick++-q16-12.\n",
            "Preparing to unpack .../052-libgraphicsmagick++-q16-12_1.3.28-2ubuntu0.1_amd64.deb ...\n",
            "Unpacking libgraphicsmagick++-q16-12 (1.3.28-2ubuntu0.1) ...\n",
            "Selecting previously unselected package libgtk2.0-bin.\n",
            "Preparing to unpack .../053-libgtk2.0-bin_2.24.32-1ubuntu1_amd64.deb ...\n",
            "Unpacking libgtk2.0-bin (2.24.32-1ubuntu1) ...\n",
            "Selecting previously unselected package libhtml-tagset-perl.\n",
            "Preparing to unpack .../054-libhtml-tagset-perl_3.20-3_all.deb ...\n",
            "Unpacking libhtml-tagset-perl (3.20-3) ...\n",
            "Selecting previously unselected package liburi-perl.\n",
            "Preparing to unpack .../055-liburi-perl_1.73-1_all.deb ...\n",
            "Unpacking liburi-perl (1.73-1) ...\n",
            "Selecting previously unselected package libhtml-parser-perl.\n",
            "Preparing to unpack .../056-libhtml-parser-perl_3.72-3build1_amd64.deb ...\n",
            "Unpacking libhtml-parser-perl (3.72-3build1) ...\n",
            "Selecting previously unselected package libio-html-perl.\n",
            "Preparing to unpack .../057-libio-html-perl_1.001-1_all.deb ...\n",
            "Unpacking libio-html-perl (1.001-1) ...\n",
            "Selecting previously unselected package liblwp-mediatypes-perl.\n",
            "Preparing to unpack .../058-liblwp-mediatypes-perl_6.02-1_all.deb ...\n",
            "Unpacking liblwp-mediatypes-perl (6.02-1) ...\n",
            "Selecting previously unselected package libhttp-message-perl.\n",
            "Preparing to unpack .../059-libhttp-message-perl_6.14-1_all.deb ...\n",
            "Unpacking libhttp-message-perl (6.14-1) ...\n",
            "Selecting previously unselected package libhtml-form-perl.\n",
            "Preparing to unpack .../060-libhtml-form-perl_6.03-1_all.deb ...\n",
            "Unpacking libhtml-form-perl (6.03-1) ...\n",
            "Selecting previously unselected package libhtml-tree-perl.\n",
            "Preparing to unpack .../061-libhtml-tree-perl_5.07-1_all.deb ...\n",
            "Unpacking libhtml-tree-perl (5.07-1) ...\n",
            "Selecting previously unselected package libhtml-format-perl.\n",
            "Preparing to unpack .../062-libhtml-format-perl_2.12-1_all.deb ...\n",
            "Unpacking libhtml-format-perl (2.12-1) ...\n",
            "Selecting previously unselected package libhttp-cookies-perl.\n",
            "Preparing to unpack .../063-libhttp-cookies-perl_6.04-1_all.deb ...\n",
            "Unpacking libhttp-cookies-perl (6.04-1) ...\n",
            "Selecting previously unselected package libhttp-daemon-perl.\n",
            "Preparing to unpack .../064-libhttp-daemon-perl_6.01-1ubuntu0.1_all.deb ...\n",
            "Unpacking libhttp-daemon-perl (6.01-1ubuntu0.1) ...\n",
            "Selecting previously unselected package libhttp-negotiate-perl.\n",
            "Preparing to unpack .../065-libhttp-negotiate-perl_6.00-2_all.deb ...\n",
            "Unpacking libhttp-negotiate-perl (6.00-2) ...\n",
            "Selecting previously unselected package perl-openssl-defaults:amd64.\n",
            "Preparing to unpack .../066-perl-openssl-defaults_3build1_amd64.deb ...\n",
            "Unpacking perl-openssl-defaults:amd64 (3build1) ...\n",
            "Selecting previously unselected package libnet-ssleay-perl.\n",
            "Preparing to unpack .../067-libnet-ssleay-perl_1.84-1ubuntu0.2_amd64.deb ...\n",
            "Unpacking libnet-ssleay-perl (1.84-1ubuntu0.2) ...\n",
            "Selecting previously unselected package libio-socket-ssl-perl.\n",
            "Preparing to unpack .../068-libio-socket-ssl-perl_2.060-3~ubuntu18.04.1_all.deb ...\n",
            "Unpacking libio-socket-ssl-perl (2.060-3~ubuntu18.04.1) ...\n",
            "Selecting previously unselected package libnet-http-perl.\n",
            "Preparing to unpack .../069-libnet-http-perl_6.17-1_all.deb ...\n",
            "Unpacking libnet-http-perl (6.17-1) ...\n",
            "Selecting previously unselected package libtry-tiny-perl.\n",
            "Preparing to unpack .../070-libtry-tiny-perl_0.30-1_all.deb ...\n",
            "Unpacking libtry-tiny-perl (0.30-1) ...\n",
            "Selecting previously unselected package libwww-robotrules-perl.\n",
            "Preparing to unpack .../071-libwww-robotrules-perl_6.01-1_all.deb ...\n",
            "Unpacking libwww-robotrules-perl (6.01-1) ...\n",
            "Selecting previously unselected package libwww-perl.\n",
            "Preparing to unpack .../072-libwww-perl_6.31-1ubuntu0.1_all.deb ...\n",
            "Unpacking libwww-perl (6.31-1ubuntu0.1) ...\n",
            "Selecting previously unselected package liblwp-protocol-https-perl.\n",
            "Preparing to unpack .../073-liblwp-protocol-https-perl_6.07-2_all.deb ...\n",
            "Unpacking liblwp-protocol-https-perl (6.07-2) ...\n",
            "Selecting previously unselected package libmagick++-6.q16-7:amd64.\n",
            "Preparing to unpack .../074-libmagick++-6.q16-7_8%3a6.9.7.4+dfsg-16ubuntu6.14_amd64.deb ...\n",
            "Unpacking libmagick++-6.q16-7:amd64 (8:6.9.7.4+dfsg-16ubuntu6.14) ...\n",
            "Selecting previously unselected package libnet-smtp-ssl-perl.\n",
            "Preparing to unpack .../075-libnet-smtp-ssl-perl_1.04-1_all.deb ...\n",
            "Unpacking libnet-smtp-ssl-perl (1.04-1) ...\n",
            "Selecting previously unselected package libmailtools-perl.\n",
            "Preparing to unpack .../076-libmailtools-perl_2.18-1_all.deb ...\n",
            "Unpacking libmailtools-perl (2.18-1) ...\n",
            "Selecting previously unselected package libqrupdate1:amd64.\n",
            "Preparing to unpack .../077-libqrupdate1_1.1.2-2build1_amd64.deb ...\n",
            "Unpacking libqrupdate1:amd64 (1.1.2-2build1) ...\n",
            "Selecting previously unselected package libumfpack5:amd64.\n",
            "Preparing to unpack .../078-libumfpack5_1%3a5.1.2-2_amd64.deb ...\n",
            "Unpacking libumfpack5:amd64 (1:5.1.2-2) ...\n",
            "Selecting previously unselected package liboctave4:amd64.\n",
            "Preparing to unpack .../079-liboctave4_4.2.2-1ubuntu1_amd64.deb ...\n",
            "Unpacking liboctave4:amd64 (4.2.2-1ubuntu1) ...\n",
            "Selecting previously unselected package libplot2c2:amd64.\n",
            "Preparing to unpack .../080-libplot2c2_2.6-9_amd64.deb ...\n",
            "Unpacking libplot2c2:amd64 (2.6-9) ...\n",
            "Selecting previously unselected package libportaudio2:amd64.\n",
            "Preparing to unpack .../081-libportaudio2_19.6.0-1_amd64.deb ...\n",
            "Unpacking libportaudio2:amd64 (19.6.0-1) ...\n",
            "Selecting previously unselected package libzip4:amd64.\n",
            "Preparing to unpack .../082-libzip4_1.1.2-1.1_amd64.deb ...\n",
            "Unpacking libzip4:amd64 (1.1.2-1.1) ...\n",
            "Selecting previously unselected package libpstoedit0c2a.\n",
            "Preparing to unpack .../083-libpstoedit0c2a_3.70-5_amd64.deb ...\n",
            "Unpacking libpstoedit0c2a (3.70-5) ...\n",
            "Selecting previously unselected package libqscintilla2-qt5-l10n.\n",
            "Preparing to unpack .../084-libqscintilla2-qt5-l10n_2.10.2+dfsg-4_all.deb ...\n",
            "Unpacking libqscintilla2-qt5-l10n (2.10.2+dfsg-4) ...\n",
            "Selecting previously unselected package libqscintilla2-qt5-13.\n",
            "Preparing to unpack .../085-libqscintilla2-qt5-13_2.10.2+dfsg-4_amd64.deb ...\n",
            "Unpacking libqscintilla2-qt5-13 (2.10.2+dfsg-4) ...\n",
            "Selecting previously unselected package libqt5opengl5:amd64.\n",
            "Preparing to unpack .../086-libqt5opengl5_5.9.5+dfsg-0ubuntu2.6_amd64.deb ...\n",
            "Unpacking libqt5opengl5:amd64 (5.9.5+dfsg-0ubuntu2.6) ...\n",
            "Selecting previously unselected package libtext-unidecode-perl.\n",
            "Preparing to unpack .../087-libtext-unidecode-perl_1.30-1_all.deb ...\n",
            "Unpacking libtext-unidecode-perl (1.30-1) ...\n",
            "Selecting previously unselected package libxml-namespacesupport-perl.\n",
            "Preparing to unpack .../088-libxml-namespacesupport-perl_1.12-1_all.deb ...\n",
            "Unpacking libxml-namespacesupport-perl (1.12-1) ...\n",
            "Selecting previously unselected package libxml-sax-base-perl.\n",
            "Preparing to unpack .../089-libxml-sax-base-perl_1.09-1_all.deb ...\n",
            "Unpacking libxml-sax-base-perl (1.09-1) ...\n",
            "Selecting previously unselected package libxml-sax-perl.\n",
            "Preparing to unpack .../090-libxml-sax-perl_0.99+dfsg-2ubuntu1_all.deb ...\n",
            "Unpacking libxml-sax-perl (0.99+dfsg-2ubuntu1) ...\n",
            "Selecting previously unselected package libxml-libxml-perl.\n",
            "Preparing to unpack .../091-libxml-libxml-perl_2.0128+dfsg-5_amd64.deb ...\n",
            "Unpacking libxml-libxml-perl (2.0128+dfsg-5) ...\n",
            "Selecting previously unselected package libxml-parser-perl.\n",
            "Preparing to unpack .../092-libxml-parser-perl_2.44-2build3_amd64.deb ...\n",
            "Unpacking libxml-parser-perl (2.44-2build3) ...\n",
            "Selecting previously unselected package libxml-sax-expat-perl.\n",
            "Preparing to unpack .../093-libxml-sax-expat-perl_0.40-2_all.deb ...\n",
            "Unpacking libxml-sax-expat-perl (0.40-2) ...\n",
            "Selecting previously unselected package notification-daemon.\n",
            "Preparing to unpack .../094-notification-daemon_3.20.0-3_amd64.deb ...\n",
            "Unpacking notification-daemon (3.20.0-3) ...\n",
            "Selecting previously unselected package pstoedit.\n",
            "Preparing to unpack .../095-pstoedit_3.70-5_amd64.deb ...\n",
            "Unpacking pstoedit (3.70-5) ...\n",
            "Selecting previously unselected package texinfo.\n",
            "Preparing to unpack .../096-texinfo_6.5.0.dfsg.1-2_amd64.deb ...\n",
            "Unpacking texinfo (6.5.0.dfsg.1-2) ...\n",
            "Selecting previously unselected package libauthen-sasl-perl.\n",
            "Preparing to unpack .../097-libauthen-sasl-perl_2.1600-1_all.deb ...\n",
            "Unpacking libauthen-sasl-perl (2.1600-1) ...\n",
            "Selecting previously unselected package libosmesa6:amd64.\n",
            "Preparing to unpack .../098-libosmesa6_20.0.8-0ubuntu1~18.04.1_amd64.deb ...\n",
            "Unpacking libosmesa6:amd64 (20.0.8-0ubuntu1~18.04.1) ...\n",
            "Selecting previously unselected package octave-common.\n",
            "Preparing to unpack .../099-octave-common_4.2.2-1ubuntu1_all.deb ...\n",
            "Unpacking octave-common (4.2.2-1ubuntu1) ...\n",
            "Selecting previously unselected package octave.\n",
            "Preparing to unpack .../100-octave_4.2.2-1ubuntu1_amd64.deb ...\n",
            "Unpacking octave (4.2.2-1ubuntu1) ...\n",
            "Selecting previously unselected package octave-doc.\n",
            "Preparing to unpack .../101-octave-doc_4.2.2-1ubuntu1_all.deb ...\n",
            "Unpacking octave-doc (4.2.2-1ubuntu1) ...\n",
            "Setting up libgs9-common (9.26~dfsg+0-0ubuntu0.18.04.17) ...\n",
            "Setting up libhtml-tagset-perl (3.20-3) ...\n",
            "Setting up imagemagick-6-common (8:6.9.7.4+dfsg-16ubuntu6.14) ...\n",
            "Setting up libnotify4:amd64 (0.7.7-3ubuntu0.18.04.1) ...\n",
            "Setting up libcxsparse3:amd64 (1:5.1.2-2) ...\n",
            "Setting up libtry-tiny-perl (0.30-1) ...\n",
            "Setting up fonts-droid-fallback (1:6.0.1r16-1.1) ...\n",
            "Setting up libfont-afm-perl (1.20-2) ...\n",
            "Setting up libgtk2.0-common (2.24.32-1ubuntu1) ...\n",
            "Setting up info (6.5.0.dfsg.1-2) ...\n",
            "update-alternatives: using /usr/bin/info to provide /usr/bin/infobrowser (infobrowser) in auto mode\n",
            "Setting up libportaudio2:amd64 (19.6.0-1) ...\n",
            "Setting up tex-common (6.09) ...\n",
            "update-language: texlive-base not installed and configured, doing nothing!\n",
            "Setting up libxml-namespacesupport-perl (1.12-1) ...\n",
            "Setting up gsfonts (1:8.11+urwcyr1.0.7~pre44-4.4) ...\n",
            "Setting up libencode-locale-perl (1.05-1) ...\n",
            "Setting up libtimedate-perl (2.3000-2) ...\n",
            "Setting up poppler-data (0.4.8-2) ...\n",
            "Setting up perl-openssl-defaults:amd64 (3build1) ...\n",
            "Setting up libosmesa6:amd64 (20.0.8-0ubuntu1~18.04.1) ...\n",
            "Setting up libio-html-perl (1.001-1) ...\n",
            "Setting up libtext-unidecode-perl (1.30-1) ...\n",
            "Setting up libqt5opengl5:amd64 (5.9.5+dfsg-0ubuntu2.6) ...\n",
            "Setting up fonts-noto-mono (20171026-2) ...\n",
            "Setting up libwxbase3.0-0v5:amd64 (3.0.4+dfsg-3) ...\n",
            "Setting up libqrupdate1:amd64 (1.1.2-2build1) ...\n",
            "Setting up libcupsfilters1:amd64 (1.20.2-0ubuntu3.1) ...\n",
            "Setting up libzip4:amd64 (1.1.2-1.1) ...\n",
            "Setting up libcupsimage2:amd64 (2.2.7-1ubuntu2.9) ...\n",
            "Setting up libxml-sax-base-perl (1.09-1) ...\n",
            "Setting up liblqr-1-0:amd64 (0.4.2-2.1) ...\n",
            "Setting up libjbig2dec0:amd64 (0.13-6) ...\n",
            "Setting up liblwp-mediatypes-perl (6.02-1) ...\n",
            "Setting up liburi-perl (1.73-1) ...\n",
            "Setting up libqt5svg5:amd64 (5.9.5-0ubuntu1.1) ...\n",
            "Setting up libsuitesparseconfig5:amd64 (1:5.1.2-2) ...\n",
            "Setting up libmetis5:amd64 (5.1.0.dfsg-5) ...\n",
            "Setting up libdata-dump-perl (1.23-1) ...\n",
            "Setting up libhtml-parser-perl (3.72-3build1) ...\n",
            "Setting up libijs-0.35:amd64 (0.35-13) ...\n",
            "Setting up libcolamd2:amd64 (1:5.1.2-2) ...\n",
            "Setting up libfltk1.3:amd64 (1.3.4-6) ...\n",
            "Setting up libccolamd2:amd64 (1:5.1.2-2) ...\n",
            "Setting up libfftw3-single3:amd64 (3.3.7-1) ...\n",
            "Setting up octave-common (4.2.2-1ubuntu1) ...\n",
            "Setting up libnet-http-perl (6.17-1) ...\n",
            "Setting up libqscintilla2-qt5-l10n (2.10.2+dfsg-4) ...\n",
            "Setting up libemf1:amd64 (1.0.9+git.10.3231442-1) ...\n",
            "Setting up aglfn (1.7-3) ...\n",
            "Setting up libplot2c2:amd64 (2.6-9) ...\n",
            "Setting up liblua5.3-0:amd64 (5.3.3-1ubuntu0.18.04.1) ...\n",
            "Setting up libgs9:amd64 (9.26~dfsg+0-0ubuntu0.18.04.17) ...\n",
            "Setting up libwmf0.2-7:amd64 (0.2.8.4-12) ...\n",
            "Setting up libwww-robotrules-perl (6.01-1) ...\n",
            "Setting up libauthen-sasl-perl (2.1600-1) ...\n",
            "Setting up notification-daemon (3.20.0-3) ...\n",
            "Setting up octave-doc (4.2.2-1ubuntu1) ...\n",
            "Setting up netbase (5.4) ...\n",
            "Setting up libxml-sax-perl (0.99+dfsg-2ubuntu1) ...\n",
            "update-perl-sax-parsers: Registering Perl SAX parser XML::SAX::PurePerl with priority 10...\n",
            "update-perl-sax-parsers: Updating overall Perl SAX parser modules info file...\n",
            "\n",
            "Creating config file /etc/perl/XML/SAX/ParserDetails.ini with new version\n",
            "Setting up libgtk2.0-0:amd64 (2.24.32-1ubuntu1) ...\n",
            "Setting up libhttp-date-perl (6.02-1) ...\n",
            "Setting up libmagickcore-6.q16-3:amd64 (8:6.9.7.4+dfsg-16ubuntu6.14) ...\n",
            "Setting up libgail18:amd64 (2.24.32-1ubuntu1) ...\n",
            "Setting up libnet-ssleay-perl (1.84-1ubuntu0.2) ...\n",
            "Setting up libfltk-gl1.3:amd64 (1.3.4-6) ...\n",
            "Setting up libcamd2:amd64 (1:5.1.2-2) ...\n",
            "Setting up libqscintilla2-qt5-13 (2.10.2+dfsg-4) ...\n",
            "Setting up libwxgtk3.0-0v5:amd64 (3.0.4+dfsg-3) ...\n",
            "Setting up libgail-common:amd64 (2.24.32-1ubuntu1) ...\n",
            "Setting up ghostscript (9.26~dfsg+0-0ubuntu0.18.04.17) ...\n",
            "Setting up gnuplot-data (5.2.2+dfsg1-2ubuntu1) ...\n",
            "Setting up libio-socket-ssl-perl (2.060-3~ubuntu18.04.1) ...\n",
            "Setting up libgraphicsmagick-q16-3 (1.3.28-2ubuntu0.1) ...\n",
            "Setting up libhtml-tree-perl (5.07-1) ...\n",
            "Setting up libamd2:amd64 (1:5.1.2-2) ...\n",
            "Setting up libmagickwand-6.q16-3:amd64 (8:6.9.7.4+dfsg-16ubuntu6.14) ...\n",
            "Setting up libfile-listing-perl (6.04-1) ...\n",
            "Setting up libhttp-message-perl (6.14-1) ...\n",
            "Setting up libxml-libxml-perl (2.0128+dfsg-5) ...\n",
            "update-perl-sax-parsers: Registering Perl SAX parser XML::LibXML::SAX::Parser with priority 50...\n",
            "update-perl-sax-parsers: Registering Perl SAX parser XML::LibXML::SAX with priority 50...\n",
            "update-perl-sax-parsers: Updating overall Perl SAX parser modules info file...\n",
            "Replacing config file /etc/perl/XML/SAX/ParserDetails.ini with new version\n",
            "Setting up libhttp-negotiate-perl (6.00-2) ...\n",
            "Setting up libgtk2.0-bin (2.24.32-1ubuntu1) ...\n",
            "Setting up libgraphicsmagick++-q16-12 (1.3.28-2ubuntu0.1) ...\n",
            "Setting up libnet-smtp-ssl-perl (1.04-1) ...\n",
            "Setting up libhtml-format-perl (2.12-1) ...\n",
            "Setting up libglpk40:amd64 (4.65-1) ...\n",
            "Setting up libhttp-cookies-perl (6.04-1) ...\n",
            "Setting up gnuplot-qt (5.2.2+dfsg1-2ubuntu1) ...\n",
            "update-alternatives: using /usr/bin/gnuplot-qt to provide /usr/bin/gnuplot (gnuplot) in auto mode\n",
            "Setting up epstool (3.08+repack-7) ...\n",
            "Setting up libhttp-daemon-perl (6.01-1ubuntu0.1) ...\n",
            "Setting up libcholmod3:amd64 (1:5.1.2-2) ...\n",
            "Setting up libmagick++-6.q16-7:amd64 (8:6.9.7.4+dfsg-16ubuntu6.14) ...\n",
            "Setting up libpstoedit0c2a (3.70-5) ...\n",
            "Setting up libhtml-form-perl (6.03-1) ...\n",
            "Setting up texinfo (6.5.0.dfsg.1-2) ...\n",
            "Setting up libmailtools-perl (2.18-1) ...\n",
            "Setting up libumfpack5:amd64 (1:5.1.2-2) ...\n",
            "Setting up pstoedit (3.70-5) ...\n",
            "Setting up liboctave4:amd64 (4.2.2-1ubuntu1) ...\n",
            "Setting up octave (4.2.2-1ubuntu1) ...\n",
            "Setting up liblwp-protocol-https-perl (6.07-2) ...\n",
            "Setting up libwww-perl (6.31-1ubuntu0.1) ...\n",
            "Setting up libxml-parser-perl (2.44-2build3) ...\n",
            "Setting up libxml-sax-expat-perl (0.40-2) ...\n",
            "update-perl-sax-parsers: Registering Perl SAX parser XML::SAX::Expat with priority 50...\n",
            "update-perl-sax-parsers: Updating overall Perl SAX parser modules info file...\n",
            "Replacing config file /etc/perl/XML/SAX/ParserDetails.ini with new version\n",
            "Processing triggers for fontconfig (2.12.6-0ubuntu2) ...\n",
            "Processing triggers for mime-support (3.60ubuntu1) ...\n",
            "Processing triggers for install-info (6.5.0.dfsg.1-2) ...\n",
            "Processing triggers for libc-bin (2.27-3ubuntu1.6) ...\n",
            "Processing triggers for man-db (2.8.3-2ubuntu0.1) ...\n",
            "Processing triggers for hicolor-icon-theme (0.17-2) ...\n"
          ]
        }
      ]
    },
    {
      "cell_type": "code",
      "source": [
        "!apt update"
      ],
      "metadata": {
        "colab": {
          "base_uri": "https://localhost:8080/"
        },
        "id": "lz-WcEj1lMUN",
        "outputId": "92fcf119-a538-455a-9296-ea01b11bf379"
      },
      "execution_count": null,
      "outputs": [
        {
          "output_type": "stream",
          "name": "stdout",
          "text": [
            "\u001b[33m\r0% [Working]\u001b[0m\r            \rGet:1 https://cloud.r-project.org/bin/linux/ubuntu bionic-cran40/ InRelease [3,626 B]\n",
            "\u001b[33m\r0% [Waiting for headers] [Connecting to security.ubuntu.com] [1 InRelease 0 B/3\u001b[0m\u001b[33m\r0% [Waiting for headers] [Connecting to security.ubuntu.com] [Waiting for heade\u001b[0m\r                                                                               \rHit:2 http://archive.ubuntu.com/ubuntu bionic InRelease\n",
            "\r                                                                               \rIgn:3 https://developer.download.nvidia.com/compute/machine-learning/repos/ubuntu1804/x86_64  InRelease\n",
            "\r                                                                               \rHit:4 https://developer.download.nvidia.com/compute/cuda/repos/ubuntu1804/x86_64  InRelease\n",
            "\u001b[33m\r0% [Waiting for headers] [Connecting to security.ubuntu.com (91.189.91.38)] [Co\u001b[0m\u001b[33m\r0% [1 InRelease gpgv 3,626 B] [Waiting for headers] [Connecting to security.ubu\u001b[0m\r                                                                               \rHit:5 https://developer.download.nvidia.com/compute/machine-learning/repos/ubuntu1804/x86_64  Release\n",
            "\u001b[33m\r0% [1 InRelease gpgv 3,626 B] [Waiting for headers] [Connecting to security.ubu\u001b[0m\r                                                                               \rGet:6 http://archive.ubuntu.com/ubuntu bionic-updates InRelease [88.7 kB]\n",
            "Get:7 http://security.ubuntu.com/ubuntu bionic-security InRelease [88.7 kB]\n",
            "Get:8 http://ppa.launchpad.net/c2d4u.team/c2d4u4.0+/ubuntu bionic InRelease [15.9 kB]\n",
            "Get:9 http://archive.ubuntu.com/ubuntu bionic-backports InRelease [83.3 kB]\n",
            "Hit:10 http://ppa.launchpad.net/cran/libgit2/ubuntu bionic InRelease\n",
            "Hit:12 http://ppa.launchpad.net/deadsnakes/ppa/ubuntu bionic InRelease\n",
            "Hit:13 http://ppa.launchpad.net/graphics-drivers/ppa/ubuntu bionic InRelease\n",
            "Get:14 http://ppa.launchpad.net/c2d4u.team/c2d4u4.0+/ubuntu bionic/main Sources [2,235 kB]\n",
            "Get:15 http://ppa.launchpad.net/c2d4u.team/c2d4u4.0+/ubuntu bionic/main amd64 Packages [1,143 kB]\n",
            "Fetched 3,659 kB in 4s (868 kB/s)\n",
            "Reading package lists... Done\n",
            "Building dependency tree       \n",
            "Reading state information... Done\n",
            "20 packages can be upgraded. Run 'apt list --upgradable' to see them.\n"
          ]
        }
      ]
    },
    {
      "cell_type": "markdown",
      "source": [
        "## **Método 1:**"
      ],
      "metadata": {
        "id": "l_-y2X0ElSXV"
      }
    },
    {
      "cell_type": "code",
      "source": [
        "%%writefile primero.m\n",
        "A = [1 3 -1 -2; 2 -2 3 -5; 4 3 -5 3; -1 -5 4 5]\n",
        "b = [6; 3; 5; 7]\n",
        "x= inv(A)*b\n",
        "% solución 1, rats expresa los número como fracciones o enteros\n",
        "s1 =rats(x)"
      ],
      "metadata": {
        "colab": {
          "base_uri": "https://localhost:8080/"
        },
        "id": "GyrgRWZ-lVkh",
        "outputId": "dc3d4df4-857c-456e-dc71-f577254768cd"
      },
      "execution_count": null,
      "outputs": [
        {
          "output_type": "stream",
          "name": "stdout",
          "text": [
            "Overwriting primero.m\n"
          ]
        }
      ]
    },
    {
      "cell_type": "code",
      "source": [
        "!octave primero.m"
      ],
      "metadata": {
        "colab": {
          "base_uri": "https://localhost:8080/"
        },
        "id": "InPeUPQalZVp",
        "outputId": "67083835-1099-4537-a066-97f577f1477b"
      },
      "execution_count": null,
      "outputs": [
        {
          "output_type": "stream",
          "name": "stdout",
          "text": [
            "octave: X11 DISPLAY environment variable not set\n",
            "octave: disabling GUI features\n",
            "A =\n",
            "\n",
            "   1   3  -1  -2\n",
            "   2  -2   3  -5\n",
            "   4   3  -5   3\n",
            "  -1  -5   4   5\n",
            "\n",
            "b =\n",
            "\n",
            "   6\n",
            "   3\n",
            "   5\n",
            "   7\n",
            "\n",
            "x =\n",
            "\n",
            "   3.0000\n",
            "   4.0000\n",
            "   5.0000\n",
            "   2.0000\n",
            "\n",
            "s1 =\n",
            "\n",
            "          3\n",
            "          4\n",
            "          5\n",
            "          2\n",
            "\n"
          ]
        }
      ]
    },
    {
      "cell_type": "markdown",
      "source": [
        "## **Método 2:**\n",
        "En este caso, hacemos **$A  \\, \\texttt\\ \\!b$.**"
      ],
      "metadata": {
        "id": "AlcSb5vSleyk"
      }
    },
    {
      "cell_type": "code",
      "source": [
        "%%writefile segundo.m\n",
        "A = [1 3 -1 -2; 2 -2 3 -5; 4 3 -5 3; -1 -5 4 5]\n",
        "b = [6; 3; 5; 7]\n",
        "x = A\\b\n",
        "% solución 3 \n",
        "s3 = rats(x)"
      ],
      "metadata": {
        "colab": {
          "base_uri": "https://localhost:8080/"
        },
        "id": "l42iK5bPllh8",
        "outputId": "706ba437-9922-4f9d-e968-e3d1cc9e20bc"
      },
      "execution_count": null,
      "outputs": [
        {
          "output_type": "stream",
          "name": "stdout",
          "text": [
            "Overwriting segundo.m\n"
          ]
        }
      ]
    },
    {
      "cell_type": "code",
      "source": [
        "!octave segundo.m"
      ],
      "metadata": {
        "colab": {
          "base_uri": "https://localhost:8080/"
        },
        "id": "JE4v0keHlpSt",
        "outputId": "aed4d3f9-406d-4dec-de06-29d295447cff"
      },
      "execution_count": null,
      "outputs": [
        {
          "output_type": "stream",
          "name": "stdout",
          "text": [
            "octave: X11 DISPLAY environment variable not set\n",
            "octave: disabling GUI features\n",
            "A =\n",
            "\n",
            "   1   3  -1  -2\n",
            "   2  -2   3  -5\n",
            "   4   3  -5   3\n",
            "  -1  -5   4   5\n",
            "\n",
            "b =\n",
            "\n",
            "   6\n",
            "   3\n",
            "   5\n",
            "   7\n",
            "\n",
            "x =\n",
            "\n",
            "   3.0000\n",
            "   4.0000\n",
            "   5.0000\n",
            "   2.0000\n",
            "\n",
            "s3 =\n",
            "\n",
            "          3\n",
            "          4\n",
            "          5\n",
            "          2\n",
            "\n"
          ]
        }
      ]
    },
    {
      "cell_type": "markdown",
      "source": [
        "## Práctica 3.7\n",
        "**Diagonalización en Python**\n",
        "\n",
        "* Sea la matriz cuadrada $A$ de orden 4x4\n",
        "\n",
        "$$A=\\left(\n",
        "\\begin{array}{rrrr}\n",
        " -1 &-2 &  3 &-1 \\\\\n",
        "  0 & 2 &  0 & 0 \\\\\n",
        "  0 & 0 &  2 & 0 \\\\\n",
        "  0 & 0 &  0 & 1\n",
        "\\end{array}\n",
        "\\right)$$\n",
        "1. Calcula los **autovalores** y **autovectores**\n",
        "2. Calcula y muestra:\n",
        " - la matriz diagonal $D$\n",
        " - la matriz de paso $P$\n",
        " - su inversa $P^{-1}$  \n",
        "3. Comprueba que se cumple que $A^3=PD^3P^{-1}$"
      ],
      "metadata": {
        "id": "KOhR4DdkL7kg"
      }
    },
    {
      "cell_type": "markdown",
      "source": [
        "## Hacemos el cálculo de los **autovalores** y **autovectores:**"
      ],
      "metadata": {
        "id": "kXbz5MWul1VD"
      }
    },
    {
      "cell_type": "code",
      "source": [
        "import numpy as np\n",
        "A = np.array([[-1,-2,3,-1],[0,2,0,0],[0,0,2,0],[0,0,0,1]])\n",
        "d,p = np.linalg.eig(A)\n",
        "print(\"d: \", d)\n",
        "D = np.diag(d)\n",
        "print(\"\\nD:\\n\", D)\n",
        "print(\"\\nP:\\n\", p)\n"
      ],
      "metadata": {
        "colab": {
          "base_uri": "https://localhost:8080/"
        },
        "id": "XoYnlfvTl4os",
        "outputId": "d5c48fa3-6fae-4416-caa4-310d236c2ac4"
      },
      "execution_count": null,
      "outputs": [
        {
          "output_type": "stream",
          "name": "stdout",
          "text": [
            "d:  [-1.  2.  2.  1.]\n",
            "\n",
            "D:\n",
            " [[-1.  0.  0.  0.]\n",
            " [ 0.  2.  0.  0.]\n",
            " [ 0.  0.  2.  0.]\n",
            " [ 0.  0.  0.  1.]]\n",
            "\n",
            "P:\n",
            " [[ 1.         -0.5547002   0.70710678 -0.4472136 ]\n",
            " [ 0.          0.83205029  0.          0.        ]\n",
            " [ 0.          0.          0.70710678  0.        ]\n",
            " [ 0.          0.          0.          0.89442719]]\n"
          ]
        }
      ]
    },
    {
      "cell_type": "markdown",
      "source": [
        "## Ahora, calculamos $A^3$:"
      ],
      "metadata": {
        "id": "tNsveabYmPtq"
      }
    },
    {
      "cell_type": "code",
      "source": [
        "import numpy as np\n",
        "A = np.array([[-1,-2,3,-1],[0,2,0,0],[0,0,2,0],[0,0,0,1]])\n",
        "print(A@A@A)"
      ],
      "metadata": {
        "colab": {
          "base_uri": "https://localhost:8080/"
        },
        "id": "Tb4499Aol9rG",
        "outputId": "2157fbb7-a635-4a6e-c602-c044d99db796"
      },
      "execution_count": null,
      "outputs": [
        {
          "output_type": "stream",
          "name": "stdout",
          "text": [
            "[[-1 -6  9 -1]\n",
            " [ 0  8  0  0]\n",
            " [ 0  0  8  0]\n",
            " [ 0  0  0  1]]\n"
          ]
        }
      ]
    },
    {
      "cell_type": "markdown",
      "source": [
        "## Y por último, calculamos $PD^3P^{-1}$:"
      ],
      "metadata": {
        "id": "jW11x9IVmck6"
      }
    },
    {
      "cell_type": "code",
      "source": [
        "import numpy as np\n",
        "A = np.array([[-1,-2,3,-1],[0,2,0,0],[0,0,2,0],[0,0,0,1]])\n",
        "d,P = np.linalg.eig(A)\n",
        "print(\"d: \", d)\n",
        "D = np.diag(d)\n",
        "print(\"\\nD:\\n\", D)\n",
        "print(\"\\nP:\\n\", P)\n",
        "Dcubo = D @ D @ D\n",
        "print(\"\\nDcubo:\\n\", Dcubo)\n",
        "print(\"\\nSolucion: \\n\", P @ Dcubo @ np.linalg.inv(P))\n"
      ],
      "metadata": {
        "colab": {
          "base_uri": "https://localhost:8080/"
        },
        "id": "9ObWSxLLmCuf",
        "outputId": "7dae545b-8232-4503-ea59-9a92f879f68c"
      },
      "execution_count": null,
      "outputs": [
        {
          "output_type": "stream",
          "name": "stdout",
          "text": [
            "d:  [-1.  2.  2.  1.]\n",
            "\n",
            "D:\n",
            " [[-1.  0.  0.  0.]\n",
            " [ 0.  2.  0.  0.]\n",
            " [ 0.  0.  2.  0.]\n",
            " [ 0.  0.  0.  1.]]\n",
            "\n",
            "P:\n",
            " [[ 1.         -0.5547002   0.70710678 -0.4472136 ]\n",
            " [ 0.          0.83205029  0.          0.        ]\n",
            " [ 0.          0.          0.70710678  0.        ]\n",
            " [ 0.          0.          0.          0.89442719]]\n",
            "\n",
            "Dcubo:\n",
            " [[-1.  0.  0.  0.]\n",
            " [ 0.  8.  0.  0.]\n",
            " [ 0.  0.  8.  0.]\n",
            " [ 0.  0.  0.  1.]]\n",
            "\n",
            "Solucion: \n",
            " [[-1. -6.  9. -1.]\n",
            " [ 0.  8.  0.  0.]\n",
            " [ 0.  0.  8.  0.]\n",
            " [ 0.  0.  0.  1.]]\n"
          ]
        }
      ]
    },
    {
      "cell_type": "markdown",
      "source": [
        "## Práctica 3.8\n",
        "**Diagonalización con Octave**\n",
        "\n",
        "Resuelva el ejercicio anterior, pero en esta ocasión utilizando Octave."
      ],
      "metadata": {
        "id": "tqHIq-of_N_v"
      }
    },
    {
      "cell_type": "markdown",
      "source": [
        "# En esta ocasión, vamos a resolver el *problema anterior (el de la práctica 3.7),* trabajando con **Octave:** "
      ],
      "metadata": {
        "id": "fLM3hjsWQfir"
      }
    },
    {
      "cell_type": "code",
      "source": [
        "!apt install octave\n",
        "!apt update"
      ],
      "metadata": {
        "colab": {
          "base_uri": "https://localhost:8080/"
        },
        "id": "g_IDXHTRmjnM",
        "outputId": "81123e32-1965-4e47-cf7d-51fd5f657e9a"
      },
      "execution_count": null,
      "outputs": [
        {
          "output_type": "stream",
          "name": "stdout",
          "text": [
            "Reading package lists... Done\n",
            "Building dependency tree       \n",
            "Reading state information... Done\n",
            "octave is already the newest version (4.2.2-1ubuntu1).\n",
            "The following package was automatically installed and is no longer required:\n",
            "  libnvidia-common-460\n",
            "Use 'apt autoremove' to remove it.\n",
            "0 upgraded, 0 newly installed, 0 to remove and 20 not upgraded.\n",
            "Ign:1 https://developer.download.nvidia.com/compute/machine-learning/repos/ubuntu1804/x86_64  InRelease\n",
            "Hit:2 https://developer.download.nvidia.com/compute/cuda/repos/ubuntu1804/x86_64  InRelease\n",
            "Hit:3 https://developer.download.nvidia.com/compute/machine-learning/repos/ubuntu1804/x86_64  Release\n",
            "Hit:4 http://security.ubuntu.com/ubuntu bionic-security InRelease\n",
            "Hit:5 http://archive.ubuntu.com/ubuntu bionic InRelease\n",
            "Hit:6 http://archive.ubuntu.com/ubuntu bionic-updates InRelease\n",
            "Hit:7 https://cloud.r-project.org/bin/linux/ubuntu bionic-cran40/ InRelease\n",
            "Hit:8 http://archive.ubuntu.com/ubuntu bionic-backports InRelease\n",
            "Hit:9 http://ppa.launchpad.net/c2d4u.team/c2d4u4.0+/ubuntu bionic InRelease\n",
            "Hit:11 http://ppa.launchpad.net/cran/libgit2/ubuntu bionic InRelease\n",
            "Hit:12 http://ppa.launchpad.net/deadsnakes/ppa/ubuntu bionic InRelease\n",
            "Hit:13 http://ppa.launchpad.net/graphics-drivers/ppa/ubuntu bionic InRelease\n",
            "Reading package lists... Done\n",
            "Building dependency tree       \n",
            "Reading state information... Done\n",
            "20 packages can be upgraded. Run 'apt list --upgradable' to see them.\n"
          ]
        }
      ]
    },
    {
      "cell_type": "code",
      "source": [
        "%%writefile diagonaliza.m\n",
        "A = [-1,-2,3,-1; 0,2,0,0; 0,0,2,0; 0,0,0,1]\n",
        "[P,D]=eig(A)\n",
        "Dcubo = D^3\n",
        "Acubo = A^3\n",
        "PxDcuboXPinv = P*Dcubo*P^-1"
      ],
      "metadata": {
        "colab": {
          "base_uri": "https://localhost:8080/"
        },
        "id": "UNcnid75mo2U",
        "outputId": "5e9a33b6-bc4c-457c-eca6-27988b53a694"
      },
      "execution_count": null,
      "outputs": [
        {
          "output_type": "stream",
          "name": "stdout",
          "text": [
            "Writing diagonaliza.m\n"
          ]
        }
      ]
    },
    {
      "cell_type": "code",
      "source": [
        "!octave diagonaliza.m"
      ],
      "metadata": {
        "colab": {
          "base_uri": "https://localhost:8080/"
        },
        "id": "om8cWLbVmsdo",
        "outputId": "1e273f76-de8c-45b1-8344-33b9d0a5abed"
      },
      "execution_count": null,
      "outputs": [
        {
          "output_type": "stream",
          "name": "stdout",
          "text": [
            "octave: X11 DISPLAY environment variable not set\n",
            "octave: disabling GUI features\n",
            "A =\n",
            "\n",
            "  -1  -2   3  -1\n",
            "   0   2   0   0\n",
            "   0   0   2   0\n",
            "   0   0   0   1\n",
            "\n",
            "P =\n",
            "\n",
            "   1.00000  -0.55470   0.70711  -0.44721\n",
            "   0.00000   0.83205   0.00000   0.00000\n",
            "   0.00000   0.00000   0.70711   0.00000\n",
            "   0.00000   0.00000   0.00000   0.89443\n",
            "\n",
            "D =\n",
            "\n",
            "Diagonal Matrix\n",
            "\n",
            "  -1   0   0   0\n",
            "   0   2   0   0\n",
            "   0   0   2   0\n",
            "   0   0   0   1\n",
            "\n",
            "Dcubo =\n",
            "\n",
            "Diagonal Matrix\n",
            "\n",
            "  -1   0   0   0\n",
            "   0   8   0   0\n",
            "   0   0   8   0\n",
            "   0   0   0   1\n",
            "\n",
            "Acubo =\n",
            "\n",
            "  -1  -6   9  -1\n",
            "   0   8   0   0\n",
            "   0   0   8   0\n",
            "   0   0   0   1\n",
            "\n",
            "PxDcuboXPinv =\n",
            "\n",
            "  -1  -6   9  -1\n",
            "   0   8   0   0\n",
            "   0   0   8   0\n",
            "   0   0   0   1\n",
            "\n"
          ]
        }
      ]
    },
    {
      "cell_type": "markdown",
      "source": [
        "## Práctica 3.9\n",
        "**Libertad para elegir el lugar de trabajo**  \n",
        "Resolver con **Octave**.\n",
        "\n",
        "Una empresa de 1.000 empleados permite que sus trabajadores cada día acudan a trabajar a la oficina o que realicen su trabajo desde su casa. Inicialmente el 90% de la plantilla trabajaba en la oficina y solo el 10% lo hacían en casa. Se ha observado que los que un día trabajan en casa tienen una probabilidad del 70% de realizarlo también desde casa al día siguiente, pero que en el restante 30% de los casos acuden a la oficina al día siguiente. Por el contrario, se ha observado que los que un día trabajaron en la oficina al día siguiente vuelven\n",
        "a la oficina en el 60% de los casos y en el 40% restante van a su casa al día siguiente.\n",
        "* Determinar qué número de empleados se quedan en casa transcurridos dos días.\n",
        "* ¿Y a largo plazo cuantos se quedan en casa?"
      ],
      "metadata": {
        "id": "Aw283nkjdtcQ"
      }
    },
    {
      "cell_type": "markdown",
      "source": [
        "## Planteamiento y resolución de la práctica 3.9:"
      ],
      "metadata": {
        "id": "spVya0fA2h-L"
      }
    },
    {
      "cell_type": "markdown",
      "source": [
        "![GRAFO DE LA PRÁCTICA 3.9.jpg](data:image/jpeg;base64,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)"
      ],
      "metadata": {
        "id": "E7pyffLA0-xx"
      }
    },
    {
      "cell_type": "markdown",
      "source": [
        "* Empleados = **1.000**\n",
        "* Vector de estado inicial $\\begin{align*}\n",
        "    X_0 &= \\begin{pmatrix}\n",
        "           0.90 \\\\\n",
        "           0.10\n",
        "         \\end{pmatrix}\n",
        "  \\end{align*}$\n",
        "* Matriz de transición $\\begin{align*}\n",
        "    A &= \\begin{pmatrix}\n",
        "           0.60 & 0.30 \\\\\n",
        "           0.40 & 0.70\n",
        "         \\end{pmatrix}\n",
        "  \\end{align*}$\n",
        "* Estado a los dos días: $$X_2 = A^2 X_0 = \\begin{align*}\n",
        "    \\begin{pmatrix}\n",
        "           0.60 & 0.30 \\\\\n",
        "           0.40 & 0.70\n",
        "         \\end{pmatrix}^2\n",
        "    \\begin{pmatrix}\n",
        "           0.90 \\\\\n",
        "           0.10\n",
        "         \\end{pmatrix} = \n",
        "    \\begin{pmatrix}\n",
        "           0.48 & 0.39 \\\\\n",
        "           0.52 & 0.61\n",
        "         \\end{pmatrix}\n",
        "    \\begin{pmatrix}\n",
        "           0.90 \\\\\n",
        "           0.10\n",
        "         \\end{pmatrix} =\n",
        "        \\begin{pmatrix}\n",
        "           0.471 \\\\\n",
        "           0.529\n",
        "         \\end{pmatrix}\n",
        "  \\end{align*}$$\n",
        "\n",
        "* Estado a los diez días: $$X_{20} = A^{10} X_0 = \\begin{align*}\n",
        "    \\begin{pmatrix}\n",
        "           0.60 & 0.30 \\\\\n",
        "           0.40 & 0.70\n",
        "         \\end{pmatrix}^{10}\n",
        "    \\begin{pmatrix}\n",
        "           0.90 \\\\\n",
        "           0.10\n",
        "         \\end{pmatrix} = \n",
        "    \\begin{pmatrix}\n",
        "           0.42857 \\\\\n",
        "           0.57143\n",
        "         \\end{pmatrix}\n",
        "  \\end{align*}$$\n"
      ],
      "metadata": {
        "id": "ccrkoLt4xfsk"
      }
    },
    {
      "cell_type": "code",
      "source": [
        "!apt update\n",
        "!apt install octave"
      ],
      "metadata": {
        "colab": {
          "base_uri": "https://localhost:8080/"
        },
        "id": "GtKddow4yjMM",
        "outputId": "4e0d1af8-abb0-4f5a-e77e-3bbabe076de4"
      },
      "execution_count": null,
      "outputs": [
        {
          "output_type": "stream",
          "name": "stdout",
          "text": [
            "Get:1 https://cloud.r-project.org/bin/linux/ubuntu bionic-cran40/ InRelease [3,626 B]\n",
            "Ign:2 https://developer.download.nvidia.com/compute/machine-learning/repos/ubuntu1804/x86_64  InRelease\n",
            "Hit:3 https://developer.download.nvidia.com/compute/cuda/repos/ubuntu1804/x86_64  InRelease\n",
            "Hit:4 https://developer.download.nvidia.com/compute/machine-learning/repos/ubuntu1804/x86_64  Release\n",
            "Hit:5 http://archive.ubuntu.com/ubuntu bionic InRelease\n",
            "Get:6 http://security.ubuntu.com/ubuntu bionic-security InRelease [88.7 kB]\n",
            "Get:7 http://archive.ubuntu.com/ubuntu bionic-updates InRelease [88.7 kB]\n",
            "Get:8 http://ppa.launchpad.net/c2d4u.team/c2d4u4.0+/ubuntu bionic InRelease [15.9 kB]\n",
            "Get:9 http://archive.ubuntu.com/ubuntu bionic-backports InRelease [83.3 kB]\n",
            "Hit:11 http://ppa.launchpad.net/cran/libgit2/ubuntu bionic InRelease\n",
            "Hit:12 http://ppa.launchpad.net/deadsnakes/ppa/ubuntu bionic InRelease\n",
            "Hit:13 http://ppa.launchpad.net/graphics-drivers/ppa/ubuntu bionic InRelease\n",
            "Get:14 http://ppa.launchpad.net/c2d4u.team/c2d4u4.0+/ubuntu bionic/main Sources [2,235 kB]\n",
            "Get:15 http://ppa.launchpad.net/c2d4u.team/c2d4u4.0+/ubuntu bionic/main amd64 Packages [1,143 kB]\n",
            "Fetched 3,659 kB in 4s (902 kB/s)\n",
            "Reading package lists... Done\n",
            "Building dependency tree       \n",
            "Reading state information... Done\n",
            "20 packages can be upgraded. Run 'apt list --upgradable' to see them.\n",
            "Reading package lists... Done\n",
            "Building dependency tree       \n",
            "Reading state information... Done\n",
            "The following package was automatically installed and is no longer required:\n",
            "  libnvidia-common-460\n",
            "Use 'apt autoremove' to remove it.\n",
            "The following additional packages will be installed:\n",
            "  aglfn epstool fonts-droid-fallback fonts-noto-mono ghostscript gnuplot-data\n",
            "  gnuplot-qt gsfonts imagemagick-6-common info install-info libamd2\n",
            "  libauthen-sasl-perl libcamd2 libccolamd2 libcholmod3 libcolamd2\n",
            "  libcupsfilters1 libcupsimage2 libcxsparse3 libdata-dump-perl libemf1\n",
            "  libencode-locale-perl libfftw3-single3 libfile-listing-perl libfltk-gl1.3\n",
            "  libfltk1.3 libfont-afm-perl libgail-common libgail18 libglpk40\n",
            "  libgraphicsmagick++-q16-12 libgraphicsmagick-q16-3 libgs9 libgs9-common\n",
            "  libgtk2.0-0 libgtk2.0-bin libgtk2.0-common libhtml-form-perl\n",
            "  libhtml-format-perl libhtml-parser-perl libhtml-tagset-perl\n",
            "  libhtml-tree-perl libhttp-cookies-perl libhttp-daemon-perl libhttp-date-perl\n",
            "  libhttp-message-perl libhttp-negotiate-perl libijs-0.35 libio-html-perl\n",
            "  libio-socket-ssl-perl libjbig2dec0 liblqr-1-0 liblua5.3-0\n",
            "  liblwp-mediatypes-perl liblwp-protocol-https-perl libmagick++-6.q16-7\n",
            "  libmagickcore-6.q16-3 libmagickwand-6.q16-3 libmailtools-perl libmetis5\n",
            "  libnet-http-perl libnet-smtp-ssl-perl libnet-ssleay-perl libnotify4\n",
            "  liboctave4 libosmesa6 libplot2c2 libportaudio2 libpstoedit0c2a libqrupdate1\n",
            "  libqscintilla2-qt5-13 libqscintilla2-qt5-l10n libqt5opengl5 libqt5svg5\n",
            "  libsuitesparseconfig5 libtext-unidecode-perl libtimedate-perl\n",
            "  libtry-tiny-perl libumfpack5 liburi-perl libwmf0.2-7 libwww-perl\n",
            "  libwww-robotrules-perl libwxbase3.0-0v5 libwxgtk3.0-0v5 libxml-libxml-perl\n",
            "  libxml-namespacesupport-perl libxml-parser-perl libxml-sax-base-perl\n",
            "  libxml-sax-expat-perl libxml-sax-perl libzip4 netbase notification-daemon\n",
            "  octave-common octave-doc perl-openssl-defaults poppler-data pstoedit\n",
            "  tex-common texinfo\n",
            "Suggested packages:\n",
            "  fonts-noto ghostscript-x gnuplot-doc texinfo-doc-nonfree libdigest-hmac-perl\n",
            "  libgssapi-perl libfftw3-bin libfftw3-dev libiodbc2-dev graphicsmagick-dbg\n",
            "  gvfs libcrypt-ssleay-perl libmagickcore-6.q16-3-extra libqscintilla2-doc\n",
            "  libwmf0.2-7-gtk libauthen-ntlm-perl liboctave-dev www-browser | pdf-viewer\n",
            "  poppler-utils fonts-japanese-mincho | fonts-ipafont-mincho\n",
            "  fonts-japanese-gothic | fonts-ipafont-gothic fonts-arphic-ukai\n",
            "  fonts-arphic-uming fonts-nanum xfig | ivtools-bin | tgif | transfig\n",
            "  debhelper texlive-base texlive-latex-base texlive-generic-recommended\n",
            "  texlive-fonts-recommended\n",
            "The following NEW packages will be installed:\n",
            "  aglfn epstool fonts-droid-fallback fonts-noto-mono ghostscript gnuplot-data\n",
            "  gnuplot-qt gsfonts imagemagick-6-common info install-info libamd2\n",
            "  libauthen-sasl-perl libcamd2 libccolamd2 libcholmod3 libcolamd2\n",
            "  libcupsfilters1 libcupsimage2 libcxsparse3 libdata-dump-perl libemf1\n",
            "  libencode-locale-perl libfftw3-single3 libfile-listing-perl libfltk-gl1.3\n",
            "  libfltk1.3 libfont-afm-perl libgail-common libgail18 libglpk40\n",
            "  libgraphicsmagick++-q16-12 libgraphicsmagick-q16-3 libgs9 libgs9-common\n",
            "  libgtk2.0-0 libgtk2.0-bin libgtk2.0-common libhtml-form-perl\n",
            "  libhtml-format-perl libhtml-parser-perl libhtml-tagset-perl\n",
            "  libhtml-tree-perl libhttp-cookies-perl libhttp-daemon-perl libhttp-date-perl\n",
            "  libhttp-message-perl libhttp-negotiate-perl libijs-0.35 libio-html-perl\n",
            "  libio-socket-ssl-perl libjbig2dec0 liblqr-1-0 liblua5.3-0\n",
            "  liblwp-mediatypes-perl liblwp-protocol-https-perl libmagick++-6.q16-7\n",
            "  libmagickcore-6.q16-3 libmagickwand-6.q16-3 libmailtools-perl libmetis5\n",
            "  libnet-http-perl libnet-smtp-ssl-perl libnet-ssleay-perl libnotify4\n",
            "  liboctave4 libosmesa6 libplot2c2 libportaudio2 libpstoedit0c2a libqrupdate1\n",
            "  libqscintilla2-qt5-13 libqscintilla2-qt5-l10n libqt5opengl5 libqt5svg5\n",
            "  libsuitesparseconfig5 libtext-unidecode-perl libtimedate-perl\n",
            "  libtry-tiny-perl libumfpack5 liburi-perl libwmf0.2-7 libwww-perl\n",
            "  libwww-robotrules-perl libwxbase3.0-0v5 libwxgtk3.0-0v5 libxml-libxml-perl\n",
            "  libxml-namespacesupport-perl libxml-parser-perl libxml-sax-base-perl\n",
            "  libxml-sax-expat-perl libxml-sax-perl libzip4 netbase notification-daemon\n",
            "  octave octave-common octave-doc perl-openssl-defaults poppler-data pstoedit\n",
            "  tex-common texinfo\n",
            "0 upgraded, 103 newly installed, 0 to remove and 20 not upgraded.\n",
            "Need to get 53.6 MB of archives.\n",
            "After this operation, 210 MB of additional disk space will be used.\n",
            "Get:1 http://archive.ubuntu.com/ubuntu bionic/main amd64 install-info amd64 6.5.0.dfsg.1-2 [55.4 kB]\n",
            "Get:2 http://archive.ubuntu.com/ubuntu bionic/main amd64 fonts-droid-fallback all 1:6.0.1r16-1.1 [1,805 kB]\n",
            "Get:3 http://archive.ubuntu.com/ubuntu bionic/main amd64 liblqr-1-0 amd64 0.4.2-2.1 [27.7 kB]\n",
            "Get:4 http://archive.ubuntu.com/ubuntu bionic-updates/main amd64 imagemagick-6-common all 8:6.9.7.4+dfsg-16ubuntu6.14 [60.5 kB]\n",
            "Get:5 http://archive.ubuntu.com/ubuntu bionic-updates/main amd64 libmagickcore-6.q16-3 amd64 8:6.9.7.4+dfsg-16ubuntu6.14 [1,622 kB]\n",
            "Get:6 http://archive.ubuntu.com/ubuntu bionic-updates/main amd64 libmagickwand-6.q16-3 amd64 8:6.9.7.4+dfsg-16ubuntu6.14 [294 kB]\n",
            "Get:7 http://archive.ubuntu.com/ubuntu bionic-updates/main amd64 libqt5svg5 amd64 5.9.5-0ubuntu1.1 [129 kB]\n",
            "Get:8 http://archive.ubuntu.com/ubuntu bionic/main amd64 poppler-data all 0.4.8-2 [1,479 kB]\n",
            "Get:9 http://archive.ubuntu.com/ubuntu bionic/main amd64 tex-common all 6.09 [33.0 kB]\n",
            "Get:10 http://archive.ubuntu.com/ubuntu bionic/main amd64 netbase all 5.4 [12.7 kB]\n",
            "Get:11 http://archive.ubuntu.com/ubuntu bionic/main amd64 info amd64 6.5.0.dfsg.1-2 [104 kB]\n",
            "Get:12 http://archive.ubuntu.com/ubuntu bionic-updates/main amd64 libcupsimage2 amd64 2.2.7-1ubuntu2.9 [18.6 kB]\n",
            "Get:13 http://archive.ubuntu.com/ubuntu bionic/main amd64 libijs-0.35 amd64 0.35-13 [15.5 kB]\n",
            "Get:14 http://archive.ubuntu.com/ubuntu bionic/main amd64 libjbig2dec0 amd64 0.13-6 [55.9 kB]\n",
            "Get:15 http://archive.ubuntu.com/ubuntu bionic-updates/main amd64 libgs9-common all 9.26~dfsg+0-0ubuntu0.18.04.17 [5,092 kB]\n",
            "Get:16 http://archive.ubuntu.com/ubuntu bionic-updates/main amd64 libgs9 amd64 9.26~dfsg+0-0ubuntu0.18.04.17 [2,267 kB]\n",
            "Get:17 http://archive.ubuntu.com/ubuntu bionic-updates/main amd64 ghostscript amd64 9.26~dfsg+0-0ubuntu0.18.04.17 [51.3 kB]\n",
            "Get:18 http://archive.ubuntu.com/ubuntu bionic/universe amd64 epstool amd64 3.08+repack-7 [108 kB]\n",
            "Get:19 http://archive.ubuntu.com/ubuntu bionic/main amd64 fonts-noto-mono all 20171026-2 [75.5 kB]\n",
            "Get:20 http://archive.ubuntu.com/ubuntu bionic/universe amd64 aglfn all 1.7-3 [29.4 kB]\n",
            "Get:21 http://archive.ubuntu.com/ubuntu bionic/universe amd64 gnuplot-data all 5.2.2+dfsg1-2ubuntu1 [56.7 kB]\n",
            "Get:22 http://archive.ubuntu.com/ubuntu bionic-updates/main amd64 liblua5.3-0 amd64 5.3.3-1ubuntu0.18.04.1 [115 kB]\n",
            "Get:23 http://archive.ubuntu.com/ubuntu bionic/universe amd64 libwxbase3.0-0v5 amd64 3.0.4+dfsg-3 [954 kB]\n",
            "Get:24 http://archive.ubuntu.com/ubuntu bionic/main amd64 libgtk2.0-common all 2.24.32-1ubuntu1 [125 kB]\n",
            "Get:25 http://archive.ubuntu.com/ubuntu bionic/main amd64 libgtk2.0-0 amd64 2.24.32-1ubuntu1 [1,769 kB]\n",
            "Get:26 http://archive.ubuntu.com/ubuntu bionic-updates/main amd64 libnotify4 amd64 0.7.7-3ubuntu0.18.04.1 [18.7 kB]\n",
            "Get:27 http://archive.ubuntu.com/ubuntu bionic/universe amd64 libwxgtk3.0-0v5 amd64 3.0.4+dfsg-3 [4,182 kB]\n",
            "Get:28 http://archive.ubuntu.com/ubuntu bionic/universe amd64 gnuplot-qt amd64 5.2.2+dfsg1-2ubuntu1 [1,013 kB]\n",
            "Get:29 http://archive.ubuntu.com/ubuntu bionic/main amd64 gsfonts all 1:8.11+urwcyr1.0.7~pre44-4.4 [3,120 kB]\n",
            "Get:30 http://archive.ubuntu.com/ubuntu bionic/main amd64 libsuitesparseconfig5 amd64 1:5.1.2-2 [9,044 B]\n",
            "Get:31 http://archive.ubuntu.com/ubuntu bionic/main amd64 libamd2 amd64 1:5.1.2-2 [19.5 kB]\n",
            "Get:32 http://archive.ubuntu.com/ubuntu bionic/main amd64 libcamd2 amd64 1:5.1.2-2 [20.9 kB]\n",
            "Get:33 http://archive.ubuntu.com/ubuntu bionic/main amd64 libccolamd2 amd64 1:5.1.2-2 [21.7 kB]\n",
            "Get:34 http://archive.ubuntu.com/ubuntu bionic/main amd64 libcolamd2 amd64 1:5.1.2-2 [16.2 kB]\n",
            "Get:35 http://archive.ubuntu.com/ubuntu bionic/main amd64 libmetis5 amd64 5.1.0.dfsg-5 [169 kB]\n",
            "Get:36 http://archive.ubuntu.com/ubuntu bionic/main amd64 libcholmod3 amd64 1:5.1.2-2 [300 kB]\n",
            "Get:37 http://archive.ubuntu.com/ubuntu bionic-updates/main amd64 libcupsfilters1 amd64 1.20.2-0ubuntu3.1 [108 kB]\n",
            "Get:38 http://archive.ubuntu.com/ubuntu bionic/main amd64 libcxsparse3 amd64 1:5.1.2-2 [63.9 kB]\n",
            "Get:39 http://archive.ubuntu.com/ubuntu bionic/main amd64 libdata-dump-perl all 1.23-1 [27.0 kB]\n",
            "Get:40 http://archive.ubuntu.com/ubuntu bionic/universe amd64 libemf1 amd64 1.0.9+git.10.3231442-1 [54.7 kB]\n",
            "Get:41 http://archive.ubuntu.com/ubuntu bionic/main amd64 libencode-locale-perl all 1.05-1 [12.3 kB]\n",
            "Get:42 http://archive.ubuntu.com/ubuntu bionic/main amd64 libfftw3-single3 amd64 3.3.7-1 [764 kB]\n",
            "Get:43 http://archive.ubuntu.com/ubuntu bionic/main amd64 libtimedate-perl all 2.3000-2 [37.5 kB]\n",
            "Get:44 http://archive.ubuntu.com/ubuntu bionic/main amd64 libhttp-date-perl all 6.02-1 [10.4 kB]\n",
            "Get:45 http://archive.ubuntu.com/ubuntu bionic/main amd64 libfile-listing-perl all 6.04-1 [9,774 B]\n",
            "Get:46 http://archive.ubuntu.com/ubuntu bionic/universe amd64 libfltk1.3 amd64 1.3.4-6 [523 kB]\n",
            "Get:47 http://archive.ubuntu.com/ubuntu bionic/universe amd64 libfltk-gl1.3 amd64 1.3.4-6 [37.7 kB]\n",
            "Get:48 http://archive.ubuntu.com/ubuntu bionic/main amd64 libfont-afm-perl all 1.20-2 [13.2 kB]\n",
            "Get:49 http://archive.ubuntu.com/ubuntu bionic/main amd64 libgail18 amd64 2.24.32-1ubuntu1 [14.2 kB]\n",
            "Get:50 http://archive.ubuntu.com/ubuntu bionic/main amd64 libgail-common amd64 2.24.32-1ubuntu1 [112 kB]\n",
            "Get:51 http://archive.ubuntu.com/ubuntu bionic/universe amd64 libglpk40 amd64 4.65-1 [378 kB]\n",
            "Get:52 http://archive.ubuntu.com/ubuntu bionic/main amd64 libwmf0.2-7 amd64 0.2.8.4-12 [150 kB]\n",
            "Get:53 http://archive.ubuntu.com/ubuntu bionic-updates/universe amd64 libgraphicsmagick-q16-3 amd64 1.3.28-2ubuntu0.1 [1,116 kB]\n",
            "Get:54 http://archive.ubuntu.com/ubuntu bionic-updates/universe amd64 libgraphicsmagick++-q16-12 amd64 1.3.28-2ubuntu0.1 [102 kB]\n",
            "Get:55 http://archive.ubuntu.com/ubuntu bionic/main amd64 libgtk2.0-bin amd64 2.24.32-1ubuntu1 [7,536 B]\n",
            "Get:56 http://archive.ubuntu.com/ubuntu bionic/main amd64 libhtml-tagset-perl all 3.20-3 [12.1 kB]\n",
            "Get:57 http://archive.ubuntu.com/ubuntu bionic/main amd64 liburi-perl all 1.73-1 [77.2 kB]\n",
            "Get:58 http://archive.ubuntu.com/ubuntu bionic/main amd64 libhtml-parser-perl amd64 3.72-3build1 [85.9 kB]\n",
            "Get:59 http://archive.ubuntu.com/ubuntu bionic/main amd64 libio-html-perl all 1.001-1 [14.9 kB]\n",
            "Get:60 http://archive.ubuntu.com/ubuntu bionic/main amd64 liblwp-mediatypes-perl all 6.02-1 [21.7 kB]\n",
            "Get:61 http://archive.ubuntu.com/ubuntu bionic/main amd64 libhttp-message-perl all 6.14-1 [72.1 kB]\n",
            "Get:62 http://archive.ubuntu.com/ubuntu bionic/main amd64 libhtml-form-perl all 6.03-1 [23.5 kB]\n",
            "Get:63 http://archive.ubuntu.com/ubuntu bionic/main amd64 libhtml-tree-perl all 5.07-1 [200 kB]\n",
            "Get:64 http://archive.ubuntu.com/ubuntu bionic/main amd64 libhtml-format-perl all 2.12-1 [41.3 kB]\n",
            "Get:65 http://archive.ubuntu.com/ubuntu bionic/main amd64 libhttp-cookies-perl all 6.04-1 [17.2 kB]\n",
            "Get:66 http://archive.ubuntu.com/ubuntu bionic-updates/main amd64 libhttp-daemon-perl all 6.01-1ubuntu0.1 [15.9 kB]\n",
            "Get:67 http://archive.ubuntu.com/ubuntu bionic/main amd64 libhttp-negotiate-perl all 6.00-2 [13.4 kB]\n",
            "Get:68 http://archive.ubuntu.com/ubuntu bionic/main amd64 perl-openssl-defaults amd64 3build1 [7,012 B]\n",
            "Get:69 http://archive.ubuntu.com/ubuntu bionic-updates/main amd64 libnet-ssleay-perl amd64 1.84-1ubuntu0.2 [283 kB]\n",
            "Get:70 http://archive.ubuntu.com/ubuntu bionic-updates/main amd64 libio-socket-ssl-perl all 2.060-3~ubuntu18.04.1 [173 kB]\n",
            "Get:71 http://archive.ubuntu.com/ubuntu bionic/main amd64 libnet-http-perl all 6.17-1 [22.7 kB]\n",
            "Get:72 http://archive.ubuntu.com/ubuntu bionic/main amd64 libtry-tiny-perl all 0.30-1 [20.5 kB]\n",
            "Get:73 http://archive.ubuntu.com/ubuntu bionic/main amd64 libwww-robotrules-perl all 6.01-1 [14.1 kB]\n",
            "Get:74 http://archive.ubuntu.com/ubuntu bionic-updates/main amd64 libwww-perl all 6.31-1ubuntu0.1 [137 kB]\n",
            "Get:75 http://archive.ubuntu.com/ubuntu bionic/main amd64 liblwp-protocol-https-perl all 6.07-2 [8,284 B]\n",
            "Get:76 http://archive.ubuntu.com/ubuntu bionic-updates/main amd64 libmagick++-6.q16-7 amd64 8:6.9.7.4+dfsg-16ubuntu6.14 [139 kB]\n",
            "Get:77 http://archive.ubuntu.com/ubuntu bionic/main amd64 libnet-smtp-ssl-perl all 1.04-1 [5,948 B]\n",
            "Get:78 http://archive.ubuntu.com/ubuntu bionic/main amd64 libmailtools-perl all 2.18-1 [74.0 kB]\n",
            "Get:79 http://archive.ubuntu.com/ubuntu bionic/universe amd64 libqrupdate1 amd64 1.1.2-2build1 [36.5 kB]\n",
            "Get:80 http://archive.ubuntu.com/ubuntu bionic/main amd64 libumfpack5 amd64 1:5.1.2-2 [229 kB]\n",
            "Get:81 http://archive.ubuntu.com/ubuntu bionic/universe amd64 liboctave4 amd64 4.2.2-1ubuntu1 [6,736 kB]\n",
            "Get:82 http://archive.ubuntu.com/ubuntu bionic/universe amd64 libplot2c2 amd64 2.6-9 [502 kB]\n",
            "Get:83 http://archive.ubuntu.com/ubuntu bionic/universe amd64 libportaudio2 amd64 19.6.0-1 [64.6 kB]\n",
            "Get:84 http://archive.ubuntu.com/ubuntu bionic/universe amd64 libzip4 amd64 1.1.2-1.1 [37.8 kB]\n",
            "Get:85 http://archive.ubuntu.com/ubuntu bionic/universe amd64 libpstoedit0c2a amd64 3.70-5 [349 kB]\n",
            "Get:86 http://archive.ubuntu.com/ubuntu bionic/universe amd64 libqscintilla2-qt5-l10n all 2.10.2+dfsg-4 [39.7 kB]\n",
            "Get:87 http://archive.ubuntu.com/ubuntu bionic/universe amd64 libqscintilla2-qt5-13 amd64 2.10.2+dfsg-4 [1,030 kB]\n",
            "Get:88 http://archive.ubuntu.com/ubuntu bionic-updates/main amd64 libqt5opengl5 amd64 5.9.5+dfsg-0ubuntu2.6 [132 kB]\n",
            "Get:89 http://archive.ubuntu.com/ubuntu bionic/universe amd64 libtext-unidecode-perl all 1.30-1 [99.0 kB]\n",
            "Get:90 http://archive.ubuntu.com/ubuntu bionic/main amd64 libxml-namespacesupport-perl all 1.12-1 [13.2 kB]\n",
            "Get:91 http://archive.ubuntu.com/ubuntu bionic/main amd64 libxml-sax-base-perl all 1.09-1 [18.8 kB]\n",
            "Get:92 http://archive.ubuntu.com/ubuntu bionic/main amd64 libxml-sax-perl all 0.99+dfsg-2ubuntu1 [64.6 kB]\n",
            "Get:93 http://archive.ubuntu.com/ubuntu bionic/main amd64 libxml-libxml-perl amd64 2.0128+dfsg-5 [316 kB]\n",
            "Get:94 http://archive.ubuntu.com/ubuntu bionic/main amd64 libxml-parser-perl amd64 2.44-2build3 [199 kB]\n",
            "Get:95 http://archive.ubuntu.com/ubuntu bionic/main amd64 libxml-sax-expat-perl all 0.40-2 [11.5 kB]\n",
            "Get:96 http://archive.ubuntu.com/ubuntu bionic/main amd64 notification-daemon amd64 3.20.0-3 [36.9 kB]\n",
            "Get:97 http://archive.ubuntu.com/ubuntu bionic/universe amd64 pstoedit amd64 3.70-5 [102 kB]\n",
            "Get:98 http://archive.ubuntu.com/ubuntu bionic/universe amd64 texinfo amd64 6.5.0.dfsg.1-2 [752 kB]\n",
            "Get:99 http://archive.ubuntu.com/ubuntu bionic/main amd64 libauthen-sasl-perl all 2.1600-1 [48.7 kB]\n",
            "Get:100 http://archive.ubuntu.com/ubuntu bionic-updates/main amd64 libosmesa6 amd64 20.0.8-0ubuntu1~18.04.1 [2,641 kB]\n",
            "Get:101 http://archive.ubuntu.com/ubuntu bionic/universe amd64 octave-common all 4.2.2-1ubuntu1 [1,444 kB]\n",
            "Get:102 http://archive.ubuntu.com/ubuntu bionic/universe amd64 octave amd64 4.2.2-1ubuntu1 [1,583 kB]\n",
            "Get:103 http://archive.ubuntu.com/ubuntu bionic/universe amd64 octave-doc all 4.2.2-1ubuntu1 [6,836 kB]\n",
            "Fetched 53.6 MB in 3s (17.2 MB/s)\n",
            "Extracting templates from packages: 100%\n",
            "Selecting previously unselected package install-info.\n",
            "(Reading database ... 124016 files and directories currently installed.)\n",
            "Preparing to unpack .../install-info_6.5.0.dfsg.1-2_amd64.deb ...\n",
            "Unpacking install-info (6.5.0.dfsg.1-2) ...\n",
            "Setting up install-info (6.5.0.dfsg.1-2) ...\n",
            "Selecting previously unselected package fonts-droid-fallback.\n",
            "(Reading database ... 124029 files and directories currently installed.)\n",
            "Preparing to unpack .../000-fonts-droid-fallback_1%3a6.0.1r16-1.1_all.deb ...\n",
            "Unpacking fonts-droid-fallback (1:6.0.1r16-1.1) ...\n",
            "Selecting previously unselected package liblqr-1-0:amd64.\n",
            "Preparing to unpack .../001-liblqr-1-0_0.4.2-2.1_amd64.deb ...\n",
            "Unpacking liblqr-1-0:amd64 (0.4.2-2.1) ...\n",
            "Selecting previously unselected package imagemagick-6-common.\n",
            "Preparing to unpack .../002-imagemagick-6-common_8%3a6.9.7.4+dfsg-16ubuntu6.14_all.deb ...\n",
            "Unpacking imagemagick-6-common (8:6.9.7.4+dfsg-16ubuntu6.14) ...\n",
            "Selecting previously unselected package libmagickcore-6.q16-3:amd64.\n",
            "Preparing to unpack .../003-libmagickcore-6.q16-3_8%3a6.9.7.4+dfsg-16ubuntu6.14_amd64.deb ...\n",
            "Unpacking libmagickcore-6.q16-3:amd64 (8:6.9.7.4+dfsg-16ubuntu6.14) ...\n",
            "Selecting previously unselected package libmagickwand-6.q16-3:amd64.\n",
            "Preparing to unpack .../004-libmagickwand-6.q16-3_8%3a6.9.7.4+dfsg-16ubuntu6.14_amd64.deb ...\n",
            "Unpacking libmagickwand-6.q16-3:amd64 (8:6.9.7.4+dfsg-16ubuntu6.14) ...\n",
            "Selecting previously unselected package libqt5svg5:amd64.\n",
            "Preparing to unpack .../005-libqt5svg5_5.9.5-0ubuntu1.1_amd64.deb ...\n",
            "Unpacking libqt5svg5:amd64 (5.9.5-0ubuntu1.1) ...\n",
            "Selecting previously unselected package poppler-data.\n",
            "Preparing to unpack .../006-poppler-data_0.4.8-2_all.deb ...\n",
            "Unpacking poppler-data (0.4.8-2) ...\n",
            "Selecting previously unselected package tex-common.\n",
            "Preparing to unpack .../007-tex-common_6.09_all.deb ...\n",
            "Unpacking tex-common (6.09) ...\n",
            "Selecting previously unselected package netbase.\n",
            "Preparing to unpack .../008-netbase_5.4_all.deb ...\n",
            "Unpacking netbase (5.4) ...\n",
            "Selecting previously unselected package info.\n",
            "Preparing to unpack .../009-info_6.5.0.dfsg.1-2_amd64.deb ...\n",
            "Unpacking info (6.5.0.dfsg.1-2) ...\n",
            "Selecting previously unselected package libcupsimage2:amd64.\n",
            "Preparing to unpack .../010-libcupsimage2_2.2.7-1ubuntu2.9_amd64.deb ...\n",
            "Unpacking libcupsimage2:amd64 (2.2.7-1ubuntu2.9) ...\n",
            "Selecting previously unselected package libijs-0.35:amd64.\n",
            "Preparing to unpack .../011-libijs-0.35_0.35-13_amd64.deb ...\n",
            "Unpacking libijs-0.35:amd64 (0.35-13) ...\n",
            "Selecting previously unselected package libjbig2dec0:amd64.\n",
            "Preparing to unpack .../012-libjbig2dec0_0.13-6_amd64.deb ...\n",
            "Unpacking libjbig2dec0:amd64 (0.13-6) ...\n",
            "Selecting previously unselected package libgs9-common.\n",
            "Preparing to unpack .../013-libgs9-common_9.26~dfsg+0-0ubuntu0.18.04.17_all.deb ...\n",
            "Unpacking libgs9-common (9.26~dfsg+0-0ubuntu0.18.04.17) ...\n",
            "Selecting previously unselected package libgs9:amd64.\n",
            "Preparing to unpack .../014-libgs9_9.26~dfsg+0-0ubuntu0.18.04.17_amd64.deb ...\n",
            "Unpacking libgs9:amd64 (9.26~dfsg+0-0ubuntu0.18.04.17) ...\n",
            "Selecting previously unselected package ghostscript.\n",
            "Preparing to unpack .../015-ghostscript_9.26~dfsg+0-0ubuntu0.18.04.17_amd64.deb ...\n",
            "Unpacking ghostscript (9.26~dfsg+0-0ubuntu0.18.04.17) ...\n",
            "Selecting previously unselected package epstool.\n",
            "Preparing to unpack .../016-epstool_3.08+repack-7_amd64.deb ...\n",
            "Unpacking epstool (3.08+repack-7) ...\n",
            "Selecting previously unselected package fonts-noto-mono.\n",
            "Preparing to unpack .../017-fonts-noto-mono_20171026-2_all.deb ...\n",
            "Unpacking fonts-noto-mono (20171026-2) ...\n",
            "Selecting previously unselected package aglfn.\n",
            "Preparing to unpack .../018-aglfn_1.7-3_all.deb ...\n",
            "Unpacking aglfn (1.7-3) ...\n",
            "Selecting previously unselected package gnuplot-data.\n",
            "Preparing to unpack .../019-gnuplot-data_5.2.2+dfsg1-2ubuntu1_all.deb ...\n",
            "Unpacking gnuplot-data (5.2.2+dfsg1-2ubuntu1) ...\n",
            "Selecting previously unselected package liblua5.3-0:amd64.\n",
            "Preparing to unpack .../020-liblua5.3-0_5.3.3-1ubuntu0.18.04.1_amd64.deb ...\n",
            "Unpacking liblua5.3-0:amd64 (5.3.3-1ubuntu0.18.04.1) ...\n",
            "Selecting previously unselected package libwxbase3.0-0v5:amd64.\n",
            "Preparing to unpack .../021-libwxbase3.0-0v5_3.0.4+dfsg-3_amd64.deb ...\n",
            "Unpacking libwxbase3.0-0v5:amd64 (3.0.4+dfsg-3) ...\n",
            "Selecting previously unselected package libgtk2.0-common.\n",
            "Preparing to unpack .../022-libgtk2.0-common_2.24.32-1ubuntu1_all.deb ...\n",
            "Unpacking libgtk2.0-common (2.24.32-1ubuntu1) ...\n",
            "Selecting previously unselected package libgtk2.0-0:amd64.\n",
            "Preparing to unpack .../023-libgtk2.0-0_2.24.32-1ubuntu1_amd64.deb ...\n",
            "Unpacking libgtk2.0-0:amd64 (2.24.32-1ubuntu1) ...\n",
            "Selecting previously unselected package libnotify4:amd64.\n",
            "Preparing to unpack .../024-libnotify4_0.7.7-3ubuntu0.18.04.1_amd64.deb ...\n",
            "Unpacking libnotify4:amd64 (0.7.7-3ubuntu0.18.04.1) ...\n",
            "Selecting previously unselected package libwxgtk3.0-0v5:amd64.\n",
            "Preparing to unpack .../025-libwxgtk3.0-0v5_3.0.4+dfsg-3_amd64.deb ...\n",
            "Unpacking libwxgtk3.0-0v5:amd64 (3.0.4+dfsg-3) ...\n",
            "Selecting previously unselected package gnuplot-qt.\n",
            "Preparing to unpack .../026-gnuplot-qt_5.2.2+dfsg1-2ubuntu1_amd64.deb ...\n",
            "Unpacking gnuplot-qt (5.2.2+dfsg1-2ubuntu1) ...\n",
            "Selecting previously unselected package gsfonts.\n",
            "Preparing to unpack .../027-gsfonts_1%3a8.11+urwcyr1.0.7~pre44-4.4_all.deb ...\n",
            "Unpacking gsfonts (1:8.11+urwcyr1.0.7~pre44-4.4) ...\n",
            "Selecting previously unselected package libsuitesparseconfig5:amd64.\n",
            "Preparing to unpack .../028-libsuitesparseconfig5_1%3a5.1.2-2_amd64.deb ...\n",
            "Unpacking libsuitesparseconfig5:amd64 (1:5.1.2-2) ...\n",
            "Selecting previously unselected package libamd2:amd64.\n",
            "Preparing to unpack .../029-libamd2_1%3a5.1.2-2_amd64.deb ...\n",
            "Unpacking libamd2:amd64 (1:5.1.2-2) ...\n",
            "Selecting previously unselected package libcamd2:amd64.\n",
            "Preparing to unpack .../030-libcamd2_1%3a5.1.2-2_amd64.deb ...\n",
            "Unpacking libcamd2:amd64 (1:5.1.2-2) ...\n",
            "Selecting previously unselected package libccolamd2:amd64.\n",
            "Preparing to unpack .../031-libccolamd2_1%3a5.1.2-2_amd64.deb ...\n",
            "Unpacking libccolamd2:amd64 (1:5.1.2-2) ...\n",
            "Selecting previously unselected package libcolamd2:amd64.\n",
            "Preparing to unpack .../032-libcolamd2_1%3a5.1.2-2_amd64.deb ...\n",
            "Unpacking libcolamd2:amd64 (1:5.1.2-2) ...\n",
            "Selecting previously unselected package libmetis5:amd64.\n",
            "Preparing to unpack .../033-libmetis5_5.1.0.dfsg-5_amd64.deb ...\n",
            "Unpacking libmetis5:amd64 (5.1.0.dfsg-5) ...\n",
            "Selecting previously unselected package libcholmod3:amd64.\n",
            "Preparing to unpack .../034-libcholmod3_1%3a5.1.2-2_amd64.deb ...\n",
            "Unpacking libcholmod3:amd64 (1:5.1.2-2) ...\n",
            "Selecting previously unselected package libcupsfilters1:amd64.\n",
            "Preparing to unpack .../035-libcupsfilters1_1.20.2-0ubuntu3.1_amd64.deb ...\n",
            "Unpacking libcupsfilters1:amd64 (1.20.2-0ubuntu3.1) ...\n",
            "Selecting previously unselected package libcxsparse3:amd64.\n",
            "Preparing to unpack .../036-libcxsparse3_1%3a5.1.2-2_amd64.deb ...\n",
            "Unpacking libcxsparse3:amd64 (1:5.1.2-2) ...\n",
            "Selecting previously unselected package libdata-dump-perl.\n",
            "Preparing to unpack .../037-libdata-dump-perl_1.23-1_all.deb ...\n",
            "Unpacking libdata-dump-perl (1.23-1) ...\n",
            "Selecting previously unselected package libemf1:amd64.\n",
            "Preparing to unpack .../038-libemf1_1.0.9+git.10.3231442-1_amd64.deb ...\n",
            "Unpacking libemf1:amd64 (1.0.9+git.10.3231442-1) ...\n",
            "Selecting previously unselected package libencode-locale-perl.\n",
            "Preparing to unpack .../039-libencode-locale-perl_1.05-1_all.deb ...\n",
            "Unpacking libencode-locale-perl (1.05-1) ...\n",
            "Selecting previously unselected package libfftw3-single3:amd64.\n",
            "Preparing to unpack .../040-libfftw3-single3_3.3.7-1_amd64.deb ...\n",
            "Unpacking libfftw3-single3:amd64 (3.3.7-1) ...\n",
            "Selecting previously unselected package libtimedate-perl.\n",
            "Preparing to unpack .../041-libtimedate-perl_2.3000-2_all.deb ...\n",
            "Unpacking libtimedate-perl (2.3000-2) ...\n",
            "Selecting previously unselected package libhttp-date-perl.\n",
            "Preparing to unpack .../042-libhttp-date-perl_6.02-1_all.deb ...\n",
            "Unpacking libhttp-date-perl (6.02-1) ...\n",
            "Selecting previously unselected package libfile-listing-perl.\n",
            "Preparing to unpack .../043-libfile-listing-perl_6.04-1_all.deb ...\n",
            "Unpacking libfile-listing-perl (6.04-1) ...\n",
            "Selecting previously unselected package libfltk1.3:amd64.\n",
            "Preparing to unpack .../044-libfltk1.3_1.3.4-6_amd64.deb ...\n",
            "Unpacking libfltk1.3:amd64 (1.3.4-6) ...\n",
            "Selecting previously unselected package libfltk-gl1.3:amd64.\n",
            "Preparing to unpack .../045-libfltk-gl1.3_1.3.4-6_amd64.deb ...\n",
            "Unpacking libfltk-gl1.3:amd64 (1.3.4-6) ...\n",
            "Selecting previously unselected package libfont-afm-perl.\n",
            "Preparing to unpack .../046-libfont-afm-perl_1.20-2_all.deb ...\n",
            "Unpacking libfont-afm-perl (1.20-2) ...\n",
            "Selecting previously unselected package libgail18:amd64.\n",
            "Preparing to unpack .../047-libgail18_2.24.32-1ubuntu1_amd64.deb ...\n",
            "Unpacking libgail18:amd64 (2.24.32-1ubuntu1) ...\n",
            "Selecting previously unselected package libgail-common:amd64.\n",
            "Preparing to unpack .../048-libgail-common_2.24.32-1ubuntu1_amd64.deb ...\n",
            "Unpacking libgail-common:amd64 (2.24.32-1ubuntu1) ...\n",
            "Selecting previously unselected package libglpk40:amd64.\n",
            "Preparing to unpack .../049-libglpk40_4.65-1_amd64.deb ...\n",
            "Unpacking libglpk40:amd64 (4.65-1) ...\n",
            "Selecting previously unselected package libwmf0.2-7:amd64.\n",
            "Preparing to unpack .../050-libwmf0.2-7_0.2.8.4-12_amd64.deb ...\n",
            "Unpacking libwmf0.2-7:amd64 (0.2.8.4-12) ...\n",
            "Selecting previously unselected package libgraphicsmagick-q16-3.\n",
            "Preparing to unpack .../051-libgraphicsmagick-q16-3_1.3.28-2ubuntu0.1_amd64.deb ...\n",
            "Unpacking libgraphicsmagick-q16-3 (1.3.28-2ubuntu0.1) ...\n",
            "Selecting previously unselected package libgraphicsmagick++-q16-12.\n",
            "Preparing to unpack .../052-libgraphicsmagick++-q16-12_1.3.28-2ubuntu0.1_amd64.deb ...\n",
            "Unpacking libgraphicsmagick++-q16-12 (1.3.28-2ubuntu0.1) ...\n",
            "Selecting previously unselected package libgtk2.0-bin.\n",
            "Preparing to unpack .../053-libgtk2.0-bin_2.24.32-1ubuntu1_amd64.deb ...\n",
            "Unpacking libgtk2.0-bin (2.24.32-1ubuntu1) ...\n",
            "Selecting previously unselected package libhtml-tagset-perl.\n",
            "Preparing to unpack .../054-libhtml-tagset-perl_3.20-3_all.deb ...\n",
            "Unpacking libhtml-tagset-perl (3.20-3) ...\n",
            "Selecting previously unselected package liburi-perl.\n",
            "Preparing to unpack .../055-liburi-perl_1.73-1_all.deb ...\n",
            "Unpacking liburi-perl (1.73-1) ...\n",
            "Selecting previously unselected package libhtml-parser-perl.\n",
            "Preparing to unpack .../056-libhtml-parser-perl_3.72-3build1_amd64.deb ...\n",
            "Unpacking libhtml-parser-perl (3.72-3build1) ...\n",
            "Selecting previously unselected package libio-html-perl.\n",
            "Preparing to unpack .../057-libio-html-perl_1.001-1_all.deb ...\n",
            "Unpacking libio-html-perl (1.001-1) ...\n",
            "Selecting previously unselected package liblwp-mediatypes-perl.\n",
            "Preparing to unpack .../058-liblwp-mediatypes-perl_6.02-1_all.deb ...\n",
            "Unpacking liblwp-mediatypes-perl (6.02-1) ...\n",
            "Selecting previously unselected package libhttp-message-perl.\n",
            "Preparing to unpack .../059-libhttp-message-perl_6.14-1_all.deb ...\n",
            "Unpacking libhttp-message-perl (6.14-1) ...\n",
            "Selecting previously unselected package libhtml-form-perl.\n",
            "Preparing to unpack .../060-libhtml-form-perl_6.03-1_all.deb ...\n",
            "Unpacking libhtml-form-perl (6.03-1) ...\n",
            "Selecting previously unselected package libhtml-tree-perl.\n",
            "Preparing to unpack .../061-libhtml-tree-perl_5.07-1_all.deb ...\n",
            "Unpacking libhtml-tree-perl (5.07-1) ...\n",
            "Selecting previously unselected package libhtml-format-perl.\n",
            "Preparing to unpack .../062-libhtml-format-perl_2.12-1_all.deb ...\n",
            "Unpacking libhtml-format-perl (2.12-1) ...\n",
            "Selecting previously unselected package libhttp-cookies-perl.\n",
            "Preparing to unpack .../063-libhttp-cookies-perl_6.04-1_all.deb ...\n",
            "Unpacking libhttp-cookies-perl (6.04-1) ...\n",
            "Selecting previously unselected package libhttp-daemon-perl.\n",
            "Preparing to unpack .../064-libhttp-daemon-perl_6.01-1ubuntu0.1_all.deb ...\n",
            "Unpacking libhttp-daemon-perl (6.01-1ubuntu0.1) ...\n",
            "Selecting previously unselected package libhttp-negotiate-perl.\n",
            "Preparing to unpack .../065-libhttp-negotiate-perl_6.00-2_all.deb ...\n",
            "Unpacking libhttp-negotiate-perl (6.00-2) ...\n",
            "Selecting previously unselected package perl-openssl-defaults:amd64.\n",
            "Preparing to unpack .../066-perl-openssl-defaults_3build1_amd64.deb ...\n",
            "Unpacking perl-openssl-defaults:amd64 (3build1) ...\n",
            "Selecting previously unselected package libnet-ssleay-perl.\n",
            "Preparing to unpack .../067-libnet-ssleay-perl_1.84-1ubuntu0.2_amd64.deb ...\n",
            "Unpacking libnet-ssleay-perl (1.84-1ubuntu0.2) ...\n",
            "Selecting previously unselected package libio-socket-ssl-perl.\n",
            "Preparing to unpack .../068-libio-socket-ssl-perl_2.060-3~ubuntu18.04.1_all.deb ...\n",
            "Unpacking libio-socket-ssl-perl (2.060-3~ubuntu18.04.1) ...\n",
            "Selecting previously unselected package libnet-http-perl.\n",
            "Preparing to unpack .../069-libnet-http-perl_6.17-1_all.deb ...\n",
            "Unpacking libnet-http-perl (6.17-1) ...\n",
            "Selecting previously unselected package libtry-tiny-perl.\n",
            "Preparing to unpack .../070-libtry-tiny-perl_0.30-1_all.deb ...\n",
            "Unpacking libtry-tiny-perl (0.30-1) ...\n",
            "Selecting previously unselected package libwww-robotrules-perl.\n",
            "Preparing to unpack .../071-libwww-robotrules-perl_6.01-1_all.deb ...\n",
            "Unpacking libwww-robotrules-perl (6.01-1) ...\n",
            "Selecting previously unselected package libwww-perl.\n",
            "Preparing to unpack .../072-libwww-perl_6.31-1ubuntu0.1_all.deb ...\n",
            "Unpacking libwww-perl (6.31-1ubuntu0.1) ...\n",
            "Selecting previously unselected package liblwp-protocol-https-perl.\n",
            "Preparing to unpack .../073-liblwp-protocol-https-perl_6.07-2_all.deb ...\n",
            "Unpacking liblwp-protocol-https-perl (6.07-2) ...\n",
            "Selecting previously unselected package libmagick++-6.q16-7:amd64.\n",
            "Preparing to unpack .../074-libmagick++-6.q16-7_8%3a6.9.7.4+dfsg-16ubuntu6.14_amd64.deb ...\n",
            "Unpacking libmagick++-6.q16-7:amd64 (8:6.9.7.4+dfsg-16ubuntu6.14) ...\n",
            "Selecting previously unselected package libnet-smtp-ssl-perl.\n",
            "Preparing to unpack .../075-libnet-smtp-ssl-perl_1.04-1_all.deb ...\n",
            "Unpacking libnet-smtp-ssl-perl (1.04-1) ...\n",
            "Selecting previously unselected package libmailtools-perl.\n",
            "Preparing to unpack .../076-libmailtools-perl_2.18-1_all.deb ...\n",
            "Unpacking libmailtools-perl (2.18-1) ...\n",
            "Selecting previously unselected package libqrupdate1:amd64.\n",
            "Preparing to unpack .../077-libqrupdate1_1.1.2-2build1_amd64.deb ...\n",
            "Unpacking libqrupdate1:amd64 (1.1.2-2build1) ...\n",
            "Selecting previously unselected package libumfpack5:amd64.\n",
            "Preparing to unpack .../078-libumfpack5_1%3a5.1.2-2_amd64.deb ...\n",
            "Unpacking libumfpack5:amd64 (1:5.1.2-2) ...\n",
            "Selecting previously unselected package liboctave4:amd64.\n",
            "Preparing to unpack .../079-liboctave4_4.2.2-1ubuntu1_amd64.deb ...\n",
            "Unpacking liboctave4:amd64 (4.2.2-1ubuntu1) ...\n",
            "Selecting previously unselected package libplot2c2:amd64.\n",
            "Preparing to unpack .../080-libplot2c2_2.6-9_amd64.deb ...\n",
            "Unpacking libplot2c2:amd64 (2.6-9) ...\n",
            "Selecting previously unselected package libportaudio2:amd64.\n",
            "Preparing to unpack .../081-libportaudio2_19.6.0-1_amd64.deb ...\n",
            "Unpacking libportaudio2:amd64 (19.6.0-1) ...\n",
            "Selecting previously unselected package libzip4:amd64.\n",
            "Preparing to unpack .../082-libzip4_1.1.2-1.1_amd64.deb ...\n",
            "Unpacking libzip4:amd64 (1.1.2-1.1) ...\n",
            "Selecting previously unselected package libpstoedit0c2a.\n",
            "Preparing to unpack .../083-libpstoedit0c2a_3.70-5_amd64.deb ...\n",
            "Unpacking libpstoedit0c2a (3.70-5) ...\n",
            "Selecting previously unselected package libqscintilla2-qt5-l10n.\n",
            "Preparing to unpack .../084-libqscintilla2-qt5-l10n_2.10.2+dfsg-4_all.deb ...\n",
            "Unpacking libqscintilla2-qt5-l10n (2.10.2+dfsg-4) ...\n",
            "Selecting previously unselected package libqscintilla2-qt5-13.\n",
            "Preparing to unpack .../085-libqscintilla2-qt5-13_2.10.2+dfsg-4_amd64.deb ...\n",
            "Unpacking libqscintilla2-qt5-13 (2.10.2+dfsg-4) ...\n",
            "Selecting previously unselected package libqt5opengl5:amd64.\n",
            "Preparing to unpack .../086-libqt5opengl5_5.9.5+dfsg-0ubuntu2.6_amd64.deb ...\n",
            "Unpacking libqt5opengl5:amd64 (5.9.5+dfsg-0ubuntu2.6) ...\n",
            "Selecting previously unselected package libtext-unidecode-perl.\n",
            "Preparing to unpack .../087-libtext-unidecode-perl_1.30-1_all.deb ...\n",
            "Unpacking libtext-unidecode-perl (1.30-1) ...\n",
            "Selecting previously unselected package libxml-namespacesupport-perl.\n",
            "Preparing to unpack .../088-libxml-namespacesupport-perl_1.12-1_all.deb ...\n",
            "Unpacking libxml-namespacesupport-perl (1.12-1) ...\n",
            "Selecting previously unselected package libxml-sax-base-perl.\n",
            "Preparing to unpack .../089-libxml-sax-base-perl_1.09-1_all.deb ...\n",
            "Unpacking libxml-sax-base-perl (1.09-1) ...\n",
            "Selecting previously unselected package libxml-sax-perl.\n",
            "Preparing to unpack .../090-libxml-sax-perl_0.99+dfsg-2ubuntu1_all.deb ...\n",
            "Unpacking libxml-sax-perl (0.99+dfsg-2ubuntu1) ...\n",
            "Selecting previously unselected package libxml-libxml-perl.\n",
            "Preparing to unpack .../091-libxml-libxml-perl_2.0128+dfsg-5_amd64.deb ...\n",
            "Unpacking libxml-libxml-perl (2.0128+dfsg-5) ...\n",
            "Selecting previously unselected package libxml-parser-perl.\n",
            "Preparing to unpack .../092-libxml-parser-perl_2.44-2build3_amd64.deb ...\n",
            "Unpacking libxml-parser-perl (2.44-2build3) ...\n",
            "Selecting previously unselected package libxml-sax-expat-perl.\n",
            "Preparing to unpack .../093-libxml-sax-expat-perl_0.40-2_all.deb ...\n",
            "Unpacking libxml-sax-expat-perl (0.40-2) ...\n",
            "Selecting previously unselected package notification-daemon.\n",
            "Preparing to unpack .../094-notification-daemon_3.20.0-3_amd64.deb ...\n",
            "Unpacking notification-daemon (3.20.0-3) ...\n",
            "Selecting previously unselected package pstoedit.\n",
            "Preparing to unpack .../095-pstoedit_3.70-5_amd64.deb ...\n",
            "Unpacking pstoedit (3.70-5) ...\n",
            "Selecting previously unselected package texinfo.\n",
            "Preparing to unpack .../096-texinfo_6.5.0.dfsg.1-2_amd64.deb ...\n",
            "Unpacking texinfo (6.5.0.dfsg.1-2) ...\n",
            "Selecting previously unselected package libauthen-sasl-perl.\n",
            "Preparing to unpack .../097-libauthen-sasl-perl_2.1600-1_all.deb ...\n",
            "Unpacking libauthen-sasl-perl (2.1600-1) ...\n",
            "Selecting previously unselected package libosmesa6:amd64.\n",
            "Preparing to unpack .../098-libosmesa6_20.0.8-0ubuntu1~18.04.1_amd64.deb ...\n",
            "Unpacking libosmesa6:amd64 (20.0.8-0ubuntu1~18.04.1) ...\n",
            "Selecting previously unselected package octave-common.\n",
            "Preparing to unpack .../099-octave-common_4.2.2-1ubuntu1_all.deb ...\n",
            "Unpacking octave-common (4.2.2-1ubuntu1) ...\n",
            "Selecting previously unselected package octave.\n",
            "Preparing to unpack .../100-octave_4.2.2-1ubuntu1_amd64.deb ...\n",
            "Unpacking octave (4.2.2-1ubuntu1) ...\n",
            "Selecting previously unselected package octave-doc.\n",
            "Preparing to unpack .../101-octave-doc_4.2.2-1ubuntu1_all.deb ...\n",
            "Unpacking octave-doc (4.2.2-1ubuntu1) ...\n",
            "Setting up libgs9-common (9.26~dfsg+0-0ubuntu0.18.04.17) ...\n",
            "Setting up libhtml-tagset-perl (3.20-3) ...\n",
            "Setting up imagemagick-6-common (8:6.9.7.4+dfsg-16ubuntu6.14) ...\n",
            "Setting up libnotify4:amd64 (0.7.7-3ubuntu0.18.04.1) ...\n",
            "Setting up libcxsparse3:amd64 (1:5.1.2-2) ...\n",
            "Setting up libtry-tiny-perl (0.30-1) ...\n",
            "Setting up fonts-droid-fallback (1:6.0.1r16-1.1) ...\n",
            "Setting up libfont-afm-perl (1.20-2) ...\n",
            "Setting up libgtk2.0-common (2.24.32-1ubuntu1) ...\n",
            "Setting up info (6.5.0.dfsg.1-2) ...\n",
            "update-alternatives: using /usr/bin/info to provide /usr/bin/infobrowser (infobrowser) in auto mode\n",
            "Setting up libportaudio2:amd64 (19.6.0-1) ...\n",
            "Setting up tex-common (6.09) ...\n",
            "update-language: texlive-base not installed and configured, doing nothing!\n",
            "Setting up libxml-namespacesupport-perl (1.12-1) ...\n",
            "Setting up gsfonts (1:8.11+urwcyr1.0.7~pre44-4.4) ...\n",
            "Setting up libencode-locale-perl (1.05-1) ...\n",
            "Setting up libtimedate-perl (2.3000-2) ...\n",
            "Setting up poppler-data (0.4.8-2) ...\n",
            "Setting up perl-openssl-defaults:amd64 (3build1) ...\n",
            "Setting up libosmesa6:amd64 (20.0.8-0ubuntu1~18.04.1) ...\n",
            "Setting up libio-html-perl (1.001-1) ...\n",
            "Setting up libtext-unidecode-perl (1.30-1) ...\n",
            "Setting up libqt5opengl5:amd64 (5.9.5+dfsg-0ubuntu2.6) ...\n",
            "Setting up fonts-noto-mono (20171026-2) ...\n",
            "Setting up libwxbase3.0-0v5:amd64 (3.0.4+dfsg-3) ...\n",
            "Setting up libqrupdate1:amd64 (1.1.2-2build1) ...\n",
            "Setting up libcupsfilters1:amd64 (1.20.2-0ubuntu3.1) ...\n",
            "Setting up libzip4:amd64 (1.1.2-1.1) ...\n",
            "Setting up libcupsimage2:amd64 (2.2.7-1ubuntu2.9) ...\n",
            "Setting up libxml-sax-base-perl (1.09-1) ...\n",
            "Setting up liblqr-1-0:amd64 (0.4.2-2.1) ...\n",
            "Setting up libjbig2dec0:amd64 (0.13-6) ...\n",
            "Setting up liblwp-mediatypes-perl (6.02-1) ...\n",
            "Setting up liburi-perl (1.73-1) ...\n",
            "Setting up libqt5svg5:amd64 (5.9.5-0ubuntu1.1) ...\n",
            "Setting up libsuitesparseconfig5:amd64 (1:5.1.2-2) ...\n",
            "Setting up libmetis5:amd64 (5.1.0.dfsg-5) ...\n",
            "Setting up libdata-dump-perl (1.23-1) ...\n",
            "Setting up libhtml-parser-perl (3.72-3build1) ...\n",
            "Setting up libijs-0.35:amd64 (0.35-13) ...\n",
            "Setting up libcolamd2:amd64 (1:5.1.2-2) ...\n",
            "Setting up libfltk1.3:amd64 (1.3.4-6) ...\n",
            "Setting up libccolamd2:amd64 (1:5.1.2-2) ...\n",
            "Setting up libfftw3-single3:amd64 (3.3.7-1) ...\n",
            "Setting up octave-common (4.2.2-1ubuntu1) ...\n",
            "Setting up libnet-http-perl (6.17-1) ...\n",
            "Setting up libqscintilla2-qt5-l10n (2.10.2+dfsg-4) ...\n",
            "Setting up libemf1:amd64 (1.0.9+git.10.3231442-1) ...\n",
            "Setting up aglfn (1.7-3) ...\n",
            "Setting up libplot2c2:amd64 (2.6-9) ...\n",
            "Setting up liblua5.3-0:amd64 (5.3.3-1ubuntu0.18.04.1) ...\n",
            "Setting up libgs9:amd64 (9.26~dfsg+0-0ubuntu0.18.04.17) ...\n",
            "Setting up libwmf0.2-7:amd64 (0.2.8.4-12) ...\n",
            "Setting up libwww-robotrules-perl (6.01-1) ...\n",
            "Setting up libauthen-sasl-perl (2.1600-1) ...\n",
            "Setting up notification-daemon (3.20.0-3) ...\n",
            "Setting up octave-doc (4.2.2-1ubuntu1) ...\n",
            "Setting up netbase (5.4) ...\n",
            "Setting up libxml-sax-perl (0.99+dfsg-2ubuntu1) ...\n",
            "update-perl-sax-parsers: Registering Perl SAX parser XML::SAX::PurePerl with priority 10...\n",
            "update-perl-sax-parsers: Updating overall Perl SAX parser modules info file...\n",
            "\n",
            "Creating config file /etc/perl/XML/SAX/ParserDetails.ini with new version\n",
            "Setting up libgtk2.0-0:amd64 (2.24.32-1ubuntu1) ...\n",
            "Setting up libhttp-date-perl (6.02-1) ...\n",
            "Setting up libmagickcore-6.q16-3:amd64 (8:6.9.7.4+dfsg-16ubuntu6.14) ...\n",
            "Setting up libgail18:amd64 (2.24.32-1ubuntu1) ...\n",
            "Setting up libnet-ssleay-perl (1.84-1ubuntu0.2) ...\n",
            "Setting up libfltk-gl1.3:amd64 (1.3.4-6) ...\n",
            "Setting up libcamd2:amd64 (1:5.1.2-2) ...\n",
            "Setting up libqscintilla2-qt5-13 (2.10.2+dfsg-4) ...\n",
            "Setting up libwxgtk3.0-0v5:amd64 (3.0.4+dfsg-3) ...\n",
            "Setting up libgail-common:amd64 (2.24.32-1ubuntu1) ...\n",
            "Setting up ghostscript (9.26~dfsg+0-0ubuntu0.18.04.17) ...\n",
            "Setting up gnuplot-data (5.2.2+dfsg1-2ubuntu1) ...\n",
            "Setting up libio-socket-ssl-perl (2.060-3~ubuntu18.04.1) ...\n",
            "Setting up libgraphicsmagick-q16-3 (1.3.28-2ubuntu0.1) ...\n",
            "Setting up libhtml-tree-perl (5.07-1) ...\n",
            "Setting up libamd2:amd64 (1:5.1.2-2) ...\n",
            "Setting up libmagickwand-6.q16-3:amd64 (8:6.9.7.4+dfsg-16ubuntu6.14) ...\n",
            "Setting up libfile-listing-perl (6.04-1) ...\n",
            "Setting up libhttp-message-perl (6.14-1) ...\n",
            "Setting up libxml-libxml-perl (2.0128+dfsg-5) ...\n",
            "update-perl-sax-parsers: Registering Perl SAX parser XML::LibXML::SAX::Parser with priority 50...\n",
            "update-perl-sax-parsers: Registering Perl SAX parser XML::LibXML::SAX with priority 50...\n",
            "update-perl-sax-parsers: Updating overall Perl SAX parser modules info file...\n",
            "Replacing config file /etc/perl/XML/SAX/ParserDetails.ini with new version\n",
            "Setting up libhttp-negotiate-perl (6.00-2) ...\n",
            "Setting up libgtk2.0-bin (2.24.32-1ubuntu1) ...\n",
            "Setting up libgraphicsmagick++-q16-12 (1.3.28-2ubuntu0.1) ...\n",
            "Setting up libnet-smtp-ssl-perl (1.04-1) ...\n",
            "Setting up libhtml-format-perl (2.12-1) ...\n",
            "Setting up libglpk40:amd64 (4.65-1) ...\n",
            "Setting up libhttp-cookies-perl (6.04-1) ...\n",
            "Setting up gnuplot-qt (5.2.2+dfsg1-2ubuntu1) ...\n",
            "update-alternatives: using /usr/bin/gnuplot-qt to provide /usr/bin/gnuplot (gnuplot) in auto mode\n",
            "Setting up epstool (3.08+repack-7) ...\n",
            "Setting up libhttp-daemon-perl (6.01-1ubuntu0.1) ...\n",
            "Setting up libcholmod3:amd64 (1:5.1.2-2) ...\n",
            "Setting up libmagick++-6.q16-7:amd64 (8:6.9.7.4+dfsg-16ubuntu6.14) ...\n",
            "Setting up libpstoedit0c2a (3.70-5) ...\n",
            "Setting up libhtml-form-perl (6.03-1) ...\n",
            "Setting up texinfo (6.5.0.dfsg.1-2) ...\n",
            "Setting up libmailtools-perl (2.18-1) ...\n",
            "Setting up libumfpack5:amd64 (1:5.1.2-2) ...\n",
            "Setting up pstoedit (3.70-5) ...\n",
            "Setting up liboctave4:amd64 (4.2.2-1ubuntu1) ...\n",
            "Setting up octave (4.2.2-1ubuntu1) ...\n",
            "Setting up liblwp-protocol-https-perl (6.07-2) ...\n",
            "Setting up libwww-perl (6.31-1ubuntu0.1) ...\n",
            "Setting up libxml-parser-perl (2.44-2build3) ...\n",
            "Setting up libxml-sax-expat-perl (0.40-2) ...\n",
            "update-perl-sax-parsers: Registering Perl SAX parser XML::SAX::Expat with priority 50...\n",
            "update-perl-sax-parsers: Updating overall Perl SAX parser modules info file...\n",
            "Replacing config file /etc/perl/XML/SAX/ParserDetails.ini with new version\n",
            "Processing triggers for fontconfig (2.12.6-0ubuntu2) ...\n",
            "Processing triggers for mime-support (3.60ubuntu1) ...\n",
            "Processing triggers for install-info (6.5.0.dfsg.1-2) ...\n",
            "Processing triggers for libc-bin (2.27-3ubuntu1.6) ...\n",
            "Processing triggers for man-db (2.8.3-2ubuntu0.1) ...\n",
            "Processing triggers for hicolor-icon-theme (0.17-2) ...\n"
          ]
        }
      ]
    },
    {
      "cell_type": "code",
      "source": [
        "%%writefile proceso.m\n",
        "empleados = 1000\n",
        "% state vector\n",
        "inicial = [.9; .1]\n",
        "% transition probability matrix\n",
        "A = [.6, .3; .4, .7]\n",
        "[P,D]=eig(A)\n",
        "Dcuadrado = D^2\n",
        "Acuadrado = A^2\n",
        "PxDcuadradoXPinv = P*Dcuadrado*P^-1\n",
        "dia2 = Acuadrado * inicial\n",
        "disp(\"Nº de empleados que se quedan en casa el segundo día: \"), disp(dia2(2)*empleados)\n",
        "D10 = D^10\n",
        "A10 = P*D10*P^-1\n",
        "dia10 = A10 * inicial\n",
        "disp(\"Nº de empleados que se quedan en casa a largo plazo son: \"), disp(dia10(2)*empleados)"
      ],
      "metadata": {
        "colab": {
          "base_uri": "https://localhost:8080/"
        },
        "id": "cpeo9WsUy8vS",
        "outputId": "91e98b53-a6f7-4d57-aa33-da72d65d327b"
      },
      "execution_count": null,
      "outputs": [
        {
          "output_type": "stream",
          "name": "stdout",
          "text": [
            "Writing proceso.m\n"
          ]
        }
      ]
    },
    {
      "cell_type": "code",
      "source": [
        "!octave proceso.m"
      ],
      "metadata": {
        "colab": {
          "base_uri": "https://localhost:8080/"
        },
        "id": "O0XqNV7FzqWb",
        "outputId": "9a863e0e-d421-45a7-d2e7-5f4d2895f4c5"
      },
      "execution_count": null,
      "outputs": [
        {
          "output_type": "stream",
          "name": "stdout",
          "text": [
            "octave: X11 DISPLAY environment variable not set\n",
            "octave: disabling GUI features\n",
            "empleados =  1000\n",
            "inicial =\n",
            "\n",
            "   0.90000\n",
            "   0.10000\n",
            "\n",
            "A =\n",
            "\n",
            "   0.60000   0.30000\n",
            "   0.40000   0.70000\n",
            "\n",
            "P =\n",
            "\n",
            "  -0.70711  -0.60000\n",
            "   0.70711  -0.80000\n",
            "\n",
            "D =\n",
            "\n",
            "Diagonal Matrix\n",
            "\n",
            "   0.30000         0\n",
            "         0   1.00000\n",
            "\n",
            "Dcuadrado =\n",
            "\n",
            "Diagonal Matrix\n",
            "\n",
            "   0.090000          0\n",
            "          0   1.000000\n",
            "\n",
            "Acuadrado =\n",
            "\n",
            "   0.48000   0.39000\n",
            "   0.52000   0.61000\n",
            "\n",
            "PxDcuadradoXPinv =\n",
            "\n",
            "   0.48000   0.39000\n",
            "   0.52000   0.61000\n",
            "\n",
            "dia2 =\n",
            "\n",
            "   0.47100\n",
            "   0.52900\n",
            "\n",
            "Nº de empleados que se quedan en casa el segundo día: \n",
            " 529\n",
            "D10 =\n",
            "\n",
            "Diagonal Matrix\n",
            "\n",
            "   5.9049e-06            0\n",
            "            0   1.0000e+00\n",
            "\n",
            "A10 =\n",
            "\n",
            "   0.42857   0.42857\n",
            "   0.57143   0.57143\n",
            "\n",
            "dia10 =\n",
            "\n",
            "   0.42857\n",
            "   0.57143\n",
            "\n",
            "Nº de empleados que se quedan en casa a largo plazo son: \n",
            " 571.43\n"
          ]
        }
      ]
    },
    {
      "cell_type": "markdown",
      "source": [
        "## CAPTURA DE **MI ARCHIVO DE EXCEL** CON LA RESOLUCIÓN DEL PROBLEMA:\n",
        "(Mi archivo correspondiente a este ejercicio también lo he subido a la tarea en el **Aula Virtual**)"
      ],
      "metadata": {
        "id": "3xh_VBkVnGY3"
      }
    },
    {
      "cell_type": "markdown",
      "source": [
        "![EXCEL PRÁCTICA 3.9 MATEMÁTICAS MARÍA BERMEJO.jpg](data:image/jpeg;base64,/9j/4AAQSkZJRgABAQEAeAB4AAD/4UGqRXhpZgAATU0AKgAAAAgABgALAAIAAAAmAAAIYgESAAMAAAABAAEAAAExAAIAAAAmAAAIiAEyAAIAAAAUAAAIrodpAAQAAAABAAAIwuocAAcAAAgMAAAAVgAAEUYc6gAAAAgAAAAAAAAAAAAAAAAAAAAAAAAAAAAAAAAAAAAAAAAAAAAAAAAAAAAAAAAAAAAAAAAAAAAAAAAAAAAAAAAAAAAAAAAAAAAAAAAAAAAAAAAAAAAAAAAAAAAAAAAAAAAAAAAAAAAAAAAAAAAAAAAAAAAAAAAAAAAAAAAAAAAAAAAAAAAAAAAAAAAAAAAAAAAAAAAAAAAAAAAAAAAAAAAAAAAAAAAAAAAAAAAAAAAAAAAAAAAAAAAAAAAAAAAAAAAAAAAAAAAAAAAAAAAAAAAAAAAAAAAAAAAAAAAAAAAAAAAAAAAAAAAAAAAAAAAAAAAAAAAAAAAAAAAAAAAAAAAAAAAAAAAAAAAAAAAAAAAAAAAAAAAAAAAAAAAAAAAAAAAAAAAAAAAAAAAAAAAAAAAAAAAAAAAAAAAAAAAAAAAAAAAAAAAAAAAAAAAAAAAAAAAAAAAAAAAAAAAAAAAAAAAAAAAAAAAAAAAAAAAAAAAAAAAAAAAAAAAAAAAAAAAAAAAAAAAAAAAAAAAAAAAAAAAAAAAAAAAAAAAAAAAAAAAAAAAAAAAAAAAAAAAAAAAAAAAAAAAAAAAAAAAAAAAAAAAAAAAAAAAAAAAAAAAAAAAAAAAAAAAAAAAAAAAAAAAAAAAAAAAAAAAAAAAAAAAAAAAAAAAAAAAAAAAAAAAAAAAAAAAAAAAAAAAAAAAAAAAAAAAAAAAAAAAAAAAAAAAAAAAAAAAAAAAAAAAAAAAAAAAAAAAAAAAAAAAAAAAAAAAAAAAAAAAAAAAAAAAAAAAAAAAAAAAAAAAAAAAAAAAAAAAAAAAAAAAAAAAAAAAAAAAAAAAAAAAAAAAAAAAAAAAAAAAAAAAAAAAAAAAAAAAAAAAAAAAAAAAAAAAAAAAAAAAAAAAAAAAAAAAAAAAAAAAAAAAAAAAAAAAAAAAAAAAAAAAAAAAAAAAAAAAAAAAAAAAAAAAAAAAAAAAAAAAAAAAAAAAAAAAAAAAAAAAAAAAAAAAAAAAAAAAAAAAAAAAAAAAAAAAAAAAAAAAAAAAAAAAAAAAAAAAAAAAAAAAAAAAAAAAAAAAAAAAAAAAAAAAAAAAAAAAAAAAAAAAAAAAAAAAAAAAAAAAAAAAAAAAAAAAAAAAAAAAAAAAAAAAAAAAAAAAAAAAAAAAAAAAAAAAAAAAAAAAAAAAAAAAAAAAAAAAAAAAAAAAAAAAAAAAAAAAAAAAAAAAAAAAAAAAAAAAAAAAAAAAAAAAAAAAAAAAAAAAAAAAAAAAAAAAAAAAAAAAAAAAAAAAAAAAAAAAAAAAAAAAAAAAAAAAAAAAAAAAAAAAAAAAAAAAAAAAAAAAAAAAAAAAAAAAAAAAAAAAAAAAAAAAAAAAAAAAAAAAAAAAAAAAAAAAAAAAAAAAAAAAAAAAAAAAAAAAAAAAAAAAAAAAAAAAAAAAAAAAAAAAAAAAAAAAAAAAAAAAAAAAAAAAAAAAAAAAAAAAAAAAAAAAAAAAAAAAAAAAAAAAAAAAAAAAAAAAAAAAAAAAAAAAAAAAAAAAAAAAAAAAAAAAAAAAAAAAAAAAAAAAAAAAAAAAAAAAAAAAAAAAAAAAAAAAAAAAAAAAAAAAAAAAAAAAAAAAAAAAAAAAAAAAAAAAAAAAAAAAAAAAAAAAAAAAAAAAAAAAAAAAAAAAAAAAAAAAAAAAAAAAAAAAAAAAAAAAAAAAAAAAAAAAAAAAAAAAAAAAAAAAAAAAAAAAAAAAAAAAAAAAAAAAAAAAAAAAAAAAAAAAAAAAAAAAAAAAAAAAAAAAAAAAAAAAAAAAAAAAAAAAAAAAAAAAAAAAAAAAAAAAAAAAAAAAAAAAAAAAAAAAAAAAAAAAAAAAAAAAAAAAAAAAAAAAAAAAAAAAAAAAAAAAAAAAAAAAAAAAAAAAAAAAAAAAAAAAAAAAAAAAAAAAAAAAAAAAAAAAAAAAAAAAAAAAAAAAAAAAAAAAAAAAAAAAAAAAAAAAAAAAAAAAAAAAAAAAAAAAAAAAAAAAAAAAAAAAAAAAAAAAAAAAAAAAAAAAAAAAAAAAAAAAAAAAAAAAAAAAAAAAAAAAAAAAAAAAAAAAAAAAAAAAAAAAAAAAAAAAAAAAAAAAAAAAAAAAAAAAAAAAAAAAAAAAAAAAAAAAAAAAAAAAAAAAAAAAAAAAAAAAAAAAAAAAAAAAAAAAAAAAAAAAAAAAAAAAAAAAAAAAAAAAAAAAAAAAAAAAAAAAAAAAAAAAAAAAAAAAAAAAAAAAAAAAAAAAAAAAAAAAAAAAAAAAAAAAAAAAAAAAAAAAAAAAAAAAAAAAAAAAAAAAAAAAAAAAAAAAAAAAAAAAAAAAAAAAAAAAAAAAAAAAAAAAAAAAAAAAAAAAAAAAAAAAAAAAAAAAAAAAAAAAAAAAAAAAAAAAAAAAAAAAAAAAAAAAAAAAAAAAAAAAAAAAAAAAAAAAAAAAAAAAAAAAAAAAAAAAAAAAAAAAAAAAAAAAAAAAAAAAAAAAAAAAAAAAAAAAAAAAAAAAAAAAAAAAAAAAAAAAAAAAAAAAAAAAAAAAAAAAAAAAAAAAAAAAAAAAAAAAAAAAAAAAAAAAAAAAAAAAAAAAAAAAAAAAAAAAAAAAAAAAAAAAAAAAAAAAAAAAAAAAAAAAAAAAAAAAAAAAAAAAAAAAAAAAAAAAAAAAAAAAAAAAAAAAAAAAAAAAAAAAAAAAAAAAAAAAAAAAAAAAAAAAAAAAAAAAAAAAAAAAAAAAAAAAAAAAAAAAAAAAAAFdpbmRvd3MgUGhvdG8gRWRpdG9yIDEwLjAuMTAwMTEuMTYzODQAV2luZG93cyBQaG90byBFZGl0b3IgMTAuMC4xMDAxMS4xNjM4NAAyMDIyOjEyOjI4IDAwOjA5OjU3AAAGkAMAAgAAABQAABEckAQAAgAAABQAABEwkpEAAgAAAAM2NwAAkpIAAgAAAAM2NwAAoAEAAwAAAAEAAQAA6hwABwAACAwAAAkQAAAAABzqAAAACAAAAAAAAAAAAAAAAAAAAAAAAAAAAAAAAAAAAAAAAAAAAAAAAAAAAAAAAAAAAAAAAAAAAAAAAAAAAAAAAAAAAAAAAAAAAAAAAAAAAAAAAAAAAAAAAAAAAAAAAAAAAAAAAAAAAAAAAAAAAAAAAAAAAAAAAAAAAAAAAAAAAAAAAAAAAAAAAAAAAAAAAAAAAAAAAAAAAAAAAAAAAAAAAAAAAAAAAAAAAAAAAAAAAAAAAAAAAAAAAAAAAAAAAAAAAAAAAAAAAAAAAAAAAAAAAAAAAAAAAAAAAAAAAAAAAAAAAAAAAAAAAAAAAAAAAAAAAAAAAAAAAAAAAAAAAAAAAAAAAAAAAAAAAAAAAAAAAAAAAAAAAAAAAAAAAAAAAAAAAAAAAAAAAAAAAAAAAAAAAAAAAAAAAAAAAAAAAAAAAAAAAAAAAAAAAAAAAAAAAAAAAAAAAAAAAAAAAAAAAAAAAAAAAAAAAAAAAAAAAAAAAAAAAAAAAAAAAAAAAAAAAAAAAAAAAAAAAAAAAAAAAAAAAAAAAAAAAAAAAAAAAAAAAAAAAAAAAAAAAAAAAAAAAAAAAAAAAAAAAAAAAAAAAAAAAAAAAAAAAAAAAAAAAAAAAAAAAAAAAAAAAAAAAAAAAAAAAAAAAAAAAAAAAAAAAAAAAAAAAAAAAAAAAAAAAAAAAAAAAAAAAAAAAAAAAAAAAAAAAAAAAAAAAAAAAAAAAAAAAAAAAAAAAAAAAAAAAAAAAAAAAAAAAAAAAAAAAAAAAAAAAAAAAAAAAAAAAAAAAAAAAAAAAAAAAAAAAAAAAAAAAAAAAAAAAAAAAAAAAAAAAAAAAAAAAAAAAAAAAAAAAAAAAAAAAAAAAAAAAAAAAAAAAAAAAAAAAAAAAAAAAAAAAAAAAAAAAAAAAAAAAAAAAAAAAAAAAAAAAAAAAAAAAAAAAAAAAAAAAAAAAAAAAAAAAAAAAAAAAAAAAAAAAAAAAAAAAAAAAAAAAAAAAAAAAAAAAAAAAAAAAAAAAAAAAAAAAAAAAAAAAAAAAAAAAAAAAAAAAAAAAAAAAAAAAAAAAAAAAAAAAAAAAAAAAAAAAAAAAAAAAAAAAAAAAAAAAAAAAAAAAAAAAAAAAAAAAAAAAAAAAAAAAAAAAAAAAAAAAAAAAAAAAAAAAAAAAAAAAAAAAAAAAAAAAAAAAAAAAAAAAAAAAAAAAAAAAAAAAAAAAAAAAAAAAAAAAAAAAAAAAAAAAAAAAAAAAAAAAAAAAAAAAAAAAAAAAAAAAAAAAAAAAAAAAAAAAAAAAAAAAAAAAAAAAAAAAAAAAAAAAAAAAAAAAAAAAAAAAAAAAAAAAAAAAAAAAAAAAAAAAAAAAAAAAAAAAAAAAAAAAAAAAAAAAAAAAAAAAAAAAAAAAAAAAAAAAAAAAAAAAAAAAAAAAAAAAAAAAAAAAAAAAAAAAAAAAAAAAAAAAAAAAAAAAAAAAAAAAAAAAAAAAAAAAAAAAAAAAAAAAAAAAAAAAAAAAAAAAAAAAAAAAAAAAAAAAAAAAAAAAAAAAAAAAAAAAAAAAAAAAAAAAAAAAAAAAAAAAAAAAAAAAAAAAAAAAAAAAAAAAAAAAAAAAAAAAAAAAAAAAAAAAAAAAAAAAAAAAAAAAAAAAAAAAAAAAAAAAAAAAAAAAAAAAAAAAAAAAAAAAAAAAAAAAAAAAAAAAAAAAAAAAAAAAAAAAAAAAAAAAAAAAAAAAAAAAAAAAAAAAAAAAAAAAAAAAAAAAAAAAAAAAAAAAAAAAAAAAAAAAAAAAAAAAAAAAAAAAAAAAAAAAAAAAAAAAAAAAAAAAAAAAAAAAAAAAAAAAAAAAAAAAAAAAAAAAAAAAAAAAAAAAAAAAAAAAAAAAAAAAAAAAAAAAAAAAAAAAAAAAAAAAAAAAAAAAAAAAAAAAAAAAAAAAAAAAAAAAAAAAAAAAAAAAAAAAAAAAAAAAAAAAAAAAAAAAAAAAAAAAAAAAAAAAAAAAAAAAAAAAAAAAAAAAAAAAAAAAAAAAAAAAAAAAAAAAAAAAAAAAAAAAAAAAAAAAAAAAAAAAAAAAAAAAAAAAAAAAAAAAAAAAAAAAAAAAAAAAAAAAAAAAAAAAAAAAAAAAAAAAAAAAAAAAAAAAAAAAAAAAAAAAAAAAAAAAAAAAAAAAAAAAAAAAAAAAAAAAAAAAAAAAAAAAAAAAAAAAAAAAAAAAAAAAAAAAAAAAAAAAAAAAAAAAAAAAAAAAAAAAAAAAAAAAAAAAAAAAAAAAAAAAAAAAAAAAAAAAAAAAAAAAAAAAAAAAAAAAAAAAAAAAAAAAAAAAAAAAAAAAAAAAAAAAAAAAAAAAAAAAAAAAAAAAAAAAAAAAAAAAAAAAAAAAAAAAAAAAAAAAAAAAAAAAAAAAAAAAAAAAAAAAAAAAAAAAAAAAAAAAAAAAAAAAAAAAAAAAAAAAAAAAAAAAAAAAAAAAAAAAAAAAAAAAAAAAAAAAAAAAAAAAAAAAAAAAAAAAAAAAAAAAAAAAAAAAAAAAAAAAAAAAAAAAAAAAAAAAAAAAAAAAAAAAAAAAAAAAAAAAAAAAAAAAAAAAAAAAAAAAAAAAAAAAAAAAAAAAAAAAAAAAAAAAAAAAAAAAAAAAAAAAAAAAAAAAAAAAAAAAAAAAAAAAAAAAAAAAAAAAAAAAAAAAAAAAAAAAAAAAAAAAAAAAAAAAAAAAAAAAAAAAAAAAAAAAAAAAAAAAAAAAAAAAAAAAAAAAAAAAAAAAAAAAAAAAAAAMjAyMjoxMjoyOCAwMDowNjozNAAyMDIyOjEyOjI4IDAwOjA2OjM0AAAAAAYBAwADAAAAAQAGAAABGgAFAAAAAQAAEZQBGwAFAAAAAQAAEZwBKAADAAAAAQACAAACAQAEAAAAAQAAEaQCAgAEAAAAAQAAL/0AAAAAAAAAYAAAAAEAAABgAAAAAf/Y/9sAQwAIBgYHBgUIBwcHCQkICgwUDQwLCwwZEhMPFB0aHx4dGhwcICQuJyAiLCMcHCg3KSwwMTQ0NB8nOT04MjwuMzQy/9sAQwEJCQkMCwwYDQ0YMiEcITIyMjIyMjIyMjIyMjIyMjIyMjIyMjIyMjIyMjIyMjIyMjIyMjIyMjIyMjIyMjIyMjIy/8AAEQgBAADWAwEhAAIRAQMRAf/EAB8AAAEFAQEBAQEBAAAAAAAAAAABAgMEBQYHCAkKC//EALUQAAIBAwMCBAMFBQQEAAABfQECAwAEEQUSITFBBhNRYQcicRQygZGhCCNCscEVUtHwJDNicoIJChYXGBkaJSYnKCkqNDU2Nzg5OkNERUZHSElKU1RVVldYWVpjZGVmZ2hpanN0dXZ3eHl6g4SFhoeIiYqSk5SVlpeYmZqio6Slpqeoqaqys7S1tre4ubrCw8TFxsfIycrS09TV1tfY2drh4uPk5ebn6Onq8fLz9PX29/j5+v/EAB8BAAMBAQEBAQEBAQEAAAAAAAABAgMEBQYHCAkKC//EALURAAIBAgQEAwQHBQQEAAECdwABAgMRBAUhMQYSQVEHYXETIjKBCBRCkaGxwQkjM1LwFWJy0QoWJDThJfEXGBkaJicoKSo1Njc4OTpDREVGR0hJSlNUVVZXWFlaY2RlZmdoaWpzdHV2d3h5eoKDhIWGh4iJipKTlJWWl5iZmqKjpKWmp6ipqrKztLW2t7i5usLDxMXGx8jJytLT1NXW19jZ2uLj5OXm5+jp6vLz9PX29/j5+v/aAAwDAQACEQMRAD8A9ZZV8xVUHbkZbefX61P5Q9G/M1ZJBaJO0GbqPZLk8Kxxjt39KlEX7xuGxgdz70gIb1LlLfNnEHl3D5XYgY796seUPRvzNADViGOQ3U9zTJI5BNEEQmM53nJyOmO/Tr+lAEvlD0b8zTUiGxchs455NO4EFsly0k32iMKgY+XtJyRk+/pt/WpJInAl8tSXCfICTjPP/wBakMIo3MURlQrIV+cBjgGnSxMInMakybTtBJxntTEgiifyk81cSY+YKxxn2oaI/NtUltvygscZ5pAiO3SVoVM8ZSTccgMenOO/pinXEcqwk28YeXIwHcgYyM8/TNAx0UTGGMyqRIVG8BjgHvSpF8vIbqe59aYhEiYht6kfMcYJ6dqURDLZDdeOT6UgGmN/PUBD5W07jk9cjHf6054vl4DdR3PrQA7yh6N+ZqHy5vtm3Z/o/l53ZOd2fr0xTAm8oejfmaKQDLbcLtsvvDTIQv8Ac+6MdfbP410LMqKWZgqqMkk4AFJjQm9dobcNpxg54OelLuUMFLDJ6DNIYhkRSwLqNo3Nk9B6n8j+VOzkZoAazqgy7BQSBknHJOAPzpSwBAJAJOBnvQAtJkZxnn0oARXRhlWBGSMg9wcEfnSlgoySBzjmgA3LuC5G4jIGaWgBCwUEsQAOpNBYAgEgE8D3oAAwYZBB5xxTUljlVWjdXVhkFTkGgB9FABRQAUUAFFABRQBzVoE/tCTbIWfzY94I+70wB7Vu31qL7T7m0ZtqzxNEWHYMMf1psSMQ+FcytKLtRK2CXERzuDBt33sZ3Lk9ieoPGIk8GwrKrmaF9ueHgJBznOfm5+8f5dOKQyT/AIRNft32v7Snm7AhPlHkbCnPzeh6/wBOKB4UAWZRdIBK6yN+5PVWJH8Xv/XrzQBX/wCEGthEsSSwpGqBQqQY6HOc7s56fkPQUf8ACDw4UG6Q7duMwZ6AAd/Qfj36DABM/hMyNGTeKNkLw8QkEqzbjzu479KVvCSNaRW5ni2xKVVvs/zYO7vu/wBtvzoAi/4QtFSVY7tUEu/diE/xOGP8XXKjrT38HxPY/Y/PiEfmNLnySTubBJyW9v6dCaAGx+DI4riGcXSGSGTzEJg75z2bp7fj15p0vg9ZZTI12gLKykLBgEHdn+L/AGjz/icgEsnhYSxyo9zGwlKFiYSSdi7Rzu6479fTFVD4GhZNrXSkfKQfIwRtxjof9kcdD3zgYAL03htp3ume5iP2krvBgJHBJ4Bb/aP9MHmq6eDYI0CJLCFEflqPIPAAGCPmzkYBHoeepNAGto+ljSLM2yyCRS5fITacnrnk5rRoAKKACigAooAKKAORspSdQcBXQrPGGYoB5nI5zjn0rqbiXyLaWYAHy0LYZtoOBnk9vrXnZdiKleMnN7G9eEYNWOTk8cXCw+Ynh+9YEsB16ADB6dD6+jL64GhdeLoLSYxvpmpNh3RmSJcLtAJJy2QCDxxzj6Z9EwIIPGtvM7htM1FEyvlsYl+YNjn73POemR05yQKfZeMIrs2ofS9RiNyxC7ohhB5mxS3ORng8A9/Q0AdLRQAUUAFFABRQAUh4HTNAGGvieKQuE06+BT/noipngHu3p/I+hw5vEaGxF1Hp94QZUiClFz83U8E9B+vFACS+JYo4gy2N27NB5yqNnP3vl+9yfl7Z6ikXxRDJex262N6VY48zYMA7to7/AF/QdeKAN2s3UdYTTpCjWl1ORF5v7lVORuAwMkZPOeOg+oyAUT4rhEi/6BebCzox2r8rLjj72O57544BpYvFMEkir9gvVVuhZV46dfm46jHr+IyAb9FABRQBzFoqfbTujiCiZPLPy5PI6Y/rW/fNcrp9y1mqvdCJjCrdC+DtB5HfHcVMacKekVYbk5bmW9z4gUsEsrd8LuHIGT6D5+vPPQccE54oza5qVnceRenToXcKwWadFwrDnI35IBDDOOen+1VCGt4qk/erHLpf7tExm6j+dioLY+foCf0PPPEDeKr0SALLpZTcxz9riyR2B+fj6+mD14pcyAnt/E0iXGye/wBMkRlYjFxGNpG7GSGxz8vGO/fBww+KLv7Rs+06OIwSRILqP5gMYGPM4J555x+lHMu4Gjp/iO1czC+1DTYwr4iK3SHevqfm4+n6+m3FLHPCk0MiyRSKGR0OVYHkEEdRRdPYB9FMArK1KfWIp1FhaRzRkfMWcKQePU/WgAsJ9Xlu2W8s1hgXGH3Ll87uwJxj5fz6mn6hNfW95BLBFJLaqCJY0AJYsQAfXA5z9R74AE1x7eO0iN08Sw+cAxlIC9D1zxWP9p8P/wDPbTP++46uOxlNu5lXl9ZpNOtv/ZzIQBEytD9TnLDn7w9OV9609PudcexRrGGCS2jeUpgriX5mAUHdwPwHAHPPClsOD1NK2utfN4iT6fELcyEF967gmW5xu9Np79x70ry6OL+8W/ksBMJRgTsm4DYvr261JoQXc3h9bKY2raSZtpKAGHJP4nGfrWPa3Ra6iVxpqSefCFNq0WSfMXdjad2OuOOmc0AdzRQAUUAcrau6Xs7hnn/eIRCrKSh9OWwM8enr3ra/tC6/6A19/wB9wf8AxymxIa2qTIyq2k3gZzhQZIMscZ4/eelY9zNez69O0ej3hxbQggvDkfNL/wBNKzqRco2Q2NM92svlNpdwJAu8oZoM7fXHmdPeor+DWLmykittNvIZHwBJvgOBnn/lp6ZrD2MibFO1tfEHkL/o945WYbm/0flVOGX7/fB59a1f+Jj/ANAW8/7+Qf8Axyh0pMLBjUf+gLef9/IP/jlbOh5/sDTdylW+yxZU4yPlHHFaUoOO40X6K2GFFABRQBR1VZjBE0Fu87JKGKIVBxgj+Igd/Ws7zb//AKA17/38g/8AjlUmkZyi2zMu7XWppbporC+VZo9ijz418vjgjEvUHnPfJHYVoWuna19j+S7NmWllkERVGK7mJAJwR3zwe/tyN3HGLRs2MVzDb7bu48+XcTvChePTj/P161W8+5tru6C6bczo8gZXjaLBGxR/E4PUHtUlkd5dXtxZTwxaVfxySRsquJYQVJHByJM1kx2WrSX++SC+8t7iKTbLOrJGA6sePMPp2HGMDqaAOsooAKKAOZtpEa8lEO1pllTzASRzxgZx0+lbu++/597f/v8At/8AEU2JFSezubi/trx4o/MtiTGouWC5KlTkbOeD+n1zVe8vbfXbkfZYCTbQ/wDLc/3pf9iuDMsasFh3XavaxcI8zsZz6eHmkmNmgkkOWYXR9CMf6v8A2j1+vXmmxTRaXqkl0INsxhYshuXZApwSceXjPyfXrXzdPi6M3yxpP7zd0PMvabrNzNZCWK1gaN5JGU+ewyC5P9yql1ZNd3AneAqwYsPLvCoySD2j56d/pSnxfCMnF03oJULrclg1tdKs2thDH5doAHaSd2Iz058vnqOlWLbVpLDw/YyzQwYNshVRMxZvlHT5PUgfjXtZXm/19yXJy2M50+QmbxFAv3pLNfl38zsBjnn7n+y35U261y8t55YksbeTZAswIuiAwYsAPuf7PX3r15S5VczJNJ1qfUWi821hiWVGdWiuPMBAIwfujgg5rZojLmVwCqlxfpbXltbNFIzXAYh127V24znJB79gen0qgJLmaSIRiKNXd32gM+0dCeuD6U0yXoGTb2//AH/b/wCIoAz315UgSZkiEbqzK26Xooyf+Wfpz9Aa0LG6N5a+c0flne6FQc/dYr6D09KALNVPtFy886RQRFYnCbnmIJ+UHptPrQA2a5u4IXlkt4diDJ2yuxx7AJk/hVFfEKPKI0SNz5scbbWfHzsACCUAP3s9e1AG3RQAUUAczZknUJF8ho9sqfPxiTn2/wA8101NiQVzmoxPJ4hmK3EsWLWHhAvPzy+oNeDxI0sum2r7fmbUfjGfZZf+f64/75j/APiazb2MLdhZXuJT5eVby0JJw3ygbOeh/OvzehOLlZRS+/8AzOx7D9Gikm0mGRbi5gDlmERRAUyx4xs7Vf8Assv/AD/XH/fMf/xNKtUiqklyrfz/AMwWxkXMYN1dLiWSZQAu5UHnZ2/9M/cDP54ratLMf8I7p08s88pS3i2r5cR25CjjKdOh/Cvs+FmnKfojmrla3Nlc3SQiG9VnfAZ7NAOrc58vAGc9fU+oympIbPUr0vPJIq2MRBbA2gNL02qP5Gvr6vwM5yTw07P9kZmDHynGQpXOCB0IGPpXU0UvhEtgqKa2huFKyoDkYyOD+Y5HU/nWgyG+RpDbKsrxkzfeQDI+VvUEUG0mx/yELn/vmP8A+IoA5ppFjt4mitbp5HLZjWKPEZCZAJ8vAJGB2610Gi5/s45LMftE/LDBP71+tAGhWdFBJJd3rLdzRDzh8qBMf6tPVSaAG38MsGnzym6vJwiE+UkcZL+2AlYYkaSdF+z3Eax3MChnjQBgZVPZBxz68H8aAOvooAKKAOWs2um1JRKirAHG08ZJ38d/SuppsSCqN0mnNc5uBEZ9gzn723Jx+Gc/rUThGa5Zq68x3sReXpPpF+tHlaT/AHYv1rD6nh/+fcfuQ+Z9xFj0fHyCHGT09c8/rS+XpPpF+tP6nh/+fcfuQcz7h5Wk+kX61YhsrJoIzDGvlFQU2E4244x7VdOjSp/BFL0VgbbH/Ybb/nn/AOPGo20uxdizWyMxG0k8kj0/U/nWu4h1tp1nZY+zW0cWBtGxcYHpVqgAooAhufs/lD7RtCbuNx71V/4lv95f++jQAf8AEt/vL/30at23keQv2bZ5WTjZ0zk5/HOaAJapTf2f57+YUEmRv5Oc4HX8MUAM/wCJb/eX/vo0L/Zu9PmjLbht3E/ezx175xQBoUUAFFAHL2Sst6mbgSAv90dvn/3j06V1FNiRQu9N+23ayTzFrZYyht8YDEkHJPX+EY/H1qPzXj166CW8subWHlCvHzS+pFIZa+1Tf8+Fx/31H/8AFVgzLeyLMq3k0SmYsGDISp2kFD+87cH8OlAF7RJp4tJhjaC4uCpcGbdH+8+Y/N989avSXEzRsosrlSQRu3R8e/3qAOflivp7eNRfzQj5hG8TR/OCRg8ydjkd+o71vaPk6JYEgg/Zo+D/ALooAu0UAFFABVC8tLh7yG7gmYGFSoi52tuIyTyMkAcfU+vABJeuyG2ZY2kIm+6pGT8repAqrqU08tk6iKe26fvCyYH/AI+P50AZdwt0/nma9lhlfOAHQCJ9gX/nqMgfexxzg/Xa0YlrBmIIJuJyQe3716AL9YE3iC207Ur23lhndvNVsoFxzGnqRWdWrGlHmlsTKSirsrX3iuzmsZ4lW7t2dColCp8nv94Vmxazb3V9bxR3VxI8k8YaNwNufNiIP3zjAQ9urHp0rCONoykknuSqsXojuqK6zQKKAOTsFjGpoVnldy33XUAD95zjj1/pXWU2JBVRrWcX8lzFNGokiSMq8ZbG0sc53D+9+lIY/Zef894P+/J/+KrLbQJWZ2+3bS0nmqViwUbBGVOcjg/jjByCQQC3YWF1p9lHapcwskecEwEcEk9mx37VO8V3IjI00BVhgjyW6f8AfVAGS3hqRiGbUGMgzh/KGRkgnv0yCcdOfYY2bOA2tjb25cOYo1QsBjdgYzjtQBPRQAUUAFFAENxC8ojMbqjI+4Fl3A8Eeo9aq3ljc3tuYZLmJVPdYjn/ANC9OKAM+Xw1JKctqBySGYiEDcwULu/3uPvDnnrjGNewtPsVoIN4bDu+QuB8zFsdT0zigCzXN6l4XmvtSnu476ONZSDsaAtjCgddw9PSufE0Pbw5L2InDnVijP4HnuIHhfU4trjB/wBFz/N8UzT/AAA1jqcN62qGUxyLIVMGM7SCBndntjJzXLSy9U5JqWxnGjZ7na0V6RuFFAHIac0X9qKsdqI23ZaVEGGxJ03BRyeuPeuvpsSKE2osupJZQ27yNgM79FUZAOD3IByfw9aZKtxcavNCl9PBFHBGwWJYzks0gJ+ZSf4RSGMu7e6trSSZdUvHZBkKRCB+J8s4H4VkNql4HQK+sMGWMki3Q4LKxI4h7FQPqfbkA0NIW81HSoLuTUr6J5QWMbJECnJ4OYxyPpTtRW7sbXzl1K9l+bBGIR/7SPPGAO5IoAz21C/NxPDDPfsyMyxeZ5aeaR5eMfueh8w89Pl+uOg0ySSbSrOWZy8rwIzuQBuJUZPGB+VAFqigAooAKz77UXsryANEfspU+bLg/I2QFHpzz+Q9RQBNe+YywxxTvAXkwXQKTjBP8QI7elZd491Z3ccJv791dC25ViLZAJACiLnpjr1I9aAMyPV76SHeZb+JtgZVn8uPJ2K2OYfUkZ9h68dJpM0s9gHmdncSypucAEhZGUZAAGcAdqALtZ3k3FzdXRGoXMKJIFVI1jwBsU/xIT1J70AZmoXV7Y38VslxqkwkCnzVij2LlgDkiIgYBz/nIjTUbrzLRkvp5A5i8xSYyFLOgKnEYOMN1BFCA6iigAooA5SyMx1FPNVRHvG37vXfx0JPTH+enV02JBWJdJpn9uztqK2nNtEENwF/vSZxu+opDIrsaALSQ266SZcfLjys/hnjP14rId7cx7kg0jzNqfL/AKOE3bTu7k4zgj8BxyaANHSV0EabH9rTSlnLOXDeUTncfTj8uKdqP9iLbZs00lpd3T9z0/HtnGe+M45oAyrhofOkMEGleXubZu+zdMDbnn146njPtjrNHULolgqgKotowABwPlFAF2igAooAKCARyKAKOqC2MUH2wQmASgt5wG3ocZzx1rEvTpK3KC2i0poSjBiBAcHBweSOc7fbGc9qAM07GZFWPSlUp8zFrbIbZ9Om7vjueOldVoaKmlhU2+X50xTaMKV8xsEY7YxigDRrFkXRxf3hv1sPOMoI88JuI2L69utAGTqX2BbnNhHpTxhQcH7OAW5455x6/TjrkNhW1laz8uOyWdJYg4iEJZ281DldnP3d2eg46d6AOyooAKKAOSsVddXUm6LgkDyd+dv7zr1/D8K62mxIinuYLZN080cS84LsBnAyf0qCa/aO7a3is553WNZGMZQABiwH3mH900hjH1KaKNpJNMukRRlmaSEAD/v5Ub6wY/8AWWFwuRkbpYB2J/56egP5GgB0OqSTxiSLTLtkJIDB4cHBx/z09qWTU5YlDSabdIpIUFpIRyeAP9ZQBFJraxMVkspkYdQ00Ax0/wCmnuPzFaFtOt1aw3CKyrKiuA3UAjPNAEtFABRQAVE9zBHcR27zRrNKCY4y4DOB1wOpxQAlzcG3RSIZJmZtqpHtyT+JA7etVTqciyCM6bdCRgWCmSHJA6nHmUARf24p6Wc3Qn/XQdAAT/y09CD9DV+1uVu7cSqrJ8zKVbGQVJUjjI6g9KAJqpyX0izyRRWNzN5ZCs6GMDOAf4mB6EdqAK51oB9hspg+cbfOgznOMf6z14oXW4/OWN7aZCXCEmSJtpLBeQrk9SB070AalFABRQBytlJbf2ksMbEzBtxBB4Bk57Y6j9K6qmxIp3el219cwT3CtJ5O7bGT8h3Aqcr0PB71ADONduvJSNh9lhzucj+KX2NIY+9ac2knnxxLHxkrIxPXjHy+tYHl6ZEyHOGkWDaWlkIKgHy8ZTAGMjjqeDkkggGroJlXRbdbWKI243CLfIwO3ccZyuenrUmqlms8XaRpGSeUkYn7pz/Ae2aAMeaPT4Z7oSB97Su0ys0rgNhNzcodoxt+YYAB4wDXQ6Pn+xLDOM/Z484P+yKALtFABRQAVTu9PW6lWZZZIZ0UqkiYyoPUcg9cDP0FADr0uDbeWqlvO4DHA+63tWbqKrLdItwoEhQ4WKR/mG1s8qmc434wc+nNAGI6aK1qkLFmgKJGqLJNyNuFPCZzjI3fUZ7V02iHOm5GMGefocj/AFr9+9AGjVCI3Aur3y44mXzhyzkH/Vp7GgDn0j09LgxQs8UqSHI3ykhmcHB3If4tpwfUHoeXOto175kaoblruMu3zZyJYgf4BxyvfHJPNAHW0UAFFAHKWT51VUFkYxuz520AN+8xjpnnrXV02JBVZ7PddNcJPLE7oqNs2kEKWI6g/wB40hiPZvIhR7uZlYYKssZB/wDHag/seDGN5xx1ii7dP4Pc0ATR2TxKVS9uACxbonUkk/w+ppJbDz02TXMsi+jJGR/6DQAz+yotrDzWw3UeVFz06/J7D8qtW8C21tFAhJSJAik9cAYoAlooAKKACigCKeHzlUb3RlbcrLjIPTuD61Wl01ZmV5biR2XoWjjJH/jtADRpEIBAcgEYP7qLkccfc9h+VWrW2S0g8qMkruZiT1JYlj09yaAJqrG0PmySR3M0fmNuZVCkZwB3U9gKAK50iElj5jZYYJEUWT+Oyj+x7fzFcsSVcPxHGuSGDdQoPVR+VAGjRQAUUAcrZNdtqS+dGFg3DbnGc7xjp7V1VNiRQuBqMt8qQMkFsFBaUgMWIZSVx2BUMM+/sKglNsdcuFuRuAtoSoKk4+aTP8hSGF19jFtIbeFTKB8o8vr+fGfrWU8l6VBWzt87UHC98NvPPvtx+vfABd0k2rachu408/c+/EZ67zT9QNultmzgRpc9PL9vf3xn2zQBmXMt9ul+z2cODITGdgI2YXAOcHOd35fjXQ6Q27RbBsk5t4zk/wC6KALtFABRQAVm6hNe291BPDHJLaoCJYo1BZ2YgKR3wOSfqPegCbUDGFg83mMygMMZz8prNu3RLqP7NbRvEVO7KYGcHGe/Xb+GfagDOD6g3lj7LAp2AOSgxu2dRjJxv7Y6A8ngVv6Mc6d97cBPMAfYSsB+lAGhWWDaG8vPtChnEoAypOBsSgDFeW+SUYsomVXYttQYZdxwBnkED259qlleRbqPbGEja4iKMqAbR5qDaT1yRuPpggUAdTRQAUUAcrYBhfJm5WXLj5F7fP8A7x6dP84rqqbEgrPfz4NWmnW0lmjkgjQGNk4Ks5P3mH94UhiXU11PayRR2N1GzDAbMZx/5EH8xWWLLUmjKy/bGJVACPLzlVIyT5meSQSOOnuaAL2lm7stPjt5bK6ldC2X3R/Nlic8ufX1NLqDXl3beXDaXUL5yGzGex9JB9fwoAoyWWpS+aSLoM7sy4WMBN23jiUE4w2Mnq3sBW3p0TwaXaRSrtkSFFZcg4IUZHFAFmigAooAKKAK14JAIXjiaUpJuKoQDjBHcgd6zb1b+4uEkht7qJQhRlyhzkEZ4kHrn8BzQBRl03U3Rdsl6smwKz7Y+cLjOBKAOcnv1HpW7pcMsFjsmUq5llcgkEgM7MM4J5wR3oAuVRDz29zc4sppVkkDKyMmMbFHdgeoNAGM9jqe9ZF+1l0ZmQERgEEk4OJeccYPseueD+ztTl1DzpDP5bzRuYiqBFCyK2f9Yx6L2HJ/QA6eigAooA5OwCLqa4mlZ93RwMffGcfp+npXWU2JFLUNVttNMSzb2eXdsSNdzHaCTx9BQ01zJqElvC8UaxxJIS8ZYncXH94Y+7+tIYk7XsELStcW5C9hbtk+336oHWxzsvYJCEjchLViQHBK8b88gfh1PFAFrT7q61Kxju4bm28qTJQ/Z25GSAfv+1Oup7qzi82W5g25/htmPYkn7/YAn8KAKMuvLC0wN7A3kyNFIVtmOGABI+/6MP5dcCtixna60+2uGADSxK5A6ZIBoAnooAKKACqs1/HBfQWjK26ZWYPxtXGOp988fjQA+5kkQRrEUV5H25dSwHBPTI9PWqdxeT2swjmu7dMqW3G3baAATyd/orH8KAM8+I12xMLuNhMqshFq3IK7h/Hxx69O+OK2dOujeWYmO3O90yowDtYrnHbOM4oAtVT33c086xSwokThAHiLE/KDnO4etAGYNfV3RUvYG3yNErC2bBZSQf4/b8e2aeNZcT+WJY5Cs6wuogKcllXruP8AfB6e3FAG5RQAUUAcfphi/tNUjtBEQ2TKiAK2JOmdo574/n1rsKbEiJrW3e4S4eCJpk+7IUBZeCOD16M3/fR9azpLaWfXrkx31xbgWsOREsZz80v95TSGM1CxuF0+ctqN1OuwgxSJBtb2P7o8evBrDaGeeNQkMkioqMBMsK7MqxbP7g4K/MPfd2zQBsaRYzPpkbR6peRoWfaipBhRuPA/d0zWbOaOx3SXt1dLvGY5Ehxxzkfujzxx7kcigDIureV5ZCYDMqOyCSVYBkDYF5+znrkDk4G3k8V1WjgroengsWItoxuOMn5R6UAXaKACigAqC5sra8TZcwJKuVPzDuDkfkaAItQjeUW6JPJCxmHzxhSR8rf3gR+lY2pW00OoQFrm5mcIxSZlhDKcEgA+ScDIGTngleDQBkvasInmltAFMJdN6wbnYRglcG39Plz7Yrq9FUppxUuXIuJxvbGW/evzxgfkKANCstbSaa9vXj1G5gXzgNkaxkf6tP7yE/rQBzk1q01w0l1CSgcLJO4gJGXwCD5HzcFm4PGDnFMjRl1XaLd0VLiEecUiG8ecvB2xKfc4OAcdc0Ad1RQAUUAcpYib+0UMoUR7xtBCcHfx09vy966umxIKzr2LRZLrN/Hp7XAQf68IX25OOvOM7v1pDK/2bwz/AM8dJ/75jo+zeGf+eOkf98R0ANW38L4+WHR8ZPRYuuef1p32bwz/AM8dI/74joAPs3hn/njpH/fEdalsIBawi1EYtwi+V5WNmzHG3HGMdMUAS0UAFFABRQBWvlsnt9t+tu0JYcThSue3XjNZ/wBm8M/88dI/74joAPs3hn/njpH/AHxHWlaC1FqgshCLcZCiHGzrzjHHXNAE9Zl1DoT3UhvI9Oa443mZUL9BjOeemKAIfs3hn/njpH/fMdOig8OpNG0MWliUMNhRY927PGMd80Aa9FABRQByVgjDVlY3hkyQPJ35C/vOuMn6V1tNiRQ1HTm1Ca1LTFYImYyQ44lBQrg/TdmofNeDXLhYrSWVfssP+rKAL80v95hSGOvbqdrKUGzuoRt5k8yNdv4+YMfnWLI12p2z3lyPljTAnjRgQrAHPm9Wznpzj2GADS0Sa6t9Jhhe0vLh0Lq0zNFmQhj8x+fvT9TuLmW02rb3Vsdww/mxryeAOJB3I474oAxro3Uks4e/uYi8rEBLiNCnCDb/AK3tj2+8fWuk0ck6JYEggm2jyD2+UULYC7RQAUUAFULyxlmv7e8hlRZIFKqrqSpDEbicEc4HH1PrwASX7tH9nZYnlIm+4hGT8repArNv57pruN0S5tyI2yhkj5GCC2PMwcZByfQUAZAS5ZU3ajd/uosOyXSDP7sLuI87rn5uvU10mi86cTtZf9In4Y5I/ev1PPNAGhWdHcSx3l6qWc8o84fMhQD/AFaerA0Ac+ftr3C7L65aRZC6oLhBuy5+Vh5xyMkLx9PTEh837SvmzXLk3UZ2NMhVczR9VEh6Yx043UAdbRQAUUAcrZSW/wDaawxsxmDBm3Z6F+efr/IV1VNiQVTa3nTUJLmIxkSRJGVfIxtLHP8A49+lIYTRXVxC0TrDtb0Zgf5VSj0Xy12iOI4RUGXPRQVXtzgMetAFqztrqztVgTyWVScEsc8kn096S7tLi9gMUqxbT/dcg9CPT0JoArNoxbzCUj3Sks5EjDOdue2OdoB/H1NaVnAbWxt7csGMUSoSO+BigCeigAooAKKAIbiN5BGYyu5H3AN0PBH9apXNhNdTJLIsW5RjhzgjBHIx6MfzoArnQ1MSxeVFsC7cbycjaFxyOmAK0rC1Nna+SWDHe7kj/aYtj8M0AWaqiK5innaLyisrh/mJBHygf0oAoNoxIbasaMzBwyuflIbdkDGByATxzgZpP7D3XPnYjVzMsrOGJJwyse3fYP50AbVFABRQBydg3/E0VFsTEoIPn7NoY7+nQH3rrKbEjN1W/vLYxQWFm1xcS7sEqQiYUkbmxjkjHUdRT8yzarPD58iRxwROFTHVmkB6j/ZFIY65jlgt3kSe5kZRwoxk/kpNZR1K7KZittQdtiMF2gZJDFlzsx8uMc9z+YBd0o3F9psVzPLdQyOWLRPtynzEbTx1HSn35ms7bzUkuZsHlVx0wT2U+n60AZ1xqd7GZvJs9Rm8tyq4XG9QFO4ZTHO4jGexrZ02V59LtJZWLSPCjMT3JUZoAtUUAFFABWZqWptpt1A8wCWBBE0xRiVYkKgGPUk9uMe4oAt3Rf8AcokjJvk2krjOME9/pVK7mmtbmOPddyIyk70APOCcfd9sde4oAy5NY1BFhK6bqkm9VLBU5QlQSDlB0zj8DW5pc8lxY75SxYSyp8wwcLIyjPvgCgC7VNFknuLrNxKipIFVV24A2KfT1JoAoX91c2dyIo476ZSm7ei5GcgY+VD2OfwqqurXTPbgQ3sZZofNaVV2oWkVTGeOuD+ooA6WigAooA5SyN2dSXzowsG4beBnO8Y6e39K6umxIKypY7f+27h7m33qbaIKxhLjhpMjOD6j86QxLsWYtZDb2amXHygWvJ+mRjP1rLVbl1YvaRoQqH5bQckKdwGRyCwGM4xn2oAvaYtn9gQ3FiEmLOWVrU5BLE9hS6h5C22bOyVpd3T7L/iOmcZ74zjmgCi/2j9462S7VkYogtVyy5XA5GOPm5z2Hrxu6Spj0axQoUK28Y2lcFflHGO1AFyigAooAKKAKeoLGywebH5kYlBYbN3Y9qy77aLhBaWKmMocn7KDg4OOCBznb7YBz2oApSC9EI8uzhMrx4w1sNqNtHJO3P3s46jjmt7RkKadtMZj/fTEKV24BkYjj0xigC/WYEtBeXhuLYMzSghjAWyNijrj60AULlc32Le1QW+1efsg4O7nqCTlc9hg45OTisPtE72n/EvWFVeHf+4w5cSRktwMAAbu/Y+1AHV0UAFFAHJ6eCL9P9KSXLDKLjj5+v3j06dK6ymxIhnure22+fMke4gLuOMkkAfqwH4ioZr9o7xraOzuJ3SNZGMZQABiwH3mHPymkMZJqUsUbSS6bdIijLM0kIAHufMqF9bSLHmWkqZAI3TQDggkH/WegP5GgB8GqyXMIlh027eMkgMHhwcHHH7z2pZdUeBA82nXMakgAvJCBk9B/rKAIpNdjidkktZEZTghp4AR0/6ae4/MVo2s63VpDcKrKssauFbGQCM4OO9AEtFABRQAVE1xCk8cDSKJZASiE8sB1xQA25uDbopEMkzM21Uj25Pf+IgdvWqrao6SrE2n3KyMCyoZIckDqceZQBB/wkMHH7huRkf6RBzxn/np6EH6Vo2l0t5biZUZBuZSr4yCrFT0JHUHvQBPVN76QTyxRWFzN5bBWdDGBnAP8TA9x2oAqnXohIIzbSBy20L58Gc5xj/Wdcgj60o12EzLE1vIrFwh/exNtJYLyFcnqQOlAGrRQAUUAclp/ljU1CySF93IdePvjOPfp+ldbTYkVjYwte/a2BaUJsGTkAZB6fUZqoy3Ta9c/Z5oYx9lhz5kRfPzS+jCkML+O++xS+bd2+3H8Fs27OeMfvOucVz/ANliRVaG5LK0cIyLZmDJtYp8jSHgDPQdvY0AbGiW13DpMMVtc2wgQusYNu5O0MccmSl1eK6Nli5vIRHnkx2zZxg5/wCWnTbuz39OcUAY09lGLieN7k/vJX84eQWBbCKzYMhK5G3kY6+4rp9HBGiWAYgkW0eSBgfdFAF2igAooAKpX2mR3zpIZpoZk4SSJsMoyCQPY4GfoKAHX4lP2cQuiP53BdCw+63YEfzrJ1KCZ72MT3ce/Y2BHbPhvlbjiTOdu/H498UAYU9pYx26vc3gWC3jVo2e33gAIpUBvMOTjHBPf0NdboYxpmNwbE8wyBgH96/uf50AaNZsaXjXl6YJ4ETzhw8JY/6tO4YfyoA5s6fG1yqC6aMiUlf3BcRuz4zzISuSw647enCrFb/2k0kN3HNIt3GkuyAqNwljzzuOMbh2we/JzQB2tFABRQByOnOp1NUWzMJBB8wIMMN44ztH1xXXU2JBVOaxMl01xHdzwOyKjeWEIIBJH3lP940hkcmmyzRtHLqV08bDDK0cJBHuPLqFdCjQMFu5RvGGxDB83BHP7v0J/OgCSDSXtYVhg1K6jjXO1FSEAZOeP3dE2lNcx+XPqFzKmc7XjhIz6/6ugCL+wIvLaP7VJsc5ZfIgwx46/u+eg/KtK2gW1tYbdCSsSBFLdSAMc0AS0UAFFABRQBDc2/2hFAlkiZW3K8eMg/iCO/pVGbRRcOHnvZ5GUEAvFASAeo/1fSgBP7DT5P8AS5fkBCfuYPlBGDj93xxxV+1tltLcQozMNzMWbGSWJJPHHUnpQBNVOSxdp5JIr65g8whmVBGRnAGfmUnoB3oAqN4fheNo2uZCjEEr5EGCQSQf9X1ySfxNPXQ4ftKzyXEkjgqSTHEpbaQVBKoDgEDjPagDUooAKKAOVsknGooZSpi3jaNqgg7+Ontx+A9a6qmxIzbmzvrm8kxd+TamPaojJ3A+v15P5CqslvpzaxLHqC20xjtIQhuQpP3pMnn1wKQxLuz0M2sgt7fSxKR8pEcWR9MjGfrWT9kSRsNa6LCpRAGjSJyG2tvJU443bcYb0J7igC9o9pox0uL7bBpLXQLCUhI8btxzj2qTULPSPs+bO20vzQ2fuRc+3PbOM98ZxzQBly2YkkuNlvosK72MG1IXBXC7QwIBBzuzgnGeM8EdRo2P7D0/bjb9mjxjp90UAXaKACigArMuZby31B5sTPaiLakKKCGfk5OAWHQAduT7UAOvvIntrX7bFGInkBeOcAgfKeD261lXlppq3KG0tNIePYwKusQXdg4ycZHO3pnjdwTigDKaylKQ4h0ZHwolxHAwztG4qcDvnAI+vHA6nQsf2UoXbtE0wUJ90ASMAB7Y6UAaVYMz6D/aN6NSOm+eJF/4+dm7Hlrj73OKmUlFXbBtLc54va+apYaAFEhLLE0DBk3EgDcAQcYB+vbHNmMWAv43trjTs/aU8tIRAHwZY8AbBnpvB56fU4lVabdri5l3O2orQYUUAclYRsmqq5vmm3EDyi4IX5+uM9uldbTYkFUGE8OqzTrbSSxyQRoCjLwVZyepH94Uhhcy3E9u8aWl1GzDhgyZH5ODWctlfFR5hvyQqD5ZQMlVIyf3nfIJxjOKALunvdW1msUtncPIGYlt0fzZYnP3/ei/N3dW/lw293C+chlZPQ+jj6/hQBSezv3kkkzfqWcuqiUbVzt7eZyPlbjp8xrX06J4NMtIpV2yJCisM5wQADQBZooAKKACigCvdiT9y8cTSFJNxVSAcYI7kDvVC7W8uLhJI4buNApVkDqAcgjtIPXr14FAFJ9O1EwbEn1FZCmxnMin+EDgeZwcgnPXnrWxpkMsFlsmXa5llcgkdGdmHT2IoAuVx2saLqVxrN1PBamSKQqVYOo6Io7kdxXJjKMq1PliZ1YuUbIwj4R10MWWObIYFVMwIHzZIPz85xj2yas6Z4V1uDWoLmcSmJZ1kKtIu1QGUnjcf7p6DvXHSwVSM1J2Mo0pJ3PRaK9c6QooA5PT5bT+0hBCf3oYMwwcff59utdZTYkFFIYUUAFFABRQAUUAFFABRQAUUAFFABRQAUUAFFABRQByWnyFtUVfsDQqCD523G75+nTv1rrabEgopDCigAooAKKACigAooAKKACigAooAKKACigAooAKKAP/2QD/4THoaHR0cDovL25zLmFkb2JlLmNvbS94YXAvMS4wLwA8P3hwYWNrZXQgYmVnaW49J++7vycgaWQ9J1c1TTBNcENlaGlIenJlU3pOVGN6a2M5ZCc/Pg0KPHg6eG1wbWV0YSB4bWxuczp4PSJhZG9iZTpuczptZXRhLyI+PHJkZjpSREYgeG1sbnM6cmRmPSJodHRwOi8vd3d3LnczLm9yZy8xOTk5LzAyLzIyLXJkZi1zeW50YXgtbnMjIj48cmRmOkRlc2NyaXB0aW9uIHJkZjphYm91dD0idXVpZDpmYWY1YmRkNS1iYTNkLTExZGEtYWQzMS1kMzNkNzUxODJmMWIiIHhtbG5zOnhtcD0iaHR0cDovL25zLmFkb2JlLmNvbS94YXAvMS4wLyI+PHhtcDpDcmVhdG9yVG9vbD5XaW5kb3dzIFBob3RvIEVkaXRvciAxMC4wLjEwMDExLjE2Mzg0PC94bXA6Q3JlYXRvclRvb2w+PHhtcDpDcmVhdGVEYXRlPjIwMjItMTItMjhUMDA6MDY6MzQuNjY5PC94bXA6Q3JlYXRlRGF0ZT48L3JkZjpEZXNjcmlwdGlvbj48L3JkZjpSREY+PC94OnhtcG1ldGE+DQogICAgICAgICAgICAgICAgICAgICAgICAgICAgICAgICAgICAgICAgICAgICAgICAgICAgICAgICAgICAgICAgICAgICAgICAgICAgICAgICAgICAgICAgICAgICAgICAgICAgCiAgICAgICAgICAgICAgICAgICAgICAgICAgICAgICAgICAgICAgICAgICAgICAgICAgICAgICAgICAgICAgICAgICAgICAgICAgICAgICAgICAgICAgICAgICAgICAgICAgICAKICAgICAgICAgICAgICAgICAgICAgICAgICAgICAgICAgICAgICAgICAgICAgICAgICAgICAgICAgICAgICAgICAgICAgICAgICAgICAgICAgICAgICAgICAgICAgICAgICAgIAogICAgICAgICAgICAgICAgICAgICAgICAgICAgICAgICAgICAgICAgICAgICAgICAgICAgICAgICAgICAgICAgICAgICAgICAgICAgICAgICAgICAgICAgICAgICAgICAgICAgCiAgICAgICAgICAgICAgICAgICAgICAgICAgICAgICAgICAgICAgICAgICAgICAgICAgICAgICAgICAgICAgICAgICAgICAgICAgICAgICAgICAgICAgICAgICAgICAgICAgICAKICAgICAgICAgICAgICAgICAgICAgICAgICAgICAgICAgICAgICAgICAgICAgICAgICAgICAgICAgICAgICAgICAgICAgICAgICAgICAgICAgICAgICAgICAgICAgICAgICAgIAogICAgICAgICAgICAgICAgICAgICAgICAgICAgICAgICAgICAgICAgICAgICAgICAgICAgICAgICAgICAgICAgICAgICAgICAgICAgICAgICAgICAgICAgICAgICAgICAgICAgCiAgICAgICAgICAgICAgICAgICAgICAgICAgICAgICAgICAgICAgICAgICAgICAgICAgICAgICAgICAgICAgICAgICAgICAgICAgICAgICAgICAgICAgICAgICAgICAgICAgICAKICAgICAgICAgICAgICAgICAgICAgICAgICAgICAgICAgICAgICAgICAgICAgICAgICAgICAgICAgICAgICAgICAgICAgICAgICAgICAgICAgICAgICAgICAgICAgICAgICAgIAogICAgICAgICAgICAgICAgICAgICAgICAgICAgICAgICAgICAgICAgICAgICAgICAgICAgICAgICAgICAgICAgICAgICAgICAgICAgICAgICAgICAgICAgICAgICAgICAgICAgCiAgICAgICAgICAgICAgICAgICAgICAgICAgICAgICAgICAgICAgICAgICAgICAgICAgICAgICAgICAgICAgICAgICAgICAgICAgICAgICAgICAgICAgICAgICAgICAgICAgICAKICAgICAgICAgICAgICAgICAgICAgICAgICAgICAgICAgICAgICAgICAgICAgICAgICAgICAgICAgICAgICAgICAgICAgICAgICAgICAgICAgICAgICAgICAgICAgICAgICAgIAogICAgICAgICAgICAgICAgICAgICAgICAgICAgICAgICAgICAgICAgICAgICAgICAgICAgICAgICAgICAgICAgICAgICAgICAgICAgICAgICAgICAgICAgICAgICAgICAgICAgCiAgICAgICAgICAgICAgICAgICAgICAgICAgICAgICAgICAgICAgICAgICAgICAgICAgICAgICAgICAgICAgICAgICAgICAgICAgICAgICAgICAgICAgICAgICAgICAgICAgICAKICAgICAgICAgICAgICAgICAgICAgICAgICAgICAgICAgICAgICAgICAgICAgICAgICAgICAgICAgICAgICAgICAgICAgICAgICAgICAgICAgICAgICAgICAgICAgICAgICAgIAogICAgICAgICAgICAgICAgICAgICAgICAgICAgICAgICAgICAgICAgICAgICAgICAgICAgICAgICAgICAgICAgICAgICAgICAgICAgICAgICAgICAgICAgICAgICAgICAgICAgCiAgICAgICAgICAgICAgICAgICAgICAgICAgICAgICAgICAgICAgICAgICAgICAgICAgICAgICAgICAgICAgICAgICAgICAgICAgICAgICAgICAgICAgICAgICAgICAgICAgICAKICAgICAgICAgICAgICAgICAgICAgICAgICAgICAgICAgICAgICAgICAgICAgICAgICAgICAgICAgICAgICAgICAgICAgICAgICAgICAgICAgICAgICAgICAgICAgICAgICAgIAogICAgICAgICAgICAgICAgICAgICAgICAgICAgICAgICAgICAgICAgICAgICAgICAgICAgICAgICAgICAgICAgICAgICAgICAgICAgICAgICAgICAgICAgICAgICAgICAgICAgCiAgICAgICAgICAgICAgICAgICAgICAgICAgICAgICAgICAgICAgICAgICAgICAgICAgICAgICAgICAgICAgICAgICAgICAgICAgICAgICAgICAgICAgICAgICAgICAgICAgICAKICAgICAgICAgICAgICAgICAgICAgICAgICAgICAgICAgICAgICAgICAgICAgICAgICAgICAgICAgICAgICAgICAgICAgICAgICAgICAgICAgICAgICAgICAgICAgICAgICAgIAogICAgICAgICAgICAgICAgICAgICAgICAgICAgICAgICAgICAgICAgICAgICAgICAgICAgICAgICAgICAgICAgICAgICAgICAgICAgICAgICAgICAgICAgICAgICAgICAgICAgCiAgICAgICAgICAgICAgICAgICAgICAgICAgICAgICAgICAgICAgICAgICAgICAgICAgICAgICAgICAgICAgICAgICAgICAgICAgICAgICAgICAgICAgICAgICAgICAgICAgICAKICAgICAgICAgICAgICAgICAgICAgICAgICAgICAgICAgICAgICAgICAgICAgICAgICAgICAgICAgICAgICAgICAgICAgICAgICAgICAgICAgICAgICAgICAgICAgICAgICAgIAogICAgICAgICAgICAgICAgICAgICAgICAgICAgICAgICAgICAgICAgICAgICAgICAgICAgICAgICAgICAgICAgICAgICAgICAgICAgICAgICAgICAgICAgICAgICAgICAgICAgCiAgICAgICAgICAgICAgICAgICAgICAgICAgICAgICAgICAgICAgICAgICAgICAgICAgICAgICAgICAgICAgICAgICAgICAgICAgICAgICAgICAgICAgICAgICAgICAgICAgICAKICAgICAgICAgICAgICAgICAgICAgICAgICAgICAgICAgICAgICAgICAgICAgICAgICAgICAgICAgICAgICAgICAgICAgICAgICAgICAgICAgICAgICAgICAgICAgICAgICAgIAogICAgICAgICAgICAgICAgICAgICAgICAgICAgICAgICAgICAgICAgICAgICAgICAgICAgICAgICAgICAgICAgICAgICAgICAgICAgICAgICAgICAgICAgICAgICAgICAgICAgCiAgICAgICAgICAgICAgICAgICAgICAgICAgICAgICAgICAgICAgICAgICAgICAgICAgICAgICAgICAgICAgICAgICAgICAgICAgICAgICAgICAgICAgICAgICAgICAgICAgICAKICAgICAgICAgICAgICAgICAgICAgICAgICAgICAgICAgICAgICAgICAgICAgICAgICAgICAgICAgICAgICAgICAgICAgICAgICAgICAgICAgICAgICAgICAgICAgICAgICAgIAogICAgICAgICAgICAgICAgICAgICAgICAgICAgICAgICAgICAgICAgICAgICAgICAgICAgICAgICAgICAgICAgICAgICAgICAgICAgICAgICAgICAgICAgICAgICAgICAgICAgCiAgICAgICAgICAgICAgICAgICAgICAgICAgICAgICAgICAgICAgICAgICAgICAgICAgICAgICAgICAgICAgICAgICAgICAgICAgICAgICAgICAgICAgICAgICAgICAgICAgICAKICAgICAgICAgICAgICAgICAgICAgICAgICAgICAgICAgICAgICAgICAgICAgICAgICAgICAgICAgICAgICAgICAgICAgICAgICAgICAgICAgICAgICAgICAgICAgICAgICAgIAogICAgICAgICAgICAgICAgICAgICAgICAgICAgICAgICAgICAgICAgICAgICAgICAgICAgICAgICAgICAgICAgICAgICAgICAgICAgICAgICAgICAgICAgICAgICAgICAgICAgCiAgICAgICAgICAgICAgICAgICAgICAgICAgICAgICAgICAgICAgICAgICAgICAgICAgICAgICAgICAgICAgICAgICAgICAgICAgICAgICAgICAgICAgICAgICAgICAgICAgICAKICAgICAgICAgICAgICAgICAgICAgICAgICAgICAgICAgICAgICAgICAgICAgICAgICAgICAgICAgICAgICAgICAgICAgICAgICAgICAgICAgICAgICAgICAgICAgICAgICAgIAogICAgICAgICAgICAgICAgICAgICAgICAgICAgICAgICAgICAgICAgICAgICAgICAgICAgICAgICAgICAgICAgICAgICAgICAgICAgICAgICAgICAgICAgICAgICAgICAgICAgCiAgICAgICAgICAgICAgICAgICAgICAgICAgICAgICAgICAgICAgICAgICAgICAgICAgICAgICAgICAgICAgICAgICAgICAgICAgICAgICAgICAgICAgICAgICAgICAgICAgICAKICAgICAgICAgICAgICAgICAgICAgICAgICAgICAgICAgICAgICAgICAgICAgICAgICAgICAgICAgICAgICAgICAgICAgICAgICAgICAgICAgICAgICAgICAgICAgICAgICAgIAogICAgICAgICAgICAgICAgICAgICAgICAgICAgICAgICAgICAgICAgICAgICAgICAgICAgICAgICAgICAgICAgICAgICAgICAgICAgICAgICAgICAgICAgICAgICAgICAgICAgCiAgICAgICAgICAgICAgICAgICAgICAgICAgICAgICAgICAgICAgICAgICAgICAgICAgICAgICAgICAgICAgICAgICAgICAgICAgICAgICAgICAgICAgICAgICAgICAgICAgICAKICAgICAgICAgICAgICAgICAgICAgICAgICAgICAgICAgICAgICAgICAgICAgICAgICAgICAgICAgICAgICAgICAgICAgICAgICAgICAgICAgICAgICAgICAgICAgICAgICAgIAogICAgICAgICAgICAgICAgICAgICAgICAgICAgICAgICAgICAgICAgICAgICAgICAgICAgICAgICAgICAgICAgICAgICAgICAgICAgICAgICAgICAgICAgICAgICAgICAgICAgCiAgICAgICAgICAgICAgICAgICAgICAgICAgICAgICAgICAgICAgICAgICAgICAgICAgICAgICAgICAgICAgICAgICAgICAgICAgICAgICAgICAgICAgICAgICAgICAgICAgICAKICAgICAgICAgICAgICAgICAgICAgICAgICAgICAgICAgICAgICAgICAgICAgICAgICAgICAgICAgICAgICAgICAgICAgICAgICAgICAgICAgICAgICAgICAgICAgICAgICAgIAogICAgICAgICAgICAgICAgICAgICAgICAgICAgICAgICAgICAgICAgICAgICAgICAgICAgICAgICAgICAgICAgICAgICAgICAgICAgICAgICAgICAgICAgICAgICAgICAgICAgCiAgICAgICAgICAgICAgICAgICAgICAgICAgICAgICAgICAgICAgICAgICAgICAgICAgICAgICAgICAgICAgICAgICAgICAgICAgICAgICAgICAgICAgICAgICAgICAgICAgICAKICAgICAgICAgICAgICAgICAgICAgICAgICAgICAgICAgICAgICAgICAgICAgICAgICAgICAgICAgICAgICAgICAgICAgICAgICAgICAgICAgICAgICAgICAgICAgICAgICAgIAogICAgICAgICAgICAgICAgICAgICAgICAgICAgICAgICAgICAgICAgICAgICAgICAgICAgICAgICAgICAgICAgICAgICAgICAgICAgICAgICAgICAgICAgICAgICAgICAgICAgCiAgICAgICAgICAgICAgICAgICAgICAgICAgICAgICAgICAgICAgICAgICAgICAgICAgICAgICAgICAgICAgICAgICAgICAgICAgICAgICAgICAgICAgICAgICAgICAgICAgICAKICAgICAgICAgICAgICAgICAgICAgICAgICAgICAgICAgICAgICAgICAgICAgICAgICAgICAgICAgICAgICAgICAgICAgICAgICAgICAgICAgICAgICAgICAgICAgICAgICAgIAogICAgICAgICAgICAgICAgICAgICAgICAgICAgICAgICAgICAgICAgICAgICAgICAgICAgICAgICAgICAgICAgICAgICAgICAgICAgICAgICAgICAgICAgICAgICAgICAgICAgCiAgICAgICAgICAgICAgICAgICAgICAgICAgICAgICAgICAgICAgICAgICAgICAgICAgICAgICAgICAgICAgICAgICAgICAgICAgICAgICAgICAgICAgICAgICAgICAgICAgICAKICAgICAgICAgICAgICAgICAgICAgICAgICAgICAgICAgICAgICAgICAgICAgICAgICAgICAgICAgICAgICAgICAgICAgICAgICAgICAgICAgICAgICAgICAgICAgICAgICAgIAogICAgICAgICAgICAgICAgICAgICAgICAgICAgICAgICAgICAgICAgICAgICAgICAgICAgICAgICAgICAgICAgICAgICAgICAgICAgICAgICAgICAgICAgICAgICAgICAgICAgCiAgICAgICAgICAgICAgICAgICAgICAgICAgICAgICAgICAgICAgICAgICAgICAgICAgICAgICAgICAgICAgICAgICAgICAgICAgICAgICAgICAgICAgICAgICAgICAgICAgICAKICAgICAgICAgICAgICAgICAgICAgICAgICAgICAgICAgICAgICAgICAgICAgICAgICAgICAgICAgICAgICAgICAgICAgICAgICAgICAgICAgICAgICAgICAgICAgICAgICAgIAogICAgICAgICAgICAgICAgICAgICAgICAgICAgICAgICAgICAgICAgICAgICAgICAgICAgICAgICAgICAgICAgICAgICAgICAgICAgICAgICAgICAgICAgICAgICAgICAgICAgCiAgICAgICAgICAgICAgICAgICAgICAgICAgICAgICAgICAgICAgICAgICAgICAgICAgICAgICAgICAgICAgICAgICAgICAgICAgICAgICAgICAgICAgICAgICAgICAgICAgICAKICAgICAgICAgICAgICAgICAgICAgICAgICAgICAgICAgICAgICAgICAgICAgICAgICAgICAgICAgICAgICAgICAgICAgICAgICAgICAgICAgICAgICAgICAgICAgICAgICAgIAogICAgICAgICAgICAgICAgICAgICAgICAgICAgICAgICAgICAgICAgICAgICAgICAgICAgICAgICAgICAgICAgICAgICAgICAgICAgICAgICAgICAgICAgICAgICAgICAgICAgCiAgICAgICAgICAgICAgICAgICAgICAgICAgICAgICAgICAgICAgICAgICAgICAgICAgICAgICAgICAgICAgICAgICAgICAgICAgICAgICAgICAgICAgICAgICAgICAgICAgICAKICAgICAgICAgICAgICAgICAgICAgICAgICAgICAgICAgICAgICAgICAgICAgICAgICAgICAgICAgICAgICAgICAgICAgICAgICAgICAgICAgICAgICAgICAgICAgICAgICAgIAogICAgICAgICAgICAgICAgICAgICAgICAgICAgICAgICAgICAgICAgICAgICAgICAgICAgICAgICAgICAgICAgICAgICAgICAgICAgICAgICAgICAgICAgICAgICAgICAgICAgCiAgICAgICAgICAgICAgICAgICAgICAgICAgICAgICAgICAgICAgICAgICAgICAgICAgICAgICAgICAgICAgICAgICAgICAgICAgICAgICAgICAgICAgICAgICAgICAgICAgICAKICAgICAgICAgICAgICAgICAgICAgICAgICAgICAgICAgICAgICAgICAgICAgICAgICAgICAgICAgICAgICAgICAgICAgICAgICAgICAgICAgICAgICAgICAgICAgICAgICAgIAogICAgICAgICAgICAgICAgICAgICAgICAgICAgICAgICAgICAgICAgICAgICAgICAgICAgICAgICAgICAgICAgICAgICAgICAgICAgICAgICAgICAgICAgICAgICAgICAgICAgCiAgICAgICAgICAgICAgICAgICAgICAgICAgICAgICAgICAgICAgICAgICAgICAgICAgICAgICAgICAgICAgICAgICAgICAgICAgICAgICAgICAgICAgICAgICAgICAgICAgICAKICAgICAgICAgICAgICAgICAgICAgICAgICAgICAgICAgICAgICAgICAgICAgICAgICAgICAgICAgICAgICAgICAgICAgICAgICAgICAgICAgICAgICAgICAgICAgICAgICAgIAogICAgICAgICAgICAgICAgICAgICAgICAgICAgICAgICAgICAgICAgICAgICAgICAgICAgICAgICAgICAgICAgICAgICAgICAgICAgICAgICAgICAgICAgICAgICAgICAgICAgCiAgICAgICAgICAgICAgICAgICAgICAgICAgICAgICAgICAgICAgICAgICAgICAgICAgICAgICAgICAgICAgICAgICAgICAgICAgICAgICAgICAgICAgICAgICAgICAgICAgICAKICAgICAgICAgICAgICAgICAgICAgICAgICAgICAgICAgICAgICAgICAgICAgICAgICAgICAgICAgICAgICAgICAgICAgICAgICAgICAgICAgICAgICAgICAgICAgICAgICAgIAogICAgICAgICAgICAgICAgICAgICAgICAgICAgICAgICAgICAgICAgICAgICAgICAgICAgICAgICAgICAgICAgICAgICAgICAgICAgICAgICAgICAgICAgICAgICAgICAgICAgCiAgICAgICAgICAgICAgICAgICAgICAgICAgICAgICAgICAgICAgICAgICAgICAgICAgICAgICAgICAgICAgICAgICAgICAgICAgICAgICAgICAgICAgICAgICAgICAgICAgICAKICAgICAgICAgICAgICAgICAgICAgICAgICAgICAgICAgICAgICAgICAgICAgICAgICAgICAgICAgICAgICAgICAgICAgICAgICAgICAgICAgICAgICAgICAgICAgICAgICAgIAogICAgICAgICAgICAgICAgICAgICAgICAgICAgICAgICAgICAgICAgICAgICAgICAgICAgICAgICAgICAgICAgICAgICAgICAgICAgICAgICAgICAgICAgICAgICAgICAgICAgCiAgICAgICAgICAgICAgICAgICAgICAgICAgICAgICAgICAgICAgICAgICAgICAgICAgICAgICAgICAgICAgICAgICAgICAgICAgICAgICAgICAgICAgICAgICAgICAgICAgICAKICAgICAgICAgICAgICAgICAgICAgICAgICAgICAgICAgICAgICAgICAgICAgICAgICAgICAgICAgICAgICAgICAgICAgICAgICAgICAgICAgICAgICAgICAgICAgICAgICAgIAogICAgICAgICAgICAgICAgICAgICAgICAgICAgICAgICAgICAgICAgICAgICAgICAgICAgICAgICAgICAgICAgICAgICAgICAgICAgICAgICAgICAgICAgICAgICAgICAgICAgCiAgICAgICAgICAgICAgICAgICAgICAgICAgICAgICAgICAgICAgICAgICAgICAgICAgICAgICAgICAgICAgICAgICAgICAgICAgICAgICAgICAgICAgICAgICAgICAgICAgICAKICAgICAgICAgICAgICAgICAgICAgICAgICAgICAgICAgICAgICAgICAgICAgICAgICAgICAgICAgICAgICAgICAgICAgICAgICAgICAgICAgICAgICAgICAgICAgICAgICAgIAogICAgICAgICAgICAgICAgICAgICAgICAgICAgICAgICAgICAgICAgICAgICAgICAgICAgICAgICAgICAgICAgICAgICAgICAgICAgICAgICAgICAgICAgICAgICAgICAgICAgCiAgICAgICAgICAgICAgICAgICAgICAgICAgICAgICAgICAgICAgICAgICAgICAgICAgICAgICAgICAgICAgICAgICAgICAgICAgICAgICAgICAgICAgICAgICAgICAgICAgICAKICAgICAgICAgICAgICAgICAgICAgICAgICAgICAgICAgICAgICAgICAgICAgICAgICAgICAgICAgICAgICAgICAgICAgICAgICAgICAgICAgICAgICAgICAgICAgICAgICAgIAogICAgICAgICAgICAgICAgICAgICAgICAgICAgICAgICAgICAgICAgICAgICAgICAgICAgICAgICAgICAgICAgICAgICAgICAgICAgICAgICAgICAgICAgICAgICAgICAgICAgCiAgICAgICAgICAgICAgICAgICAgICAgICAgICAgICAgICAgICAgICAgICAgICAgICAgICAgICAgICAgICAgICAgICAgICAgICAgICAgICAgICAgICAgICAgICAgICAgICAgICAKICAgICAgICAgICAgICAgICAgICAgICAgICAgICAgICAgICAgICAgICAgICAgICAgICAgICAgICAgICAgICAgICAgICAgICAgICAgICAgICAgICAgICAgICAgICAgICAgICAgIAogICAgICAgICAgICAgICAgICAgICAgICAgICAgICAgICAgICAgICAgICAgICAgICAgICAgICAgICAgICAgICAgICAgICAgICAgICAgICAgICAgICAgICAgICAgICAgICAgICAgCiAgICAgICAgICAgICAgICAgICAgICAgICAgICAgICAgICAgICAgICAgICAgICAgICAgICAgICAgICAgICAgICAgICAgICAgICAgICAgICAgICAgICAgICAgICAgICAgICAgICAKICAgICAgICAgICAgICAgICAgICAgICAgICAgICAgICAgICAgICAgICAgICAgICAgICAgICAgICAgICAgICAgICAgICAgICAgICAgICAgICAgICAgICAgICAgICAgICAgICAgIAogICAgICAgICAgICAgICAgICAgICAgICAgICAgICAgICAgICAgICAgICAgICAgICAgICAgICAgICAgICAgICAgICAgICAgICAgICAgICAgICAgICAgICAgICAgICAgICAgICAgCiAgICAgICAgICAgICAgICAgICAgICAgICAgICAgICAgICAgICAgICAgICAgICAgICAgICAgICAgICAgICAgICAgICAgICAgICAgICAgICAgICAgICAgICAgICAgICAgICAgICAKICAgICAgICAgICAgICAgICAgICAgICAgICAgICAgICAgICAgICAgICAgICAgICAgICAgICAgICAgICAgICAgICAgICAgICAgICAgICAgICAgICAgICAgICAgICAgICAgICAgIAogICAgICAgICAgICAgICAgICAgICAgICAgICAgICAgICAgICAgICAgICAgICAgICAgICAgICAgICAgICAgICAgICAgICAgICAgICAgICAgICAgICAgICAgICAgICAgICAgICAgCiAgICAgICAgICAgICAgICAgICAgICAgICAgICAgICAgICAgICAgICAgICAgICAgICAgICAgICAgICAgICAgICAgICAgICAgICAgICAgICAgICAgICAgICAgICAgICAgICAgICAKICAgICAgICAgICAgICAgICAgICAgICAgICAgICAgICAgICAgICAgICAgICAgICAgICAgICAgICAgICAgICAgICAgICAgICAgICAgICAgICAgICAgICAgICAgICAgICAgICAgIAogICAgICAgICAgICAgICAgICAgICAgICAgICAgICAgICAgICAgICAgICAgICAgICAgICAgICAgICAgICAgICAgICAgICAgICAgICAgICAgICAgICAgICAgICAgICAgICAgICAgCiAgICAgICAgICAgICAgICAgICAgICAgICAgICAgICAgICAgICAgICAgICAgICAgICAgICAgICAgICAgICAgICAgICAgICAgICAgICAgICAgICAgICAgICAgICAgICAgICAgICAKICAgICAgICAgICAgICAgICAgICAgICAgICAgICAgICAgICAgICAgICAgICAgICAgICAgICAgICAgICAgICAgICAgICAgICAgICAgICAgICAgICAgICAgICAgICAgICAgICAgIAogICAgICAgICAgICAgICAgICAgICAgICAgICAgICAgICAgICAgICAgICAgICAgICAgICAgICAgICAgICAgICAgICAgICAgICAgICAgICAgICAgICAgICAgICAgICAgICAgICAgCiAgICAgICAgICAgICAgICAgICAgICAgICAgICAgICAgICAgICAgICAgICAgICAgICAgICAgICAgICAgICAgICAgICAgICAgICAgICAgICAgICAgICAgICAgICAgICAgICAgICAKICAgICAgICAgICAgICAgICAgICAgICAgICAgICAgICAgICAgICAgICAgICAgICAgICAgICAgICAgICAgICAgICAgICAgICAgICAgICAgICAgICAgICAgICAgICAgICAgICAgIAogICAgICAgICAgICAgICAgICAgICAgICAgICAgICAgICAgICAgICAgICAgICAgICAgICAgICAgICAgICAgICAgICAgICAgICAgICAgICAgICAgICAgICAgICAgICAgICAgICAgCiAgICAgICAgICAgICAgICAgICAgICAgICAgICAgICAgICAgICAgICAgICAgICAgICAgICAgICAgICAgICAgICAgICAgICAgICAgICAgICAgICAgICAgICAgICAgICAgICAgICAKICAgICAgICAgICAgICAgICAgICAgICAgICAgICAgICAgICAgICAgICAgICAgICAgICAgICAgICAgICAgICAgICAgICAgICAgICAgICAgICAgICAgICAgICAgICAgICAgICAgIAogICAgICAgICAgICAgICAgICAgICAgICAgICAgICAgICAgICAgICAgICAgICAgICAgICAgICAgICAgICAgICAgICAgICAgICAgICAgICAgICAgICAgICAgICAgICAgICAgICAgCiAgICAgICAgICAgICAgICAgICAgICAgICAgICAgICAgICAgICAgICAgICAgICAgICAgICAgICAgICAgICAgICAgICAgICAgICAgICAgICAgICAgICAgICAgICAgICAgICAgICAKICAgICAgICAgICAgICAgICAgICAgICAgICAgICAgICAgICAgICAgICAgICAgICAgICAgICAgICAgICAgICAgICAgICAgICAgICAgICAgICAgICAgICAgICAgICAgICAgICAgIAogICAgICAgICAgICAgICAgICAgICAgICAgICAgICAgICAgICAgICAgICAgICAgICAgICAgICAgICAgICAgICAgICAgICAgICAgICAgICAgICAgICAgICAgICAgICAgICAgICAgCiAgICAgICAgICAgICAgICAgICAgICAgICAgICAgICAgICAgICAgICAgICAgICAgICAgICAgICAgICAgICAgICAgICAgICAgICAgICAgICAgICAgICAgICAgICAgICAgICAgICAKICAgICAgICAgICAgICAgICAgICAgICAgICAgICAgICAgICAgICAgICAgICAgICAgICAgICAgICAgICAgICAgICAgICAgICAgICAgICAgICAgICAgICAgICAgICAgICAgICAgIAogICAgICAgICAgICAgICAgICAgICAgICAgICAgICAgICAgICAgICAgICAgICAgICAgICAgICAgICAgICAgICAgICAgICAgICAgICAgICAgICAgICAgICAgICAgICAgICAgICAgCiAgICAgICAgICAgICAgICAgICAgICAgICAgICAgICAgICAgICAgICAgICAgICAgICAgICAgICAgICAgICAgICAgICAgICAgICAgICAgICAgICAgICAgICAgICAgICAgICAgICAKICAgICAgICAgICAgICAgICAgICAgICAgICAgICAgICAgICAgICAgICAgICAgICAgICAgICAgICAgICAgICAgICAgICAgICAgICAgICAgICAgICAgICAgICAgICAgICAgICAgIAogICAgICAgICAgICAgICAgICAgICAgICAgICAgICAgICAgICAgICAgICAgICAgICAgICAgICAgICAgICAgICAgICAgICAgICAgICAgICAgICAgICAgICAgICAgICAgICAgICAgCiAgICAgICAgICAgICAgICAgICAgICAgICAgICAgICAgICAgICAgICAgICAgICAgICAgICAgICAgICAgICAgICAgICAgICAgICAgICAgICAgICAgICAgICAgICAgICAgICAgICAKICAgICAgICAgICAgICAgICAgICAgICAgICAgICAgICAgICAgICAgICAgICAgICAgICAgICAgICAgICAgICAgICAgICAgICAgICAgICAgICAgICAgICAgICAgICAgICAgICAgIAogICAgICAgICAgICAgICAgICAgICAgICAgICAgICAgICAgICAgICAgICAgICAgICAgICAgICAgICAgICAgICAgICAgICAgICAgICAgICAgICAgICAgICAgICAgICAgICAgICAgCiAgICAgICAgICAgICAgICAgICAgICAgICAgICAgICAgICAgICAgICAgICAgICAgICAgICAgICAgICAgICAgICAgICAgICAgICAgICAgICAgICAgICAgICAgICAgICAgICAgICAKICAgICAgICAgICAgICAgICAgICAgICAgICAgICAgICAgICAgICAgICAgICAgICAgICAgICAgICAgICAgICAgICAgICAgICAgICAgICAgICAgICAgICAgICAgICAgICAgICAgIAogICAgICAgICAgICAgICAgICAgICAgICAgICAgICAgICAgICAgICAgICAgICAgICAgICAgICAgICAgICAgICAgICAgICAgICAgICAgICAgICAgICAgICAgICAgICAgICAgICAgCiAgICAgICAgICAgICAgICAgICAgICAgICAgICAgICAgICAgICAgICAgICAgICAgICAgICAgICAgICAgICAgICAgICA8P3hwYWNrZXQgZW5kPSd3Jz8+/9sAQwADAgIDAgIDAwMDBAMDBAUIBQUEBAUKBwcGCAwKDAwLCgsLDQ4SEA0OEQ4LCxAWEBETFBUVFQwPFxgWFBgSFBUU/9sAQwEDBAQFBAUJBQUJFA0LDRQUFBQUFBQUFBQUFBQUFBQUFBQUFBQUFBQUFBQUFBQUFBQUFBQUFBQUFBQUFBQUFBQU/8AAEQgC+QJ8AwEiAAIRAQMRAf/EAB8AAAEFAQEBAQEBAAAAAAAAAAABAgMEBQYHCAkKC//EALUQAAIBAwMCBAMFBQQEAAABfQECAwAEEQUSITFBBhNRYQcicRQygZGhCCNCscEVUtHwJDNicoIJChYXGBkaJSYnKCkqNDU2Nzg5OkNERUZHSElKU1RVVldYWVpjZGVmZ2hpanN0dXZ3eHl6g4SFhoeIiYqSk5SVlpeYmZqio6Slpqeoqaqys7S1tre4ubrCw8TFxsfIycrS09TV1tfY2drh4uPk5ebn6Onq8fLz9PX29/j5+v/EAB8BAAMBAQEBAQEBAQEAAAAAAAABAgMEBQYHCAkKC//EALURAAIBAgQEAwQHBQQEAAECdwABAgMRBAUhMQYSQVEHYXETIjKBCBRCkaGxwQkjM1LwFWJy0QoWJDThJfEXGBkaJicoKSo1Njc4OTpDREVGR0hJSlNUVVZXWFlaY2RlZmdoaWpzdHV2d3h5eoKDhIWGh4iJipKTlJWWl5iZmqKjpKWmp6ipqrKztLW2t7i5usLDxMXGx8jJytLT1NXW19jZ2uLj5OXm5+jp6vLz9PX29/j5+v/aAAwDAQACEQMRAD8A+2P+Fb2//Qe8R/8Ag3m/xpD8ObZRk6/4iC9z/bE3+Ndc3CknhQMkk4AFcX4k8SG8Z7W1Y+R0dxwX9vaugyHw+CLe11aCGTVdduUkgkcrNrFzwytGOquP7xrT/wCEJ0//AJ+dX/8ABzef/Hq0J/8AkPWnPP2acH/vuKr1AGD/AMITp/8Az86v/wCDm8/+PUf8ITp//Pzq/wD4Obz/AOPVvVDe3kOnWc91cSLFbwIZZJG6KqjJJ9gBSeiuC1djmrbRfDt5qd5p1vrF7PqFkIzdWkev3TSwBwShdBNldwBxkc44q7/whWn/APPzq/8A4Obz/wCPV4J8OfEGtaf428LeLtX8L6lokHiuS7t77UrprbyJPtDCXTwFSd5FKpEsP7xFwZCOpAP0z7f5/wA8VVtLg9HYwf8AhCdP/wCfnV//AAc3n/x6lHgrT9w/0rVxz1/tm84/8i1u0UhXOV0nwjZXFq7yXWsMwnmQf8Tq86LIygf630AH4Vc/4QnT/wDn51f/AMHN5/8AHqv6H/x5Sf8AXzcf+jnq/QFzB/4QnT/+fnV//Bzef/HqP+EJ0/8A5+dX/wDBzef/AB6t6ipk3GLaKjZtI4HQb7wL4q1K40/RfF41i/t1LTWth4onnljAYKSyrOSACQOR1OK6D/hCtO6fadXz/wBhm8/+PV85/CPWvt2vfDdF8Q6F4hk0+5v7b+w9Li26hpiSiUNPct5sm5BgLgpEMyryTgH6qHTpj8c/hV20TJ6mD/whOn/8/Or/APg5vP8A49R/whOn/wDPzq/r/wAhq8/+PVvUf4f0pBc5aTwjZLq1tALvWBE8Erlf7ZvOSGjAP+t9GNW/+EJ0/wD5+dX/APBzef8Ax6r83/Ifs/8Ar2m/9Chq/QFzB/4QnT/+fnV//Bzef/HqP+EJ0/8A5+dX/wDBzef/AB6t6j9fb1oC5yGvad4Y8K6c2oa3rt1o9grBGur/AMQ3MEQYnABZ5wMk+9WtP8M6Lq1jBe2WpaleWdwiyw3Fvrt28ciMAVZWE2CCCCCOua5b4haxp/hf4qeEtZ8RXMNh4dhsb6CHUL1wlrbXrmHaXdvlRmiWZVLEZ+ZRy2D3fhm80nUNDt7rQxD/AGTMWkga2j2ROGYkugwAVcksGHDbtwJBBojqrjb1sVP+EJ0//n51f/wc3n/x6j/hCdP/AOfnV/8Awc3n/wAereop6iuYP/CE6f8A8/Or/wDg6vP/AI9VTR/CNldaRYzS3esPJJAjs39s3nJIyf8Alr+P411VZ/h//kA6b/17Rf8AoIo1C5Q/4QnT/wDn51f/AMHN5/8AHqP+EJ0//n51f/wc3n/x6t6l7jPTPpRqFzz1NU8AyeIj4fTxlG2vCUwnS18VTm68wDJTyvtG7cB2xmuj/wCEJ0//AJ+dX/8ABzef/Ha8J1zxP4bu/A3xT8KTXtpqHim71i/XT9Bt51k1B7ghTA8cQJcbXCuHAwoUtkAZr6M06OeHT7VLlxLcrEqSyAAbnCgEjA6E0otyjdjlozJ/4QnT/wDn51f/AMHN5/8AHqP+EJ0//n51f/wdXn/x6t6loFc5XR/CNldaRYzS3esPJJAjs39s3nJI5/5a/wCc1n+Jm8F+Co7d/EPil9BS4JWFtT8TXFsJCMZC75xkjI6etdV4f/5AOm/9e0X/AKCK8p+NfiA+GviJ4CvP+El0Pwn/AKPqSf2h4gj32wysHyY86H5jjj5+x4PZX1iu7sWtVJ9j0DT/AAzourWNveWWpaleWdwiyw3Fvrt28ciMMhlYTYIIOQRUcfhGzbV7mE3esGNYInC/2zedS0mf+WvsPyrd0XUIdV0mzu7a8tdRgmiV0urEgwTAgfNHgsNp6jDHgjk0yH/kPXn/AF7Qf+hS1RCehQ/4QnT/APn51f8A8HN5/wDHqP8AhCdP/wCfnV//AAc3n/x6t6ikBg/8ITp//Pzq/wD4Obz/AOPVh+JpfBXgoWx8Q+Km0EXO4Qf2n4muLbzduN23fON2MjOOmRXdV5X8RbfWrj4xeBk0K/sNNvf7L1bM2o2L3ce3zLMFdiTRHOcc7u2MHPC7eZXST7HYWXhfR9Ss4Lu01DUrq1nRZYp4dcu3SRGGVZWE2CCCCCKm/wCEJ0//AJ+dX/8ABzef/Hq2bNZls4FuZI5rhUUSSQxmNGfHzFVLMVBOeCTj1PWpaq2pPQwf+EJ0/wD5+dX/APBzef8Ax6j/AIQnT/8An51f/wAHV5/8erepaAOV0fwjZXWkWM0t3rDySQI7N/bN5ySOf+Wvr/Oo9c0nw34Z0ybUdY1u80nT4SBJd33iC6hiTJAG52mAGSQOT3re8P8A/IB03v8A6NF+PyivN/ipe22g/ETwjrWvSwWnh20s72OHVL5GezsNRcwiCafkBAU81VZmXBZlyC4qW9UVbRs6rQtL8NeKNNj1HRtbu9X0+QkJd2PiG6niYg4IDrMQcHjrUl94RsobnT0S71cLLOyOP7ZvOV8qQ4/1vqBWD8FvFM3iyDxRdS3WhaskWreRFrPh618i31BVtoCZD++l3MpYxZDnAiA4wRXcan/x+aV/18t/6Jlqmie5Q/4QnT/+fnV/T/kNXn/x6j/hCdP/AOfnV/8Awc3n/wAerf8A8aSkBzl34V0jT7Wa6ur/AFO2toUaSWabXLtEjRRlmYmbAAAJJPpUT6BoMb2SNqt+r3pK2qtr12DOQpciP9983ygtxngE9Kb8Wc/8Ks8Y46/2NeY/78vXmtvZeKbfxR8In1vWdH1GxaeUQQ6fpMtpIh/s6fBZ3uZQwAyDhVyTn2pJ3ko+Y2rRb7Hq3/CE6f8A8/Or/wDg5vP/AI9R/wAITp//AD86v/4Obz/49W9RTFc5XWfCNla6PfTRXerrLHBI6t/bN5wQpx/y1q7/AMITp/P+k6xyef8AidXn/wAdq94g/wCQDqX/AF7S/wDoBrQoC5gf8ITp/wDz86v/AODm8/8Aj1H/AAhOn/8APzq//g5vP/j1b1FKV0m0ONm0mc3ZeF9G1K2W4tNR1K6t2yFlh1y7dDgkHBE2OCCPwqb/AIQnT/8An51f/wAHN5/8erH+C/8AyTfSz/00uP8A0okrtqtqxKd9zB/4QnTzkfadXx/2Grz/AOO1UsfCNnNdagj3erlYpwiD+2bzgeVGcf631JrqfSqGm/8AH5qv/Xyv/omKpHcof8ITp/8Az86v/wCDm8/+PUf8ITp//Pzq/wD4Obz/AOPVvUUwMBvBmmopZrrVlUDJJ1q8wP8AyNUNj4Z0XVLKC8stR1K8tLhFlhuINdu3jkRhlWVhNggjkEVoeK9c07w34dv9R1a/ttMsIYj5l1eSrFGmeBlmIAySB9TXPfBCGS2+DXgaKWN4ZV0SyDRyKVZT5CcEHoaQ3smbH/CE6f8A8/Or/wDg5vP/AI9R/wAITp//AD86v/4Obz/49W9RQK5y194RsobnT0S71cLLOyOP7ZvOV8qQ4/1vqBVv/hCdP/5+dX9P+Q1ef/Hqv6n/AMfmlf8AXy3/AKJlrQ/xoC5gf8ITp/8Az86v/wCDm8/+PUf8ITp//Pzq/wD4Obz/AOPVvUUBcwf+EJ0//n51f/wc3n/x6q83hvRLe8gtJdT1GK6uFdoYH127DyKuNxVfOyQMjOOmRXTV4b+0RpGs614o8I2mi75Jms9Ra5s4X8ua8tgbYzW8cm4eU8iBlD9s9idyzfVLu7FpaSfY9L03w7oesWUV5YapqF9aSgmO4tteu5I3wcHDCYg1Z/4QnT/+fnV//Bzef/Hqf4J1jR9e8J6Ve+H/AC10eS3RbaKKMRiJFG0R7B9wqQVKYBUqQRxW3VtakJ6GD/whOn/8/Or/APg5vP8A49R/whOn/wDPzq//AIObz/49W9RSC5nSNqUq7HsLJw3GGuWP/tKqx06bp/Y+mZHrMT+P+qql8S5NXt/BGr3Oi6muk3ltbS3BuPsyzvtSNmwgY7QxIHLK4xn5TnjQ8H38+qeEdEvbl/NubmxhmlfaFDO0YZjgcDknpSQyWzs9W1TxDbRx21ksy2sz7Wun27d0OefKyDnHGMVv/wDCK+IP+ffTf/AyT/4zS+Ff+Ryg/wCvC4/9GQV6BUSk0ykjz7/hFfEH/Pvpn/gbJ/8AGaP+EV8Qf8+2mH/t9k/+M16DRU8zKseff8Ir4g72+mt9b2Q/+0f89qB4X8Qt1t9N/G9l/wDjVeg0Ucz2Cyvc8+/4RXxB/wA++mf+Bsn/AMZpR4V8QjnyNNHv9sk/+M16BRRzMLI83sfBfiGzgaPydNfMkkn/AB+SfxOWx/qe2cVP/wAIr4g/599M/wDA2T/4zXoNFHMwsjz7/hFfEH/Pvpn/AIGyf/GaP+EV8Qjpb6bn/r9k/wDjNeg0UczCx59/wi/iHP8Ax76aP+32TP8A6J4o/wCEW8Qnrb6b/wCBsnH/AJBr0GijmYWPPv8AhFfEH/Pvpn/gbJ/8Zpf+EV8Q/wDPvpo/7fJP/jNegUUczCyPN38F+IZL+G58nTR5ccke37ZJzuKHP+p/2P1qf/hFfEH/AD76Z/4Gyf8AxmvQaKOZhZHn3/CK+IP+ffTP/A2T/wCM0f8ACK+IP+ffTP8AwNk/+M16DRRzMLI8+PhbxD2t9Nz/ANfkn/xmj/hFfEHa303HTH2yTj2/1Neg0UczCyPPv+EV8Qf8++mf+Bsn/wAZo/4RXxB/z76Z/wCBsn/xmvQaKOZhZHn3/CK+IP8An303/wADJP8A4zUGn+C/ENlp9tbGLTXMMSx7vtkgzgY/54/5zXpFFHMwsjz7/hFfEH/Pvpn/AIGyf/GaP+EV8Qf8++m46f8AH5J/8Zr0GijmYuVHn3/CL+Icn/R9Nz6/bJM+nXyu9H/CL+IWz/o+m/8AgbJ/8Z+leg0UczHY8+/4RXxB/wA++mf+Bsn/AMZo/wCEV8Qf8++m/wDgZJ/8Zr0GijmYWR5tYeDfENjp9tbmHTZDDGse77ZIM4GP+ePf+tWP+EW8QdPs2m9+ftsgPt/yxr0GijmYWPPh4V8Q4H+j6Z0/5/JAB/5BqBPBfiFdQmuPK00+ZFHHt+2Sfwlzn/U/7f6V6RRRzMLI8+/4RXxB/wA++mf+Bsn/AMZo/wCEV8Qf8++mf+Bsn/xmvQaKOZhZHn3/AAiviH/n303/AMDZP/jNA8LeIc4+zaaAOn+mP/8AGfpXoNFHMwtpY8+/4RbxCetvpv8A4Gycf+QaP+EV8Qf8++mf+Bsn/wAZr0GijmYWR59/wiviD/n30z/wNk/+M0f8Ir4g/wCffTf/AAMk/wDjNeg0U+ZhZHm+n+C/ENjp9tbGLTXMMSx7vtknOBj/AJ4/5zU//CK+IR0t9N/8DJP/AIzXoNFLmYuVHno8L+IOB9m03Hb/AE2T/wCM1BceDPEFxNaSeTpq+RIZMfbJPm+Rlx/qf9r9K9Joo5mOyPP/APhFfEP/AD76b/4GSf8Axmk/4RXxB/z76Z/4Gyf/ABmvQaKOZhZHn3/CK+IOR9n03/wNk/8AjNKfC/iAn/j300/9vsn5f6np/ia9Aop8z3DlR59/wi3iHOPs+m/+Bkg/9o0f8Ir4g/599N/8DZP/AIzXoNFLmYuVHm2oeCvEN9p9zbeTpqedE0e77ZJxkEZ/1NWf+EW8Qtn/AEfTf/AyT/4zXoFFHMx2R59/wiviD/n30z/wNk/+M0v/AAiviAc/Z9N/8DJP/jNegUUczCyPPv8AhFvEJ/5d9N/8DJP/AIzR/wAIr4g/599M/wDA2T/4zXoNFHMwsjz7/hFfEI/5d9M/8DZP/jNQW3gvxDbzXcnlaa3nyiTH2yT5cIi4/wBT/s/rXpFFHMwsjz7/AIRXxB/z76Z/4Gyf/GaP+EV8Qf8APvpv/gZJ/wDGa9Boo5mLlR59/wAIr4h/599Nx/1+yf8Axmj/AIRbxAc/6Npg7/8AH5J/8Zr0GijmY7Hn3/CK+IP+ffTP/A2T/wCM0f8ACK+IP+ffTP8AwNk/+M16DRRzMLI83ufBfiGea1k8nTV8iQyYF5J82UZcf6n/AGv0qx/wiviH/n303/wMk/8AjNegUUczCyPPv+EV8Qf8++mf+Bsn/wAZo/4RXxB/z76Z/wCBsn/xmvQaKOZhZHn3/CLeIF5+zaaf+3yT/wCM0n/CK+IP+fbTe/JvJP8A4z/nivQqKOZhboefDwt4g5/0fTf/AAMk5/8AIP8An8aP+EV8Qf8APvpn/gbJ/wDGa9Boo5mLlR59/wAIr4g/599M/wDA2T/4zR/wiviD/n30z/wNk/8AjNeg0UczHZHg3jO307xn4fudIXxS2jR3StHLNp8tsZHjZSrJ++jkUAg9QueBgin+EV03wp4fs9KPidtYS2j2RXWoS26ymMDCqfKRFOAAM7c+tafiTXJtBsY5rbSNR124klESWWmrGZGOCSS0rpGqgKTl3UZwBkkAx+DvFVp428P2+q2cU1vHI0kT290oWWGWN2jljcAkBlZGU4JGQSCQQTtEzZv+C9Qtb7xlF9muYbjbYT7vKkDYzJBjOK9Irz/wr/yOEH/XhcfX/WQYr0CsZbmi2CkyKWuJ+KXxMi+GOm6PMdC1XxJeatqUel2enaObcTyTOkjjm4mijChYmyS47dai9tytztc0bh61zHhbxlFrdtCmo2E/hfWmge6k0DVrm0a9ghEhTzXFvNKmwkcMrkcgHByBVX4v+A5ta0bRo/G3h2TWNat0u9M09dWtzcX0LhiksEe/dKjBWwygghTg8UCOx3D1o3D1rgvhz8VrDx1b3wmW20m8t9T1awispLtXlnisLxraS4VSFO3IjLYBCGRQScgm/qPxY8D6WfDq3njLw/aN4i2HRRPqkCHVN23b9my377d5iY2ZzvX1FN+7ox2Z124etG4eteXeMPjz4c8F+A9S8S6heaXpnk31xpdtb6zr1hZx3N3DK8fl/aDOYkyY2YqW8xVVg0YdSldDqXxW8HeGW0631/xZ4d0S+vltxDb3Wqwx+a8+8RLFvKl95jlCYHzeW2BwQBCOw3D1o3D1rE8WeMdA8CaHLrPiXW9N8PaRCyrLqGq3cdtbxliFUGSQhQSSAMnknFcH4a/aM8HXfgu58UeI9d0Pwfoq63f6La3mqaxDFb3TW9xLErpK5RSZFhMgUZwM4LAZpd7B0PV80ZB6VxHxO+JEXw/8F2/iGC1TWIpr/TrNFjuNist1dw24kDgNkKJt+APm24yM5F6x+JnhC98ZXPhG38VaJP4st4/Nn0GPUYWv4kwrbmgDeYow6HJHRh6jLA6qkrn/AAn8QPC/jyO+k8M+JNI8RR2M5trt9JvoroW8wGTHIY2O1x/dODVDTfi94E1e48QQWPjXw7ezeH0d9Zjt9VgkbTVTcHNyA/7kLsfJfGNpz0NK4HX5FG4etcL/AML2+GmWH/CwvCuV1AaQ3/E7tuL05xan5/8AXHB/d/e4PFaGofFLwZpniW28OXfi3QbTxDczm2g0mfUoUu5ZQiSGNIi25m2SRttAztkU9CKOlwOq3D1oyK8t0X9oDwrH4Vv9f8W6vo/gbTrfX9R0CObWtVigimktbqaAFXk2Dc4hZ9nJHIy2M11Wv/E/wd4UutFtNb8W6Fo91rThNLh1DUoYHv2JUAQK7Aykl0GFz95fUUw6nUbh60ZrzD4sfHrw18MWh05tT0m/8Uy3Onxp4dOpxQ3rQXN7Fa+eIvmcovmlshcHYRkdR0tj8TPCF94yufCMHirRJ/FltH5s+gxajC1/EmFbc0AbzFG10OSvRh6igDqsijNc94T+IHhfx5FfSeGfEmkeIo7Gc2t22k30V0LeYDJjkMbHawH8JwazLH40fD7UrjU7ez8deGrqfTFuGv44dXt3a0EGPtBlAf5BHuXfuxtyM4zSA7TNGRWLfeMtA0oamb7XNNs/7MtFv777Rdxp9ktm37Z5cn5Iz5UmHbAPltz8pqvoPxB8L+K/DD+JNC8SaTrXh+NZGbVdPv4p7UCPPmEyoxT5cHPPGDmhu2rDrY6LcPWjIry/wX+0p8NfHHgl/Fll4z0K30SGaS3nubrVbZVgkQOxWRhIVU7I2kAJzsG7pXRt8VvBP/CQaToA8Y+HzrmrQLd6dpn9qQfaryFlZllhi3bpEIViGUEEKeeKYk7nW5HSjNeY/DX49+GfH2rahobanpOmeJ7XUtSsk8PtqkUl7LBaXctt9pEPyvsbyS33SF5GTjNatx8aPBk2m+LJ9J8SaP4iuvC0Es2rafperWjT2flhyyTb5VSBsxuMzMigqckYJA9HYZ3O4etLXJH4oeErXxLpfhu88TaPp/ifU4FubTQbrUrdb6ZCCcpCHLOMK/KZHytgnFS2HxP8H6t4obw3ZeLNDvPESpJIdIt9She7CxyNFI3kht+EkR0Y44ZSDyCKAOnzRuHrXnXxn+N/hr4MeFdT1DVdW0lNai0y81HTtDvdSjtbjVDbwtI0cIbLMeACVVsbhwa1F+K3hC21/SPD+oeJ9E03xRq1ulxaaDc6lCl9OjBiDHCWDuPlcZVSPlPoaNWtB9LnY7gO9G4VyD/FrwP5/iK3HjPw+Ljw7GZdai/tSDfpiAElrkb8wgYPL46GuW8K/tG+Dtei8bapca7oem+EfDd/b2a+JpdXhNhdLNa286yCYkRqN1wIx8zZKjnJ2gF0uesZozWboviLSvEmi22saTqdnqmkXUYmg1CyuEmgljIyHSRSVZcdwcVzdr8bvh1feEr3xVbePvC9x4YsZhbXetxazbNZW8p2gRyTB9it86cEg/OvqKAO2yKNwrktQ+LfgbStN0LUL7xl4fs9P15kTSLq41SCOLUWfBQW7l8SkhlxsJzketWbP4keEtQ8YXnhK18U6Lc+K7OPzrnQ4dQhe+gjwp3vAG3qMOnJGPmX1FAjpNw9aNw9a5jxV8SvCHgTUNLsvEvivRfD17qjmKwttV1GG2ku3yoKxLIwMhy6jC55Yeoq54t8YaD4E0OXWfEmt6b4e0iFlWTUNWu47W3jLEKoMkhCgkkAZPJOKV9LgbeR60Zryjw3+0Z4PuvBNz4p8R69ofg/RV1u/wBFtb3VNXhit7k29xLCrpK5RSZFhMgUZwM4LAZrsr/4keEtP17SNDu/FOi2utaxH5um6bPqEKXN8mCd0MZbdIMAnKg9Kb03GdJuHqKXcPWvLbX4/eGda+KmmeDNB1TSfELTW2pS393pupxTnTZrR7ZDBMiZ2u32g53FSvlkYOcjrPBfxI8JfEmyuLvwj4n0XxTa2svkzz6LqEN5HFJjO1mjZgGwQcHnBpdLh1sdNuHrRkV5bo37QPhWPwrf694t1fR/A2nW+vajoEU2tarFBFNJa3M0AKvJsG5xCz7OSBnlgM16HqWuabouj3GrahqFrY6Vbwtcz31zMscEUQXc0jOxChQoyWJxjmm/d3H1sX9w9aNw9a8R+Kn7VngnwP4H0LxBonijwhr6a9qQ03Tbi68TQWmmyOCTM8l2qyhUjAO4qjYYopA3V1f/AAuzwho3hca54p17RvB1n/aE+lmbV9Zs0ha5id0ZElEpQkmNyEJWQAYdEYMoFrcR6HketLXEXHxY8MaPLrh1rV9P8PW2k3X2SW71PU7WOJ2+yrdHH70smIizlZAjbUZwpTDmbVvjD4D0Dwrp3ibVPG3h3TfDmolVstYvNVgis7ospZRFMzhHyASNpOQDQGzsdhS1mp4g0uTVINMXUrNtSntjeRWazoZpIAyqZVTOSgZlG4DGWAzzWiKAFooooAKKKKACiiigAooooAKKKKACiiigAooooAKKKKACiiigAooooAKKKKACiiigDwP4nar4o0vw0P8AhEtFl1nVbiZIWMUkAa1iOd8wWaSNHZQOELDLEZ4Bqz8ONPTSfB9jYx6PqGiLCGQ22qyQSXLtuJaWRoJJELOzFzhurHp0rW/s24/6Ct5/3xB/8bo/s24/6Ct2QR3SHn/yHXTHRsylrY3fCv8AyOMH/Xhcf+jIK9ArzjwXay2/jGLzLua6zYT480INv7yDptVf5V6PWEtzRbCV4x+1D4K1Xxp4e8Irpmha14ij03xHBqF5ZeHdVXTL826wTozQ3DXNvtYNInSVSQT15FeztntXJ+N/hP4I+KH2L/hMvBnh/wAWfYd/2X+3NLgvfs+/bv8AL81G2btiZx12L6Cs2rlJ2PDPip8NfGninwT4QvfA3h7XPD+uLFeeGL+18SavDdaha6VegJNcvcfapxM8TxQTL++dyAw6nFUdZ+DnibTbzxR4K0fwS0uka34j0jWLDxfHdWq2+mWtqlkojkjaQXHmwCyYRBImQ748snzkesf8MnfBH/ojnw//APCXsf8A41R/wyd8Ef8Aojnw/wD/AAl7H/41TklJWYtVqjy/Rfh7498CeJLHW7bwdNrobUfF1q9pbahaxvDFqOpxXNpdMZJFXydkHzhS0qiRcRsQVFb4W/DPxr8L7fwzFqfw7Pi7+0vBGg+G7yNb6y8rSLi080TpcmVwXgJnD7oFmYmJvkJ2lvWf+GTvgj/0Rz4f/wDhL2P/AMao/wCGTvgj/wBEc+H/AP4S9j/8aqpScm2xy95JdjyfRfhz43+HXi6HxUfAV34xh+3eK4Bo9he2KXFvHf6mLm3uUNxPHGUkij2uN+9dyfIfnAybX9mnxZp/w/8AGOjXGiWepajcfCSDwrYNFLEY/toa/c2cTSEMsaGa2UM4VSFQ5BUge3f8MnfBH/ojnw//APCXsf8A41R/wyd8Ef8Aojnw/wD/AAl7H/41Tvq5C7Gf8WvDHiOSP4aa9pugXHiqfwtqq317odtcQR3E4eyuLfzImnkSIyRPOrje65AfDZwD4Vp/wL+JHht/DmvWmh69oRtL/wATxy6H4JuNDlurWG/1FbmB4/7RQ2zRGOPawUpICycEblH0L/wyd8Ef+iOfD/8A8Jex/wDjVH/DJ3wR/wCiOfD/AP8ACXsf/jVT38x3Ob8QfCO/h/Zt8JeDfD2n6pLPplzoLpZ6zPa/bYYba/tZpVleJvILxxxvxGSh2YTI21yGg/C/xlBqmgeG7rwTPFa+H/F+qeJpfGC3tps1KCc3bBIUE3nC4lF2sUglSOMBZCJCNmfU/wDhk74I/wDRHPh//wCEvY//ABqj/hk74I/9Ec+H/wD4S9j/APGqOrfcnol2MT9nnwz4x0Pwfr/h/VrPWtC8PWrJZ+GbfxHNYzanaWogVSjyWMjxtGjcRlnMuFO9icMfDvC/7O/jmP4W6p4a1XTfG1x4h0bwHqvhnSmvbjw6uhTyTwJEUtmtVjuysjxRuhulXAXMhD9foz/hk74I/wDRHPh//wCEvY//ABqj/hk74I/9Ec+H/wD4S9j/APGqSVmmPueXfEb4B61qEPxJ/sHwtaxyaj8LrTwxpJtzbxH7VG16TbISw2KoktsE4ThcH5MDnNQ8K694w+JPxl8N6R4O+2Tal4q8PyT+JhcWyR6etrZ6dOTMGcTEqFYxCNZfndg3lqdx9zb9k34I7Tj4OeAM/wDYsWQ/9pUD9k/4JZOfg38P8f8AYr2P/wAaqnquVlOV09NzwvUvgl8RtD8RaZ4jsrXxKgttV8VJJbeE5dFe/EN/qQuIJ1GphoDG8UYDgMsqlkGCN4Gb8V/gn8TZPhlJ4F8GaN4o/sOXwRb6RYhbjQFuHuFE+621aaZWbbGHjEX2H5Qzy/OgIdfof/hk74I/9Ec+H/8A4S9j/wDGqP8Ahk74I/8ARHPh/wD+EvY//GqG3J8z73J7eljyH4gfCfxreat4t0i08BjxBHrXjDQfE8HiV72zSO3gtmsEmiKyP53nRrbTFQFKGOQ4cMfLNzQvhj4xg1TQPDd14KuI7bw74v1TxLL4wF5abNSgnN2yxwqJvPFxKLtYpBKkcYCyYc4TPqX/AAyd8Ef+iOfD/wD8Jex/+NUH9k/4I/8ARHPh/wD+EvY//GqO/mD1MP8AZ78M+MdD8H6/4f1az1rQfD1qyWfhm28RzWM2p2lsIFXY8ljI8bRo/EZZzLhTvYnDHwJvhr4ov5PB/wAO7nwTB4W1+3+FviLwrBfXF3bvFqEoSxiEqNCXZbdmbePMCvmR8xqRlvpg/sn/AARK8fBzwB+Hhex/+NUi/sn/AAT6n4OeASfT/hGLH/41SWjT7D6M8W8cfDH4k/FdvGmt/wDCI6j4RludP8MGx06fUNOmvLmTTtQubm4iHzT2yuQyGPzd0bEx79vzhPYP2f8AwbqGg2finVNWg8ZQaxrmoLc3X/CaPpBuJGS3ihWRF0v9wFKIq8/OSnPGCbY/ZP8Agjz/AMWc8Af+EvZf/GqP+GTvgj/0Rz4f/wDhL2P/AMapP3k13B6nnui/DfxZqfhf4f6Hqng+e0Phbxw1/PJeXFnLDcWqm8aO7h2Ss20NLCQrqkit/BxmsP4ufD34q+L/AIovHZaVqi+HYvFuiaxbvpsmjw6XPaW8to08ty0i/b2u18uVcIVjMUcagnBV/Xv+GTvgj/0Rz4f/APhL2P8A8ao/4ZO+CP8A0Rz4f/8AhL2P/wAaoEtE0eTeGfhT40t/EVnph8Cx6Utr8QtY8Zt4ne7tDBPBLJeLFGVjczmeRJYkIMZUQ9X3jyx5p4g8AfE6z8H+MfEXjTTdW02w074U+INGuEv5NGjsba6kjt2WHT4rFRJ9kxFII/tDNIAgBCscv9Sf8MnfBH/ojnw//wDCXsf/AI1SN+yf8EccfBz4f5/7Fex/+NU7u6Y76WPE/HXw7+KvirxlYQ2uj6tH4fh8SeH9WhOnvo8OmS2lu1m00t0ZU+3teL5cowhWPy0jUMSCrdb4e+C/iLS7jwncjQY7a5tPihrfiS8mjlhDixuV1JIpyQ2W3rPbKVBLgEAgbTjv1/ZP+CXQ/BvwBj/sWLI/+0qX/hk74I/9Ec+H/wD4S9j/APGqpSs7oHq7nmX7RPwy8X65qHxQi0TwKvjeHxt4MTRLOd7y1hj065gN2wWYTuG2sbiN42jV/wB5H84jGJKxLr4F+MF+JeuW+pQ+OLrwvr2taTrIm8MTaAtlC1vFaIouzeAXqtFJahv9HZhs27MNuFe0f8MnfBH/AKI58P8A/wAJex/+NUf8MnfBH/ojnw//APCXsf8A41ULawX0a7njusfDX4g3yeL9P0fwtrieDLbWLDxFZeHPEl3pjPe3ceq/bLuGykhmfEEqqWC3jLiRkClEzsyNe+DPxE1nWtb8Y2HhbVvCbt45h8RwaPot3pEmpy27aMlm8qfafMs/tCyszOshxgSFJGOxn95/4ZO+CP8A0Rz4f/8AhL2P/wAao/4ZO+CP/RHPh/8A+EvY/wDxqn1uxdLHK2Pwd1TUP2X/ABf4Oshr2n634ig1RzH4wksftK3F08rMJTp2bdEd3Zv3QOBISQTkVl+Mj8RPEnh3RtQ0P4Y6r4LvLXUoEvRYy6FPrwt0tJkElmZ3ks1VZJUjBkk3mN5wETI3d9/wyd8Ef+iOfD//AMJex/8AjVH/AAyd8Ef+iOfD/wD8Jex/+NUO7v5gvd2PDfCfwu+Jvgnwb4DOn6B4ii8f2Gr6qX1FLzSJNOWwvNX8+WLUELx7leIJJmziDoVwu3lDqaT8PPipqnx48H6pq+k6pa6FofijVr6VYX0aPRo7We3vY4JbVYlF88j+bCZvPYfvHdgrDBT17/hk74I/9Ec+H/8A4S9j/wDGqP8Ahk74I/8ARHPh/wD+EvY//GqrmfNzE8uljz/41fD/AMW3Xiz4hDS/A58b2fjjwpD4ft7w3drDDpUiG5VhdCaRX+zn7SsmYFlfKONmdmeu+Kng3xFa2vwx1bTNJuvHE/hHVEubzTYp4Irq8U2U9r58RuHSIyI8yyYd14D4bOA2l/wyd8Ef+iOfD/8A8Jex/wDjVH/DJ3wR/wCiOfD/AP8ACXsf/jVZ8uliutz57074G/Ejwy3hzX7TQ9e0JrW/8TxyaJ4JuNDlurSG/wBRW5geP+0UNsYjHHtYKUkBZBgjeo7Xw/8AC3xV4J8RfD+y8E6R4y0izj0e00fW9Q1670mayNhHFOUjmSGYzC7heXarWqLESwBZkUFfT/8Ahk74I/8ARHPh/wD+EvY//GqP+GTvgj/0Rz4f/wDhL2P/AMaqutxvXU+d/wDhn74geLvCmg+Fz4Gh8HXGi/DjWPBcmuy31o8d3cyLaLCyCFnk+zSGKVgZFDAvJuiXjf7H+zz4H1vTfEmteIfEdj47sdYm0yz0vHi6Tw/5DQxNK6pANJAz5ZkcbplU4cBR1A6X/hk74I/9Ec+H/wD4S9j/APGqP+GTvgj/ANEc+H//AIS9j/8AGqOjQnrbyPGtW+G/xV0e1ez0rRtUhtL3WPFE09z4ek0Z78JeaiZrQSPqCyRrZyRFmlEYabcsfynaQevk+FXiyH9k74eeGpdHGpeJfDdtoFxfeH5LmLF61k9vJPbeax8ssfKbaSwQuqZIUk123/DJ3wR/6I58P/8Awl7H/wCNUf8ADJ3wR/6I58P/APwl7H/41Td2rMqT5mmec6f8MfGOveMYvF0vhebw3DqPjuz1uXRbq7tnntbaHTHtXuZzDK8RlkcL8sTyfKIyTncFz9F+HHjb4eeK7fxW3gS68Xxpf+LIP7GsbyxW4jj1DU1ube5Xz5kiKPFFtcb96+Yvyt8wX1b/AIZO+CP/AERz4f8A/hL2P/xqj/hk74I/9Ec+H/8A4S9j/wDGqUfdJ6NdzzT/AIUn4luPiZbalL4ZtbfR4/H2n64sUM8LwQWsPh37JvjUlTiO5ARRtDcBguORh6h8M/ijoWnDTdF0PUrXT7jV/FLvL4cOitexx3mpGa0V21BZI0s5Y2Z5ViBm3LF8nBWvZ/8Ahk74I/8ARHPh/wD+EvY//GqP+GTvgj/0Rz4f/wDhL2P/AMapp2Vv63uVzatmZ8CfCeu+DPDPw00XXfBtumo6V4LtrC+8RtdQST2lyi26vYjaCzqxVnLq2zMQ6kgj2da8/wDDP7Pfwt8D65ba34b+Gng/QNatd3kahpeg2ttcRbkKNtkSMMuVZlODyGI716Aue9DdzNKw6iiikUFFFFABRRRQAUUUUAFFFFABRRRQAUUUUAFFFFABRRRQAUUUUAFFFFABRRRQB4H8StHsvEOj22nXOj6L4iuZLgPa6Rr92YLW5dVbO4COTeVTewUxsMqDwVBGX8A3RfhbptoryE2E11YyIwGyJ4riSNo4iGYGJCpRDuJ2KuQpyKueI5tN8X6f9h17wLNrVjvEn2bUYbK4jDAH5grykA8nt3q3puuJo9jb2Vh4SvrGzt0WOG1thaRRRoBhVVRNgADsPavGjxDlUW/38TqlgMVZWps7nwr/AMjlB/14XH/oyCvQK8o8Aa+2peOIYJNNu9Pb+zrhl+0GIhwJbcHGyRsdR1r1Uda9GjiqOMh7XDyUo9zGpTnRlyTVmOoopGroMwyKM0zj1paQDs0U3NKvFMB1FN3c0ZHrxQAuaWmbhS9ehpALS00MOfWjIz15pgOopg9Kd3oAWiiigAooooAKSlooAbyKdRRQAUUUUAFFFFABRRRQAUUUUAFFFFABRRRQAUUUUAFFFFABRRRQAUUUhoAKWkOO9GfegBaKTI9aTPoaAFpaZkdc4+tLn8qQC0U3dwaMimA6im0o6UAOopMikOByaAHUU0mhaAHUUUUAFFFIaAFopu6kJ6UgHUtMBHrQO/NMB1FN3evSl3AigBaWmZz0NOHU0ALRRRQAUUUUAFFFFABRRRQB88+NPEj+GdDee2hF5qVxItrYWpJAmuH4RSQCQo5ZjjhVY9qqfDPxJe+LvAOiazqaW8V/eQeZMtojLFvyQdoJJA47k9aseKfA+keNJrGTU1vRNYSPLbTWOoXFnLGzKVYh4ZEblSRjOME1V+GfgWH4b+DrDQYLye/EALNPcSyvuJ7qHd9owB8oOBzjqa/l39z9V5ft3vt0P0N8/OtNDtvBLD/hZVl/2Cbz/wBHWtetr6V5L4J/5KVZHj/kE3nT/rta160v61+28I/8iqPqz5PNf95foha8n/ai+Jfi34R/BfxB4q8GaBY69qum2011INTuPKtrWGKGSV5pACHkA8sKI0IZmdeVAZh6zXnfx8+HWs/Fr4W674O0bXbHw7/bdtLYXl7faY9/ttpYnRxHGs8O2T5gQzMyjBBQ54+0Z5KPJde/aE8ca7d/DXwt4Pg0Cz8WeJPCEni7UL7WLOe4soY0hixBHCk8T5kmmUbjIdiqcq5PHnNv+3L408f+CtV8T+DNE0GytvCvgy38V+ILPWUluGupZGk3WVtJHKgi2pbzHzXWTLMg8sYJr05/2WvFkFr4K1PTvH+k2Hjbwzoc/hhNYXw1I1rc6dJGiqGtje7hMjRo4k83ZksDHg8Y13+wjb6Tos2g+DfGUnhzQtW8LWvhHxBHdad9rub20gLfvYJBLGsE7JJMrOySr84IQbeRfE301/PT8BO3Kl1/4Gph6l+2h4mvItf8b6HpuiH4b+G9c0jQ7+zvopG1O7a7WAzTxXAmEUSxG6iARo5N4RzvTIx758UPjlp3wx1TRNGXQ9b8WeIdYhubm10bw+kDXBt7dQ087GeaGNUXei4L7mZ1CqxzjzTUf2M4JPEGqWuneJU034eaxrem6/qnhn+zDJPLc2Yi2JFdecFjhc28DOphdjsYBxuG3f8Aj9+y7p/xq8ZeE/FSv4efVdAguLP7F4t8PLrumXMEwUkPbGaEiRWRWWRXGPmBBzw5O7Vu/wCH/Dh1v5GP4g/bs8C6RZPfaZofijxTp0fhmHxdPe6NZwCKDTZHkjMr+dNGQ6NHho8F+flVtr7bupftq+CtH0Dxfq+o6N4msIfDcWm3k0MtjG013Z38oitbqBFlJKMTko+yVQCDGG+Ws7xF+xyniCz8Wwxa7pWgr4g8Bx+C/suh6ALaysysk0huIYPPO1MzECHdxj/WE81wH7TX7MOsaX8KfiBqWg3d/wCItV1jR/DGhxabpels9wn2C+QtOmGctlXLbdmECEksOi6D6o6X4vftX3i+G9Y0/wAP2Ot+BPGmi654ehu7HXrW0aWWwvr6KPzI9kk0ZR081Cch0bghDXoek/tWeFtW8bQaDHpeuRabda1c+HbLxPJBD/Zt5qduhaW1j2ymfcCkqh2iWNmiYKx4zxuvfsc6l44vvEut+JvHMN74m1q80N/tllon2a3gtNNuVuEhEJuHLSSNv3yl8DcNsagbS7wJ+xXpvw/8c6tqtgfCN1p17ql5qkN7eeEFfxHYvcBiUg1UXA27JGLIxgJVTtycbqe17kb2aOv/AOGrPDGl+INa0nxTofiHwQ2n6BP4nS4162hVLzTYn2yTRrDNJIjDKnypkjl+YZTOQPM9I/a3vr79oBX1u01nwJ8NoPhvceLbmx8Q2Vt5rbbqLbdhrdpmI8livlbwwPBjDbc5vgv/AIJ0ad4fnvF1TxLp15b3nhO/8J3UmjeHV068vUuGjb7ZdTmeQz3QKNmRlAbK/KuDu6aP9i7UPE2oz3Xj/wAeR+JVn8Cz+A5ItL0X+zwbZ3idLkM08x88FHJJJViy4VNpDEehb6ry/E6a1/bJ8LWmn3t34m8M+KfBKR+GpPFtoutW9szajp8YBkaD7PcSgSLvjzFJsceYuVxnHp/wt+In/CzPDqawvh7WPDccgR4rfWBblponjSSOWN7eWWJ0ZXH3XJBBDAEYryLSf2X/ABRcX9lq3iv4g6frmu6J4Yl8NaDcWvhpbeC3EoQTXF1DLcTfancRRKVDRJtMgABcMvVfs4/s+p8A7XxUq6lYXB8Qan/aR07QtK/srSbEiJI9lraebL5W7ZuY+YdxxwMU+5DvdHstFJmikULRRRQAUUUmaAFopMg9OaWgAooooAKKKKACiiigAooooAKKKKACiiigAooooAKKTcPWigBaKTNAOaQC0lLSUwEf2Ncx4i8dWPhXxB4Z0m/hug/iC6ksbS6RVMKzpA84jclgQWSKQrgHJQgkcZ6c4rz/AOOXwvm+L3w+udBsdak8M6us8N5p+twwec9jcRSB1kCbl3ZAZSNwyrsM1Lvuho4yf9rTw+1jNf6Z4X8Ua7YWdnLqmpXen29ts0/T1nmiS8k8ydWdJBbTSokIklMa5MYLKD0f/C9LW+8WX2i6F4W8Q+JrSwdLe71vSYrZrG3uXgE0cBMk6SMxR4fnSNok81d7qA+3zzxp+xloera3pGoaNYeCZ0stDtNA+x+OPB6eIIUgtd/kvB/pEDQviRlf5mVgE+VSpLd/o3wl17wr4+1PUvD3ii00zwprN7HqWpaG+jiW4+0LbxwFbe584LDC6wQFkaGRuH2Om4bG/h03Jv0RzXgn9pXUNS+G+ja5r3gPXrfxDrGqS6ZpuhWP2FptSkUysWh/0xo0VI4ZC7TSRjMbYzuTdqw/tLaTfQ+GYNO8K+JtS1nXJr61TRbeC2S5s57ORY7qO4Mk6xRlCxO4SFWC/IzFow+Zb/s++J9O0PR7ew8a6ZBq3hvW7nVPD9/LoDukNvP5yy2t3ELpftGUuGG+NoOUQ4OCG1vBPwBk8K+IfDWu3ev/ANp6rp8mrXmpTfY/KW+ur+SJ5HRQ58mNDEFRCZCECguSCzHa4tdbG/8AEX4uW/gLVtK0aHQdc8T6zqUNxdrY6FDDJLBaw7BNcP5ssY2KZY12qWkcuAiPzjyv4c/tUPb/AAi8IalrWjeIPF+sjwpZ+I/Ed/o1rapHptvKjH7RMjyw53eVMwigWR9sTfIMru9N+Inwv1nxJ4y0HxR4a8Sw+G9Y0+0utMnkutN+3Rz2dw0LyKi+bH5cqvBGySEuo+YNG4OB48/7DNjb2fhXyZvBXiK/0nw9Z+HrqXx14JTWoZlti5jmt0+0xNbu3mybwHdW+TgFckjvqVK3L7p7l48+KFh4I0vRbiLTr/xNf61dLaaTpWiiJri+do2lJRpZI41VYkkcu8iqAvXJUHmtP/aN03Wrrw7YaV4Y1/Udb1aS9jm0eNrKK50z7JOkF0bjzblEPlySICIXlLA7kDLhjJ8cvgLpvxl8O+H7GWHRUuNBvlvrKDW9FTVNMc+U8LRzWbOgdNkjY2ujKwQhsAg8nrH7L91rHg/wn4bgm8BeHrDRr9dRlfw/4KaykhmW4WUS6cRekWMpRdjORMSWJ6HbR39fwDp8joPAfxw1/wASW/jubVfh9r9oug6tJYWUdsLOWS+wUVIlVLt8SZcFnk8uJVYMXAVyH/8ADSmmHRg48J+Jv+EoOuHw9/wh4S0/tL7YIPtJUt9p+zbPs5E3mefs2kDO47azvFf7PGteJtF8d6GPFmnpofiHVrfWbezudEM/lSI8LS293/pAW7tZfJ2tEFiYrI6l2BrnfCH7It74B0lpfDfiPQtD8Qw+Jz4msW07wutvpFs72C2M1v8AYI7lSYmjDsCJlcMyksxDb0Lomtyb4c/tL3194ZVrvw74l8XeJ9Q1vX/seg6bZ2lve2un2d9JCDMJpoYk8oNBFy+92bgP8zD3PwP4w034geE9J8R6NK02l6pax3du0iFH2OoIDKeVYdCp5BBB6V4pov7Nfirwa1lqfhv4gWcHiqOfWTd6nq3h/wC1W93BqF39rZGt47mHbJHIF2urgY35Q7uPYfhr4GtPhr4J0bwzYzzXVtptqkH2i5IMszAfNK+ABudsscADLHAA4q3uEt1Y6iikpaQwrmfiJ48sPhv4Vn1vUIbq7VZYba3srGMSXF3cSyLFDBEpKgu8joo3MqjOWKqCR0tcH8b/AIT2Hxs+HV74Xvnt0SWa3u4Xu7NLy3E0MqSx+dbuQs0RZAHjJG5Sw3KcMJle2g1vqcld/tOaVp9lCt34Q8Uw+I5NbXw6fDCwWkt/HdvaPdxBilw0GySJOJRKUBYbygVyjvBn7Tmj+Ntb0jT/APhFvE2ipqV5d6Sl7q1tbxwx6laiZrixYLOzmRVglbzEVoTtIWUsCopeD/2a08NW/hgKvg7RJdF8Sf2+0fgrwn/Yttdj7FPbCOSL7TL8/wC/LeZuPCBdner+nfs/nS7jw/cDW/OOj+LdX8VbPsZHnfbkvl+z58z5dn237/O7y/uru4vS6BWe+hxev/ta2/iT4SeItY8PaJ4k8LXt34N1LxF4b1bWrO2WK7Nvbhm8tBLIwaN5I+JkVXGWQyJ8x7Rv2jdM03U1sLjQtdvrCyuLHTdX8T28VsNO0+9uViMcUu6ZZWP7+Dc0UTonnLuZcPt8o+Ev7NHifxp8B/DWn+MfETWGzwRdaDpumSaGbe60t722WOV7otKPOeMAKiqkGFLBtzHcOxn/AGRdOh+Kc3i+3tfAupJeXdne3n/CT+C01LUY5YY4om+x3v2iM26lIUZQyS7JCzDIOwJfDbrf9A/mX3HfzfGu00/x7Z+G9U8N69o9rqE1xa6dr9/FAljezQxNLJGg84zodkUzBpYURxESrMChbzFf2rE1Dx94c1KbTtd8L/D1/C+s+IZrrV7CHy9TtoGtDBdQGN5JANkkpETCOQiRCY+Vp+j/ALG8Vj8XLHxpd6zot61lrGo6p9oXw2kWs3qXcVzGba71Hzi0scQuQsYWNAqRIpDYBV1v+yJqepaZp2jeIvHn9q6BpHhnUPCmmW9no62s8NrOLcQzPMZX33EQtl+cKqOQp8tCG3l1o0HRnVN+07plnp+rPrPg/wAT+HdZsV094tB1NbJLq+S9n+z2zQul00A3S5QiSVChHzhQVJ9Z8P6lcavpNpeXWl3Wi3E0YeTT71oWmt2P8DmF5Iyw77HYehNeNyfAjxbrFvr9/wCJPFXhbxT4l1XTrfRc6l4Sd9IWwjd5HR7I3paSSR5CWYzBflQBBg7vRvhH4Db4YfDrw/4VbUX1VtJtEtTdshjDkDnYhZiiDoqFmKqFXc2Mk7kO+jOxooooKCiiigAooooAKKKKAPnvxZD4H8E2Ntd6roVmsdzcLawR2mjNdSySsrEKscMbueFboO1X9H8OeFdd0yDULbw5aRwXA3Kt5pBtZsA4+aOVFdT7EDpVD4q22g3Ol6aviHTtcvrVL0SxT+H47xp7WYI+182f78DG5cgYy4B61J8IotYg8D2y601883n3Btm1Ri139kMz/ZvPJ+bzPJ8vO7LA8Md2aiOEw7vemvuQSrVNPef3nYeA/D+l6P40jew020sXfT7je1vAkZb95B12jmvThXA+Ff8AkcYP+vC4/wDRkFegVXJGn7sFZDcnLWQVg+NfGejeAfD8mta9e/YNNilhhaby3k+eWVYo12oCxLSSIvA71umvC/2svCmmeLvD3gey1zwrJ4q0NfFljPqEUWiSasbeCNZZC5gjjkbYzKsTEKRtmIbCk0dUg9T29SFyc4B5p+4GvlPXvhbqEMnxp8ZaJ4Ta28Q6Tax6L4JiWz+ayhttPAE9hEV2q++5nRCg+bywmcEiuGl+FFlrEfjKx8DfDzXPCnhzWLbQPDEN62k3Gn3d7DPek6rfssiLKsghCK80yiQtArMWGykve9Sb9z7jYj1rl/FfxI8P+BYby41y4urC2tBbGW6awuGhzcTiGJEkWMrI7SEKUUll3KWADA18m+NfhZa+G9D+JGlad4LvrLR7rxVDdaPo0fhO51jR9TltdOtRi9tIcNIlxM0pNw2E8y3R5JMqodvir4Vxa6gufF/w1uZNE/4TDQdOOkros2sLZabZaeJjsRY3d4ftM1xbmRF2FHwfl3U+vkHrufZ1vrEEmtXGmhLoXEMMdw7taSrAVcsAFmKiN3yhyqsWUFSQAy5v7uRzXx94y8H3Fp421a61Xwnq3/CtJPEtnol/pOjaHPdJPo9lpTNbIbSCNpJbRr2ZlZY0ZCqKrAoXqDwv8Em1u+8MaVrvgi7tPh7Zt4h8VweF2tGFrCssscVjYSQqPLG6KW5lNr0BbaV+VgXq0mGqbR9k7gPSjcOcEetfJHjDSdQ8F/sJ+DvCeoWOrJqWqWOkaNdWOnQytfWyTPEbqOGJf3m6KHzgsa8gRhQOAKyNL+Eh8ValHp+keDdS8O/DzxR46ttTezksbixc2ljYbpLq6idBJE1zdQoh83a8gwzcucyneVg2Vz7Lb8zXN+G/H2neJ/FHifQrJJ/tPh2eG2vJnVfKMssKTBUIYkkJIhOQMbh1r5Z8WfC+HWvF3iLw3H4Dv08UW2vabB4N1KPQnTS/DujQrayNNZ3ioILYgrc7o43WZ3CIVZQhFTwz4JvfFXxKTWbXwLrll8QofGmpa/ca1rOlT2sFppscM0FtDBeOoRxcp9kDRxEsQX8wARLgjdsb7H2rNIscbOzBVX5ifTHWuR8I/E7SvGPw3s/HFlb6gNGu7M38Ua2jT3Lw8kFIYfMZywAIVNxbIwMnFfHvh/wrfxaYviLQfhn4hbxnYeBNUuNV1rUNEmsr3WfEtyIoxGxkjVpmjL3O2TBjWOYrE2xXAtaX8I0m0HVLbwT4P1/SfD2rab4f8H6jLqWjXNheam32wfbrqaGVQ7LDaOUWZwEG5kQlEFLXf+v6sFrtI+s9H+K2j614k1nRYLbUzcaXqMWlTTCxkkh897NLrlkDeWojkQFpdgDELnJUHb8E+M9I+IPhqw8RaBd/b9F1CLzrW58t4xKmSNwVwGwccZA9R1r5H1DwN4j1463ql/4Ov9REsHjLxG2n3emuyXVydun6bbFHTDNJZq5EZyTkEfKah1jwrY/Cvwf8GrL4ZeG20XXtf0y98J26po0mmTpc3NvCZtQuoHSOQeWbESuzruYKMdQavZqL3ZN7py6L+rH23uHrRuHrXgvxW+E8OqeH/hR8MrHTL2Twfb6rbLqDWokCxWNjaSyRJJImNoeaK3jOSNwZh3ryHwP8Az4dvPBWq6H4Il0rWz4317V7ctZvBHoumot6lvZw4UC1gnZrZjEu1ZDLIxzxSWrsivU+1mkXHBH51h+C/GWjfELwtpviPQL0X+i6hF51rdCN4/NjOQGAdQwB57c5yK+LfC/w/XVtOOqw/C7WLvXbPwBq114g1LXfD8sE+v6/PHGrW0izIGuWUG6VCQ0ey4KRNs3Cu58G/AfwvrLfBvwvZeBza+AtJ0W71bVYLzQZdOgvtQEUFmi3dvLEheR1eeQrKMtsDEEYNG24tbXPqfTtYt9QvNQt4lulkspRDK1xaSwozFFcGN3ULKuHA3RllBDKTuVgNDNfC/jHwl4w1PRrnUdE8KeJdP1lfEGra/q93Y2sltP/AGJJM2n/AGC0ymZLmWygikRY+UMCNlC8Qb7W8P6LYeHNFsNK0qzh07TLKBLe2tLeMRxwxIoVEVRjACgADsBT6XYX1sadFN3UtAxaKKKACiiigAooooAKKKKACiiigAqhrWrwaLZpcXCXTxtNHDiztJbl9zuEUlIlZgoLAsxG1RlmIUE1fryr9pbR9Q134YxWumWNxqNz/b+hzGC1iaR/Lj1W0kkbCgkKqKzE44CkngVMnZXHFXdj05isaFuoUZwozx6Afn0qro+qQa5pNrqFqlylvcxrKiXlrJbTKpGRvilVXRvVXUMO4zXyl4V+Et1ofirwz4rtvCl5a+JpviV4gS/1b7HILg6RMdUdFkcjItGkMEiqSI97I4+Zwx534XeA7bR7X4ej4l/DvX9feLwfolp4cWPQrm6fSNRjklN0NyL/AMS6fLWrGeQxAhB+8HlkLcla4W93m/rY+zNI1e31q1lmt0ukjjnktmF5aS27lkcoxCyqpKkg7XAKsMFSQQazbPx1YXXxE1HwakVyNTsdLttWklZV8lop5Z4kCnduLhrZ8gjGCuCeQPj7xt4V1m68PHQNW8ALqenXniPxZeJc654MvvEkCyyamxtVSzhli8p5o5GeO9lIRFVgGAlJr1P9mPRfFNv4m0TUvEunarb3knwx8N2t5c6lbyIxvUkvTPE7P/y2XepdSdw3LnqKfL7z1F28z6UpkpwuafWJ408SxeD/AAvqWtTWGpaoljC032LR7KS8u5yBwkUKAs7E4AHTnkgZIzlsNHmfh/8AaWsfEX/COra+CvFKT6zr994fW3eOy8y0ktHdLi4nUXJ2QK0bjcNzZC/L86b/AGNRivlrwfd3fwN8bfFbxJ4j0DUL6a/0KLxf9ut7SYWcMreYk+l28rr5aMDDbueVaRpWkdQAAvt3ws8eal40XxBZ67pFromv6DqA06+tbC+a9t9zW8NyjRzNDCzAx3Eecxrhgw5ABNrWKZOz8jua8K/aj8L6N4y1b4M6P4g0ix13SLnxlL5+n6nbJc28u3QtXdd0bgq2GVWGRwQD2r3evG/2gP8Akcfgh/2Oc/8A6YNYpx3RM/hZzn/DMHwb6H4S+Bj3/wCRcsz/AO06P+GX/g1/0STwL/4Tdl/8ar0wcgEcj/8AVRXbZHk80u55n/wzB8Gv+iSeBf8Awm7L/wCNUn/DL/wa/wCiSeBc/wDYt2X/AMar02jn05pWVrD5pdzwbx58Mf2d/ht9hGu/C3wj596JDb2em+CU1C6kSMBpHENvbvJsQFdz7dq70yRuGdGP4L/s+TeDV8Wr8Pfhy3hr7H/aH9qjQLAW/wBn2b/N3+Vjbt5z6dam+I2pS+AfjPoHjC80bWtX0KTw/e6S0mh6VcalLb3BngmQPDBG7hZFjcbgu0FAGI3LXMeCbPS5vg3J8I/Gek6vHcxeEhqWsW9hC1w9nDcSTBLdPI3u067G2oinJjO3d0Ofc0enLY434o+A/gN4r/Z7+LmoeFPht4a07V9H8Lahcr9p8FjSr61Y2UrwTpHcW8coBZTslUYJRsHKnH3f05zn0r4C8TeHdauvhx+0R4tu9U8VatoT/D240jT77xhpkOm3lw0VteSykW6Wls6xoZlVWljDMxlwdu0n0z9pLwfb65488XHxJ4H1rxnc3vhiG18DXGm6RNeLpupB7jzPLnjVlsJzI1o/2mRohtRfnxEcZ1rKUNN0ddHaWtz3Sb4wWK+PtT8MxaHrt6mli3S/1ixtUuLW3mnK+VAyI5nLFWV2dYjGinc7rg47PVtSh0XS7vULhLiSC2iaZ1s7aW5mKqMkJFGrO7HHCopJPQE18ga58D7mz1D4layvgqGbxVeeIvCpbWNP0cLNeRrcabLeyRyKm5o/MjlkkIOAUJblSaZqXgezbwP8YLC7+H2vXfxhvdP8ULN4ih0O4P262lExtIlvtojuUaJrVI7ZHdkKKPLQxkrhH3lr5f18jplZPT+tj7MgkSREkXIVlyNylT+RGR9Km3DGcjFfGeufCG8uNY8b+K18JX0niu08Y+F5tE1QWcpuILcRaTFeNbNtJWMos6TFeGVGWTITir4f0jxHfftUeG9ei8EtoNwviPVrbWruDwhfRXZsfs12Ld7rW5JjDeQytHbSJFGhWI+VHldiq1295RHNct7H2q3zDFfOvhH4JfDv4lfFr44an4u8A+GPFWpQ+LLW2jvNa0a2vJkiGgaQwjDyISFDMx2jgFj619Dj16V5d8Gv+SifHX/sc7b/ANR7Rqn1ENH7J/wR/wCiOeAP/CXsf/jVL/wyf8Ef+iN+AP8Awl7H/wCNV6vRQB5R/wAMn/BH/ojngD/wl7H/AONVR179mv4BeGdGvdW1X4UfDrTtNsoXuLm7uPDdikcMaglmZjFwAASa9lrkfi14b0Xxh8NfEujeIoLy40O9sJobyPToJZrkxFDuMKRK0jSDqoRWJYDAJ4qZXtdDR4Xp/hf9ljUPDeta4fhd4O0+z0dYnvIdW+H/ANgu0EpxAUtp7VJpBK3yR7EPmOCq7mBFNTw7+ytJ4Xm1v/hWPg8Qw6iukPp7fD/GqC8Zd4t/sBtPtRkKHzAoizs+fG0ZrhbjwX4r1bxBrvxBWfx14w8P6RdeHBbDxLokVjqt/DZ38lzdmKxis7aVkiWUbBJEZJGSXZuBTO/Oupf8Lcj+MA8MeJT4NTxLGv2X+wbz+0mh/sh7Q3v9n+V9p2CZxFjyt+0F9uz5jT+JLo/w0/UnXlbW5p2/gv4Qx+NvgR4v+GHg7wvoovPF17ZtqGjaFFp1ztXQ9YEtvKBEkiFZIwGicAq0eCAV4+p41K44wMV8s+G9Nv7fXPhTqd9p93pK698U9Z1e0sb+Ew3EVvLomsmIyRtho3dVEhRgGXzMMFYMB9UqMYoYlqOooooKCiiigAooooAKKKKAPIvJ1Tn/AEyz/wDAN/8A47S+Tqo/5fLTP/Xo4/8AatcF8b9X1u3h8LaLoY3Ta5q32Oc/2i+nkwrbzTFBcRxyPFuMQG5FLYyAVJ3DW+EWrpqnhWW2FrcWdzpl9c6dcQ3GqTamRLHIwbbcy/PKvOQWAIBxgYxXRHUyl0O78FpdL4xi+0zQzZsJ9vlRFMfvIM5yzV6RXn/hX/kcoP8ArwuP/RkFegVjLc0WwUhpaKkYzbQuafRSAZikZTgY9akpKAPmfw/8R/i/42bXr/TPEPgnSNNt9f1fSba0u/Ct5dTLFZ6jcWiGSVdTjDsywBiQijLHArU/tn429vGngH/wir7/AOW9ZPwX/wCRa8Q/9jl4p/8AT9f13teHVxVWFRxTMm9ThdZtPi54gutIub7xX4BuJ9Ju/t1mf+EO1BRHN5UkW4gawA3yTSDDZGSDjIBGn/bPxtGQPGvgEj/sSr7/AOW9dPRWP1yt3FzM5j+2vjb/ANDp4B/8Iq+/+W9L/bXxt/6HTwB/4RN9/wDLeumoo+uVrbi5mcz/AG18bf8AodPAP/hFX3/y3o/tr42n/mdPAJ/7km+/+W9dNXzNqvi7xT448Y/DXXLv+x4fCzeOr2ysbKKCVb6H7NbajAHllLlJN/lythUQplRuc5I0p4mtOSSZcbyaR7kda+Nv/Q6eAMf9iVfD/wBy9Ys+j/Fa48WW3iWbxP8AD+bXLW0ksLe6k8G6gTDDI6tIiL/bG1SzIm5gATtUZIAA8IX9oC++HvwZ8Oa1osOlW8o0BPE2qaNb6FqmqyXLzM8kxe5jdlst5SQi4uWmLsWJwIyX91+K3jTX/Do8FWnhtdNW98RayNLabVYpJY7dDaXM3mbEdC5VoV+XcNw3LuXcHWnXxCs77iu72Zuf218bef8AitPAPv8A8UVe/h/zF6P7a+Nv/Q6eAP8Awib7/wCW9UPg/wCMtS8beEZrrWYrWPV7HUr7SbtrFWSCSS2uZIDJGjFiiv5e7aWbbnG5sbj21RLE1o6Ni5mmcz/bXxt/6HTwD/4RN9/8t6P7a+Nv/Q6eAf8Awir7/wCW9dNRUfXK3cOY5j+2vjb/ANDp4A/8Im+/+W9L/bXxt/6HTwB/4RN9/wDLeumooWMrdx8zOYbWvjdj/kc/AB7/APIk3v8A8t69O+B/jS++JHwb8BeLtTit4NQ1/wAP6fqtzHaqyxJLPbpK6oGZiFBc4BJIGOTXMen1qx+yf/ya38Hf+xN0b/0hhr0sHWlWTc2XF3PVqKKK9EoKKKKACiiigAooooAKKKKACkbmlooAYPpR+FPooAZ07Uq06igApDS0UAZniDQbDxTod/o+rWceoaZfwva3NrMu5JYnUqysPQgkVl+APh5onw10iXTdCguo7eWY3E0t/f3F9cTSFVXdJPcO8jkKiKNzHCoqjAAA6eigArwj9qW31m61X4NReH7+x0zV28ZS+TdalZPeQJ/xItXLboUmhZsruAxIuCQTkDafd68b/aA/5HD4If8AY5T/APpg1iqjuiZfCzmz4f8AjJ/0PngXPT/kSbz/AOW/vR/wj3xk/wCh88C/+ETef/LevTaK7bHlcx5l/wAI98ZP+h88C/8AhE3n/wAt6P8AhHvjJ/0PngX/AMIm8/8AlvXptH4UcouY8y/4R/4yf9D54F4P/Qk3n/y3qGHwh8Wre6uLmLxn4Biubjb50yeBrsPLtyFLEavk4GBz9BVH4jafN48+MeheDbzWdY0nQhoF7qzpomqXGmzXFwJoIULTW7pIVjWRj5YbYTICwYqMa/wL1jVfGvwL8N3ep6rcvq11p5ik1ZVjMzupaNbgAoULEKrjKlc9iMioWt0ipOyXmec/tGaH8V4f2e/ihJqPjXwbd6cvhbVGuYLXwhdwSyRC0l3qkh1RwjFcgMUYAkEqRxX2OvvxxmvifW2vE/ZR/aLs7zVdR1r7BD4ntYrnVruS5m8tbRyBvYnAyWOBhRnAAGAPftc8aeN9c+Lmo+FfCEnh+xstA0+x1HUW1u0nnk1D7TLOogheKVBb7UtnJlZZstIv7vCHdz1Grqx2UNnc9a60vDD1r5xh/aL1lvjlpPhqKaw1rw/rGp32jRR2Ph3UoRazW8E8oYatIRaXLE2zo8MaK0buV3P5TsaWi/tEeJZ/hvNdatrej6P43bVYtOn0aTwXqst3pUrQGdrb+z4p3n1BtqsRNC0UTRh5RlYypy2s31/Q6j6b459aPwrzj9n34mXvxa+Fun+ItSt0ttQa5vLG4WO1mtFeS2upbdpBBP8AvYQ5i3eXJ86btrZINekKc5ptWdmJO4jZAGBnmvnbwfpPxFv/AIs/G+Twj4p8L6Fpo8WWqyW+t+GrnUpml/4R/SMsJI9Qtwq7do27CQQTuOcD6Lryv4N/8lE+Ov8A2Odt/wCo9o1IYn/CN/G//oofw/8A/CDvv/lzR/wjfxv/AOih/D//AMIO+/8AlzXq1FMDyn/hG/jf/wBFD+H/AP4Qd9/8uaD4c+N/f4h+AP8Awg77/wCXNerVV1O3kvNPuLeG6msZZY2jS6twhkhYggOodWUsDyNykZHII4oA8x/4Rz43cH/hYfgD/wAIS+/+XNH/AAjvxtA/5KH8P/8Awg77/wCXNeSw6trml/C/xBoKeJ9eb7X8Sk8NPrFxqMkl9BZS3kKSLHMxLRlldkVk27PMBTZhcUJF1W3+Lx+ES+J/Ex8Hz+JI2Mza7dtqCw/2S90bJb8yfaQpmjEufN37SUzsOBClzNQW7/QT92PMztPF2lfESw+LXwQk8XeKfC+uaafFl0sdvonhq402ZZf+Ef1fDGSTULgFdu4bdgJLA7hgg/Ra18p+Fry+bWvhVpV5qV9rMeh/FTWtKtL3Urhri4ktotE1ryleVvmkKBvL3uSzeXliTk19WLVgth1FFFAwooooAKKKKACiiigDwnxTpuheM9NSx1a11CaKKZLiKS3iureaCVTlXjljCujD1UgkEjoTU/h6DRvC2kxadpdld21ohZ9v2W4d3djuZ3dgWdmJJLsSzEkkmrXia71+1s420DTdO1O5LYkj1LUZLJFXB5DJDKSc442jgn5hjnK+F/jS7+IHhOLW7zToNNM00yRLa3bXMU0aOyLMjtHGdj7dy5X7pU966I9bGUjTPxG0rwZrlrqGoWmvXEDW00ATSfD1/qMu5miYHybaCRwoCHLldoJUE5YA6X/DS3hH/oEfED/w3HiH/wCQa1fCv/I5Qf8AXhcf+jIK9ArGW5otjyr/AIaW8I/9Aj4gf+G48Q//ACDR/wANLeEf+gR8QP8Aw3HiH/5Br1WipGeVf8NLeEf+gR8QP/DceIf/AJBpP+GlvCH/AECPH/8A4bnxD/8AINeqtx7V5T+0d8Wr/wCEHwz1fWdDsodT16CzuLy2trhWaFI4IzLNLKFZTsVV2jkZeSJSRvzSv0GL/wANLeEf+gR4/wD/AA3PiH/5BpJP2lPCTKQNI8f5/wCyceIf/kGvTrOQTQJIBgOob8+asCqas7MlM+Lfg/8AGDR4PDeuf8SPxvOsnizxLOj2/gXW5l2ya3euBuSzIDAMAyE7kYFGAZSB3H/C6NH/AOhe8f8A/hvdf/8AkKvRv2af+Sdav/2Ofiz/ANSHUa9Tf7tcEsHTlJyfUnlPmX/hdGjf9C94+/8ADfa//wDIVL/wujRv+he8ff8Ahvtf/wDkKvVtb+O3grw742j8KX2qXCas1xbWbtHpt1LaW9xPjyIZ7tIzBDLJuTbHI6sfMjwPnXPm/wAN/wBpW98ceNtQhnS3stCm8TyeGtPs9Q0HVNOuw0cVw5kFzLG0Vw7G2kJhCw+Uv35C5VWzWCpNpK4chQ/4XTo3/QvePv8Aw32v/wDyFS/8Lo0br/wj3j7/AMN9r/8A8hV3cn7S3g3UNMnvNBvxeJDd2duLjUrO+srS5jnu0tRNazm2ZbpN7gB4d8eWTc6K4etfRP2gPAfiDxgnhew1mWbV2u7rTk8zTrpLdru2aQT2wuXjERmQRO/lB95Rd4UoQxr6jTDkPLf+F0aN/wBC94+/8N7r3/yFXBQ2Pwwt/FieJI/A/wAQ11WHUJNUhI8GeJjBDdSI6SSxQfZvKjaQSPvKIPMJDOCwDV9OeDPjP4S8d+IbrQ9Hvrp9Rht/tiJeaZdWiXVvu2efbSTRol1Fkr+9hZ0+dDnDKT3S+tOODhHVXGlZ6HwXrGh/BLUG0/w1eeDfH0bSaMbCPSIfDHim3N7p9uQu2WJYB9ojia5QbpA5RpxggsM+jav4+8Ja5caPNfeFPiBPJo92L6xb/hAvEK+VMIniD4FmA3ySyLg5HzZxkCvWvEf/ACdP8Pf+xM8Tf+l2g16rR9ThazbFy9T5R8P/ABB8KeE7S5ttL8K+PrWC4vLi/lX/AIQHxC+6eeVpZX+azONzsxwOBnAAAArT/wCF06N/0L3j7/w32v8A/wAhV9Mtk/nXDeLvjH4S8C+IrPQtYv7hNTuoln8qz0+5uxawtJ5azXMkMbrbRFsgSzMiHa/PytifqVNu7DlueP8A/C6dG6/8I94+/wDDfa9/8hUv/C6NG/6F7x9/4b7X/wD5Cr1y2+NnhC48bnwmmoXMerM0yRPNpt1FZXEkQJmjhvGjFvNJHhtyRyMy7HyBsbFS0+Pvg++8Kt4gt31uTTPPW2tyPDepedfOy71NpB9n826UoGffArrtVmztUml9SpWuw5Dy7/hdGj/9C94+/wDDfa//APIVH/C6NH/6F7x//wCG91//AOQq998F+MNH8feG7LXtBvPt2lXilopTG8TAhirK8bgNG6srKyMoZWUggEEVuLT+o0l3Eoo+Zj8aNHwceHfH+cf9E+1//wCQq9E/ZP8A+TXPg6cf8ybo+D/24w16vXlX7J3/ACaz8G/+xM0b/wBIYa6aVCNH4SkrHqtFFFdBQUUUUAFFFFABRRRQAUUUUAFFFFABRRRQAUUUUAFFFFABRRRQAV4r+0pczaTqHwn1saXrGqWGk+LJLi+/sTSbrUpoIn0bVIFkMNtG8m3zZol3BcAuM17VRTWgmrqx8/f8L48PY/5APj4fT4ea+P8A2x/zzR/wvnw//wBALx//AOG81/8A+Qa+gaK19ozn+rwPn7/hfPh//oBeP/8Aw3mv/wDyDQPjx4fyP+JF4+/H4eeIMf8ApDX0DRR7Rh9XgfKHj3xJ8O/iUdPk1zwz8TDc2PmLb3em+D/FOn3MayALKnnW1tG+xwF3ISVbYpIyBVDR9W8DaL4nv9UttC+IFnbSaFb+HbLT9O+HniGzjsLOIudkTx2YYMS/DKVKhEC45J+vqKXtH0K9jG1j4R8cWvg3Qvgr8VtE8DeF/itdaz4m0HUrZLXUvDviy+W5u5reVUb/AEyF0R3dwC/y543HjI+s/GHwX8J+OvENlrurWF02p2sSwebaajdWi3MKyeYsNykMiLcxByxEcwdPnfj5mz3dFRJ81i4QUL26nltj+zd4A0/xRF4ht9IvIdSt7u5v7XbrF75FncXCSrcSW9v53lQNIJ5SxiRdzNuPzAEQL+zH4AbTWtnstaluDfLqQ1WbxLqb6mk6wmFWS+NwblF8pnTYsgXa7DHzHPrNFR5GhzfgPwBoPwy8NxaB4a04aZpEUs06W4leTEk0rSytudix3PI7cnvxxXRKMU6invuA1hla8A8OfEex+F/xR+MNvr+ieMP+Jp4lttQsrjSvB2r6lb3EH9iaXCXSa1tpIziWCVCN2QUOa+gaKAPKv+GlvCP/AECPiB/4bjxD/wDINH/DS3hH/oEfED/w3HiH/wCQa9VooA8q/wCGlvCP/QI+IH/huPEP/wAg1W1L9ojwbqmn3FnLpPxFWK4jaJ2g+H3iSGQBgQSsiWQZG54ZSCDyCDXr1FAHynpMHwU0fQPEGix+G/izeaZrzia/g1Pw74zvd8wcSCdGmhcxTbwrebGVk3Ip3ZUEWmufgu3hf+wf+EV+J32dtRGrm/8A+ET8X/2mb0LsW4OofZ/tXmBP3e7zciP939z5a+oqKAPmLT9S8M3/AIw+CvhvwH4X8X2Om6H4mvNSu5NV8J6zZRRRNo2qxvPNdXtugeSSe5jyzyF3eXJ3Ek19NqKdRRqw06BRRRQAUUUUAFFFFABRRRQB4j8QNJ1bXvB+p6Zol1DY397H9mF1M7L5EbkLJIu1SS6oWKjjLBckDmtbSdLttD0qz02xiWCys4Vt4IV6Roi7VA/AD/PNZWvTaF4V02TUNa1f+x7CMqr3V/qrwRKScAF3kAGSQBz3qXSYtI17ToL/AE7UZNQ0+4XfDdWmpSSxSL6qyuQw+ldEfIyZ1HhX/kcoP+vC4/8ARkFegV4wfhzpXjPXLXT9Qu9dt4FtprgNpPiG/wBOm3BolAM1vPHIVwxyhJUnBIyoxo/8M0+Ef+gv8QP/AA43iH/5OrGW5otj1aivKf8Ahmnwj/0F/iB/4cbxD/8AJ1H/AAzT4R/6C/xA/wDDjeIf/k6pGeqN2PvXzh8bv2d/E3xmsPiNNfPFDql3psmi+FIrLxZqdhaR28kWJXvY7dFV2aQ7mjZJkZY404GSe7/4Zp8I/wDQX+IH/hxvEP8A8nUf8M0+Ef8AoL/ED/w43iH/AOTqBnf+F7W9svDul2+opCmoRWkUdwts7PEJAgDBGZVLLkHBKgkYyBWt0ryr/hmnwj/0F/iB/wCHG8Q//J1I37NPhEdNY8f5/wCyjeIf/k6m3d3ZKQv7NP8AyTrWP+xz8Wf+pDqNeqNyK+Ofg38G9En8L6yTrPjWER+KvEkKrb+OdahXamt3qKSqXYBYhQWc5Z2JdizMxPdf8KT0Pr/b3j3/AMOBr3/ybX4zmXirkWV4yrgq8anPTbi7RVrrtqejDA1akVJdSbxR8EfGmqa74t0OybQf+EG8VeILPxBealcXUy6nZmIW3nQRwCEpLvNom2VpkMfmn5G8td1r/hQOtzLpEc15YeRb+PNS8TXASaQsbO5t72JEXMeDKDdJkHCgA4Y4AOf/AMKT0P8A6D3jz/w4Gvf/ACbR/wAKT0P/AKD3jz/w4Gvf/JteavGPh1W9yp/4Cv8A5I0/s+tzc2gln8HfiTefCHSvh7qX/CL29h4dk0SLT9RtL26ebUI7G+t5TNLG0IFsxht+I1acF3/1ihcnSsvgT4hs7fw2i3umpLpvj/V/FUjq7n/Rbr+0fLVRs5lBvItynC/K2GPBOd/wpPQ/+g948/8ADga9/wDJtH/Ck9D/AOg948/8OBr3/wAm0/8AiMnD178lT/wFf/JAsBWTT0KXwQ+AXj/wj8VtJ8W+MdStb+Sy8P3ekXVwvifU9Wk1C5lmtZDdJBdKsNkj/Z3JggG1CVAZhgJ9MLhe9fK0PhH4eXXiufwxD8QfE03iWCPzZdGj+J2steRptDbmhF9vA2spyR0IPerPiT4feCPBekvqniDxr4t0PTEKq15qfxK1q3hUscKC73wUEnpzzXXLxaybmhTdGrdrRcmrvtbXW5H9n1PibR6b4iI/4am+HvP/ADJniX/0u0GvVcj1r4pm+GXhrVvjT4Dm07xL4t1DTL/wprV3BfW/j3WJjIgudJ2NFOLwsI2EmSEba+EJDFEI9J/4Unof/Qe8ef8AhwNe/wDk2qxXixkWE5PawqXkub4VtdrXXfQI4GrLax9Ft+fNeSa94J8b6H8XNR8U+EI9AvrLX9PsdO1Fdbu54JLD7NLMyzwrFE/2jcly+YmeHmNf3mGO3j/+FJ6H/wBB7x5/4cDXv/k2j/hSeh/9B7x5/wCHA17/AOTa4P8AiMfDt78lT/wFf/JFf2fW8jJs/wBn34jXHxk0LxXrOo2OrWuja7qWpC4uPFGpyLe289vdw28K6Y0f2S0MSzxRlo95cK75BLK9TT/gH8UdL8Iy6Xpkun6Joo1yO6i8F6f431WK3jsVtGjMEOrJbJc2yeeUlEEUXlgRBAQrsK6H/hSeh/8AQe8ef+HA17/5No/4Unof/Qe8ef8AhwNe/wDk2q/4jJw69OSp/wCAr/5IP7PrHefs4/DLVfhD8Lbbw3rdzb3eox6hqN481tcz3KFbi9muEBlnzK7BZVDM5ZiwJLN1Pp6nHWvmLxD8N/BnhHSJ9V1zxn4v0XS4Nvm32o/EnW7eCPcQq7ne+CjJIAyeSRU2j/C3wn4g0u21PSvFvjPU9NukEkF5Z/EbXJYZVPRkdb0hgfUGuiXi7kjj7b2NXl2vyK1+177iWX1Vppc+mdw9a8q/ZPP/ABiz8Gx3/wCEM0b/ANIYa8p8OeEfh54yvdRs9A+IHibXLvTnEd7b6b8T9ZnktWJYBZQl8TGcqw+YD7p9Kufs0/s++F9Y/Zz+Fl/car42jmuvCulTOlp49122hVmtIiQkUd4qRrknCIqqowAAAK+74d4qwfEvtVhYTg6drqa5X72q6s5q1CVGzl1Pp/NG4eteTn9mvwljjV/H/wD4cbxD/wDJ1cbqPgv4S6T4wm8M3nizx/banbxwSTSS+PPE62kDTOEhiku/tfkJLIxUJCziRtwwpyK+yv0OY+iqM145q3wD8B6Dpd5qWqeJPG2m6dZxNPcXl38S9fihgjUZZ3dr8BVAySScDFWov2b/AAdNGjx6149kRgGVl+I/iEgg8gg/bqYHrO4etG4eteUf8M1eEf8AoL+Pz/3UbxD/APJ1If2a/CPH/E28fn1/4uN4h/8Ak6gR6xkUbh618XfA74c2/jD4J/D/AF/V/FPj671bVPD2n315cf8ACf66nmzSW0byPtW8CjczE4AAHYdKo654E8Vr4y1PSdB0rxFeadaRQzRalq3xh8UWX2hXByAEWZAyMrgqJCwG1iAHXPD9cp8ziLmPt/cPWjNfG/wr+E95qnhVp/FureO7HWv7Rvo3t4fiJ4geJIlupFhCO1xEXTygm1yilhg85r0T9n/TZPDPxq+IWgwazr+paVF4e0G+it9c1291TyZpbnVkkeNrqWRk3rBCCFIB8teM1pDEQqT5IiUk3ofQtFFFdRYUUUUAFFFFABSZx1paa/IoAXcPWjcPWvGdW/aUsNNl8UW6+DPFV/d6D4htfDZtLWOzM17cTpHIkkCm6G6Ly5Y3LNsIVicYR9vsUPbKlTjvSWuoeRLRRXj37QVg2va78I9Ak1LWNN03WPFk1tfjRNWutMmniTRNVnWMzW0kcm3zYYn2hsEoM5pgewUteUL+zT4SP/MW8fgen/CxvEP/AMnUv/DNPhH/AKDHxA/8ON4h/wDk6gD1akzXlX/DNPhD/oMfED/w43iH/wCTqyPFXwZ+GngbRJ9Z8R+MfF/h/R7cr52oap8UNetrePcwVd0j34UZYgDJ5JAo0DU9szRXjOh/An4feJ9HtNW0fxT401bSruMTW19Y/E3X5oJkPR0db8qwPqDiuT0rRfgLr0erPpvxc1PUU0eBrrUWtfjFq8osoVOGkm26kfLQHgs2ADSvrYD6S3D1or46+Jlr8J9U+B3xS1r4afFjXNe8R+HvC2parA+h/FjV9Qe0kjtpHilaNdQcYDqPvAqcYINfYadTxT1AfRRRQAUUUUAFFNf7prwDw58N7D4ofFH4w3Gva34w/wCJX4mttPsrfS/GOr6bb28H9iaXPsSG1uo4xmSeZyduSXOTQB9A0V5T/wAM0+Ef+gv8QP8Aw43iH/5Oo/4Zp8I/9Bf4gf8AhxvEP/ydQB6tSZryr/hmnwj/ANBf4gf+HG8Q/wDydVfUf2efA+k6fc3194g8dWdlbRtNPcXHxK8QJHFGoJZ2Y3+FUAEkngAUAeu5FGRXzVY6X8AdS8O6hr1p8X9RutC0544r3U4fjHq721q8hxGsso1LahY8AMRntUljonwF1TwzqHiSz+Lep3fh7TpEivdWg+MOsPaWruQEWSUalsQsSAAxGcjFAH0jmgEHoc183zeF/Dvhjxz8E9d8EeLPEuraXr/iK4tZJpvG+qaxYX9odE1SdQEnupYXXzIInDAZBQEGvo2MHd0xQK9ySiiigYUUUUAFFFFABRRRQB8ufHzU4dHh8HTSajD4ekj1nzYdev2QWNgy28xJnDEK6uu+MAmM5kBV1YDN/wCAU0U3w/LRBJl/tC8LajCwMGpO07s91DhQBHIxLKoGFzhSwG49v52qD/lytAf+vt//AI1QJ9U6iys/X/j7b/43W8Pdv5mUtTd8K/8AI4wf9eFx/wCjIK9ArzfwW90/jGL7TDDFiwn2+XKZM/vIOuVGK9IrKW5otgoooqRhRRRQAUjdKWmSDIH1oA+dPgn/AMitr3/Y4eKP/T9f13/FeF/DPVviLa6f4mi0Lwt4Y1LSV8YeJvIutR8S3NpO+dcvt26JNPlVcNkDDtkAHjOB1/8Abvxb/wChI8F/+Fjef/Kqv8/eLMpqVs+xs1Wpq9SWjqRT36pvQ+qw817GOjPRuKOK85/t34t/9CR4L/8ACxvP/lVR/bvxb/6EjwX/AOFjef8Ayqr5H+xan/P+l/4Mj/mdHtF2f3Ho3FNk+76e9ed/278W/wDoSPBf/hY3n/yqoOufFv8A6EjwV/4WN5/8qqccmqJ39vS/8GR/zD2nk/uPGPDeqaRfSeDvCMM1tN8RNL+IF/qWpaeuDeWsZnvHlupVxuWN4JECyEBW82MAksBWx8WPGGj+IfHHww8Wf8J9J4L8FSWOrCDxGsVrFGL39wsaFr6F0jdo0ugDsDkB1VsMwPpVxq3xXureSGTwT4N2SKUO3xneKcEYOCNLyO/IPHtiq+izfE3w7pNlpWmfD/wRZadZQpbW1tF4xvAkUaKFVAP7K6AAD8q/SI46nHEwxfNDnjda1YPSSfNa6fW3KmnbXe5xqHLFxSevkc18Oda1zxF44+EmpeJIpI9aufBWuPc+db/Z3c/bNHAkaL/lmWUBivGCcY4r3evnzWNa+KLfHnwex8IeEVvF8Na2IoV8WXRjeM3WleYzSf2aCpBWMBQhDbnJZdgDd9/bvxb/AOhJ8F/+Fjef/Kqvn8+y6WLnQqxqUo3ht7SNvjm9NdjSjJQTST+49G4o4rzn+3fi3/0JHgv/AMLG8/8AlVR/bvxb/wChI8F/+Fjef/Kqvlv7Fqf8/wCl/wCDI/5nR7Rdn9x6NxSNivOv7d+Lf/QkeC//AAsbz/5VUf298W/+hJ8F/wDhY3n/AMqqFktT/n/S/wDBkf8AMXtPJ/cZPxw1LT/DviT4aa74guYLLwvp2uSve3l2wS2tZHsriOCWVm4Rd7BQzYAZ19RVD4HeKtD0+zvYIphDaeJvEGsajoEcNs+y7tVk3yTR7Vxscl5FP8YdSu4EV0n9vfFteR4J8Fg+v/CZXnHv/wAgqqEifEmbXrfWpPh94JfVILeS0iuG8ZXhaOJ2RpEX/iVYG5o0JOMnYvPFfX0YU5ZfHA16kNOqqwto21p3u9XfbQwfx86T+44r4WeKNL8S/Hiyn0XXPD/irTo/DlxbWx8L25tI9BthcQNHbXkO+X96+QFDNFt+zygQ8sR9Bfsr5/4Zd+EGOv8Awh+j8f8AblFXAjXfi3/0JPgxmx/0OV2O3P8AzCuKqfs1698YI/2dfhbFpvgbwReaavhTSxbT3XjO8gmli+yRbGeNdJdUYjBKh2CkkBm61/RvhnUVeWLqR5bWprSUZPTm1fLot+yv63PHxkbNfMx/2lPGNvpnjzxbaeIvG+s+Dry18MwXPgaz0nV57E6nqTPcCTy4YnUX84kS0T7M6yAB1+T96c83qOl3/hnXPiv4njvta0rxNN4k8J211Hb69eNAhuJdMNwixGUx4O54wduQhKLhCVP0GfEHxt6/8K98AZHr47vef/KN/nFH/CQfG3H/ACT3wCOf+h7vf/lNX7hy7a7HnJ2ep4JqXjayXwR8X725+IOvWvxgs9O8UGXw7DrlwosLWET/AGORbAN5dsixLavHcqiM5dT5r+YQ1jXNT16PWPHHilPFXiOO98P+MPDFjp1kmrzrYpBdRaSl1E9sG8uUSC4l/wBYH2sd0exixb3MeIPjaFx/wr7wD/4Xd7/8pqT/AISH42bePh74AA9vHd9/8pq25k7+YR0jZ6ngXh34wXWsftT+GrbS9UmjF94j1XR9V0y68Y3V1drDDb3bRifRfIFrYIXtY2hlVxJJGASXMkhH2mo7mvKP+Eh+Nrf8098Aj/ue77/5TU4eIvjcP+ae+AT7/wDCd33/AMpqV/dSsT1ueZfsz/8AJuXwoP8A1Kmk/wDpHFUvxo8NeNPFHh+xtPB+qaVp0kd9aT3Eeo6dJdGRUuoZAUK3MIQKEYspDFwcKVPNRfs0n/jHH4VH/qU9Kz+FnFjn/PaoPjN8HZviteaFMH8MTwaatwJLDxZ4cOtWsrSiPDrF9ohCOojIDDJ+dgCMkH5R29rr3Ih1Z6LpMd9Dptqmp3NteagEH2i4s4Ggikkx8zJGzuyDPYux/wBo1n/CH/k4/wCJH/Yp+G//AEs1uqvw58I/8IL4PsNF+z6HbC2Mh8rw5pX9mWK7pGb93b+bLs68/Octk8ZxVr4Q/wDJx3xI/wCxT8N/+lmt13YWyxDM6atZHvFFFFe4dAUUUUAFFFFABVbUrtLCxnupEleOBGkZYYnlcgAkhUQFmOOigEk8AZqzSdaT1QHzH4HsdRk/aK0Tx3qXhrWBD430ScwQzaZcImgNbNH9nF0Cu2G5nhmlV2fawMSxLkAlvc/AfjCfxd/bouNNOmS6XqUmnmJpxKWCxxyBiQAAcSAFQWAIOGIrp2XOc1yPgH4VaB8NrrWLjRDrBk1aYXN3/amu32ohpBkblFzNIIyRgHZtyFUHIUYa2t2E97nY15T8Zf8AkonwJ/7HO5/9R7Wa9WrxT9o651u08TfBSXw5p2n6trK+M5vIs9Uv3sreTOgawG3zJDMy4XcRiNskAcA7gDPaqGryhfEXxuB4+HngH8fHd7/8pqcfEnxv/wCiefD/AP8AC8vv/lNQB6n26V4h+0NrGm+FPGHwo8R+Jby20zwlpevTPfajfuI7SzmexuI7aWZ2+WNd7bA7EANIgzkitz/hJPjd/wBE8+H/AP4Xl9/8pqa3iL42sMH4efD889P+E7vf/lNStqmugWvdPqcn+z34y8O6XpN1aR3Ags/FniLXdW8Nww20hS8sln8ySeMqpGxyzSIc/OsilNwIrnP2d/Eul6X440rwv8PPiW/xO+HMeg3FxdGb7FOdAmWWH7NEZ7aGIqZVkuMxXG6T9xnjDZ7qSP4tzeJINfk+GXw9fWILV7KG7bx5flo4XdXkRR/Y+BuaNCxAydi56CtP/hIvjbtI/wCFe+AP/C6vf/lNSSSd0LS1jxzxcD42/Zp/aN+KczM6eKPC2sW2j7icJpFrZ3EdsVBA4lcz3Oe4uVHQCvrtetfL37TOvfGCb9m/4rpqXgXwRaaa3hPVluri08aXk80URs5d7pE2koHYLkhS6AkY3LnNfT8Y55GDVeXYLbklFFFAwooooASvK/g3/wAlF+O3/Y523/qPaNXqjdK+dPB+rfEax+LPxwj8I+FfC+t6afFlq0lxrXiW402ZZf7A0jKCOKwuAVChDu3gkkjaMZIB9GUV5T/wknxv/wCiefD/AP8AC8vv/lNR/wAJJ8b/APonnw//APC8vv8A5TUAerVyvxVj0Wb4a+KYfEl5Jp3h6bTLmLUbyHO6C3aJlkkB2tjapJzggYyRXJ/8JJ8b/wDonnw//wDC8vv/AJTUj+I/jfjn4eeAOv8A0Pl9/wDKak9VYa3OE+DPxNtNFbxyU+Iy/Ef4WeGtHtbyHxbMLORbaVVm+02n2izijhmEcUUEnC7187DE7lxx626eB7b4W/En4gyRaNBrnim68R+ILrVpAkGlz3Onzw6fHO7ALGsEXkWwZiAHx3evaP8AhIvjd3+HvgDP/Y933/ymo/4SD42tgf8ACvfAP/hdXv8A8pqHZWaRPTU8f8A/ZrjUPhZqemKo0DVfizr2oaQ0abI5rWXR9bZZox3jkbzJFYcMrhhkMDX1wucDNfOfizVPiLffFn4Hx+LvC3hjQ9OHiy6MdxoviW41GZpf+Ef1fCGKSwt1C43ktvJBUDackj6NFMErbi0UUUDCiiigAooooAKKKKAPnP4uaxrek22iLpcup2WnXF6YtT1LRdO/tC8tYRG7IY4fKlzukCKW8t8Bs4H3hL8GfF134y8FtdXs091PbX15Y/arm1a1lnWKZ0WR4iieW5VRuXYuGDfKOlaniSa312yjgsvGM3h2RX3m402S0dyAD8pE8cq4yQeFzwOeuU8J2vhvwVoFro+mX9utrbhiGluw8kjuS7yOxOWd3ZmJ7kk966I6N3Mnqkdp4V/5HKD/AK8Lj/0ZBXoFeb+C9Qtb7xlF9muYbjbYT7vKkDYzJB1x9DXo9Yy3NELRRRUjCiiigAprfdp1NbpQB85/BP8A5FXXv+xw8Uf+n6/rv1rwn4a/HL4b+D9O8T6Rr3xB8LaJq1t4x8TCew1LWra3ni3a5fMu6N3DLlWUjI5BB711w/aY+EH/AEVbwR/4UVn/APHK/wA9+LsozGrn+NqU8NNp1JNNQlbf0Pq8PUgqUU2j0mivNv8Ahpj4Qf8ARVvBH/hRWf8A8co/4aY+EH/RVvBH/hRWf/xyvkP7EzT/AKBan/gEv8jo9rD+ZHpNI/3Txn2rzf8A4aY+EH/RVvBH/hRWf/xykb9pj4Pkf8lV8EH2/wCEis//AI5VRyXM764Wp/4BL/IPaQ/mRw2j+OvGFxN4Z8ZS+JJJdH1zxVPoj+GTZ24tYbXzp7eF45BGJvODQRuzNIyHe4CAbcdT+0F491rwz4SvtO8I3SWviibT7rU1u3hSUWNrbx75ZyjcEk7IkyD88oJBCsK4Oz8S/BHSfEI1W2+N3h+7s7bUbjWbDw3deKdNGm219MHLzKVAm+9LKwV5HRWkJVAQu2rJqX7Pviz4d6doXj74j/DrxprcOmvZS6/qmr6fc3aPICZHhlmZ2jwzErySNq5yev6XUwNKWLoYqeGm4Qfwqi723V00lLl63380cUZNRa5lr5nomnahPqnxc+F95cyeZc3HgjWJ5XwBudrjRWJwOBknsK9b718x6X8Xvgv4M+KXw90/QviD4Js/Duk+Fdasla21qySCF3utKZFYo4RXcRytjA3bHIHBx6p/w0x8H/8Aoq3gj/worP8A+OV83n2U46rUoOhhqjjyae5L+ee+mjt0NqNSKT5pI9Jorzb/AIaY+EH/AEVbwR/4UVn/APHKP+GmPhB/0VbwR/4UVn/8cr5b+xM0/wCgWp/4BL/I39rD+ZHpNI3SvN/+GmPhB/0VbwR/4UVn/wDHKRv2mPg+Rj/ha3gj/wAKKz/+OUf2Lmn/AEC1P/AJf5B7WH8yJfiprmsLrHgzwzouqy6DceINQkhn1W3hilnt4IbaWdhEsqPGHYxouXRwFLcZwQ74O69rOveHdcsdb1D+0tS0bWbzSDqawpC9wkbfu5GRQED7GXdtUKWBIUDiuP8AH3xY+DHju100H40eGNE1LS7wXtjqml+JdPFxayhGjYqJTJGytHI6FXRgQx4BAIwvDfxD+FPhTX9ANh8cfCp0ewS+ub5bnxXaNcarfXMisZrja6xkL+8YAAAFlCBFXbX2tPK6tTK1h/q841Fr/Cle6bfxcvVWilffVrvzOpapzJ6ep1fhFfFFv8cJ9EXx3rnifQdI0kXGqx6tb6aqfap2/wBGiQ29pC4KxxyyMN2MPF68+u/sq/8AJsXwhP8A1J+kc/8AblFXjnhD4x/BPwbJrUtt8XfCN3caxqMup3lzeeJbFnaRwqhRtdQESNI0UY4VBkk5J2v2af2mvg9oP7Ofws03U/iv4H07UbPwrpdvc2d34js4poJUtIleN0aQFWVgQVIBBBBr+ifC/wBs5YuVWk4JKmk3Dk5rJ3drLq/useTjbaNO+59NuTtryPwr8YvEXiqTW9ZtfBlufBFnLqFva6oNbjW+nls5HicvbSRpHDE8kUqq5nYj5C6IGYpYb9q74I7f+Sx/D8kdP+Kosf8A47XkF5rP7O97Z+KNIl/aI0X/AIRHXor9ZPC0XjPS47G2kvNxuJYmXE+SzyMEeV41MjbUGF2/u+t2eX0NjR/20LTUfDHjm9W28J6rfeGf7OeS48OeLBqejeTeTNEks96lsGgERjkabMLbEUP8wPGp8Wf2sF+D/hjQ9a1aLwUbe60xdVuIz41iikuos5YaUrQbr9gvzDcIFbfGFYliE5bR/F3wY0O81/VLb9q6wbxJrVtZWdxrsvibw808cNq8zRpHF9n+zoD57qf3PIAPDZY81qGg/s1XHhy40Ky/aO0vRtLvtBj8ParBYeMNHH9p26NO6NKzoxjcPczMfIMSnftKlcLVaX+7/giPtG3lE0aSLko6hh+PSpq8mt/2q/ghDGiD4yeAPlUDJ8UWOTj/ALa1J/w1h8EP+iyfD/8A8Kix/wDjtD3dgR5h+zR/ybj8Ke3/ABSek/8ApJFXA/tKP4D8V31vpXi3xD4PsEsbS7SPTfG1ylrE144geC4iWYYkUBHjMiAgCWQDJ3rTf2e/2hPhXovwD+Gmn6j8S/B9hf2nhjTLe4tbrXrSOWGRbWNXR0aTKsCCCpAORjiuW+LX7SHgfQfF2m6nD+0h/ZfhW7WZbq18NPo+qm1mVY/JRYls559j/vmaRt6gqB8u5a+ZdOTqtWe5EVpI9o/Z20rSdJ+FOnR6HN4fm0uW6vLmFfC12t1psIlupZDDDMqIHWMsUztXlSNoxiuv+EP/ACcf8SP+xT8N/wDpZrdeO/B39p/4d3XgGwm1/wCMPhvUL95bhlutY1fT7W7lg89/IaWGPyxGxi8s7CisucMN2a9H/Z08ceHPH/x9+JmoeF/EGl+JLCPwx4cgkutJvY7qJZBda0xQvGxAYBlOM5ww9a7qEZLENtaEQ3PpOiiivYNwooooAKKKKACiiigBKWiigAryn4y/8lE+BP8A2Odz/wCo9rNerV4p+0d4s0PwP4n+Cet+JNZ0/wAP6La+M5vP1HVLpLa3h3aBrCLvkchVyzKoyeSwHU0Ae10hryv/AIax+CH/AEWT4f8A/hUWP/x2k/4ax+CH/RZPh/8A+FRY/wDx2gD1Rjj868q+M3iDXv7f8C+EdA1mfw1P4k1GaK51i0ghmuba3gtZZ2EKzJJGHdkjXc6OApfjOCA/tYfBHn/i8nw//wDCosf/AI7XG/Ej4x/Af4jWukk/Hrwn4e1XR70X+naxo/irTBc2svlvE2BMZI2V45JEZXRhhs4BAIh9Oweh2vwR8Wavqng/XovFOrJqd94c1q/0mfWJYY7Y3MUEh2TSKgVFfyyu4qFXcGIVRwOF+HPxK8bePvib4vVtWXTfDeo+GYtW8MWjackr2kbTTwxXcgHzzNKI1m8vcAFZE2htxPN+H/H3wU8N6zoVvb/H3wXdeFrO11KTVbW/8XWUsuvX17IrSTXiB1icD98doQAGQBVRV2mrY2/7IWgeJtS8QeGvHnwx8G6td6S2kx3XhnWtI0+SzDF83Fu8eGjnIfBbJBCqCCAcvW9w2smUPEnjrVvEf7P/AO01o974l1rxLpum+Dr2Wxn8V6VFpOsp5um3HmCS0W3tmWDcg8uR4ELt5wBcIDX2StfEnxY+IXwb0j4G/G67i+PWg/EHxp4g8F3+lpdah4i0lruVEtLnyLWGG0SFP9ZPIRiMuzS4JICgfbfG6qeyF1bHUUUUDCiiigBK8r+Df/JRPjr/ANjnbf8AqPaNXqhr528I/G74dfDX4s/HDTPF3j7wv4V1Kbxba3Mdnres21nM8R8P6QokCSOpKlkYbgMZUjsaAPoqivKv+Gsfgh/0WT4f/wDhUWP/AMdo/wCGsfgh/wBFk+H/AP4VFj/8doA9VrI8XeJ9O8F+GdS13V7hbXTdPge5nlPUKoyQB3J6ADkkgDmuB/4ax+CH/RZPh/8A+FRY/wDx2szxJ+0b+z34u0W60jW/ih8M9a0q6Xy7iw1DxBp88Ey/3XjeQqw6cEVMr20D1OT+HvjL4heItL+LMHirX7zQdQ0+7tbi1j0jRY7260a1ltYbhraGFEkNxMqsybmWXMmSEK4jrB8J/FLxn4ws9C8JW3jPUIbnU/Ft/pg8S3OnWkOuQ6fb2jXSrPZvAIre5ZtqgSWynySrtEruDVXR2/ZW8H3Xie+8FfFfwB8PtU1yS2k/tDwrrujWc1mIfLxHCNpQxOYwzxSK6OWYkc8PbWv2fv7NZx+0foi+LDrI1/8A4TFfFejDUvtf2f7Lnb5f2bYbf9yY/I2bfm27zvoinaK7B3aNbR/Emt69r3wjs/EWpf2zq2hfE7V9FfUzbpA94kOhayI5XRAEDmNk3bAqlgSFUHFfUI4r5P0rxh8K/wDhNPgZ4U8BfEbQvHGpR+M9Q1S+e0121v7+5eTQ9Zae6mELcbpJRkqqou5VVVG1R9Y1bEkLRRRSGFFFFABRRRQAUUUUAeF3Xj+0s/HOn+FnsNSN1eI7pefZylruRQ+zexBc4IOUDAHgkdKybH4wabfeIbbT10vVU067vptMtddaOL7FcXUe8SRrh/NHMUqh2jCExnDH5c5/jN9el+KXhO7svB+q6jpmlfaVn1CCexWI+fGqgqslwsmFIy3y/TdWDoXg3xNHJ4e8K3GhywaVofiCfVjrz3MDQXMHmTSwqkYcy+aTMisHQKNj4Y/LnaDbV3/X9Izloz3fwpn/AITC39fsFxn/AL+Qf5/GvQK4Dwr/AMjhb/8AXhcDrn/lpBzmvQKiW5S2CiiioKCiikJoAWmtzjFLxRkUgGLnuKcBTqKYCUUtFACUjZp1FADOfSjFPopWAbzQBS0tACUUtFMBKDmlooAbjvSHOM0+igBlOpaKQCUUtFMBPwpKdRQAlFLRSASilooAYwOOOtJGpDHsKkopgFFFFABRRRQAUUUUAFFFFABRRRQAUUUlAC0lLRQAnfpQaWigBlKPWnUUAMdTjihQc8inZx1paQBRRRTAKKKKAGt24pFyG56Y9KfSZ7d6AFooooAKRulLRQA38KB1zinUUANfO3jrSLkdRin0UAFFFFABRRRQAUUUUAFFFFAHkX9m3Gcf2teZ/wByD/43R/Ztx0Oq3eO4KQ//ABuuA8VaHZ2/xx8C6mkbtfXUeoRvI8ryYUQINqKxIRe5CgBjywJ5o0vQ7LR/2gr+e1iZZb3w7588kkryOx+1HHzMxIUdAo4UcACt000pGcvia8keq+C7WW38ZReZdzXWbCfHmhBt/eQdNqr/ACr0evP/AAr/AMjlB/14XH/oyCvQKyluWtgoooqRiZFYHi/xzoXgeHS31zUEsV1TUYNKswyO5mupm2xxgKCckg8ngAEkgAmt1+h718S/tCfE9vFhTxrAfC9x8P8ARvFej6JY61ceIWS5FzDq1rJetFbLbskgZolTmdGCWzuBtY7lF6pMpK59P3XxSW1+I1l4Sm8MeIFjvHeGHXjbRDT2mWEzNGCZfO+5/wAtPK8vd8u/d8td2PUVwsXw5vW+IP8AwlTeN/EctpwR4cxZLp3ERQAEWwuMZYvtM2C2CQQAB3UeB7DpTtZWZmnd3PAPht4b8bfE/Stb164+MPjDRP8Aipte06DT9LsdE+z29vaavd2sKIZtOkkOI4EyXdiTkk811n/Cm/F3/RdviB/4A+Hv/lVS/s0/8k71j/sc/Fn/AKkOo16rQUeU/wDCm/F3/RdviB/4A+Hv/lVR/wAKb8Xf9F2+IH/gD4e/+VVerUlAHlX/AApzxcOvx38f/wDgD4e/+VVH/CnfF3/Rd/H/AP4A+Hv/AJVV6k2SuMZr4z+I2haLqM3xV8Y39rbyfErQ/HGmafoepsQL+yjI0/7La27/AHo4pvOkzGhCyefLuzuaplLlA96/4U74t/6Lv4//APAHw9/8qqRvg54t4/4vt4/P/bj4e/8AlVWH8e/iFbT+FbXQdNOsahp2sahJpGt6p4V0y81WTTYIlJuonFkkkkUzgCAHAKGQt1TB+afCOn2nxU+GPwS8MaB4Z0rxTf6f4b1SYeF/H2kTW+jmJDbxC5XzUDGaJ5I1jZI3VkknXfFuEgFK7a7WBbJ9z33VPCPjux+M/hXwjF8cfG50zVfD+r6tNKdP8PmVZbW402KJVP8AZeApW9lLAqSSqYIwQe2/4U34u/6Lt8QP/AHw9/8AKqvNfgjfafqPi74BzaVdajfaePhrrkcV1qxQ3MoS60FN0hRnUn5equy9MMwwT9PLVvR2EndHlf8Awpvxd/0Xb4gf+APh7/5VUf8ACm/F3/RdviB/4A+Hv/lVXq1FIZ5T/wAKb8Xf9F2+IH/gD4e/+VVB+Dni4dfjv4/H/bj4e/8AlVXq1ePftSNHL8OtLsb6Ty9B1HxHpGn6xufaj2U17FHLHIf+eb7hG4PBV2U8E0noMt/8Kd8Wnp8d/H//AIA+Hv8A5VUn/CnfFv8A0Xfx/wCn/Hj4e/8AlVXK/BOPwz8N/iD8TfDekPpvh7wrFrljaabpkEiW9pDfy2Mckttbx5Cq7DZIY0Ayzs2Mk1yOteF9N0b9ojwl4g0jSNB0K28RX+q6XB4t8NXwvtU1e6ktZpHjv96Jthhe3lIVXuNrwQLiFVIAveaS6k9Gert8HfFuP+S7ePz3/wCPHw9/8qq1v2efFGp+OPgH8NfEetXP23WdX8M6ZqF9c+Wkfmzy2sckj7UAVcszHCgAZwABXz38DfAut/Cf4++EfCk/h7wtpeor4TvLjxHq/hvUpbi411lmtUhvtQje1iKzSS/aGRnlmb5rkbjgk+3/ALJ3/JrnwdGMH/hDdH/9IYafRNBfVo9XooooGFFFFABRRRQAUUUUAFFFFABRRRQAUUUUAFFFFABSFgoyTgUtVNUvrXS9PuLy+uYrOyt42lnuJ3CRxRqCWdmPAUAEkngYpN2QHLWnxq+HmoRadLa+PPDNzFqV62mWTw6xbsLq7XG63iIf55RuXKLlhkcc12eQelfKXwZt9L0/4geM5fFO3SdF0CeXxn4a0m9h2Gys9Radpb2QHkSmVbxVTAaJJdpG6QgfQnw++I2g/ErTbu+0Ga6eKzuWsrmC+0+4sbiCZVVikkFxGkiHa6MMqAQwIyDmn0TF1sdVXlPx01DX/wC1vhjoOg+J9Q8Jf8JF4mk0+91DS4LSW48hNI1G62ILqGaMZltYsnYTgEAjNerV5T8Zf+SifAr/ALHO5/8AUe1mgYn/AApvxdu/5Lr4/H/bj4e/+VVL/wAKb8Xf9F2+IH/gD4e/+VVeq0jdqAPKv+FO+LR/zXfx/wD+APh7/wCVVH/CnfFv/Rd/H/8A4A+Hv/lVVP8AajMcvw60uyvX8vQdR8R6Rp+sbm2o9lNexRyxyH/nnJuWNweCrsp4JrB+CaeGfhr8Qvid4c0ZtN8P+FYdcsbTTNLgkS3tIb+WxjkltrePIVXb5JDGgGS7NjJNRza2Yn0sdUfg74tHX47+P/8AwB8Pf/Kqj/hTvi3r/wAL38f4/wCvHw9/8qq8B0fxtbeKP2t/Cut67pHiqz1TUYtY0W207UvC+pww2lijQJCN7weU4lYSTSSqdiiSNXbCKT3Hwz+CvgHUPj94v1rwr4O0Lwrovhiwfwwk3hvTodNkub64VJrx/Otwj5iiNtGjAgo7T4OacW5JNjlo2l5Gl8bvCPjz4a/Bjx74u0v44+N7jUtA0C/1W2hu9P8AD7QvLBbSSoHC6WpKlkGQCDjOCOtfRCZ3dOMemK+Qr7QrDwz+yF+1Dpmm2y2ljbDxZHFEucY+xvySSSzE8licsSScnmvr/vVALRRRQAUUUUANfOB9a8K0jSfGPxK+JHxSjT4p+KPCmm6Br9vpVjpui2WkNCkR0jTrpiWubGaQsZbqU5L4wQABivdjXlXwc/5KL8df+xztv/Ue0agA/wCFN+Lv+i7+P/8AwB8Pf/Kqj/hTfi7/AKLv4/8A/AHw9/8AKqvVOKOKAPK/+FN+Lv8Aou/j/wD8AfD3/wAqqP8AhTfi7/ou/j//AMAfD3/yqr1TiuY+J3iy58C+ANd16x0e+169sbV5YNN063knnuJMYVFSMFjyRnaCQMnBxUt2Qzkf+FO+Lf8Aou/j/wD8AfD3/wAqqX/hTvi3/ou/j/8A8AfD3/yqrwn9nXTfBHiLUvjPoHirTLrxJYzXdnrGsz+MvC15bW1xMLOGSaaSO+hCoBJlkiblEVdo2KDV/wAD/BbwrN+y58QfEH/CMWeg2Pi+K98Sw6HpsAsLWG1FsyWMMkEO1HHkLHI6OGUyyOSCQMNPS700F1t5no2saV4w+GvxG+FqSfFTxR4q03X9fuNKvtN1qy0hYXiGkajdKytbWEMisJbWIgh8EZBBzXukYx2wMcCvn+6H+h/ss+2sp/6i+rV9BCj0AWiiimAUUUUAFFFFABRRRQB8+6r4F8Ma5rQ1jUvh/p+o6xlGF/d2FnJcZTGw+YSW+XAxzxilj8C+GIfER8QR/D6wTXRKbg6otjZi68wjl/M3Btxyec5OeaZrHirXtN+J3h/R2h05dB1SO5w37yS6Zo4lbcc7VQZJG3DkgA7l+7Va88SeKdF+ImhadeyaPd6RrVxcwxWdnbSi7tEijZ1neZpNsinaoYCJcNMgDNjJ3jZ2t/TM3o2mei+CrmS48YReZaTWu2wnx5rId2ZIDxtY/r+Ga9Irz/wqc+MLcnvYTn8TJBXf55rKW5UdhaKKKkoa3sKZs7Y96lopWAiVNuKcc7cYzmn0UC22Pmj4I/EnxH4f8M+IbCw+FHjDxNaw+MvFQTVNLu9GS3nzr9+x2C41CKUYJKndGvKnGRgn0H/hcni7/ohXxA/8DvD3/wAtaX9mn/knWr/9jn4s/wDUh1GvVaYzyn/hcni7/ohXxA/8DvD3/wAtaG+Mfi//AKIV8QP/AAO8Pf8Ay1r1akbpQB5Q3xi8XMMf8KK8f/8Agd4e/wDlrXM32rjU/GVn4svP2YfEl14rs08q21ydPDD30CYYbUnOpl1GHfgH+NvXn3qT7tfPXjD43eN9M1PxZ4g0qLQP+EH8Ka9baFfafeWs7ahe7vs/2i4juFmCReX9pG2Mwyb/ACT867xtmTS3GX/BPirW/Aek3NhpvwK+IjrdXtxqFzcXGoeHnluLieVpJZHb+1RklmIxjAAVQAFAqh4gXTfFmi6do+ufspa3rOkabk2NhqFt4Wnt7XIwfKjfUiqcf3QK7L4/eOPFPgXwvo194TtfMnutWhtb25/4R29137HbNHIzTfY7N0lfDLGuQ3G/JrK/4Trxf4n+EOneKfCfjLwXJHFaXV3qWvaloV4lqTCWBiFkbtJLcqVdZDLMzRtEQYyWOx/E2StlbZnCal8S/ENn+0L4ANv8E/Gdmtr4Q1+2t9LjutBV2iN3ouXj26l5apH5aKQWVv3qbVYByvqP/C4/F3/RCviB/wCB3h7/AOWtc34a8TXXjT4zfBnxDfadJo97q3w61y9n0+QktbPJc6A7RnIHKliOnaveVqnuC2PKv+FyeLv+iFfED/wO8Pf/AC1o/wCFyeLv+iFfED/wO8Pf/LWvVqKQzyn/AIXJ4u/6IV8QP/A7w9/8tao658SNd8SaTd6Xq/7PfjXVNMu4mhubK+uPDk0M8bDDI6NqhVlIOCCMGvZK4L40eONR8B+EbafRYLWfXdT1Oz0fT/twY28c9zOsQllCkFkQMzlQyltm0MpbcE/QDyyGGOyj8LWumfs4eMtF0nw3fPqWn6RpUvhq1skuWSRPNMMephSR5sjDoNzbsEgEXdLu7bQ/FV/4n039lrX7DxLqCuLzWLWHwxFeXIcguJJl1Pe4YgE5JzgZ6V2fwk8beJNa1zxj4Y8XNpV1rfh27hj/ALQ0W2ltbe8t5oFljcQSSSmJgS6FfMfOwNkbto4DwP8AtKTePPiu2nJq9lonhv8Atq+0GzsrzwpqbPqVxbecjGPV2aOzV2eGRhCqysUjIyHJWMT5tncXR+Ro+CdXX4a291beEP2YfEnhW2uZBLPDocfhizWVwMBnEepqGOOMmum/ZNGP2W/g7/2JujHP/bjDUnwr8eeK/EXjvx3oHii30e2bRJbM2sekmVwiTQmQo8smPNII++I4xg425GS39k//AJNb+Dg/6kzRv/SGGkmpJSXUfV+R6tRRRVAFFFFABRRRQAUUUUAFFFFABRRRQAUUUUAFFFFABWZ4k8O6V4t0W60jW9Ms9Z0q6Xy7ix1C3SeCZeu143BVhkDgitOigDltU8D2X2i+1jRNP0fSvF76a2m2uvTaYk0sMXLRxttKO8SvhvK3qDjt1qv8MvDPiLwvpN3D4m1rS9d1K4uTObrSdIbTYsbEX5keeZmclSxcv/EAAAorsaKFoIK8V/aN1i80DxP8E7+w0LUPEt3F4zm2aXpb26XE2dA1dTsNxLFENoJY7pF4U4ycA+1V5T8Zf+SifAn/ALHO5/8AUe1mgYi/GLxcvT4FfEDH/X94e/8AlrQ3xi8XHr8CviB/4HeHv/lrXq9IaAPGtb+JGueJNIu9L1f9nzxrqml3cbQXNle3HhyWGeNhhkdG1QhlIPIIINcpDCljH4XtdM/Zw8Z6JpPhu+fUtP0jSZvDVrZpcskieaYo9TCkjzZGGONzbsEgEep/GbxxqPgTwjbT6LBaz67qmp2ej6f9uDG3jnuZ1iEsoUgsiBmcqGUts2hlLbhm/CXxt4k1jXfGPhjxc2lXWt+HbuGP+0dGtpba3u4JoFljcQSSStEwJdCvmPnYGyN20SrXdhPbUypviVr93qVpqE37P3jaa/tFkS2upLnw40sKvjeEc6rlQ21cgddoz0qvD441K20m90qH9nPxfDpd60z3VkknhtYZ2mZmmaSP+1NrGRmctnO7cSc5NZXgP4zeKNU+M2oeGfFGpWHh+3Op6haaTo134O1O0l1GGHcY5INUln+yzsUHmFI4y21WIAClhW8V/Gf4ifC3UvFEOu2OheLXs/Cl34nt7Hw5Z3FvJYvDIirbTyPLL56uHfbKscRb7NKfK5wrTVr9x9WedfGG30zwH+zr8YYvC37Mmq/D/wDtLwjqdvealptt4btI0j+yTYeb7NqBkdE3FiFVmxnCk8H7NX/PNfGvi748N8R/gZ+0H4Yn8Y+DPHlxp/w8vtTj1nwQNlqqy2l3G1tLH9quCsiNEGzvG5ZR8q7SW+y1x2qnpYV7jqKKKQwooooAa2ecV8q2Px8Hwr+M3xs0o+BvE/ibzvFFrdfa9GfTxCmdB0lfLP2i7hfcNmeFK4Yck5A+q/8AGvifxF/yXb4zf9jFZ/8Apj0uvEzjHTy/CvEU1dprfzOXE1XRp86PTv8AhsdP+iSePP8Av7ov/wAsqP8AhsdP+iSePP8Av7ov/wAsq80or4P/AFtxf8kfx/zPH/tGp2PS/wDhsdP+iSePP+/ui/8AyypG/bFRhg/CTx5/390X/wCWVea1l+K7++0vwvrF7plv9s1K3s5prW32M/myqhKJtXlssAMDk9BTjxZi5NR5I/j/AJjWYVW7JHpF1+0p4evodWguvgX4tuYtZTy9Sjmh0F1v18sR7ZgdR/eDYAvzZ+UAdKq+LP2hPCnjzQ49H8T/AAB8TeI9IR1kTT9WttAurdWUYVhHJqBUEAnBxxk4rwrwF4y17xfouqQpquly+I4BBmzuvD95pZsQ/JaWGeYySrgMVIKK5jZdw+8vP6h8Yde0fTzbaleaFp0qa/Lo0nim5t5I9LjRIDN5jRGcEMWHkbTNgSKx3fw16X9u5hzOChC6aXXqa/XK13oj3zw/8R/D2qfEz4H+EvDHwq1P4b6TaeK729SN7bS7ey3HQdWDKsdncyEOxk3Z2AfKctnAP2IK/Pb4D+OP+FgfEr4Mak09ldTxeLNUspbnTW3W1w0WkasnmxHc3yOFDAbjjdjJxmv0IXrivrstxNbFYfnrpKV2tPI9LDVJVafNLcdRRRXrHUFFFFABRRRQAUUUUAfOvibwP4l1rx5oeu2niHSrOx0kyeVYz6NJNK6yIqyhpRcoM4B2kJx33VBoPgDxRpfj/UvEV54l0nVoL6Up5U2jSrdW9r1S2hm+1bEUHDE+V8xBLAnGNWTXPBsPiy38MFbE65MjOLWO0L7QqhjvYLtRtpDBWIJHIGKrWHirwVqXiZvD8NtGNR3Sogl0qWGCZojiVIp2jEcrIfvKjEjDZHynG8dLWMpPe56L4W/5HKA9f9AuD/5Egrv6848F6fbWPjCP7NbQwbrCfd5SBM/vIOoFejis5bmiFoooqBhRRRQAUUU2QFlwKAPLP2af+Sd6x/2Ofiz/ANSHUa9VrzLVP2Zfg/r2rXmp6n8KPBGo6jeTPc3V5eeHLOWaeV2LPI7tGSzMxJLE5JOTVb/hk74I/wDRHPh//wCEvY//ABqgD1akavKv+GTvgj/0Rz4f/wDhL2P/AMao/wCGTvgj/wBEc+H/AP4S9j/8aoA9TYblrxHxH+zzquteJNcjt/FkNn4E8Qava65q2gNpRku5LmEQ7khu/PCxwym2hLo0Lk5l2uu8bdv/AIZO+CP/AERz4f8A/hL2P/xqj/hk74I/9Ec+H/8A4S9j/wDGqVgI9P0D4r6h4ZkmHinTNC1x9bu7iK31TRl1K3TTWeRbe2dYZrdi6p5TmQScHKnf1PJ+If2a/E154S8O6DpHjfTobODU7vW9ftdc8PvfWuuXk8zTnfFFdwFIEmd2EO9wcRhy4U7uw/4ZO+CP/RHPh/8A+EvY/wDxqkb9k/4I9vg34A/8Jex/+NUxFCSHUoP2jvhlFrN3a3+qJ4I8SC5ubG1a2hkk+26FkpE0kjIvopdj7mvZRXlC/sn/AAS3HPwc8Af+EvY//Gqd/wAMnfBH/ojnw/8A/CXsf/jVAHq1FeU/8MnfBH/ojnw//wDCXsf/AI1R/wAMnfBH/ojnw/8A/CXsf/jVAz1auM+LXw/k+JHhEaba6l/Y2qWt5a6lp2peQJxbXVvMssTtHuXem5NrKGUsrMAyk5HOf8MnfBH/AKI58P8A/wAJex/+NUf8MnfBH/ojnw//APCXsf8A41SauBj6R8MfHfhnxBZ6jH4gtdS1jXtfjv8AxRqltp6WlqthBaNFFZ29vJJM6hmWL5vMZgzStuA2pUWjfs7ajp/ii2E3imObwPp/iO48VWGhpprLdpezNJIyy3ZnYSQCWeaRY1hRslAXIUht3/hk74I/9Ec+H/8A4S9j/wDGqP8Ahk74I/8ARHPh/wD+EvY//GqfmK2liD4d/C3xt4W+JXijxPrni7QNYstfEPnafp/hyeykiaFPLiKyvfTDG37wKcnBBXGKn/ZP/wCTW/g7/wBiZo3/AKQw0jfsn/BHjHwc+H//AIS9j/8AGq9J0fSLLw/plnpmm2Vvp2m2cEdta2drEsUMESKFSNEUAKqqAAAAAAAKVrJJD7l6iiimAUUUUAFFFFABRRRQAUUUUAFFFFABRRRQAUUUUAFFFFABRRRQAV5T8Zf+SifAr/sc7n/1HtZr1aud8cfD3wt8StJi0zxb4a0fxTpsM4uY7PWrCK8hSUKyiQJIpAYK7jI5wxHc0AdFSV5Sv7J/wSzz8G/AH/hMWP8A8apf+GTvgj/0Rz4f/wDhL2P/AMaoA6L4sfD+T4keEf7MtdS/sbVLW8tdS07Uvs4nFtdW8ySxO0e5d6bk2soZSyswDKTkcNpHwy8d+GfENpqUfiG11HWNe1+PUPFGq22npaWy2EFo0UVnb28kk0ihmWL5vMZgzStuA2pWv/wyd8Ef+iOfD/8A8Jex/wDjVH/DJ3wR/wCiOfD/AP8ACXsf/jVK2tw8iP8A4VT4s1zxppGqeKvGNjrOjaBqU+qaNp9nohs7hZnjmhi+1T/aHWZY4riRf3cUO5grHOCpyPhf8HfiP8P5vEV1f+PPDPiLU9Z86efVpvCVxFeSXPIgMrf2iytBCvyrBGkY2jhlYszbf/DJ3wR/6I58P/8Awl7H/wCNUf8ADJ3wR/6I58P/APwl7H/41QB538Z/hnqnhv4A/tA+K/FGvweI/FWseB9Rs3nsbBrCytrSCyujFDBA00zL880zszSMWZ+yqqj6YWvKm/ZN+COOPg54A/8ACXsf/jVeqquCeMUwHUUUUAFFFFACf418T+Iv+S7fGb/sYrP/ANMel19rsOh968/8T/s+/C7xxrlzrfiP4beEde1q62faNR1TQrW4uJdqBF3yOhZsKqqMngADtXlZlgVmOHeHcrXtr6HPXo+2hyXPmuivoD/hlH4J/wDRH/Af/hM2X/xqj/hlH4J/9Ef8B/8AhM2X/wAar5D/AFPj/wA/n93/AATzP7N/vHz/AFT1i2u7zSbuCwvBp97JEywXRiEoicj5WKEjcAeq5GemR1r6M/4ZR+Cf/RH/AAH/AOEzZf8Axqj/AIZR+Cf/AER/wH/4TNl/8aoXB8U7+2/D/gj/ALN/vHxvefDXxLe23iG/bxdbWnizVbSGwj1Sw0po4LS3jd3wkDTs28mWXL+Z3XAG3m9oPhHxX4b8KwaRp2teG7R7aQCF49An8oRYJIZPtu5pCx3GQvzlsgk5r66/4ZR+Cf8A0R/wH/4TNl/8ao/4ZR+Cf/RH/AX/AITNl/8AGq7nw3J/FV/8lX9W8i/qD3TPl34S+EYvA/xT+CWlpdzX8g8TajcXF5PgPcTy6Pq0sspA4Xc7scDoMV97DGa8/wDDP7Pfwu8Ea5ba34c+GvhHQdatd/kajpehWttcRbkKNskSMMuVZlODyGI6E136j5jxivpMBhHg6PsnPmd27+p30KXsYct7j6KKK9I6AooooAKKKKACiiigD5e8deIorf4veC1/s7XLhLE3a3Nxa6Jez28ZmiRUzMkRQ5OckHC/xYxWbJdX2u/GHQLu1h8SXX2K8ukuLLWtINtY6XF5Ukf2i2uEjjSV3YIBmSY7ZnwEwdvq3k6p/wA/ln/4Bv8A/HaPJ1Qc/bLT/wABHH/tWt4e7Z9mZS96/ojd8Lf8jhBjp9huMe372Diu/BrzjwWt0njCI3U0M2bCfb5URTH7yDOcs1ej1lL4i47C0UUlSUFLTchckmgsMdaAFozTdwyBQw6YHegQ7NLXhPgnWvjB8SrLWdZ0vxZ4I0PTYvEGs6VbWV54QvLyZIrLUrmzQvMuqRK7MLcMSEUZYgDjnoP+Eb+N/wD0UP4f/wDhB33/AMuaBnq1FeU/8I38b/8Aoofw/wD/AAg77/5c0Hw58b/+ih/D/wD8IO+/+XNAHqtGa8o/4Rz43Zx/wsPwB/4Ql9/8uaP+Ed+N3/RQ/h//AOEJff8Ay5oA9Xoryj/hHfjcP+ah/D//AMIO+/8AlzS/8I58bsf8lC+H+P8AsQ77/wCXNAHq24HvS18/ahq3xv0/4peHvBv/AAmngBzq+jalq5vf+EJvh5X2Sewi8vZ/a/zb/t2d24bfKxht2V6v/hG/jf8A9FD+H/8A4Qd9/wDLmgD1aivKf+Eb+N//AEUP4f8A/hB33/y5oPhz43/9FD+H/wD4Qd9/8uaAPVc0ZFeU/wDCO/G7r/wsL4f/APhCX3/y5o/4R343D/mofw/H/ch33/y5pAerZFFeU/8ACOfG7/oofgD/AMIO+/8AlzSf8I78bf8Aoofw/wAf9iJff/LmmB6vuHrRkV5QfDfxtxz8QvABHt4Evv8A5c10HwP8aX3xI+DfgHxdqUVvBqOv+H7DVbqO0VlhSWe3SVlQMWYKGc4BYkDGSetAHcUUUUAFFFFABRRRQAUUUUAFFFFABRRRQAUUUUAFFFFABRRSMQBzQAZori7P40/D3UI9OktfHfhm6j1K9bTbJodXt3F1drjdbxEP88o3LlFywyOK7NTQA6iivNPjR4s8U6DeeANG8JXej6dqPifxA+lSXutadLfwwQppt9eEiGO4gLMTZquTJgBycHigD0oHPI5FLXlC+G/jf/0ULwAD3/4oS+/+XNK3hz439T8Q/h//AOEHff8Ay5oA9Voryj/hHfjd/wBFD8Af+EJff/Lml/4R343cf8XD8Af+EJff/LmkB6tmjNeU/wDCO/G7/oofgD/whL7/AOXNJ/wjvxu/6KH8P/8AwhL7/wCXNAHq9FfP3xY1b43fDH4W+MfGX/Ca+ANT/wCEd0a81f7F/wAITfRfaPs8Dy+Xv/tdtu7ZjdtOM5wele/IPmJx260ASUUUUwCiiigBKKRxkDjPNeK2uvfFPxx8QPiJYeG/EnhDw9ovhnWYNIt4dU8L3Wo3M27TLG8aR5U1GBfvXjKFEfAQZJJoA9q/Cj8K8r/4Rv43/wDRQ/h//wCEHff/AC5oPh343j/mofw//wDCDvv/AJc0rAeqfhRXlP8Awjvxu6n4h+AB/wByJff/AC5pf+Ed+Nv/AEUP4f8A/hB33/y5o0A9Vo9a8p/4R342/wDRQ/h//wCEHff/AC5o/wCEd+N3/RQ/h/8A+EHff/LmjQD1bdQteK3Wv/FPwP4++Hlh4j8S+D/EGjeJtan0i4h0rwxdadcRbdMvrxZFlfUZ1+9ZqpUx8hzyCK9pUHdzTEPooooGFFFFABRRRQAUUUUAfNXiSK80/wCM3g6VdW1FrW/jvo5NOM+21UJCpA8tQoY7iTufcwycFR8tef6H8YtO8UfHrRpYPGtmmnTC/wBMt9Bi1SNRuiaNUllhByJZZDKEDDOxFxgls+ma14J8NeIPE9rr94niI6panNu0N9qkEURwAdsKOIwGAAYbfm5DZrcuk0i91iw1WWzvGvtPSWO2lFtcDYsm3eMBQpztXk5xjjHfaKacW+jZnO0lK3VI6zwt/wAjhAB2sLgf+RIK9AFeceC72O78ZRbFmXbYXGfNgeP/AJaQ8Dcozj2r0iolu7FR21CkpaQ1BQ1uFr5d8F/HKw+J37UUdpoXjbS9c0GTQdYthoGl6qswha2urJFuLiKNjsklaS52sw/1aptwS4P0T428Mt4y8J6roS6rf6J/aFu9sdQ0to1uoFYYLRmRHUNjIyVOM5HODXKL8F7CHxx4N8SRaxqkB8LaVNo9npcP2ZLOSKURh2kUQ7937iHAV1UeWML1yk9bDekHbc4H9lT4a6v8PL3xob3wNZeBdOvJ7cWdnYwwQLKsaupdkhurjzGwVzcyOksp5aKPaor6DHvTVXHP4Urdhin0JSseWfs0/wDJOtX/AOxz8Wf+pDqNerV80fBH43eHfB/hnxDpN/p3jCe6t/GXikPJpfgrWdQtzu1+/Ybbi3tJI34YZ2scHIOCCB6F/wANLeEf+gR8QP8Aw3HiH/5BoGeq02Tla8s/4aW8I/8AQI+IH/huPEP/AMg01v2lfCJH/II+IH/hufEP/wAg0Aeb/F6PUvGHjD4r7vFGv+Hv+EL8LW+o6MujarPYxx3Ui3crXMyRuFuRm3jTZMHjwjjb8zZ774gfGyH4c/AfTvF+q3en6ZqWpWtnBbSatOtraJe3CqEM0jcRxqzFmJ6Kjd8CuJ8fa98HPiZrEWp+IfCnxHu7lbYWcwg8F+K7WK8tw+8QXUUNqiXUIYsfKnV0+dxjDtm/4P8Aif4K8J+J/F+vmx+IV3f+I7yK4mP/AArfxAiQRxQRwwwoosjwqoWLHks7dAFAmz5OUNnc8k8C/tHeHtD+DN74cf406ZqWtaj4r1DRYvF+q+Ibdza23mO7Xfms5RD5KsYU4Qs0YUbM4wdW/ab0m4/ZP8L+HLT4uWemeIr3w7d3l74in8Rxpf8A+jR8W8VwzlnupZmhTAbzAnmMCG2mvpHw78aPh74Tt76HSvDvj+1ivr2fULhf+Fe+JH33Ezl5X+ayOMsScDAHYCqFj8Tfhhp/w/bwTB4X8fp4Xazk042P/CAeJWzbyKVdPMNmX5DHndnng0W1b72/AGtF5X/ETwf4ksfF/wAYvg1rGnarb63a3fw815hf21wtwkzC70EM3mAncdwYE5PIPfNe/wBfK978c/CNh+0F8PZLXR/G8On2Hg/XrNYW8B6953zXeilNsbWfmOoETBnCkKSgYgyJu9U/4aW8I/8AQI+IH/huPEP/AMg1Qkeq0jV5X/w0t4R/6BHxA/8ADceIf/kGk/4aW8I/9Af4gf8AhuPEP/yDQMvftEeLNT8D/BLxlrejT/ZNUtNNme3utob7O5XAlwQQdmd3II+XkYrk/hros3w6+OGqeErLXdf1jQrjw1a6qYdf1e41OSC6FxJEzrLcO7qJFC/IGCAxEqoJbOjrfx88CeJNHvtK1Pw746vtOvoHtrm1uPht4gaOWJ1KujA2OCCpII968ovLH4RDwvd6Dpmj/E61ttQurCTUrq/8F+K9Tu7q3tJlljtBcXVtJIkWVICq2FDybQGbdSje7DsU/i1+0bok37QnhXTx8TtN8NaZ4b8Tw6Pf6J/bkVrLfySW8rzS3MJYMYIyYI03fI0jyZGVQ163pFlqFh+05rFhP4i1rUrDUPC3242d1eN9nt2N4yKIYkCom1Pl3geYR952ODUOu/Gj4e+JpdIl1Pw94+un0m9XULNj8PfEa+VcKjor8WQydsjjByPm6ZArlrfXvhNb/EZvHS6T8Xj4kbcpmfw/40a32MxYxfZjCYPK3EsI/L2A8hc0rdA8zR+HHgiG1/aK1oeH9Z8VP4b8K6YtlfQ6t4r1XVIbvU7nZKEKXVxIg8i3WNsqOTec/cFdl+yd/wAmu/B7/sTdHx/4Aw1heF/jB8OvBkOoRaN4c8f2i399NqV0W+HviSV57mZt0kjO9kWOTgAZwqhVUBQANz9k3/k1z4Of9iZo/wD6RQ09opB1uesUUUUwCiiigAooooAKKKKACiiigAooooAKKKKACiiigAqpql9baXp9ze3tzFZ2VtG009xO4SOKNQSzsx4CgAkk8DFW6zPEnh3SvFmi3Wka3plnrOlXa+XcWOoW6TwTL12vG4KsMgcEUnsB8v8AwjbSND8beOLzxYraZoXhyWbxr4c0i4tW8yzstQadpb50UFjMZUvAsYXdEkm0jdIQPozwD4/0b4jaXPqOiS3bQQXDWs0OoWFxY3EEqgEpJBcRpIhwythlGQykcEGmax4B0y4mv9T0uxsNH8UT6adLg8QQ2MbXUEGcpHvwGMathvL3AZ6YPIxPgd8L9Q+E/hGfSdS14+Ibue9lvGuvLnVV37RsBuLi4mb7uS0s0jEseQMKGttSXvoei15T8Zf+SifAn/sc7n/1HtZr1avFP2jvElp4R8TfBPVr6HUJ7W38Zzb49K0651C5O7QNXUbILdHlflhnapwMscAEgKPaq86/aK8V6n4I+CPjPW9Gn+yapZ6bM9vdbQ32dyu0S4II+TO7kEfLzxWav7SnhJeTo/xA6f8AROPEP/yDVTXPj54E8R6PfaVqfh3x1fadfQPbXNrcfDbxC0c0TqVdGBscEFSQR71Mk5KyGZ3w20Wb4d/HDVPCNlruv6zoVx4attVMOvavcanJBdC4kiaRZbh3dRIoX5AwQGIlVBLV5Z8Wv2j9Em/aC8K6ePibpnhrTfDfiaHR77RP7citZb+SS2laaW5hLBjBH+4jQt8pkeTjKoavXll8Il8L3mg6Zo/xOtbbULqwk1K5v/BfivU7u5t7SZZY7QXF1bSSJFlSAqthQ8m0Bm3V6Tr3xp+H3iabSZdS8PeP7ltJvV1CzP8Awr7xIvlTqjor4WyAbCyOMNkc9MgU3vdErb+v61PJ/Dn7Rmi+Ov2qvDs1t8S9NGjXQ1TRLTwrDrcQBaF4UjmuLfcG+0TS+d5auMiNE2gFnFem/DXTdUj8ffGTw5ceKfEWqqiWXkXlzeq9xA81o25oFKiGE55ASNUyASvUm1ffGj4e6p4k0rXrvw74/k1TSop4bO4/4V94jBiWbZ5owLLac+WnJBIxxjJzwump8FtNvvEF0PD/AMXLyTxBbNaamupaF41vI7qNl2/NHNE6hlXhWADIPuFalRs15X/EJav7vwOU8Q3d9p3wV/af8P3ieJtEt4fBF1fWXhvxhq0mrahbRyafdI9x9rae4UxSvCVESXEmwwsxEZl219qLXxh8XvFXw08I/s7/ABng8PaJ8Rjq2t+E9Rtp9S8ReF/FF3LIFs51iSW9v4HMcKGRyN0ixpvdjtyxP2ci4Y96vogW7fcfRRRQMKKKKAEryv4N/wDJRPjr/wBjnbf+o9o1epuMrXzt4P8Ai7ofgD4tfHDT9UsPFF1cSeLLWcSaJ4T1XVYdp0DSFwZbS2lRWyp+QtuAwSMMCQD6LprfnXln/DS3hH/oEfED/wANx4h/+QaRv2lfCJ/5g/xA/wDDc+If/kGgDzb9tT4zWPg3wrc+DYvHFp4D1rUtIvdVOpSaomn3IhgQ7IrV2I3TzTGOMBDuCCVgQwSvN/jf+1BoGqeGPC2naN8WdL0T+zLbR9Yvry18QRQXGqvLcxR+Qjb90sSotxJMUP8ADGpyC4r33X/jt4D8T6HqOj6loXj6607ULaS0uoP+FeeI08yGRSrrlbIEZBIyCDzxVDXPi18N/EXhWLw5qHhn4gXGix/Z9tr/AMK/8SLjyHSSL5lsw3ytGh5POOcgms7PqPzRJ4iu7hvj98MtU0/xRqd/o2uWl+y2MN8DprRLbRsjJHGAsuSd4eQuw3fKQpxXbfGLRZNa8HlI7HxVq4huElbTfB+rrpd9dDldv2hri3KopbzCFmQnywPmBKN5J4m174T+LfG1j4t1HSfi62uWDB7WS18P+M7aCDACkLbxQrEAwUBhsw/8QbJrOsLz4XHw3Npur6f8UL67m1y88Qvqen+CfFWl3K3dw8hcxy2tskkahJPL2h8MoG7JJNHK+VrzZMdGn5IPA2s3us+Hf2bzqepT6pqdp431OwupLxpHuIJIdH12I28zyKrSyxBBE8pH7xo2fLBgx+qVr5Zj8WeDP+E4+AvhLwfonifR7Sx8WXlyF1zwxq+no27QtYMjtc30CCWZ3kLtl2kcl3O75mr6mWtZWuKKsh1FFFIoKKKKACiiigAooooA8C1Hxxeaf8RNI8OPobLY6lHOU1OS5QbmjjVyFjUEkYYglinIGARyMPwT8YJvGXjzV9BSLw9brpt3c20sI14yaoVhfYJWs/JGEZsc+Zj5u9T+LND8X6h8SPDmrabpmiTaNpBmBe61aaKeUTRqjnyxasoK7SQN53dytFx4W8U+KPGOg3mu2+h2en+H9QnvrW90+5llurrdHJCiNG8SiEFJcviR8lAAMHI3p30v3ZlLS9uyPUfCvHjCDsPsFwP/ACJB/nNeg1594VB/4TC3/wCvC4/9GQf59K9AxWUt9C47C0UUVJQlGKWigBMmjvS0lAHlf7NP/JOtX/7HPxZ/6kOo16rXlX7NP/JOtX/7HPxZ/wCpDqNeq0AFNkXctOpsmdvHWgDxn4nfHLXfCWveIbHwz4Oh8UweF9Jj1rXZbjVfsTxQuZSkVqnkyCeYpbysVdoUGYxvyx27fxY+MUPw3+Ddz4/tba2v7aOK1nijv737FblJ5Y0Dyz7JPLRRKGLBWwFNcn8TfhV47vPFXjG68FN4fbT/ABpokOjalNrV1PFNpkkfnILqCOOFxc5juD+6Z4fmiX95hjt29Dl+IWm6Z4j0nw9omjmx8P3Flpnh2PXZZ7P+0LeKGIXLyyokpUbi6o6xHJjOVKkOY15LdQXxXZyviT9qSfwz8JtA8ZSr8P7uPWNbXSIb6z8cFtDiUpI3myaj9iG0homQqIjhiBu9LXjr9qaw8B+GfBkt/deB4Nd8UQTXVrLe+MktdB8iLYWlXUnt8yAiSLYEgZmLngIrOtzwz4H+JHgmHxH4g0vSvCN14k8Ua9/amp6DJq1zbWFtGLSO3UQ3i2jO8pNvG7M1uobew+XaGbmdF+APjT4e3XhPxL4ag8M6t4ksTrgv9Jv7uaw09E1S7W8dLaZLeZwIZY1QAxAOrOTsOAL7hFdzrodUk1v9oP4U6hN9h8268B+IZ3/sy7N3a5e70Fv3UxRPNj5+V9i7hg7RnA9qr5z+HXw9Pwr+Kvwa8JveLqEml+AvEcD3McIhR2+3aETsjBOxMkhVycKAMmvovFD30Er21FpD70tNbtQM5z4jeN7D4b+Bdc8T6kk01lpVpJdyQ24DSy7FJCICQCzHCjJAyRyK5P4c/E/xFr3jDUPCnjLwrZ+Fteg06DV7ddN1g6lbT20jvGR5jQQssqOmGXYVw6EO2Tjf+LngM/E74Z+JPCy3X9nz6pYy28N1s3iGUr+7crkbgG2krkZAIyK8ruNH+K+k6tfeObzRfDp8Y3VrpvhvTdI0e5udQsooTd77q7uJnit2A2uzBQvyCEYaQvtqY3u7idzRP7RFzP8AtAX/AMNIIPB9s9nPbx/8TbxYbXVrtJLdZ3e108Wr+cEUkf61Qdp5GDUXh/8AaTvte+JVpoKeG9POi3WvX/h2O4g1oyavBPaRu8ktxYfZwIYTsUh/OY7bi3YqPNAGl8SfAvjv4maxB4fvbHwza+C7bW9P1iDW476dtTRbWaG5EYtDb+WrmWJo/OFxwj7tmflrjfDfwB8d6b8R7LWbo+HYby21u81C48dQ6hcyaxq1jI07Q6dcWvkIggQSxLs+0PGvkKUjVipRw6XG3u0ei+Bfit4j1T4jz+D/ABX4SsvDl9JpP9tWTafrX9ot5HneUUuh5MYglyy4CNKjYl2ufLyU/ZN/5Na+Dn/YmaN/6Qw1zXwn+D/ifw78TpPFOpeH/B/geB9Pnh1Gy8E3UzxeIL2WWJ/tt1E1vAsbp5cm3Jnf/SHHmYB39J+yaf8AjFv4OjOf+KM0b/0hhquiYtbs9XooopDCiiigAooooAKKKKACiiigAooooAKKKKACiiigApKWigBKPWlooAK8p+Mv/JRPgT/2Odz/AOo9rNerV5T8Zf8AkonwK/7HO5/9R7WaAPVq5v4j+NrD4b+Bdc8Uakk01lpNpJdvDbqDLLtXIRASAWY4UZIGSORXR5Fch8X/AAGfid8MvEnhZLv7BNqljLbw3ZTeIZSv7tyuRuAbaSuRkAjIqZXtoNHPfDn4n+Ite8Y6h4U8ZeFbPwrrsGnQavbrpusHUrae2kd4yPMaCFllR0wy7CuHQh2yQOcP7RFxN+0FffDSCDwfbSWU1vGf7W8WG11a7WS3Wd3tdPFq/mhFJH+tUHaeRg1mXGj/ABX0nV77xzeaN4e/4TK6ttN8N6bpGj3VzqFlFCbvfdXdxM8VuwG12YKF+QQjDSF9tb/xK8C+PPiZq0OgXtj4ZtfBlvren6vBrkd/cNqaLazQ3AjFobfy1kMsTJ5ouMBHzsz8tPXmVtiFrHUpfDj9oyf4hfFTxJ4Uig8IW0eiX17Zy2kfiwza6y27+X5x00Wo2xuxXkzcBh1JxWd8M/2lte+J17a22neEtFf+2dEuda0Yw+I3mZBFMsIh1NVtM2UjOxQhPtG14Zk5MZzr6z8P/iD8QPHHh278QQeGtB07wtqd3qOmavo95PdX10Xt57aFXt5bdEtx5dxvcCWYM0YUDB3Dm/gb8CfGngPxVo2qavbeHtJlsdKltNY1PRdWuru68XXRWNUu79ZbeILIpR3DM07gysquF3b0unoXoYnxe+Knivxd8H/2jvCviPwtomjtoHgS/knvtD16bUovPnsbhhbt5lnblZFjVJDjOFlj/vV9WK2a+a/iP4D1HwL+xh8bP7fntrzxTrHhzxDq+sXNmzvC1zNaTHZGzgMY4oxHChIB2RLwOlfSi43VRKHUUUUDCiiigBK8r+Df/JRPjr/2Odt/6j2jV6oa8r+Df/JRPjr/ANjnbf8AqPaNQB6rTZPu06mvzigDxb4+/tBf8KU1jwrp/leFYP7eF239oeL/ABN/YVlD5IjO3zvs825383hdo+6eazvHv7SF74O+Jnh7wSLfwPa6jqmlW2oed4h8ZHTUmlmmeL7PZj7HIbpgUyOELbl4Ga7/AOI3/Ce/uYfCOi+F9csbi3mhvYfEWpXFkYmO0Iy+XbTiVMFwyEIT8vz8nHmGtfBPx1D8GLT4N6XH4Y1XwZL4Zg8O3GvapdTwXtr+7aGaaOzWCSObCbHjUzRbWGCSAGqI3sr9xytujS8VftJ3vh/4k6j4ftfDWn3+m6Xq+maLeySa15OrSS3oQxy21h5DCaFRIxLmZCfIucKfKOfUfG2oeLLHToH8JaLouuXrS4lh1vWJtNiWPafmV47W4LNnA2lQMHO7jB8L8Ufs9+N9W+IGo38B0K683VLS70rxteancpregWcaW6zWdtbpBsZJPJm3YuI0k+0MZEfBD93qEPxE+Jnwk8WWMcVp4U1rVL6707TbiYSwy22mGcxLcsvzn7QYN8ir8o3GPOznFboX2rLY4jTviVqPxcb4BeJ9Q0e00Y3PjvUYreOw1B72C4gj0PW40uI5XhhZkkCl1JjGVZT3r6XWvGPiFoNj4X8Tfs9aPplutpp+n+KZbS2hT7scaeHNYVVHsABXs61T3JWw6iiikUFFFFABRRRQAUUUUAeKTHRbfV7bSpdUMWqXMbSwWL6pIJ5UX7zKhk3MB3IGBVSbWPC1v4ji8PTeIYItemXfHpb6wwunXBbKxGTcRgE9OgJrgfG/irwdoPx08FpLq+habrMhuxehrmGG4Z3gRIPM53ZYYVN3XGBXJ+Add1PQfGg0628Tz3niC88W3w1fwq9vanyrNnmKXTFYxcBRGLcrI0hQ5VB1XG0W5Wv5mb0/A+mPBdjHZ+MYtjTNusLjPmTPJ/y0g/vHj8K9Hrz/AMK8+MYOefsFx/6Mgr0Gon8RcdgoooqBhRRRQAU1s4465p1FAHlDfsz+CftmoXFvP4w0z7de3GoTW+l+ONbsrf7RPM80zpDDeLGm+SR3IRQMseKX/hmnwj/0F/iB/wCHG8Q//J1eq5paAPKf+GafCP8A0F/iB/4cbxD/APJ1H/DNPhH/AKC/xA/8ON4h/wDk6vVqKAPKP+GafCP/AEF/H/8A4cbxD/8AJ1H/AAzT4S/6C/j/AP8ADjeIf/k6vV6KAPKP+GavCP8A0F/iB/4cbxD/APJ1If2afCWP+Qt4/Pt/wsbxD/8AJ1esUlAHjr/sq+BZ9Ut9TkuvHD6lbwyW0N43xB18zRRSNG0sav8AbtwV2hiLAcMY0JztFXR+zT4R/wCgv8QP/DjeIf8A5Or1WloA8p/4Zp8I/wDQX+IH/hxvEP8A8nUf8M0+Ef8AoL/ED/w43iH/AOTq9WooA8o/4Zq8In/mL/ED/wAON4h/+TqP+GavCP8A0F/iB/4cbxD/APJ1er0UAeUf8M0+Ef8AoL+P/wDw43iH/wCTqP8Ahmnwl/0F/H//AIcbxD/8nV6vRQB5P/wzX4SH/MW+IH/hxvEP/wAnV3/hHwrpvgfwxo/hzRbX7Domj2UOn2Nt5jSeVBEgjjTc5LNhVUZYknGSSTWxnHWloAKKKKACiiigAooooAKKKKACiiigAooooAKKKKACiiigAooooAKKKKACuT+Inwx0H4oWWl2+ux6h/wASu9/tCyuNK1W7024t7jyZYN6TWsscgzHPKhG7BDnIrrKKAPKF/Zp8JH/mLePx9PiN4h/+TqU/s0+Ef+gv8QP/AA43iH/5Or1XNLQB5R/wzT4R/wCgv4//APDjeIf/AJOo/wCGafCX/QX8f/8AhxvEP/ydXq9FAHlH/DNPhL/oL+P/APw43iH/AOTqP+GafCX/AEF/H/8A4cbxD/8AJ1er0UAeO6v+yn4E17SrzTNTuvG+o6beQvbXVnd/EHX5YZ4nUq8bo18QyspIKkEEHmvX1B69PanUtABRRRQAUUUUAI2cV5nrf7PPg/X/ABNrGvyS+KNO1LV5kub86L4v1fTIZ5kgigWQw211HHu8qGJdwUEhBnJr02koA8q/4Zp8I/8AQX+IH/hxvEP/AMnUf8M0+Ef+gv8AED/w43iH/wCTq9WooA8o/wCGafCP/QX+IH/hxvEP/wAnUf8ADNPhH/oL+P8A/wAON4h/+Tq9XooA8o/4Zq8I/wDQX+IH/hxvEP8A8nUv/DNPhH/oL+P/APw43iH/AOTq9WooA8z0T9nnwfoHiTSNfjk8UalqWjzPc2H9teMNX1OGCV4ZIGkWG5upI93lTSoGK5Ac4xXpMa4x6Y4p9J15FAC0UUUAFFFFABRRRQAUUUUAeRedqn/PnaAcZ/0t/wD41+VHmaqePsdpycf8fbZ7Z/5Z/T1rkNe1TXtM+Lfha1Grr/Yeox3anTo7VF/1cSkM8h3OW3E/c2DBwQx5rI1CHxDY/Frw/o9h4z1i+gmE+p6nYXVvp5ggs0+RIlKWyyAtK6hSX+7G+SSM1tF3tYyaauj1vwXJdSeMIftMMMWLCfb5MxcH95Bnqq47V6RXn/hX5vGMGf8AnwuP/RkH+cV39RLcuOwtFFFQUJRuHrTW56+tfNH7bHxusfh/8PNW8PWnjbS/B3ia60W81SCS41SOyvHjgjJjitsuGaWWbZGNvJQTbSGApX1sOx9M5FI3zKPrnivnf4raL8Vte+Jfw+8QeGtA0XXfDWl30EyNca9JbSwCa2nhuLmW2NvtkCLMu3bMXwpAUeYxH0NGvOT1p+pNzxfw38Uvin44h1XUPDfw/wDB8ujWus6ppEE2qeMrq2uJvsV9PZtI8SaXKqbmt2YKJGwGHOa1v+Ek+N//AETz4f8A/heX3/ympf2af+Sdav8A9jn4s/8AUh1GvVaBnlP/AAknxv8A+iefD/8A8Ly+/wDlNR/wknxv/wCie/D/AP8AC8vv/lNXq1Nk+7x1oA8r/wCEk+N3X/hXvw//APC8vv8A5TUf8JJ8b/8Aonvw/wD/AAvL7/5TVxHxU8V+NtW8UfEOHwz4vm8J2/gfw9DqkFvDY21xHqd3ItxKVujNG7eQFgRdsJic75Dv+7t9L1v4ox6H8J7Hxa1m1zfajaWpsNLjYK91d3CqILdSTgFpHVc9AMseATU8y5eYOtkZX/CTfG7/AKJ78P8A/wALy+/+U1DeJPjd3+Hvw/8A/C8vv/lNXn3gzxR411L4L6vceK/HWs22taT4nvtPvtY8I+GFvrx4op3iWK2tUt7jaobYN7RSkIjbjkmRc64+InizVv2c/Dvii58c+ItL1QQXsT3Hg/w5Bq13eXMbOsH2tRbzw2pAiPnpiJUlYqZYghU11sK+x2V58WPjBp/j7RvCL/DjwQ2parpl9qsEo8c3nlLFay2kUisTo+7cWvYioAIIV8kYAPQ/8JJ8b/8Aonnw/wD/AAvL7/5TVznhvXLrxP8AGb4MavezafcXt/8ADrXLq4m0mdZ7N5HudAZ2hkUkPGSTtYEgjHJr3igFseVf8JJ8b/8Aonnw/wD/AAvL7/5TUf8ACSfG/wD6J58P/wDwvL7/AOU1erUjdKBnlX/CSfG//onvw/8A/C8vv/lNR/wknxv/AOie/D//AMLy+/8AlNW18cfHF78NfhJ4q8S6bFFPqen2EktolwpMXnYxGXAIJUMVJAIJAODXJ/Di+8V+FPi1qPgnxB4wvPG1pLoFvrVtfanZWlvcwS+c8M0f+jRRI0RxGygoXB3guwxgXvOyA0v+Ek+N/wD0T34f/wDheX3/AMpqP+Ek+N//AET34f8A/heX3/ymrj/iJ8VvE0nxn8H6b4a1BLPwpZ+IYdE11vs8cv2+6ltZZvsyO2TGIUSNmKgEtMi7hsdTrapfeLvD/wAd/DOmweNbnxBb6099caj4ZksrSO10vTkjbybmNkiE4YTfZ4iZZXVzLIVRQoCSpJpPuBsnxJ8bu/w9+H//AIXl9/8AKauq+Evjj/hZ3wv8HeMvsP8AZn/CRaLZat9h83zfs/nwJL5e/au7bvxuwM4zgZxXj37PnizxpZ+LIvDvxQ1HxpB4vvtMmvIbDXLfRP7KuFimRZpLOTT08zKeZENlw4bbKDtOCV7f9k7I/Zb+Dn/Ym6P/AOkMNV0uHWx6vRRRQAUUUUAFFFFABRRRQAUUUUAFFFFABRRRQAUUUUAFJ0paZKNy4pPRXAduHrRkV8m/BHQ9S8aeM9T0NvFPieXSvAXiy/vG1N/Ed5I2trMzNa2xzKfMtoFPlsG+RpLfCg/vd31dFnqeuKe6uhdWiWvPvi58Qtc8DyeDtP8ADmg6f4g1nxNrLaRBDqmqPp9vFtsbu8aR5Ut52+7ZsoUR8lxyAK9Bryn4y/8AJRPgT/2Odz/6j2s0DEXxF8bs8fDzwD+Pjy+/+U1L/wAJJ8b/APonvw//APC8vv8A5TV6tXCfHPxxe/Df4R+KvEmmxRT6lp9hLLaJcKWiM2MRlwCCVDEEgEEgHBpNqOrAxP8AhJfjd/0T34f/APheX3/ymo/4ST43n/mnvw//APC8vv8A5TVmfDe+8V+Ffi1qPgrxD4wvPG1pNoFvrVtfanZ2lvcwS+e8M0f+jRRI0RxGygoWB3guwxjB+InxV8SzfGbwdpfhrUI7LwnZ+IYtE11xbxSm/upbWab7MjtkxiFEjZyoBLTIu4bHBL6pE30bOx/4ST43/wDRPfh//wCF5ff/ACmo/wCEk+N3/RPfh/8A+F5ff/KauPj8beIdH/aQ0jw+3i/WNRsdUmvkvNJ1nQo9O0yBBD5tuunXLQI93OoADqk842idysW1QJbDxprXw1+J2vweI/Htx4t8N6Z4ck1jXnurG0gTRboyp9nht/IiR9s0f2nEUrzSAQxneS+XL6XK62LXxD+LHxg+G/gHxL4u1P4ceB59N8P6Zc6tcxWfjq8aZ4oImldUDaOoLFUIAJAz3HWvdV4Pp7V8e+J/GPjjxL+z7+1La+N7lftFn4cv5LTS0t44xpcM+jGcWpZMmRk34Z2Y5YMRhcKPsJetNapMV9Wuw6iiigYUUUUANbpXkDfE74i69448a6P4R8EeF9R03wxqcWkyX2teK7iwmnlewtLwssMWnTgKBeIuTISShOBXsFeV/Bv/AJKJ8df+xztv/Ue0agBP+Ek+N/8A0T34f/8AheX3/wApqP8AhJPjf/0T34f/APheX3/ymr1U8VwXxe8Y3/hzQbXTfD5hbxbr1x/Z2jpKodUlKlnuHQsN0cMavKwyMhAo5YVEpKKuxpXZj/8ACS/G7/onvw//APC8vv8A5TUf8JJ8b/8Aonvw/wD/AAvL7/5TV5XJ4/8AFuo/sxeDPFd5468VabrU2lSyXF34W8LQ6lc394EJiMy/ZZYbeH5GLEpEuWX96gHzbvxL8VeNf+FO+H/HWlePItN1yfS7E6foOgQ2V5p+uarOFKwGaSOV5IZGKKhgeMqhkcuwwUt6EXO2PiX43L1+Hvw/Hb/kfL7/AOU1L/wknxv/AOie/D//AMLy+/8AlNXVfEF75fA+pSWuq32h3EcQka+0rTTqN3CgIMnkW+yTzJSgYKPLkwSDsfG0/OFj8V/HmoeBLdIPEPia70iHxfdaXqPibTvDsVz4lstOW3MsBn0yK1fyZXmKRndaBhC8btEhfeqbtcpa2PWl+KHxF0Hxt4L0bxf4I8L6dpvifU5tKjvdF8VXN/NBKlhd3gLQyadAGUrZupPmZBcHBr15M9+vevlfwj8Qb/4jxfAzUNRubq/uLL4j6xpQv76wawuLtLbSNdiSaWBo4zFKyqu9PLQBw4CqMAfVKmqasK9x1FFFIYUUUUAFFFFABRRRQB83eIfC1h4g8Zab4iPj7UNPfTSxt7K1ksPs6BwFkHz27yNuAGcvn021taXZaDpPiXW9bXV0n1DVBCknn3MZWGKJWEcUYXGFy0jdzudvYB918QLSz8caf4Xex1H7XeRyOl6bfZagogcpvYjedpzlAyjkEqRWTY/GDT77xJbaaukatHYXWoz6Va6y6QGznuovMLxqBKZRgwyrlolU+WcE5XO8baRiZSvu/I9C8F6ha33jKL7Ncw3G2wn3eVIGxmSDrj6H8q9Irz/wr/yONv8A9eFwOv8A00g/xP513+eayluXHYWiiipKGt0rzDxJ8CbPxRo3xH0688Ta+B44jFteXMZtRLZ24i8ryLYmAhY9hf74cgyOwIZs16jRSsBm6FpY0PRbDTRcT3gs7eOD7Rc7TLLtULufaFXccZOABk8AVoDinU1vpT3dxbHzZ8Ev2hPhZ4G8L+IdE8SfEvwf4f1m18Z+KvP07VNetba4i3a/fuu+N5Ay5VlYZHIYHoa9A/4ax+CH/RZPh/8A+FRY/wDx2m/sz5/4V5rHp/wmXiz/ANSHUa9XoGeVf8NY/BD/AKLJ8P8A/wAKix/+O01/2sPgjt4+MfgAn28UWP8A8dr1emSYK89KAPlf4jeMP2fviNr19qTftB+H/D66rpy6TrVpovi3So4tWs1Z2WKcyB3QjzZlEkDRSbZGG7hcS2vxE+AevTeLbfxv8WPhf4s8O6nfW8mm+HNS8QWF5p+nW8FukUYSGZyiyMwkdiox84Azgk+n/En9oDTfhzrF9YHw7r/iT+ydOXV9auNDggkj0izZnVZphJLGz5EUzeXCskmImOzld3RfED4maf8AD34fz+LZLO91iyX7OIrbTBGZ5zPKkUYTzXRMlpF5ZlAH0qG0o67Bu7I+eNBvP2avAei3dj4B+OXhD4cS3WrS6tLeeGPEGiQOxfePs7RvG8MkCCQhFeNim1SrAjNW4fFvwQ0jw7p2meHv2orDwvNAbuS8v9P8X6LLLqUt1N5081wk8csPmGUs4aOOPZvZU2odo9pvPi8+keE7XVtY8G+ItI1W9vv7O0/w1KbKfUL6cqWVYvIuZIQCquxZ5VCrG7OUUZqLVfirruj+H7HUz8KPF07TpNJdWkd5oqSaeEbAM7SaisZ3D5wY3fAHzbTxV3tdsF0/A8T0r42fAzwP8ZPhdp2hfFDwTB4X0HwRrmkxzf8ACTWskcH+laL5EbymU/OyQSkbjuby5Dzgkeyf8NYfBD/osnw//wDCosf/AI7XL+F/HFt8TPjR8IPFllY32m2Ws+AfEN9b2upIi3CRyXmgsu8I7qCQQeGPWvfBTd76iXkeV/8ADWPwQ/6LJ8P/APwqLH/47SH9rD4If9Fk+H//AIVFj/8AHa9WpGpDPEPGX7Qn7P3jzwpq/h3Wfi54ButK1S1lsrmJfFVkrNHIhRsMJcqcE4I5BwRXld14q+Etnpl61j+1DoWp+JNSl061uvE2reMNMjvbbTbafzWt7cWohjBcGUFiuWMpLlwqrX1V4w8VaZ4G8Lat4h1m5+yaTpdrJeXU5UuUjRSzEKASxwOABkngc1yXw7+L8Pj7XNR0O88Ma94P16ztIL9tN8QR24kltZi6xyo1vNNGQWjdSpYOpHzKMrlKzdhXtqeLeNJf2PfH3iSw8Qap4o+EDa3a6mmqS6gmoaOZ72VUZdtxI2WkQ7gxBOdyIc/LSeF/GXwW8K+Pte8T2v7U2m3H9uXrXuoaZdeJ9AeGYbSscAl8gXCRRg4RFmG3qD8zZ9ki+Mkl98StT8Iab4J8RaqNLuLe21DW7eSwSxtmliWVSwkuknYBXBOyJj1ABqhffHa40bx1oXhnVfhv4s0r+29Rk06w1SabSpbaZkjklaTbFfPOI/LidsmIEfKCASBSTTs0FktDz3wP8SPgd4U8RQa7qv7SGh+ONXs7J9OsLrxF4r0cmzt3ZGlVBbJCHaQxRFpJQ7nyxhhls+j/ALJxH/DLfwc/7E3R/wD0hhq58JfjDL8XrOPUrTwT4i0HQ7iDz7PVdYew8q7XdtGxILqWVSRk/vEXgevFUv2Tf+TXPg5/2Juj8/8AblDVdEHc9YooooGFFFFABRRRQAUUUUAFFFFABRRRQAUUUUAFFFFABWJ408OyeLfC2paNFrGpeH3voWg/tPR3jS7twwwWiaRHVWxkbtpIzkYOCNuik1cDybUvhDeeFtS1bxP4EufJ8RyeGrfw7ZaRfzx2+kqtu8jW8r+XbvIrp50gyNy4ONvcU/2YfDvjjwl4R1rSPGmg2ehNBrV9LZG31htUkvI5riSc3DzGOMnc0pA3KHOwswXcFHstFPuxBXin7R3izRPA/ij4J634j1nT/D+jWvjObz9R1S6S2t4t2gawi75HIVcsyqMnksB1Ne115T8Zsn4ifArHX/hM7j/1HtZoGL/w1h8EP+iyfD//AMKix/8AjtY3jL9oT9n7x54U1fw7rHxd8A3Olaray2V1EviqyVmjkUq2GEuVODwRyDgjmva0zxkcYrJ8Y+KtM8D+FtV8Q6zc/ZNJ0u2kvLubaW2xIpZiFAJY4HAAJJ4HNJ2tqM+VLrxV8JbPTL5rH9qHQtT8SalLp1rdeJtW8YaZHe2+m204ma3txaiFAWBlBYrljKS5cKq1p+NZv2PfH3iSx1/VPFPwhOtW2pLqk1/HqGj+ffSKjLtuJGy0iHcGIJ+8iHPy17V8PPjBB481zUdEu/C+v+D9ds7SC/bTfEEduJJbWUuscqNbzTRkFo3UqWDqR8yjK5ig+MkuofErU/CGneCPEWqDS7i3t9Q1y3ewSxtWljWVSwkuknYBXBOyJj2AND3Se7J6NroeS2/jz4Gt4ysNd1P9pXSNetdLvbjUNL0XU/F2kPaafcSpIhkRlVZ5NiTyoizSyKofgfKpXI8A6t8AvBunappGqftH+H/HXhvVHnm1DQ/FmueHLq2vppXDPNOyW6SzNkADfIQAFGMKoHvelfFg+IPF13pOjeEtf1bSbS4ms7jxLD9kj0+O5hDCWEebcJNIVdfKLRwsgkypYbX2c5aftGQ2vioaD4p8CeJvA7f2Tea3Jfa1PpctvFaW2wTSSG1vZ2QAyrjcvPOOhwLZD8j56+Juofsv/D34L/He7+HvjH4a2eveKPCepWsdhomqaZG5b7A8aW9vHCQxDuqtsGdztkDJxX3Qp5r57+OHjy98d/sr/G2e48GeIfC1mvgvVZLW414WiG9jaxnIZIop5JY8AAlZ0icbwNuQwX6DUHce9GyQu7H0UUUxhRRRQAhr528I/G74dfDX4s/HDTPF3j7wv4V1Kbxba3MdnrWs21nM8R8P6QokCSOpKlkcbsYypHY19EN0ryr4Nj/i4vx1/wCxytv/AFHtGoAG/aw+CDcf8Lj+H/8A4VFj/wDHa5bxx8YP2Yfiba21t4v8b/CTxXb2rtJbxa1q+l3iwswwWQSO204xyOte/wBcV8UvibF8MtO0ib+wtV8SXuralHpdnp2jm2E8kzpI45uJoYwAsTcl/Tg1LtbUav0PnfQdR/Z88D+D9F8OeBf2jdB+H9lp0M0UjeH/ABLoS/bvMKlpLiOaKSJpfkGJURXAyN2Dior68+AMWq+Erzw7+0zpXg+LwtpA0XSrHTPFGg3NvbxY2tKFvIbg+cyhVaQEMVBHdt3vWufF6TQdN0IS+DPEVx4o1lZXtvCdsbJ79Y4iBLJJJ9p+yoiBkJYz4zIigl2C1l/Ej48X3wx8Nza/qfwx8XXej2umjUb66tLnR8WfykvA6yagrPKuMERB1YkBGc1RPSx5rH8W/hjqEnjBtR/ab8OafJqt/az6ZPpHjGwD6bFbxxKu1ZC0W6V0keRDGY2Em3acFizTfHnwY0PQ9Sg0v9qTS9P13VdR/tPVPEyeJPD8l/fyCFYVRlkga3RFjjiULFCn+rBzlnLfQPiLx1p/hLwU/iXV4rqztViiY2gh826MkjKkcCxoW3ytI6RhVzuZgBnNc3qPxkm8PfD/AFLxVr3gDxZorWbSAaO8Vnd3kyrH5hkBtrmWGOPAYbppYwCvzYyuV3SH2fc8c0vxl8JF8WfAHwV8N/HPhzxNJp/iy9untdM16DUbxw2hayZrmYo7OxeWXc0hHLSe4r6uUd68Z+IWtQeJPE37PGrWqyJa6h4pku4klADqsnhvWGAIBIBwRnk17RTEtgooooGFFFFABRRRQAUUUUAfMvjKTXpPin4Tu7Lwhq2oaZpRuBPqFvcWSxHz41UFVe4WQhSMsCnb5dxrkPDPgHxLZ/EW01aTw5cWesnWbu41HXPPtf7MubKTeFWGBZGkSYotspk8tHJQ75GUYb2z+zbj/oLXf/fEH/xuj+zbjp/at2QccbIe/T/lnW0FypW7mUne7N3wq3/FYQd/9AuOcf8ATSD/ADjtXfivOPBdrJb+MYvMu5rrNhPjzQg24kg6bVX+VekVE/iLjsFFFFQUFFFFABRRTW7fWgDyv9mn/knesf8AY5+LP/Uh1GvVq8e0/wDZ/wBV0GTUo9A+Lnjjw9pt7qd9qo020ttFlhglu7qW6mVGn02STb5s0hAZ2IBAycVb/wCFN+Lv+i7fED/wB8Pf/KqgD1amSDIH1ryz/hTfi7/ou3xA/wDAHw9/8qqP+FN+Lv8Aou3xA/8AAHw9/wDKqgDivih4S8baV4w+IT+GvCE/im28ceHoNLgvIr62t4dLu4xcRFroSyq/klbhH3QJK/yONn3c6sepSap4J8UeDH+G3/CwtB8LyafoRs5pLVl1oLDA05SK62Q5hLA4d9rMrAMGXaOgPwb8Xf8ARdfH5/7cfD3/AMqqT/hTXi7P/JdfH4/7cfD3/wAqqnlXKoh1bXU8K1D9m69uvDdjfv8AC23uvCll43/t+1+FM7WMggsW09rOSNY2m+xI/nvJdiISeWNxwwckV1+nfB3xZH8B38BW2hJoOmeKPEM4u9Lt7mEJ4e0C4naWa2G1ihYw7odkO9Ee4+XKJur0f/hTfi7/AKLt8QP/AAB8Pf8AyqoPwb8Xf9F1+IB/7cfD3/yqqvIPMr6xbxWf7Tvw5t4I1hhj8F+JFSONQqqovdCAAHYAcV64teKzfs561d+KdP8AEcvxr+IB1nTrO5062uvsugDZBcSQSTJt/svadzWsByRkeXxgMc63/Cm/F3/RdviB/wCAPh7/AOVVAj1akNeVf8Kb8Xf9F2+IH/gD4e/+VVH/AApvxd/0Xb4gf+APh7/5VUDNn46eB7/4kfCLxX4c0t4o9Uv7CWO0adisfn4zGHYAkKWCgkAkAng9K8quPFHjHSfFl98S9U+HmoaLcvp+m+FtL8M32o2sl5e3E17maTfbPPGkSB1IJbJEcpZY1AJ7z/hTfi7/AKLt8QP/AAB8Pf8Ayqob4NeLiOfjr4/P/bh4e/8AlVSStcPM4P4ofDS58c/E20uNL+EsWi+KLPWtPu4filFJYIfscLxSTIZEkF6WeJZrbyTEYyH5bYSa72x8I61q/wAcNZ8Watpog03RNKXR/DcckqN5zTbZr25+XcUDFLaEbgGHkSHbhxlo+Dfi7/ouvxAH/bj4e/8AlVS/8Kb8Xf8ARdviB/4A+Hv/AJVU1oI4f4QfDOaz+Llv4r0j4UJ8GdMXR7iz1ixjewQazdSzQvE4jsZXRxD5c+JZdkh8/AXBbHb/ALJv/Jrfwc/7EzRv/SGGlb4N+Lv+i6/EBvb7D4e/+VVdp8PPBNl8NvAfhrwlpktxPpugaXbaVay3bK0zxQRLEjOVCqWKoCSFAyTgDpR0sPrc6KiiigAooooAKKKKACiiigAooooAKKKKACiiigAooooAKKKKACiiigAryn4y/wDJRPgV/wBjnc/+o9rNerVxPxQ+GK/EmPw7JH4i1jwvqXh/UzqthqWiLatMsptbi1ZStzBNGymK6lGCmc4IIxQB2tcJ8dfA998SPhH4q8OaXJFHql/YSx2jTsVj8/GYw7DJClgoJAJAJ4PSsRfg34uwMfHX4gAf9ePh7/5VUv8Awpvxd/0Xb4gf+APh7/5VUmuZWA4O48UeMdJ8WX3xK1T4d6hoty+n6b4V0vwzfajayXl7cTXu6aTfbPPGkSB1IJbJEcpZY1AJPih8M7nx18TrS40z4SQ6N4os9a068h+KMcmnofscLxSTJ5iSC8LPEs1t5JiMZD8vtNd43wa8XEc/HXx+f+3Dw9/8qqQfBvxd/wBF1+IA/wC3Hw9/8qqHq7sF7ux4t4H/AGc9T8NfFCwks/h5ZaRq1h401DxDc/EiP7Ir6lptw9xILTckpu3kIuViZJUWICEsGJCA9z4k+CviD4m+G/jjPq9umla54wsJ/Dmjxzyq/wBn02KGRLfe8ZOBLNLPMRkkLKqnlcDsf+FN+Lv+i7fED/wB8Pf/ACqo/wCFN+Lv+i7fED/wB8Pf/Kqm9deoHzx4j+F114U+CPx316z+G1v8ItCuPhje6dN4dt/safbL6O1une72WckkW0LII1diJW+bcoCrn7bX614t4t/Zy1vxx4V1nw5rfxs+IF9o2sWU2n31r9l0CPzYJUMcibk0sMuVYjKkEZ4INe0KPm6Y4xmm3fcQ+iiikMKKKKAENeVfBvn4ifHX/sc7Y/8AlvaNXqj9BxnmvKr74F6h/wAJd4n17Qfid4w8I/8ACRXsWo3un6XBpEtv9oS0gtd6farCaRcx2sWRvIyCQBmgD1Vs15z8bNJtta8O2VnqXwtj+LOlSXYM+jslhK0BCOVnWO+kjhfBwp/eBh5mQDyKo/8ACm/F3/RdviB/4A+Hv/lVR/wpvxd/0Xb4gf8AgD4e/wDlVUtXGtDwaX9m6/0uz+HepeIfhZbfEjSNHi121TwTI9ldto0F7dR3Fkkf22VIGFvHELc7GO0MBHvRQa9D0f4P+Lf+EB+D3w/1yCO+0bSJIr/xHdpciWEfZMSWlknmfvJF8/yDv2/ctW3EFwD23/Cm/F3/AEXb4gf+APh7/wCVVB+Dfi7/AKLr4/P/AG4+Hv8A5VVfW5L1Vji/jVp+o/H3wT4+8JWXhSPVbTw3rmlvFBdTr5Gvm3ktry4tQrhUAIBhyzFCx5I2sBiaD8P/ABD4K+G/xVPh34W3mjaf4qdodG8B6RLpsEmn7rIW8lxIoultYhJIu4rDKx27WILs4X07/hTXi7P/ACXXx+P+3Hw9/wDKql/4U34u/wCi7fED/wAAfD3/AMqqmxT10OKDaqsH7M9trXh+/wDDWpWXiV7Oaw1KW2klDR+G9XQvut5pUKttyPnzjqAeK+iVryux+Bd//wAJd4Y17Xvif4v8Xf8ACO3smoWWnarBpEVv572lxa73NrYQyHEd1LgbwMkEg4r1RQd1MQ6iiigAooooAKKKKACiiigD5j8VaHZ2vxx8C6oiP9uuY9QR5Hmd9qiBPlQMSEHQkLjJ5IY81wUPg/V/A3xW8IK+n6LcaxquvX00niK2unOp31k0c7tHcRGADykBhT/XMoZIcAZAHq+qeBfDGua4us6j4A0/UNY3Iw1C7sLOW4yuNp8wtu44xzx29Rb0fw3o3h/U73U9K8F2+majflmuryztbWKa4JYkmR1cF+eSWPXmt6fu2b6Myl1O28KY/wCEwgwOPsFxj/v5BXoFec+C7mS48ZR+ZaTW22wnx5xQ5/eQdNrH07/hXo9ZS3LjsFFFFSUFFIxwKQNmgB1FN3CkYblwOtIB2aWvHdP+P2q69JqUmgfCLxx4g02y1O+0oalZ3GiRQzy2l1LazMiz6lHJt82CQAuikgA4Gauf8Lk8Xf8ARCviB/4HeHv/AJa0wPVqK8p/4XJ4u/6IV8QP/A7w9/8ALWg/GTxd3+BXj/8A8DvD3/y1oA9Voryn/hcni7OP+FF+P8/9f3h7/wCWtH/C5PFv/RC/H5/7fvD3/wAtaAPVqK8o/wCFy+LT/wA0L8f/APgd4e/+WtH/AAuPxaf+aF+P/b/TvD3/AMtaAPV80teIzftFa3Z+KrDw5L8FfH66zqFlc6hbW32rQDvgt3gSZ939qbRta6txgnJ38AhWxsf8Lk8Xf9EK+IH/AIHeHv8A5a0AerUV5T/wuTxd/wBEK+IH/gd4e/8AlrQfjH4u/wCiFfED/wADvD3/AMtaAPVc0V5QfjH4u/6IX4//APA7w9/8taX/AIXJ4t/6IX4//wDA7w9/8taAPV6SvKf+Fy+Lf+iF+P8A/wADvD3/AMtaP+FyeLe/wL8f/wDgd4e/+WtAHq24etLXk/8AwuLxd/0Qv4gD/t+8Pf8Ay1rtPh140sfiR4D8N+LtMiuINN1/S7XVbWK6VVmSGeJZUVwrMAwVhkAkZzgmkB0lFFFMAooooAKKKKACiiigAooooAKKKKACiiigAooooAKKKSgBaKbmlU5oAWkpa4j4o/E1fhvF4djj8O6x4p1LX9TOlWGm6IbVZnlFrcXTMWuZ4Y1URWspyXznAAOaAO3oryhfjF4uX/mhXxA/8DvD3/y1ob4yeLh1+BXj8f8Ab94e/wDlrQB6tRkV5R/wuPxd/wBEL8f/APgd4e/+WtA+Mni3/ohXj/8A8DvD3/y1oA9XzRXlP/C5PFuP+SFeP/8AwO8Pf/LWj/hcni3gf8KL8f8A/gd4e/8AlrQB6tRmvEvFv7Rmt+B/Cus+I9a+Cnj6y0bR7KbUL65+1aBJ5NvEhkkfamqFmwqscKCTjgHpXtSZ3HigCSiiigAooooAKKa3TpmvKr7456h/wmHifQdB+GHjDxb/AMI7eRafe6hpc2kRW/2h7S3u9ifar+GRsRXUOTsAySATigD1eivKf+FyeLv+iFfED/wO8Pf/AC1o/wCFyeLv+iFfED/wO8Pf/LWgD1WivKf+FyeLv+iF+P8A/wADvD3/AMtaP+FyeLs/8kK8f/8Agd4e/wDlrQB6vSV5V/wuTxdj/khXj/H/AF/eHv8A5a0jfGTxb3+BXj//AMDvD3/y1oA9WyKMg15PY/HG/bxb4Z0DXvhj4v8ACf8AwkV7Lp9lqGqTaRNbeelpcXRRxa380gzFay4OwjIAJGa9WTr0I+tAD6KKKACiiigAooooAKKKKAPnLxt4m8VeF9c0u5ik0ifQ7vU7XTU0w28r304mYK8qzeYEUpln2eW3yRElwT8uFpfxO8S3V/outTR6SfCeta1Lo8NmkEi3kCq80cc7TbyjhnhP7vylKhx8x2nOzqXw/wDFF58SP+Enh8S6TLZxosNnp+oaLLO1mmAJjFIt0iiSTvIUJAwoyuQa+k/CK90/WLGOXX47jwrpuqTaxY6UtjsnSaRpGCyXBkIeNGlkZVEasCEyxxztHzMpeR6z4Vz/AMJhbjt9guPz8yCu/rgPCv8AyOUHr9guP/RkH+fxNegVEty47BRRSGoKEbBFeJ+Ovibr1p8bPAOjaVIkHhebWZNH1eRlRvtVw+m3V0kQJBKCMQxMSMbjMoB+RlPst6k8lnOtrLHDcsjCKSaMyIr44LKGUsAcZAYZ9R1r58sv2Q7PT9a+HniOC58NReNdA1V9V13xSnhdF1DX5JI5o5VMwn3xK4nkJDGUArHgAJgqPxq+w/ssg+C0viMfH7xgZl8T6holz9veSfXLLWbGLT5FvEEMMIurqSzuUdDIUktIo9qQrv5kxX0guc0KCKd06076JC3bZ5X+zT/yTrV/+xz8Wf8AqQ6jXqteVfs0/wDJOtX/AOxz8Wf+pDqNeq0AFNfkdMinU2TO31oA8I+KHxU8dWfiTxlaeCU8Px2ngvRItZ1FNbtZppNTeTznFtC8csYt8R25/ess3zSr+7+Q7vR9T+I2naP8M18aXKTfYG0+K9jt4ULzSmRVMcKKPvSOzKiqOSzAd64r4lfAvW/FniTX9Q8O+MIfDFl4o0mPRfEFvNpP2yWWFDKFltZPPRYJvLnlTc6TL9w7PlO6SP4Py+OIdf0TxktwPB1nqVk3hfTtPv5bK4so7WCMLOLm1eOUM029lUuSoVTxnasL4Euofaucr4f+NHjTUPgxqHiHxNrfgP4d6xp/iC70rUdS1rzX0uyjimaNVAa4hMshYJHkyxAklgvSMt8M/Gb4i/EjTfBGk6FH4e8P+JtW0a71u+1LVtOubmzaCCdIIWgtluIZFW4MqzKXlJjQYIkLZG34P/Z71v4U6HqVt4D8cz2V/fa7carNJ4nju9ctpIZDIRA0ct4sgZS4YzRyo0jIDIHziqOjfs0694JtNBvvB/jLT9J8VWa6pHf3l9oBubC7W/uvtcyx2kdzEYQk+DEPNYKpZW8wndT6N9dA10K/w/8AHk3xM+LHwd8T3VnHp15qHgLxI9zZwyGRIZlv9DWRFYgFlDK2CQOMV9EKa8F8M+BrT4a/G74SeGLGae6ttN8B+I4BcXRBlnYXuhF5XIAG5mJY4AGScADFe9rVPcmNxaRjS0jUFHHfFrx6Phh8NfEnir7J/aEmlWMlzFab9gnkA+SMtg7QzbQTg4znB6Vyvw48ZeN4PiPqPgrxzPoGpXq6PBrVnqPh+xmso9rSvFLA8Us0xJRkUiQONwfGxSuT2vxI8E2fxJ8B6/4X1CSWC01azltHntyBJFvUgSJkY3KcMMgjIGQa8ruPhX8S9Na918eLrDWvHt+um6NDqljpCafZ6dp0d15tzJ9nlmnMkrq0u7D4YiIKseC1THRu4n0Zb+Inxr1vQ/jF4Q8KeH7GxutJn1SHT/EF9eJIWgeeCWWCCDaVUy7YjI+4narRfKfNBF7VPGnj3wv8XPDel6k/h/UfD/iS5vbe30vTbOdNQsYoYHlS5kuWnKSqdiI6iGMI9xGod8bnzPGX7JvhTxV4q0/X7XUPEGiXkevp4gvo7PxFqaQXcoieM7YUuljhc5T94i52pt6MasaD8GfHOn/E/wAReJ9S8caJrFnrDyW/lv4dnj1Gx0858uztroX3lxBTh2cQEyN8zZIXalfRPzH3Oa+APx98XfE7xyNM1J9Du4l06a51nS9O0u5sr3wreLMqRWN480zrPIw8/DKkWRB5iqY5ENd5+yd/ya38Hf8AsTdG/wDSGGub+E/7OmreAda8HXGr+J9M1iy8HaRLoujRaXoR06doJPKDG7lNxKJmxCpxGkKlyzFT8u3o/wBk3/k1z4O8/wDMmaN/6Qw1fRC15mer0UUUDCiiigAooooAKKKKACiiigAooooAKKKKACiiigApk3KYzjPFPrE8aabrOseFtSsvD2rQaDrU8LR2up3Fl9sS1c8CTyd6byOoBYDOM5HBmWw1ufPXwp1/4ieNvF114Zk8d6pPP4L8VXy+JdQfTrAQ31mTvsbBMW4wxheB5HT5kIkUtl02fTkefXNeF6v8H7v4cW/jXXNA1e+t9KuvB40xtI0XTJZ783sPnuL+J1nDyzsJ2BUAO7Kh8zNXv2VTrcfgbVbfWI9Vkhg1SRLHUtZi1aCe/gMUTGX7PqtxPdQASGSPY8hB8reoAcVcdV6E7HtVeU/GX/konwJ/7HO5/wDUe1mvVq8p+Mv/ACUT4Ff9jnc/+o9rNIZ6tXIfFzx6Phf8M/Enir7J/aEmlWUlzFab/LE8gHyRlsHaGbaCcHAOcGuurm/iT4HsviV4D17wvqEssFpq1nLaPPbkCSHepAkTPG5ThhkEZA4NTK9tBo4j4c+MvG9v8SNR8F+OZ9A1K9XR4NZs9R8P2M1lHteV4pYXilmmJKMikSBxuD42KVycr4ifGzXND+MPhDwp4fsbG60mbVIdP8QX14khaB54JZYIINpVTLtiMjlidqtF8v70EVbn4V/EvTWvdeHi+w1rx7frpujRapY6Omn2enadHc+bcyfZ5ZpzJI6tLnD4YiIKseC1T+NP2TfCfivxVp+v2moeIdEvI9fTxBfxWfiLU0gu5RE8Z2wpdLHC5yn7xFztTb0Y0+qRPTXqW/EHjzx74N+KGhWWoLoOsaDr819HbaPpVlOupWccEDzJcPcPMUmDGNI2UQxhHuY1DvjL+efBz9qDWvijr2maDF4t8B3uueI9CuNUttP0i2kmufDFzGYT9l1GD7ZvmIE5BIFsd1u42jcNvofhf4R+PNB+LWt+ML7xr4f1y31OZo0huvDU4vbKwBJisoLgX/loittZm8nMjZLZ+Xbq+Ffhf4kXx8njPxp4o0/xBrVnpsul6Xb6PpEmm2VnFK6STSGKS6naSVzDCC3mABYwAoLMxI3sPv3PGvih4w8e658JP2mtC8Sap4f1zRvDvgm/tf7R0XQ7jTS1/Jp80ssOJby4DiOF7diRj5ptvVTX1uvXpXzv8Vvh6Phn+xT8X9Jl1A6xqc/hbxBf6lqjQCE3l3PbXEssmzc20Fnwq7m2qqrk4zX0StPsIWiiigYUUUUAJXlfwb/5KJ8df+xztv8A1HtGr1SvKvg6f+Li/HX/ALHO2/8AUe0agD1WuP8Aip44l8C+FHubC1XUdevJUsNI09mKrdXkmRGrEAlUHLuwB2xo7Y+WuvbnjvXF/EL4R+HPic+ly64mprPpUkktjcaVrN5pk0LuhRyJLWaNjlSVwSep9aiV7aFRte7POdB+InxF8b/AXw1400/VPB/hzUJNKk1LWLzVdOubizVkXISKFbmNo0PzsZHlbYEA2PuJXz7x5+2FrfhuxtdRvLvwl8Pjb+EbHxQdE8ZMy3WuyzJI8lhYym4hCSReV5ZcpKd80eY1H3+n/wCGUPEGi/DXwV4J8O+PbZdF0SdrnU7PxLpl3q1vrMgC+Urqb9HjhRhv8hZDGzAZGMg9v8QPhb44+JXh3/hGdX8a6PaeG9RsVs9fi0rw9NDeXqknz1t53vXW3jlT92VaOVlUvh8lSt9fIyV+u52+sXGs+IvB8V14S1LT9J1C7iintrvV9OkvYVRsMQ0KTwMSVJx+8GCcnPQ+WfDfxb8WPH/h/wAUvBrHg8yWfiCXStO14+H7uG2lgt12XM32M3zNIftKyQrieMYRpPm4Ruz0/RfHF0PiBDJq8Gh2l0wtPC262juP7PjW1RDcOqlDJumLuI2fIVV5G4gc/wCLvgPqc3wU0L4deCfFUXhWx09Le2u7i8057w6haxqRLDJ5dxA6+ceXdZAxDOM/Nmpet2upavouxydj441P4jQ/s8a7rEFrFqMvjfUreSWwRltroQ6NrsK3EKszMIpVjEigs2FkA3NjcfpJa8I8TaLq3h7Xv2ftN1m70e8urXxhcQo2g6U+mWiRL4e1kRxpbvPMUCrgf6wjjgDpXvAq5bijsLRRRSGFFFFABRRRQAUUUUAfPWoeKvBWk+JIdDu7eNL6WaO1En9lSvbLK4BSJrkRGJJCCCEZwTvTA5FWtM17wbrXiW90CxFldarYx+ZPHFakpGA2xh5m3YWDDBUNuGeQK5Hxx4oXxB8QrHwzqGla9b6Hpt1bX017DoV7cRahcqweGNJYomRI43CO7swyVCjjcanh8RxTfH5iNO1sQf2P/Zv2xtEvVtfPE5cr5xh8vbt53Z29ga3TM2et+C9PtbDxhELa2htt1hPuEKBMnzIOuK9Hrz/wr/yOEHGP9BuOn/XSCvQKzluWtgpKWioGNpaWikAU1umMZp1FMD5o+CP7Pfwt8ceGfEOt+JPhr4P8QazdeMvFX2jUtU0G1ubibbr9+i75HjLNhVVRk8BQO1eg/wDDJ3wR/wCiOfD/AP8ACXsf/jVH7NP/ACTvWP8Asc/Fn/qQ6jXq1AHlP/DJ3wR/6I58P/8Awl7H/wCNUjfsn/BHt8HPh/8A+EvY/wDxqvV6ZJ90dcZ7UAfNXxB8D/su/C3Uo7HxJ8MvA9rP9m+3TG28DR3iWdtvKC4ungtnW2h3Bh5sxRDsfn5Gxv8AjP4G/s7/AA/8J3PiTW/hP4Fg0i38vfNa+D7e7cmR1SMJHDA7uWZ1ACgk7hxXN/Ft9S8J+NfirC3hfX/EB8beFbaw0V9H0qe9hkukW7ia2mljQpbDM8T752SPDsd3ytjoNV1vwxrPw11/wL4m0PxH4hsfCg0rStZk0G3uZpJJjHBMslv9kb7SxiLRO3ljzFyCARzUXfImt2Nb6mJL8P8A9nKHwzDr5+BmnmwmuTarEvwlu2uw4XdlrUWHnLHjpIyBCeA2eKyPsH7KB8P2erp8LfDEsV1dXVnFZw/DSSTUDLanbc5s1sjcKsTYV3MYVWIBIJAO74P1rxf4L+EvxF1HQtN8Va5avqLR+CLHxNHeT6mVlhgjUzi4/wBKWAXbTtuuMOkQLHCBagj8Lw/s3+LPAN4dI1/X/Dlj4UvdDmvdF0i61S6F889vcNLLFbo8g+0MkzGTbt3jDMNy5qXX+vkSuhjRfAf4G+J/jn8NptD+G3gG/wDC+seDNd1JPsvh+ya1uyt1ovkTbRHtYqk0oViMgSOBjcc+tr+yf8Euc/BzwB/4S9j/APGq84+DHhfU/B3j34JaVrNo1hqkPgHxI89mzBjbM9/ob+SSCQSgYKcEj5eOK+nVpvRii7o8q/4ZO+CP/RHPh/8A+EvY/wDxqg/sn/BEf80c+H//AIS9j/8AGq9WpD0oKPHdY/Zn+Anh/SrzVNR+E/w6sNOs4XuLm6uPDdjHHDGilmdmMWAoAJJPYVyXw7+Gn7M/xQmvbfQfhR4M+2WMcU09lqfgRNNuVilB8qUQ3NrG7RttYLIAVJVgCSDXo/7RXhXU/GnwP8a6No1u15ql1pcy29mrBTcOFJEQJIAL42ckD5ueM15lD8UraH4gav8AE+Xw54nsfDVtoem+HUi1LRZ9Pvb2+uL4hYore5WJ3EfmxgtjaTKQhYqwEp736C1HyfDr9muLx9N4NT4O+G7vXbaWGC4+w/Ddrm1tnlQOglu4rNoIsqwJ3yAAHnFUB4T/AGYo/F1j4aufg1oljql9fNptq198K7i2tZ7hVdiiXMlisLDbG7Bg5UqpYEjmpviNplvP8WTc+CNK8faR8SJNc0xry7jTVI9AvrJDD9okmYk6fIn2TzU5/fb1AUbwK7uHRr3xp+0Hca1qWm3lvoHgmw+y6U9xbuiXd/dANc3EWf8AWCOFYolcA8zTqDkMKcdk2N26HHeC/h1+zJ4/8QXGjaN8K/Bb38Nv9rRL7wIlml1b79pntnntUS5i3EfvIS6fOhzhlz3X7Jv/ACa58Hc9f+EN0f8A9IYa474P+Ol+K/xcvfFWsaB4q8Oahb2M+laJpWseFtSsVtrMzI00091NAsDTTtFARGjnYkS8szPjsf2Tv+TXfg4e3/CGaP8A+kMNG6TF1aPWKKKKYwooooAKKKKACiiigAooooAKKKKACiiigAooooAKQ0tFADaB1p1FABXin7R3hPRPHHib4J6J4j0bT9f0a68Zzefp2qWqXNvLt0DWHXdG4KthlVhkcFQe1e115T8Zf+SifAr/ALHO5/8AUe1mgBF/ZP8AgkeT8HPh+P8AuV7H/wCNVU1j9mf4CeH9JvNU1L4T/DrT9Ps4XuLm6uPDdjHHDGilmdmMeAoAJJPYV7FXnH7RfhbU/GnwO8baLo1u15ql1pc629orBTcOFyIQSQAXxt5IHzc8ZqZOyA82+Hfwz/Zn+KE97b6D8KfBhvLFIpp7LU/AiabcrFKD5UohurWN2jbawWRQVJVgCSDTJPh3+zVH4+m8Gp8HfDV3r1tLDBcfYfhu1za2zyoHQS3UVm0EeVYE75AADzimQ/FK2i+IGsfE+Xw54nsfDVtoem+Hli1HRZ9Pvb2+uL47Yore5WJ3EfmxgtjaTKQhYqwEPxG0u3m+LRuPBGlePdI+JEmu6Yby7jTVI9AvrNDD9okmYk6dIn2TzU5/fb1AUbwKr7SiJbNsi/4RP9mKPxdY+Grn4NaJY6pfXzabatffCu4trWe4VXYqlzJYiFhtjkYMHKlVLAkc1HoGg/sn+Jri/isfh54EVLSym1P7RdeB47WC6tITiW4tZpbZUuolJXMkBkXDqc4dc9prnhPVPif8Y9bubmyutP0nwrosum6Nc3UDxx3GpXsebi5jzjeIohFGrgHmadQchq858CapqtzF8MpI/BXi3T5vh34Tu7fXIW0SWCQXIt4IFtbNplVLxmaKR1aAyRkRrk5dAY3t1/rcHfXyMb4s/Dv9n7xf+zf8aNQ8IfDHwtpmt6B4X1ORlu/BA0jUbGb7BJJDKI7i2imTOAySBcEqdrZU4+zU/CvivxJDqM3wd/ae1QyeJdc0i98B3Kx+JvGeiSaRqdzcJY3oe2EDQW6mCJDEyslvGC08uWkbcV+1VYHpV9EJXu7jqKKKCgooooARuRXzp4P+CPw7+JXxZ+OGp+L/AAD4X8ValF4stbaO81rRre8mSIaBpDCMPIhIUF2OM4yxPc19FmvKvg2f+LifHX/sc7b/ANR7RqAD/hk/4ID/AJo54A/8Jex/+NVy3xC+DP7Ofwv0qzv9e+EPg1Ir27SwtotO8CxahPNOysyokNvbSSMdqMeF7V76wyteXfHu18LXug6Mni7RvFWpafHqSzW9z4Rh1KS7sbhYpNkpOnH7SqlS6blBXLgN1zUS0Q1uedat8P8A9nDRdJ0vUbj4F6c9tqSPJAtr8JLq4mRVYA+dFHYNJAeeFlVSw5AIrEvI/wBkax0XR9Xk+HPgs6bqmnrq8VxF8PjItvZMxVbq622hNpCSGxJceWp2Oc4VsbMdp49uP2c7Lwo8XiGXWfE+qz6LaahqEckt/p2jTXMuy5vJPvJNHYD70pD+bsVv3hNUPiDpUvwx1z4jaLp/g7W9VsfFHg6y0fw7Hoejz3dv50Md1B9klljVktlHnQsHnMceHY7vlbFte84k9EzuPEf7Pv7P3hPw7ca3qPwk8Bpp8Sqd1t4StbiSQsQqJHHHCzyu7MqqiAsxYBQSRXIL4V/ZZbwn/wAJCvwr8Iva/wBo/wBk/YR8Pf8AiZfbACxt/sH2T7T5gQGQr5WfLG/7vNdlH8YI/AHw/wDE1jbeHfEHizWPAVpY6bdWui2T3TX909tE6pAI97tgSRlyVygbOCOvj+rW8ureD9C1f7F4uTUr/wAYtrPiTxLpPhLV7fUtHuPsTrC1hZy24lliCpb2hdoZo2Qt5kZ3tsm92yl5nSW/gn4Qw+OvgT4u+GXg3w1oRuvF99YyX2k+H4tMugE0PWVlt5V8qOVCskQDROAQyDIyBX1SDXyf4FsdQ0ux+BFvqGn3VhGnxE1ZrW41K2ltr7ULc6NrjJe3UUpMiTzZ8x94VizFtke7y0+r1q5WvoSth1FFFIYUUUUAFFFFABRRRQB5F5Oqc/6ZZ/8AgG//AMdo8nVF/wCXy0z6fZHH/tWvPfH2nuvjzQP7H1jWD4nuL+Cf7DHqEos7fT42H2gyWysItjKHAZ1LmSQBWwoAH057f4waZFomtaxe3SGa51+O41GaazhtXjYQReSW8mJzIYygVQ5SNy2c7m3jbRGT6s9X8FpdL4xiNzNDN/oE+3yoimP3kGc5Zq9Irz/wrz4wt/T7BcAeg/eQf1rv6yluXHYWiiipKCiiigApGGRS0UAeJeG/hX8VPA8eq2Hhzx/4Qh0a61nVNXgh1TwbdXNxD9tvp7xo2lTVIlfa1wyhhGuQoyAc1r/8I38b/wDoofw//wDCDvv/AJc16rS0AeU/8I38b/8Aoofw/wD/AAg77/5c0Hw38b/+ih/D8/8Ach33/wAua9WooA8mbw38buP+Lg+ATz/0Il9/8uags/Bfxl0/zjbeOfh3bGeVppfJ8AXi75D95zjWOWPcnk4r2CigDyc+G/jd/wBFC8Af+EHff/Lmj/hG/jd/0ULwAf8AuRL7/wCXNesUUAeE3nwm+MN94+0bxc/xH8ELqWlaZfaVDEvgW88lorqW0lkZh/bGSwayi2kMAAz5ByCOg/4Rv43/APRQ/h//AOEHff8Ay5r1aigDyn/hG/jf/wBFD+H/AP4Qd9/8uaD4b+N//RQ/AH/hB33/AMua9WooA8n/AOEb+N//AEULwB/4Ql9/8uar3ngv4y6gsH2rxz8O7jyZVni83wBeP5ci9HXOscMOeRzzXsFFAHky+G/jdyP+Fg+AV/7kO+/+XNO/4Rv43j/moXgD/wAIO+/+XNer0UAeTt4b+Nx/5qF4B/8ACEvv/lzXV/CXwL/wq/4W+DvB32z+0j4e0az0j7b5XlfaPs8CReZs3Nt3bM7dxxnGTjNdbSUALRRRQAUUUUAFFFFABRRRQAUUUUAFFFFABRRRQAUUUUAFFFFABRRRQAV5/wDFz4e6544k8HX/AIc17T/D+teGdabV7ebVNKk1G3l3WN3ZtG8SXEDfdvGYMJOCg4INegUUAeUf8I38b93/ACULwAP+5Evv/lzSnw38b/8AoofgD/wg77/5c16tRQB5BeeC/jLqAh+1eOfh3ceTKs8Xm+ALx/LkXo651jhhzyOeanXw38bu3xA8AL/3Id9/8ua9YopAeUHw58b/APooXgH/AMIS+/8AlzQPDfxu/wCiheAP/CDvv/lzXq9FMDwj4hfCf4w/EnwD4l8I6n8R/BEGma9ptzpV1LaeBrxZkiniaJ2Qtq7AMA5IJBGQMg17oi4Ymn0lAC0UUUAFFFFADXXcB9c14+3wu+IugeOPGuseEPG/hfTdN8TalDqsljrXhS5v5oJUsLSzKiaPUYFKlbNWx5YILkZPFexUmaAPKj4b+N//AEUPwAf+5Dvv/lzSf8I38b/+ih+AP/CDvv8A5c16vRQB5R/wjfxv/wCih+AP/CDvv/lzSN4b+N//AEUHwCR/2Id9/wDLmvWKKQHkFl4L+Mun+f8AZvHPw6tvPkaaXyvAF6u+Q/eY41nlj3J5NWP+Eb+N3/RQvAH/AIQd9/8ALmvV6KYHjq/C/wCI2veNvBWs+LvG/hfUdO8M6nNqsVjovhS5sJp5XsLuzAM0mozgKFvGbAjySgGRzXr8Yx2xx0p1FAC0UUUAFFFFABRRRQAUUUUAfOF18P8Awnc+K7vxIIfEFvq96YTcSWd/qltHN5QxGrRRusZAB6FcfMeuSaXR/h/4U0HxBc61p8PiG3vLq7e+uEW+1T7PNMwwzvAZDESRjjbgbQB0AFrxZ471rwnrVm0/h+3l8NzX9rpragdRxdGWd1jV0txGytGHdVJaRW+8QhABLP8AhPNYs/HmmaFqvh+3s7HVXuU0+8i1ET3L+Su7fLB5QEcbKpwyyORlAQpbFbx6JbmUurO/8F30d54wi2CYbbCcEzQSR/8ALSHpuAzXo9ef+FefGMGOR/Z8+P8Av5BXoArKW5ottBaKKKkYUUjce1eU/tH/ABavvhD8MtY1jRLKHU9egs7i8tra5VmhWOCMyzSyhWB2Kq7eCMvJEuRvyFfWwHq24etIfm7187fEz9oK98G/GrQvDExW3066j06SC0hvLaO+1WS6uHhcQwzBmnjhCozrDsZQzMW6KfoeNdp9qq1hXPLG/aX8Ereahb29v4w1MWN7cafNcaX4G1u9t/Pt5ngmRJobNo32SxuhKsRlTg07/hpbwj/0CPiB/wCG48Q//INH7NP/ACTrV/8Asc/Fn/qQ6jXqtIZ5V/w0t4R/6BHxA/8ADceIf/kGj/hpbwj/ANAj4gf+G48Q/wDyDXqtMkG5cUAeWf8ADS/hD/oEeP8A/wANz4h/+QaP+Gl/CH/QI8f/APhufEP/AMg1m/E745a74T17xFY+GPB8PimDwvpMeta9Lcat9ieOFzKVitU8mQTz7IJWKu0KDMY35Y7fRb3xto+meCJPFd5drbaHHY/2jJcSdFh8vzM9fTsKnmSXMw62OM/4aX8Idf7I8f8A/hufEP8A8g0f8NL+EP8AoEeP/wDw3PiH/wCQazvAPxm8XfEr4bya7o/gCG08RJrFzpb6LrGtiCK2WF2DST3CQSFThcbI45cOwXJXdIMTTf2kte8XQeHdL8MeCrG78X6lbandXmm6prjWlnarYXQtLgR3KW0pnJnZdn7pQyHc5jyFNeQbnRSftWeA4dUt9Me08cJqVxDJcw2bfD7xAJpYo2jWSRU+w5Kq0sQZgMAyID94Zt/8NLeEf+gR8QP/AA3HiH/5BrmvDfjay+JHxr+EPijT4pYLPVvAPiG8jhuBiSPfeaCxRwP4lJIPPUGveFFGwk7q55Z/w0t4R/6BHxA/8Nx4h/8AkGj/AIaW8I/9Aj4gf+G48Q//ACDXqtNagZ5X/wANLeEf+gR8QP8Aw3PiH/5Bo/4aX8If9Ajx/wD+G58Q/wDyDXYfEbxvY/DfwNrnifUo5pbLSbSS7eG3UNLLtGQiAkAsxwoyQMkciuU+HPxQ8Ra94w1Dwp4y8KWfhbXoNNg1e3XTdXOpW09vI7xkeY0ELLKjoQy7CuHQh2yQEtXZCIv+GmPCH/QI8f8A/hufEP8A8g0f8NMeEP8AoEeP/wDw3PiH/wCQai8ffHSPwd8VPB3gqz0dtYm1m6SDUbxboRJpSyJMbdmXaxkeU28oVRt4jclhhQz734r+JNA+JWi6DrnhC1svD2vXd1Y6Vqdvq5uL1pYYJZw09qIAkcbpBKVZJpGGYwyqWIQvfYfkK37S3hFhj+yfH/8A4bnxD/8AINegeEfFGl+OPC+jeJNEuvtui6xZQ6hY3PltH5sEqLJG+1wGXKsDhgCM8jNeO/Bv9pC++KniXSLObw3p1npmt6Vcaxp91pmt/b7i3iinSExX8HkRi1mLMy7A8oDwzpuzGa6L9k0/8YufB0f9Sbo//pDDT6XDqer0UUUAFFFFABRRRQAUUUUAFFFFABRRRQAUUUUAFFFFABSUtMk5U0m7K4Dtw9aM5r5f+FPiD4ieN/F114Zfx3qk8/gzxVfJ4l1B9OsBDfWZO+xsE224AYwvA8jp8yESKWy6bPp2Pg4zkdOafS4utiSuU+IXxO0D4X2el3GvSah/xNL3+z7K30vSbvUri4n8mWcokNrFJIcRQSuTtwAhyRXV15T8Zf8AkonwJ/7HO5/9R7WaBi/8NLeEf+gR8QP/AA3HiH/5BpP+GlvCP/QI+IH/AIbjxD/8g16tXN/EfxtY/DfwLrnijUkmmstJtJLuSG3UNLLtGQiAkAsxwoyQMkcik3YDjf8Ahpfwh/0CPH//AIbnxD/8g0f8NMeEP+gT4/8A/Dc+If8A5BqX4c/E7xFr3jHUPCnjPwpaeFteg02DV7ddN1c6lbT20jvGR5jQQssqOhDLsK4dCHbJxW+IHx0j8HfFTwd4KstHbWJtZukg1G8W6ESaUsiTG3Zl2sZHlMEoVBt4jclhhQz2smK+lyT/AIaX8If9Ajx//wCG58Q//INH/DS/hD/oEeP/APw3PiH/AOQabefFbxJoHxK0TQtd8IWtn4e167urDStTttXNxetLDBJOGntBAEjjkSCUqyTSMMxhlQsQnnOj/tnbtDu/EWr+FbWLw6fDl74mtZdE1sahdxQW8qxmG+hMEa2kxZim3zJFV4Z0Lfu2NCGd5rH7VfgPQ9JvdT1K18b6dp1jC9zdXl38PtfihgiRSzySO1iAqqoJJJAABNevr97196+YvjN8TNd8Q/AT48eF/F3h2w8N+IrP4fahqkcWlaq+pW09rNZ3SKwle3gIdXhdWTYQAUIY7iB9PKeaNQHUUUUAFFFFADW7cd6801r9oTwf4f8AE+saDLF4o1HUtHmS2vhovg/V9ThgleCKdY2mtrWSMt5U0TYDZAdc16ZXlfwc/wCSifHX/sc7b/1HtGoAP+GlvCP/AECPiB/4bjxD/wDINH/DS3hH/oEfED/w3HiH/wCQa9Tb1rmfiP44tvh74PvdangkvpIykNrYQMolvLmRgkNvHuIG+SRlUZ4+bniplJRV2NJt2RyP/DS/hD/oEeP/APw3PiH/AOQaP+Gl/CH/AECPH/8A4bnxD/8AINZuj/GPxn4y+EXhnxj4Y8C6Zd3eqWD395Y6n4hNpbWaqATEs620jyyMScfulXCOWdDtDcp4s/a8l0/SbDU9B8MWd/aSeE7bxhcW+ua3/Zl3JazttSGziEEoupwwCsm6NQ81uu8mUYrrbqStVc73/hpfwh/0CPH/AP4bnxD/APINH/DS/hD/AKBHxA/8Nx4h/wDkGtb4p/E7/hXPgm21qLTH1G/vryz02xsZ5fsyvdXUyQwrLJtbyk3yLubaxABwrHAODonxW8Y69pmvafaeC9LPjrQ9UXTr7TX15102NXgS4S4F59l81ozFIijFtu8wlSAoMgWza7D6J9zS0X9obwf4g8SaPoEcfijTdS1ed7axGteD9X0yGeVIZJ2jE1zaxx7vKhlfaWyQhxXpKDv7fWvnm4+IDfE28+AGvTaadIuz461Kzu7Hz/PWK4t9G123mCS7V8xPMifa+1dykHapOB9DrTYk7odRRRQMKKKKACiiigAooooA+Ztc8P8AjbUviZbapJp2g6n4a08odNt5tXntpYJSpWW4kjFrIssgDMqDeFAJPBORWs/h3rs3xKtNfl0rw5oYgup5bvV9EmlW91iExvHFBcR+UgwA0bEtLJ80I2gZyvWXOseF7PxFB4fuPEMEGvXC74dLk1llupFwTlYjJuI+VuQP4T6Vcl/sWHVoNLm1No9SniaeKzbU5POkjUgM6xl8soJAJAwM1uvdasY7p3Oq8Kn/AIrGA5z/AKBcdP8ArpBz/n0/Pv8A3rzjwXYx2fjGLY0x3WFxnzJnk/5aQdNx4/CvR6yluax2FoooqRjW7H3r5w+Nv7PHib4zaf8AEea+kih1S70yTRfCkVl4t1OwtI7eSLEr3sduiq7NIdzRssysscaZHJP0jRSsBj+GbS9s/Dul2+opCl/DaxJcLbO0kXmKgDbGZVJXOcEgE+laq/L14p9NbkVTd3cR5X+zSf8Ai3er/wDY5+LD/wCXDqNerV80/BL4HeHPGHhjxDq9/qPjC3urjxl4q3x6X411nT7cbdfv1GyC3u44k4UZ2oMnJOSST6B/wzT4R/6C/wAQP/DjeIf/AJOpDPVqZJnbx1ryz/hmnwj/ANBf4gf+HG8Q/wDydQf2afCP/QY8f/8AhxvEP/ydQBzfxM+FPju88VeMbrwW3h9rDxpokOjalNrV1PFNpkkfnILqGOOFxc5juD+6Z4RuiX95hjtst8ONa+I2i6x4Nv7zU/CPhXw7qWnReHtS0tIlvrsWkUUhklW5jmiki88YXMY3eVnBG1mq+Kvhr8IvAuoaXY+JPiF4k8P3uqOYrC21T4r63bSXbgqCsSvqALnLKMLnlh6itDxH8Evhz4P0S51nXvFvjHRNItVD3F/qPxP163t4VJABeR78KoyQOT1IqLJRSewddOpyFn8E/i94C+HPiXRvC3jG31/Wdc8TXF/Ld67exWLQWEsrvIYJbXTzsupAVBLRuiElkAwAdLxZ8H9b8SfC/wAPeGZPhF8Lb1tPhlt7e217U5tUtNHwoSGaAS6buuWIyzqxhJKgeYdxYUZdL+AEHhmHxJL8YNRi8Oz3LWUWrv8AGPVxaSThdxiWb+0thcLztBzjnFaFn4L+CupeF4vEtp8Tddu/Dslytmmrw/FvWXtHnZgixCYajsLliFC5ySQMVW2rDzQ/wX8P7P4UfFz4MeDtPla4tND+HmvWEczoEaXy7vQVLkDgFiNxA9a+gVr5f1z9n3wvH+0h4F08ap438i48JeIJ3c+PddMwaO80VVCym93opErbkVgrEIWDFEK+mf8ADNPhH/oL+P8A/wAON4h/+Tqb7sS20PVqRq8q/wCGafCP/QX+IH/hxvEP/wAnUH9mnwj/ANBjx/8A+HG8Q/8AydQM6T4veAz8Tvhn4l8Lpd/YJtUsZbeG72bxDKV+RyuRuAYKSuRkAjIzXlNxo/xW0rV7zx1e6L4ePjG5ttN8OabpGj3VzqFlFCbvfdXdxM8VuwG12IULhBEPmkL7R1z/ALNvg+KNmfWfHyooJLN8R/EIAH/gdXP+Cvhj8JPiTZ3F34R+IHiXxTa20vkzz6L8VtbvEikwDsZo9QYK2CDg880lbWwdblHxx+y/rWteOLDxDoXxI8RacsnimLxBqFjOunPFHttng/0dnsXkyF8tFSSQoFLnhsGr2k+CvipdfGDWPEPiDTfC1zp7NPYaJqVr4gufP0ewcDDJZNYeXJcOyI0jNOBgKikKp309Q8F/BXSfGUPhG++JuuWXiqZkSLQrj4ua1HfOzgFFWA6jvJYEYAHOeKo2Gj/APVPFA8M2fxe1K78SNcNaDR4PjFq73hnUkNF5I1LfvBBBXGQQaSS0sLYd8DfgT4y8B+LdE1TWbfw7pD2OmSWes6poeqXV3d+LbphGqXd+ksEQDqUkcMzzuPNKq4Xdv7v9k0/8YufB0f8AUmaP/wCkUNcz4Z+Gvwi8bapqmm+HPiD4k1/UtJk8rULTTPivrdzLZvuZdsyJqBMZyrDDAcqR2rpf2TR/xi78HfT/AIQ3R/8A0hhp+QdWz1iiiimMKKKKACiiigAooooAKKKKACiiigAooooAKKKKACsTxrp2tav4V1Oy8PatBoOtXELR2up3Fl9sS1c8CTyd6byOoBYDOM5HB26KT1A8F1j4U+IvhXb+M/EvgG9illfwiljaeHxYs7zalbmeRL0ymRvMkfzmDKULOQpLseDvfs4+Idc8QeGdW/tnTtSt47a/MVnqGq2+oW019GYonaQwX6rNEBIzpjAQ+WWQAHA9coprQT1sFeU/GX/konwK/wCxzuf/AFHtZr1avFP2jvDVp4w8TfBPSL+XUILW48Zzb5NL1G40+4G3QNYcbJ7eSOVOVGdrDIyDkEggz2rNcf8AF/wGfid8M/EnhZLr7BNqljLbw3ZTeIZSv7tyuRuAbaSuRkAjIrmV/Zp8JZ51bx+P+6jeIf8A5OpJf2bfB8MbO+s+PkRQSWb4j+IQAB3/AOP6k1fcDkLnR/itpesX3jq90Xw+fGNzbab4c03SNHubnULKKE3e+6u7iZ4rdgNrsQoXCCIfNIX2hPG/7L+tax430/xDoXxH8Q6cknimLxDf2E66dJFFttng/wBHZrF5MhfLVUkkKBS54bBq94K+Gfwk+JVlc3fhH4geJfFNrbSeTPPovxW1u8SKTAOxmj1BgrYIODzzVPUPBfwV0nxhF4Svvidrln4rmdI4tCuPi5rMd9IzjKKsB1EOSwIwAOc8UbsVlZroXNJ8F/FS6+MGseIfEGm+FrjT2aew0TUrXxBc+fo9gwGGSyaw8uS4dkRpGaccBUUhVO/l/hf8AfHPg++t73UNH8Ird2uh3Fhq0trrN3M3ja8ZI1SfVPMtB5fKyHewupFEzKDt3B71jo/wD1TxQPDVn8XdSu/EZuGtBo8Hxi1d7zzlJDReSNS37wQQVxkYNdRo/wAFfhvr+oapYab4v8YajfaXMLe/trT4oa9LLaSFQwSVVvyY2KkHDYODmkkkO55J4y+AMfwx+A/7Rniybwt4R8E3mteBL6wi0DwVCBZWsEFldNvaXyIDNLI8zFm8pcKkajdtLH7FXGeK+Tfj18Jfh7qn7MPxc1vw14r8U68mneGtZXzIfiNrWoWy3ENrLuilja+eN9rLho3BHUMuMivrJRt4qxWHUUUUhhRRRQAhryr4Of8AJRPjr/2Odt/6j2jV6q1fOng/4QaF4++LPxw1DU77xRazxeLLW3VNF8V6ppUO0aBpDAmK0uYkZssfnKliABnAAAB9FNXAfE/4Uv8AEq48P3MPivXfCt3olzJeW02jC0cPI8TRZkS6t50OFd8YUEbiQayj+zT4RH/MX8f/APhxvEP/AMnVheMvhL8LPh3o41bxX458VeGdLMiwi+1j4qa5aQeYQSE3yagF3HBwM54NTJJ7jWmxxMfwJ+LHhf4LeDPh7p+p6N4r0yLzF8TR6vrD6bJc2+AEsree2sHIhY7vMLRiQrlQ4DZFv4mfA3x94+1Wa9bRPCN2LnQ7ex06G91y7iHg++Tzg13prR2eZHPmRESD7NL+4Vd4XbtsatpfwA0HSdK1TU/jBqGnaZqyPLp15d/GPV4obxUba7Qu2pASBScEqTg8Gtq3+GvwivLLQLy3+IPiSa01+TydInj+K+ttHqT4J227DUMSnAJwmehp9dSLJI2JLXxl4q8PeNvD2reE9B8XaVaSWum6bbeKWezh1pVhiN1NcHybgbPML7MQ4JjIxgh64HRvgD48+G/w18RWfw8sPBnhnxJ4s11b/U7HSpn0yw0ux8lITb2Msdm587ZCv754B88skmwHao7/AFb4A+AvD+l3epap4l8b6bptnE09zeXfxL1+KGGNRlnd2vwFUAEkk4AFc0PBvwSbwW3jBfifrTeEVk8ptfHxc1n7AH3bNv2j+0fLzuIXG7qcUdyuw/UNDvfDV5+ztpN9oGleGXsfF1xbRaZoupS6hbRRL4e1kJiaWCF2YjBOUznOS3WvoNa+ZL7wH4N034g/AXxP4Q8Ra34jsdQ8U3SQXl14z1LXLKaI6Bq53xrcXU0WcoAJFG4DcAcEg/Tg603uJaIWiiigYUUUUAFFFFABRRRQB8j/ABA8ceDtW+Idn4Kk1rRdIu7TU7PVtVnu7uK3mlnjKNbwxKxDSSuUiViPuxjbnJUVz2kza7D8ffDup634O1W01fUv7Sia6aaxkhjtVMSwrGUuC5jjX523AMWmbaD0Hvnnapx/odp7/wClvz7/AOq/n6ChZ9UbGLOzyem27bn/AMhD6VvFWcZdjKWvMu5ueFv+Rwg/68bjqef9ZBx/9f3r0BeleceC3upPGEP2mGGH/QJyvkzF8/vIM5yi47V6RWUty0FFFFSUFFFFABSUtNZd2PrQB5X+zSf+Ld6x/wBjn4s/9SHUa9WrwjwTofxh+GtnrGkaZ4S8Ea3psuv6zqtre3fi68s5nivdSubxFeFdLlCMq3AUgOwypIPNdD/wknxv/wCiefD/AP8AC8vv/lNQB6tTW7cZryv/AIST43/9E8+H/wD4Xl9/8pqRvEXxuZcH4eeAMf8AY933/wApqAPHvjj4j8MeF/G/xksPGtxZxXXinwVa2Hh+zvVBk1baL1HtLRDzNL500Z8mMF8yxnHIruvGmu+DNY+DeoeEvG/jCTwtNoEOj2+u6shWI6bdv5EsDtNNE0OC4TLMGTnDYrpf+Eh+Nq8/8K88Ant/yPd7/wDKaszR4/i34fudUn074ZfD23m1S6N9eyjx3flp5iiJvYnRyThI0UdgqgAACo5fdUWPrdHL+DvjbfeG/hN8RfEt3rzfETRtH1FrTwt4gEUCP4h8yGERQo1siQzH7XK9sJIkVTs7srE8v8ctB8IfBP8AZe07TPF+t6HH4t+WZNU1i4hiubu+mu4p9QkgZyrfO7M7BMfLtzwBj2P/AISH42/9E98A/wDhd33/AMpqP+Eg+N5x/wAW98A9Of8AivL7/wCU1OS5kLS+hQOu6d4m/aM+GGq6PqFrqul3fgjxHNbX1lMs0M6G90Ih0dSQyn1BxXs/NfP+oaR8b774qeHvGX/CFeAE/snRtT0j7F/wm16fN+1z2Evmb/7I+XZ9hxt2nd5ucrtwer/4ST43/wDRPPh//wCF5ff/ACmqxJWVj1akavKv+Ek+N/8A0Tz4f/8AheX3/wApqP8AhJPjf/0Tz4f/APheX3/ympDJP2ndOv8AVv2ffH9pp0E11cTaNcKba3QtJNHsPmRqo5Ysm5Qo5JOB1rzPwr8Wvh/P8Wtf+IHh/W9OvfA9j4V03Sr/AFvR1NzbC6e8k+zW+6INukRZfmjHMYlTcAGFekHxF8bz/wA098AD/ue77/5TVk+IIvi34ot7WDVvhh8Pb2C2u4b6KOTx5f7RPE4eJyBo+GKuqsM5AKg9QKlK1/MLXZwfjrxJpXg/4y3s/gT4kyz+P9U1/S7fV/hvItnMLuIrBFNN5JhF3GqWh87zll8oeVkgjIrvLqRPiV+0RHCZN2g/Dm2+0zjd+6fWLqMhA3GC0FoXOM8fbUPatI+IPjac/wDFvPh//wCF3ff/ACmpR4g+Npyf+Fe+Af8Awu77/wCU1NLlS5egbnnnwP8Aih8O/jR8ZP7c8J+JfDMdpoWjXHh/Q9B07ULf7dc24niae4e1Rt8UCNBEkSkA4LthVdK9G/ZO/wCTW/g7/wBiZo3/AKRQ0xvEHxvbP/FvfAIHT/ke74f+4aui+B/gu/8Ahr8GfAXhHVJbefUtB0Cw0q6ltGZoXlgto4nKFlUlSyHBKg4xkCn0SFbVs7eiiigYUUUUAFFFFABRRRQAUUUUAFFFFABRRRQAUUUUAFFFFABRRRQAV5T8Zjj4ifAongf8Jnc/+o9rNerV5p8aPCfirXrzwBrHhC00fUdT8MeIH1WSx1rUZbCGeJ9NvrMqJo7echg14jY8vBCEZHFAHpdeXftQabf6t+z74+tNNgmurmXR7lTb26l5Jo9h8yNVHLFk3KFHJJwOtQr4i+Ny9Ph54AA9P+E7vv8A5TUreIvjew/5J74AH/c933/ymqWroZ5v4V+LXgCb4ta/8QPD+t6de+B7HwtpulahrWkKbm2F095J9mt90QbdIiy/Mg5jEqbgAwqt478TaV4P+M19P4D+JMs3xA1TX9Lt9X+G7rZzC7iKwRTTeSYRdxqloTN5yy+UPKyQRkV3XiCP4teKLa1g1b4Y/D29gtruG+ijfx5f7RPE4eJyBo+GKuqsM5AKg9QK018RfG7Bx8PPAA/7nu+/+U1PTm5hKyVjOuGHxO/aLhtw7SaF8O7cXEyqT5cmsXcZWMHjBaC1LtjPH21D2yOD+DPjr4TXfxY+MOg6T4j8F3Ghm0tGOl2V9aG1NrFastyTErFfKTJEnG1cndXp3/CQ/G7H/JPfAJ9v+E7vs/8Apmpf+Eg+Nw/5p54A+n/Cd33/AMpqnl1T7X/ETSa+78D5/t/HvgvxN+yn+1Pp3hPxFoOqx29r4nuI7TRr2CYR2r2TrDIEiY4jbaQp6Hbx0r7Xr5++K+j/ABu+J/wt8Y+Df+EK8AaZ/wAJFo15pBvf+E2vpfs/2iB4vM2f2Ou7bvzt3DOMZHWvoBVwTVjHUUUUAFFFFACV5X8G/wDkovx2/wCxztv/AFHtGr1NhlSOteLWvh/4p+BviB8RL/w34a8H+ING8TazBq8E2qeJ7rTriHbpljZtG0SadOv3rNmDCTkOOBigD2k5IryP9oz/AIRBNB8NzeL/AB/L8NEtNYS603xAs9pbql2kM21Gku4pIBuQy/K6/Njg54qx/wAJH8b/APonngD/AMLy+/8AlNTW8RfG/H/JPPh/n/se74/+4ak1fQadjzxfih4tvv2cbJTqZvPGfijVJ/DXhzWRbC3kvo5LmWK31PylG0AWifayVVUZUJUKGVRR+Ol18LPgenwe0a61jw14avtK1jSreFtUvbeC8GmQCVQzPIQ5hVuSx+UMxJ5Jr1E+IPjeM4+HvgD1/wCR7vv/AJTUjeIPjdyf+Fe+Aff/AIru+/8AlNTl7zJ5Ucp+0L478O674Ungjvo73TfC3iPQb7xKvlM0NvZG5huBK7FdrxKmyVmUlVVWLYANeLeNPGWhXnjXUvGXh/xFpeh+Gr/xzZT6Z4/mlifQbe7g0eSO4nmYkR3Ecij7J8skeXJCzJJHz9AaLH8WvD82qzaf8Mfh7bzapdG9vZP+E7v2aeYoib2J0ck/JGij0CKBwK1f+Eg+N/8A0T3wAf8Aue77/wCU1Ty63Ku9bHjPwvuYbrSvgXJBsukPxJ1pn1iCXfbazI2ka68l/BhVUQzOzOqqCqgkKzqA7fXvevE7jw/8U/HHj/4eX/iPw34Q8P6L4Z1mfV55tL8T3WoXEu7TL6zWNIn06BfvXisWMnAQ8EmvakXB6Y4q5O7uSlYfRRRSGFFFFABRRRQAUUUUAfNHj+81/Q/FGg3GneJJmk1LU7e1g8OC1t/IltuDcu7GMzbkTzJN6uqjCqVJJ3ZXh/xB4l0j4lvaeLbzxHa2mpandwaQjxaa2lXCAO8MZaJWuVk8tGb94VB2EZJwDq3XgvT5vHt14rtviBqdjeXKRwNaRS2EkCwpyYk823d0ViCWCuCTzngYsWfhPR4/EVtql/4zvtaisriW6sNO1C7t2t7OSTcu5dkaSSbUd0XzXcAN64xvHdXM5dT0/wAK/wDI5QZ6/YLj/wBGw5r0CvOPBeoWl94yi+zXMNxtsJ8+VIHwPMhx0/H9a9G71lL4io7C0UUVJQUUUjUAGRRTeKVcCgB1Fea6t+018HtA1S80zU/iv4H07UrKd7a6s7vxHZxTQSoxV43RpAVZWBBUjIIINVP+Gsfgh/0WT4f/APhUWP8A8doA9VpDXlf/AA1j8EP+iyfD/wD8Kix/+O0n/DWHwQ7fGP4fn/uaLH/47QB6pRXlf/DV/wAEOf8Ai8fgDH/Y0WP/AMdo/wCGsPgjn/ksfgD/AMKix/8AjtAHqdKteV/8NX/BLp/wuLwB/wCFPY//AB2gftYfBH/osfgD/wAKix/+O0AerUV5V/w1h8EP+ix/D/8A8Kix/wDjtH/DWHwQ/wCiyfD/AP8ACosf/jtAHqtJXlf/AA1j8EP+iyfD/wD8Kix/+O0f8NY/BD/osnw//wDCosf/AI7QB6rTT1ryv/hrD4If9Fj8AH/uaLH/AOO0f8NX/BA/81j8Af8AhUWP/wAdoA9U4pRXlX/DV/wQ/wCix+AP/Cosf/jtA/aw+CH/AEWT4f8A/hUWP/x2kB6tRXlX/DWHwQ/6LJ8P/wDwqLH/AOO16VpOrWOv6XZ6npl7b6lpt7Clza3lpKssM8TqGSRHUkMrKQQwOCCCKYFuiiigAooooAKKKKACiiigAooooAKKKKACiiigAooooAKKKRqADNFN4/ClX0oAdRRXP+NfiF4W+Gulxan4u8S6P4V02aYW0d5rV/FZwvKVZhGHkZQWKo52g5wpPY0AdBSGvK/+GsPgh/0WT4f/APhUWP8A8dpD+1h8ED/zWT4f/wDhUWP/AMdoA9UoxXlf/DV3wR/6LJ8P/wDwqLH/AOO0f8NX/BH/AKLH8P8A/wAKix/+O0Aeq0Zryn/hrD4I/wDRY/AH/hUWP/x2lX9q/wCCP/RY/AH/AIVFj/8AHaAPVaWvKf8Ahq/4I5/5LH8P/wDwqLH/AOO16rQAtFFFABRRRQAUUV5/4p/aE+FngfXbnRPEnxL8H+H9Ztdvn6dqmvWttcRblDrvjeQMuVZWGRyGB6GgD0CivKv+Gsfgh/0WT4f/APhUWP8A8do/4aw+CB/5rJ8P/wDwqLH/AOO0AeqUda8q/wCGrvgjn/ksXgDP/Yz2P/x2gftYfBD/AKLJ4A/8Kix/+O0AeqUoryv/AIaw+CPX/hcfgD/wqLH/AOO0H9rD4Id/jH4A/wDCosf/AI7QB6rSVwHhf9oT4WeONetdE8OfErwf4g1q63eRp2l69a3NxLtQu2yNJCzYVWY4HAUnoK7+gBaKKKACiiigAooooAKKKKAPAte+JEXhvXraxvNB1gadNdQWLa0sUX2NJ5ioijIMglYFnjXckbIGbBbhgJtM8eDW/EM2n6foWqXun288lrPrifZ1s45kyHT5pBI+GGwlI2XdkZ4bHK+KpfEutfEeztb3wbqt94R0uaG4tZrK4sTHdXPUSzCS4R1jiJyECEll3fwqDyHhn4PX+i+NbQ2/hK30/ULPxJd6tN4yQ2++8spWmcW4YOZ2c+cIysi7MR7s5C1vHezM2fSHhX/kcLfPGbG4P4+ZBn+ld+K8/wDCv/I4w4/58Lj/ANGQV6DWcty1sFFFIagYtc7498YQeBfCt7rM0TXbQgJDaRECS5nYhIoV9GdyqgngZycAEjoG6V4x8UvCvjDx944WCzn8SeFvD/h6xfULTUdCOkySavfyI8ZgVLxZgoSIsoMkcYLTffAQEyyo76kOpfEXxx42+GfgXxb4JvvDugt4jsbWddN1nSrjVHlnuUR0jR47m22JGpkZ3Ksdqltg24PtMYbaN3LDqcY/KvKv2b/Bep+G/gT8OtJ8WaJ/Z3ibQdKhs3gunhuJbaSOPyiVkjLL8yjqp6Ng+lerpnPPFW+tjNHln7M+f+Feax6f8Jl4s/8AUh1GvV68p/Zp/wCSdav/ANjn4s/9SHUa9WpFBTZACvPSnU2Qbl/+tQB5X8Sv2gNM+HGsX1gfDuv+IzpOnLq+tXGhwQSR6RZszqs0wkmjZ8iKZvLgWSTbEx2cru9Dk1qxh0V9Xe5jTTRbm6a5kbagiC7i5J6Dbzk+leE/FLwn430vxh8Qn8NeEZvFNr458PW+lw3kV9bW8Wl3cYuIi10JZVfyStwj7oElf5JBs+7ma+8O678UvBWu/DbR7i20LTvC93pulHWdTsTqFprSQwQy3Fu9uskDCPJWN9suG+dc/eUZ3fJ5h1On8J/tCWXjz4cp4t8NeD/FOsLJqM2mw6PHaQQXrvEzBnYTTJFCm1CwM0iH7q4DsENJP2nNI1DTdCfQvCniXxLrmqRXk7eHdPjtEvrFLSbyLozme4jhBjmIiwsrFmPyB1BYcFoGjfHH4VfDXxXBa6JZ+LfEeseK7ya2/sO1trI2VrPPI8l9sur8xy5BBjgMiFSwDlhlqm1z4cRf8K+8Lxab8HvHjeILC1vLazmh8U2mkXts8rq8j393ZakjPHPKBM4iM3KljGGCqa6v5AjsrHxXpnjr4+/CfxDo1wLrStU8BeIby1mwQWjkvNBZSQeQcHoehyK9tr5z+Gvw/l+FfxL+B/hGe6F/daP8Otes57pSxE0q3WgCRxuJOC24jJzg19Fire5K2HUhOKWmtSKMbxh4q0zwN4W1XxDrVx9k0nS7aS8uptpcpEilmIUAljgcADJPA5rlfhz8YIfHuuajol34Y1/wdr1naQX503xBHbiSW1mLrHMj280yEbo3UqWDqR8yrlc2Pjn4HvviR8IfFfhzS5Io9Uv7CWOzadisfnYzGHYAkKWCgkAkAng9K8quPFPjDS/Ft78StU+Hd/otw+n6Z4W0zwzfajayXl7cTXu6aXfavPGkSB1IJbcRHKWWMAEwnrJsWuiPTvG3xq0HwL488I+ELuC/vNX8TTmG3+wwK8VqArFZLhywCKxRlXGWYq2AQrFYP+F021t8QLLwzqXhfxDo9tqFxPaaZr2oRQJY308EbyPGiiYzodkUzK0sKI4iJVmBQt5X8RPgT8Trr4naf4l0PxJ4d1G3ufFlrqkq33h2RrrT7SK1mijjMwv0WWKPzGwiRqxednz94HatZvHvin42XeoeIPhzrdlp2jy3Nl4WvftWmS6bAGjKNqNwBefaGkkGUVFizHG7DkyNtFeybHfdnV/Dn9obS/iJr+labF4c1/RbfXNOl1fQtS1RLb7Pq1nG0QaWIQzySRjE8TBZ0iYrIOMhgH/sm/8AJrnwd4/5kzRv/SGGvJ/2bvhP4s8F+MtCvp/BWoeEZP7Hnh8V3epXthPZ6lfPIkgbTYbeWQ20Zme5lKqlshEmWidzlPWP2Th/xi58HDn/AJkzRv8A0hhq76Ji6s9XooooGFFFFABRRRQAUUUUAFFFFABRRRQAUUUUAFFFFABTJPuGn1ieNNV1LQ/C+paho2hT+JtWt4We10i2uIoHupMfKgklZUQE9WY8DJAJwCnsM8e8H/tBeK/F2paJpkPgbTY9YuPEGo6Xq9lH4gaR9Js7SVomvWP2Ubw7KNsfy582LDEFtnvEZyTxXgHw7+HHjPwD8RPH8llYW8knirSbTV5vFV+kTwHXFEkMsLW6TLKYFiFsUQEABHHmbmLH0j4P6p4p1rw3cXvijUtI1dpbuQWF5o+ly6fFNarhVkMUlzcH5mDsrB8MjIcAkiq3Vydmd3XlPxmyfiJ8Csdf+EzuP/Ue1mvVq8p+Mv8AyUT4E/8AY53P/qPazSGeppnjI4xWT4y8V6Z4F8K6r4h1m5+yaTpdrJeXU20uUiRSzEKASxwOABkngc1sVwnx18D33xI+EXivw5pckUeqX9hLHZtOxWPz8ZjDsASFLBQSASATwelTK9tBorfDn4wQ+Ptc1HRLvwxr/g7XrO0gvzpviCO3EktrMzrHMj2800ZG6N1Klg6kfMq5XLvG/wAa9C8C+PvCHhC7gv7zV/E05ht/sMCvFbAKxElw5YBFYoyrjLMVbAIVivl9x4o8X6T4svfiVqnw7v8ARbh9P03wtpnhm+1G1kvL24mvd00u+2eeNIkDqQS24iOUssYAJp/EL4E/E66+JuneJtD8S+HdRgufFlrqky33h2Q3Wn2kVrNFHGZvt6LLFH5jYRI1YvOz5PzAt7kRvbXc9T/4XRbWvj6y8M6l4W8Q6PbajcT2mma9qEVutjfTwxvI8aKJjOp2RTMrSwojiJirMChbD8J/tK2XjK4toLHwX4pH9q6TPrXh9phYoNetYjGC1sftf7okTwsBc+QcSDOCGAw7abx74p+Nl1qHiD4ca3ZadpElzZeFr77Xpc2mQB4yjajcAXn2lpJBlFRYsxxuw5MjFeS/Zx+FPi3wR4w0TUJvBOo+E5V0eeHxVc397YT2mp3zOkqtpsNvK5tozO1zIVVLZCJAWjZzuQW1ym9DR+Nnxnbx38D/AI/eFbzwV4i8J6tpHgDUb64XWZNPlTZNaXSxgNaXc4DHyZDtbacAHuM/Tq53HvXy/wCOvBuraD+x98ete8TWS2Pi7xR4f1/V9Tt/MSVrYGxljtrbemVbyreOGMlSQWVyCd2a+oVp9hdWOooooGFFFFADW6V5V8Gv+Si/HX/scrbn/uXtGr1avKvg5z8RPjr/ANjnbf8AqPaNQB6tWJ408W6d4F8Lanr2qvIthYQmWRYEMkr9lSNBy7sSFVRyzMAOTW01eafGH4ceJPHzeG30DxDpeijR9QGoyWus6M+pW13IikQ7kjubdgY3IkX5iN6ocZUVEm0tCo2vqUIfj4mrfDfw54w0HwL4t8Swa1aNfrp+nw2iXNrCqgsZmmuY4Q2SAI1kZ2ydqsFYjO8RftUeG9H0yLVdL0LX/FekLoEHim/1DR4rYR6dpswdop5lnnidtyxTN5cSyOBG2VGVDea6P4d+M/gL9n7wN4Dbwxe6zc3UUlrrt/4TewtbvSbML/qYRd34SSeQllE6vtQZbZuCg0Pir8I/EfinVIp7L4WawLO38LWen+E4dNvtKtW0G7SSR2i1LdclbiBXjsnEQ+1Q/uifKLjLX1sZp6Ns+oPFXjjSfB/hGfxFqEkp0+NYyi28TSSzNIypFHGgG5pHd0VVHJZgO9c7/wALQ8Rjw0upj4S+MftjXRt/7H+16N9qWPYGE5J1DyfLz8uBJvyPuY5rzL4qabr3x5+GnjLwhL4Xttbk8M6rpDSI8qi18Qy2z215d2yJIFVVOGhG9ihZsMRtYCDwh8PfGXgfwD8T5/AngiHwLN4iuoU8O+E1ks4V0hjBFbS3sqQSPbp8wacxwsxZYx1kcqJ72LeiRfuvidbfFvWvgZr1po2paHCvj/UrA2uqG3MnmW+h63DIQ1vNLGy70YBlcg7cjjFfRdeFeKPBum/D3U/2cPDOjw+Rpek+JpLK3U4zsTw5rCgnHVjjJPck17otWyVsOooopDCiiigAooooAKKKKAPIv7NuMZ/ta7x/uQf/ABuj+zLjodVu8dwUh/8AjdeZeN/DGheJfiXpUWj6dBJ4ytL601LUNeVd0+m2iEfuvNPKiYI0awg4Ikkcr94mrJ8O/Cuq/HbTv7J8NaNYS+H421jUr+006COaW8n3pBG8gXcePOlbOST5ZPat1rYyeh7b4LtpLfxjF5l3NdZsJwPNCDbiSDONqr/KvR68/wDCv/I5QcYH2C4xz28yCvQKzluXHYKKKKgoKRqWigBgWhxuXp/9an0lAHzV8Efhr4j8QeGPEN/YfFjxh4YtJvGXinZpel2ujPbwY1+/U7TcafLLyQWO6RuWOMDAHoH/AApvxd/0Xb4gf+APh7/5VUfs0/8AJOtX/wCxz8Wf+pDqNerUAeU/8Kb8Xf8ARdviB/4A+Hv/AJVUH4N+Lv8Aou3xA/8AAHw9/wDKqvVqbJ932oA8pPwb8WdP+F6+Pj/24+Hv/lVR/wAKc8W5yPjr4/8A/AHw9/8AKqvHvjp4d8M+MPGPxnuPG9vaXEvhnwVbX+gT3xAfStwvWe8tGPMMplhjBljw+YoxngV6V460Gz+NXwNfwVqniLSNO1+4t9Li1GPUokvFhuSYZlhuLYyoW83aV8supYOcE1F3y8yDeVuxr/8ACnfFv/Rd/H3/AIA+Hv8A5VUjfBvxZxn46+PyP+vHw9/8qq8o0DT/AADovwl+JGl+Pvh18P8AUdF+HmrTO0OheG4YdMvpzZwzK8NnKZBFckTiBl3uSw+9820Zfi74CaX8PP2PbSx1HS7W31ezni1i5s7BTBYwX91ewyyhLaMiIrEx2RkqfLVBtxk5qTUfw/EFc6LXPhT4oX9o/wADWh+M3jd55fCfiCVb42ehedEqXmjAxqBpmwq+9SSyswMSbWUFw/pa/Bvxd/0XXx//AOAPh7/5VVHrn/J0Xw84/wCZM8S/+l2hV6ytNomLukeV/wDCm/F3/RdviB/4A+Hv/lVQfg34u/6Lt4/P/bj4e/8AlVXq1I1BR5T/AMKb8Xf9F28f/wDgD4e/+VVIfg34sP8AzXXx8f8Atx8Pf/Kqp/2nNU1DRf2fvH19plzNZ3UGjXLm6tnKSwRhD5kiMOVZU3MGHIIyOlefeANJ8DfBv44a9ZeF00bwj4Pbwrp15fw2ckdrYpcyXU0VvMyghBLKgK7z80gjQEnApR1b8hN9DuP+FPeLef8Ai+vj4Af9OPh7/wCVVOHwd8W4/wCS7ePsf9ePh7/5VV5R8TPh/Y+BvjBcfFqO28C+MPt3iPR9NlsdS0JZda0+VzBaD7Hf+cfLdN6T+UYckBvmXO4a9x8HfAOvftTaQ+geCfDekXPhKB/EWtatp2kW0F3c6hdCSK1iedUDnC/ap3BOS3kN6Uo6pOQ3pdI9A/4U54u/6Lr4+P8A24+Hv/lVR+yb/wAmu/B04/5kzRvr/wAeMNcd8GfBXhaT4w6p4r+HWjWeieEbbTptHvNSsYwq+I9Q+0Izzs+d1wYPLkQ3Dli73EoDNtYnsv2Tf+TW/g7zz/whujf+kMNV0TF1aPV6KKKBhRRRQAUUUUAFFFFABRRRQAUUUUAFFFFABRRRQAUhpaKAIZ4VnheORFkjcFWVxkEEcgimWNnBp9vFb20EdtbwosUUMSBUjRRgKoHAAHAA6YqzRQAV4r+0bo134g8TfBTT7HXdQ8NXU3jObZqmlpbvcQ40DV2O1biKWI7gCp3Rtwxxg4I9qryn4y/8lE+BX/Y53P8A6j2s0AIvwb8Xdf8Ahevj8cf8+Ph7/wCVVDfBvxcP+a7fED/wB8Pf/KqvVq8w/ae1TUdF/Z/8fX2mXE1ndQaPcubq2cpLBGIz5kisOVZU3MGHIIyOlTJ2QFY/BvxY3X46ePz3/wCPHw9/8qqP+FO+LBz/AML18fgf9ePh7/5VVw3gDSfA/wAG/jhrtl4Xj0bwj4Pbwrp15qENnJHbWKXMl1NFbzMoIQSypld5+aTy0BJ2isP4nfD+x8C/GG4+LcVt4H8YfbvEej6ZLZaloKy61p8zmC0H2O/84+W6b0n8ow5IDfMudwr7SSEndcx6t/wp3xaf+a7eP/8AwB8Pf/Kqj/hTni0dPjt4+/8AAHw9/wDKqvPpvg74C139qbSJNA8E+G9JufCUL+I9Z1bTtHtobu5v7rzIrWJ50UOfl+1TOCeW8hjVrwB4X8N+FfHfx206cx2OhyxWBvri/wBRlQuHsiHea6dzICQcGRmLAY54GJvt8wf+X4mZ+0z8KfFGnfs3/Fa7n+M/jfVYIPCWrSyWN3Z6EsNyq2cpMbmLTUcKwGCUdWwThgeR9PqBuJxz06V8P614fj8B/Cz9qvw03hnRfA9y3gOXVP8AhHPCcol0eCOSwvYRMj+XCftEjW7iQGCMbY4cGT5mr7iWr6JgnuvMWiiikMKKKKAGuAy88856V86+D/AOu+Kviz8b7vTPiT4o8G26eLLWJrHRbbSpIZGHh/SD5jG7sp33EEDAYLhR8oOSfouvK/g3/wAlG+O3/Y523/qPaNQAn/Cm/F3/AEXb4gf+APh7/wCVVI3wc8WjGfjt4/8A/AHw9/8AKqvVq8m/aK+FFr8ZdB8O6FNqHh+1uLfWI9Rgs/EukrqtnfGKKUNC9qZovMG1y3DcbM4qW7DSuO/4U74tbp8dvHx/7cfD3/yqo/4U34tx/wAl18fn/tx8Pf8AyqrxbVbXwd4m/ZjtLzU/hh4B1LxNp9/eeEfDdnHoNtNph1Br+SziltIpVPlwSSos7IGO1VfLNs3HpfG/wV8O/DTQfgTpthbSTSeHdf0rSrOaaRyqKscoeRYtwjSRzuLSKoY5wTtAFU1Yi+iZ6J/wpzxb1/4Xr4/H/bj4e/8AlVR/wp3xb/0Xbx//AOAPh7/5VVs/Em48N+KvC2u+Hbs+H9fuFeC2m0LV9TFvbzXEjK9vbXJVXZVlbYNhjferY2OCQfAvh54O0i+8AeMPAN14M8H6nqml+MZvs3gPVdR+z+HYZXtYrnyLRlglM0aQztPta2XEzO3lR7VYTfRtFdUdh4u8Ba54W+LPwPu9T+JXifxlA/iy6iFhrVtpUcMbHQNXIlBtLKB9wCleXK4Y5UnBH0WK+SPhe0UfhH9nGwjeUtpfjzV9KkjYDyoJLfSdfheCAh3zbxshjiO4ny0TIU5UfWq//XqpLldiYu6uPooooKCiiigAooooAKKKKAPnvUPh/wCFNY1v+2r74eaZe6xvWT+0bnT7KS43LgI3mE7sgBQDnjaOmM1vWgSxnup7bQJLa4vHEtxJGturTOFCB3IfLHaoXJ7KOwrmPG/ifxT4V1zS7qKTSJtDu9TtdOTTTbytfTiVgryrMJAi7MsxTy2+SJiXBPy83ovxY8Q6l8UB4df+zDjULu3utBFjNHf2VpEp8u9ecyGN45D5OMRjPnBQxMb1vF391Gcu57T4JupLjxhFvtJrUCwnx5pQ7v3kHI2sR+dekV594VP/ABWUGef9AuP/AEZBXoGeaylvYqOwtFFFSUFFFFABTWXcMEU6igD5++G/iLxv8L9L1zQbj4PeMNb/AOKm17UIdQ0u+0T7NcW93q13dQunnajHIMxzpkMikHIxxXV/8Lk8Xf8ARCviB/4HeHv/AJa16tRQB5T/AMLk8Xf9EK+IH/gd4e/+WtI3xi8X7ePgV4//APA7w9/8ta9XooA8C8S6sPGuraVqfiL9mDxJr2p6S/madeamnhm5ms2yrbonfUy0Z3KpyuOVB7Cs9gbyPxZHq/7OPjXxHD4ou0u9Vt9am8NXcVwY0jSJCj6mV2RiJNq44ILcsST9G0UAeDWOvSaX4btPDtl+zL4ntPD9nIkttpMC+GUtIXSXzUZIhqexSsgDggDDDcMEZqDxvqEPxMhtIfF/7LviPxXDaMzW8etx+GLxYSwAYoJdTbaTgZx6V9AUUt9wPmS31DxTo3xQ8F6xof7P/i3SPDPh/wAOatoiabZ3Ph6ARtc3GmyQiKJdTCCNVspQeRgsmAckj0UfGPxd/wBEK+IH/gd4e/8AlrXq1FMDyn/hcni7/ohXxA/8DvD3/wAtaD8Y/Fx/5oV8QP8AwO8Pf/LWvVqKAPJZvi54rnieOT4D+PnRlKsrXvh4gg8EEf2rXnzaDp9v4X/4RvSf2YvFfhrQZNQt9TudO0E+GLKC7lhkSRBMkepAMu6OPP8AeCgE4yD9N0UdbgfPy30S+NT4xX9l3xEPF23Z/wAJB5fhj+0MeX5ePtH9p+ZjYAn3vu8dK2bX4ha3p9xqNza/s8+M7a41KQTXssM/hxGupAixhpSNUy52Kq5bJwoHQCvaKKAPm7wjpmi/D/WjrHhb9krVfDWqbGi+3aPZeFbWfY3LL5kepBsHAyO+K9P/AGefCuqeB/gL8NvDmt2v2LWdH8M6Zp97beYsnlTxWsccibkJVsMpGVJBxwSK9CooAKKKKACiiigAooooAKKKKACiiigAooooAKKKKACiiigAooooAKKKKACvKvjpp+v/ANrfDHXtB8Mah4t/4R3xNJqF7p+lz2kVx5D6TqNrvQ3U8MZxLdRZG8HBJAOK9VooA8oX4xeLh0+BPxA6f8/3h7/5a02b4veK54mjk+A/j6SNgVZWvfDxBBGCCP7Vr1migD5lbQtPt/C58N6T+zF4r8NaDJqNvqdzp2g/8IxZQXcsMiSIJkj1IBl3Rx5/vBQCcZB2VvoV8bHxkP2XfEQ8YFdv/CQeX4Y/tDHl+Xj7R/afmY2fL977vGMV9A0UAeMWXxF13S7vULqz/Z78a2l1qEonvJ7efw4klzIEVA8jDVMuwREUFsnCgdAK5HQ9D0Dw1fXl7pH7Iup6Xe3kEtrc3NnY+FYZZ4ZP9ZG7LqQLK/8AEDwe9fStFAHyh440W/8A+FE/ETwF8Pv2aNe8HSeJdE1Cxij0/wD4RuxtPtM9q8KSSiHUenK5YKW2joeBX1XH94/4VJRQAUUUUAFFFFADX+7614XpGq+MPhr8SPilLH8LfFHirTdf1+31Wx1LRbzSFheIaRp1qylbm+hkVhLayjBTGApBOa92ooA8p/4XH4u/6IV8QB/2/eHv/lrXPeNvEE3xJ0pNM8W/szeKfFGmxyidLPWR4Zu4VkAKhwkmpsA2GYZxnDH1r3eikB4gvjTUktdGgT9nHxeIdFZW0yLzPDe2xKxmJTAP7U/dYjZkG3GFYgcE1ieN4dN+Jd9Be+L/ANlLWvFV5bx+TDc61a+FrySNMk7FaXUmIXJJx6k19FUUb7gfONsgjt/FNte/s4eNNatPE1xHPqVrqk3hq4gmWOKOKKHym1Pb5UaRIFTGAcnqSS6a20u48GweEZf2T9al8KW8pnh0F7XwsbCKQljvWA6lsDZZjkDPzH1NfRlFAHz0kPiHxN4y+EWn6Z8Hte8A+GvCutzX80t9Po0dna2w0fULSOOKK0vpXB8y5hUKseAMnIAr6BjXbyR2qSimAUUUUAFFFFABRRRQAUUUUAfN+oeAPFN18Sf+Eoh8S6VJZwosNnp99o0szWSYAm8qRbpFEknIMhQkAhRlcg5mj/BW903V9NWbX7S40TTdZuNbtYk0wpftPMZSVkujMQy/vmU4iVioALYzne1HxT4K0rxJDod1BHHfSzR2qy/2VK9sszgGOJrkR+UkhBBCM4J3pgcim6b4w8D6t4jOh2sUUl75slurnTJFtpZIsmSKO4MYhkdcNuVXZhsfj5WxurJqxlLzPR/Cv/I5Qd/9AuPr/rIOtd/XnHgvT7Wx8YxfZraG33WFxu8mMJn95BjgV6OOprKW5cdhaKKKkoKQkDrS1xnxc+KOifB3wLqPirXjO9hYruaG0VXnl4yVRSQCQoZjkgBVZiQFJoA7LcPWjNeIfEz9oyX4f/FLw94Qi0TT7xdUNkFN3rItL25+0XBhb7DbGFhd+SAJJv3kexGU85r2pW6kDP6UdLiJaWvmn4I/s9/C3xz4Z8Q634k+Gvg/xBrN14z8U+fqOqaDa3NxLt1+/Rd8jxlmwqqoyeAAOgr0D/hk74I/9Ec+H/8A4S9j/wDGqBnq1JXlX/DJ3wR/6I58P/8Awl7H/wCNUjfsn/BHH/JHPh//AOEvY/8AxqgD1bcPWivmj4g+B/2XfhbqSWPiT4Y+B7Wf7N9umNt4GjvEs7beUFxdPBbOttDuDDzZiiHY/PyNjux+yx8DWhEw+EHw+MRXeHHhmx2lcZznyunvR0uHqeubh60bh1zXy/pvhn9lXWvAsPi/Svhn4J1vQZr2TTreTS/Ai3c11OhYOsNvFatLMAEdtyIy7FZwdoJpmoeHP2VdP8P6LrK/DDwfqFtrKTSWVvpfw/8At14yQnEzPawWjzRiJiEkMiL5bEK2GIFAH1HkUV8pzfs+/BPWvj18Of7K+GfgO68O6t4N13UVjtvD9mbW6K3Wi+RNgR7XISeTa2MgSvggMa9XH7J/wR7/AAc8Af8AhL2P/wAao16hurnq1FeU/wDDJ3wR/wCiOfD/AP8ACXsf/jVDfsn/AAR/6I54A/8ACXsf/jVAHquQOpo3D1rx3WP2Z/gJ4f0m81TUvhP8OrDT7KF7i5u7jw3YxxwxopZnZjHgKACST2Fcn8O/hn+zP8Upr630D4UeDTe2McU09lqfgRNNuVikBMUohurWN2jfawWQAoxVgCSDS62A+js0bh618++KfhD+zV4L8TeGvDus/DL4eWeteI53t9Ks/wDhE7V3uXRdzn5YTtUDGWbC5ZRnLAHNsvh9+zHf+Nj4TT4WeC49YLzwxPceBY4bO5kgB86OC8e1FvNImH3JHIzLskyBsbAncD6U3D1ozXzX4E8A/sw/ErVpdO8P/C3wVc3KwG7ha68CpaRXkAcIZ7WWa1RLqIEr+8hZ0+dDnDqT3n7Juf8Ahl34O+n/AAhuj/8ApDDTA9ZooooAKKKKACiiigAooooAKKKKACiiigAooooAKKKKACkzilpkn3aTdlcB24dc8UV4J4P/AGgvFfi7UtE0yHwNpser3HiDUdL1eyj8QNI+k2dpK0TXrH7KN4dlG2P5c+bFhiC2z3iNjuPHFPoK+uhJRRXin7R3hPRPHHib4KaJ4j0bT/EGjXXjObz9N1S1S5t5tugau6743BVsMqsMjgqCOQKBntWQenNGcdeK8pX9k/4JHr8G/AH4+F7H/wCNVU1j9mf4CeH9JvNT1H4T/DrT9Ps4XuLm7uPDdjHHDGilmdmMeAoAJJPYUAew5or5w+Hfwz/Zn+KM17b6D8KPBpvLGOKaey1PwImm3KxSAmOUQ3VrG7RvtYLIAUJVgCSDi74p+EP7NfgzxP4a8O6x8Mvh5Z614kme30qz/wCETtZHuXRdz8LCdqgYyzYXJUZywBNhH0FuHrRkV82af8O/2ZNR8c/8IjF8LPBa6y0k8MLXHgNIrO5lhz50UF29qLeaRMPuSORmUo4IGxsVvCPhP9ljxxq0mn6V8MvBPnC1lv4Zr/wIllbXltGyiSe2nntUjuYl3oTJCzrh1bOGBJ0GfTe4etLuB6HNfGHxb+HPwC8Wfs2fGHV/Bvwp8O2s+l+EtSu7TWG8BnTkL/Y52intLiW1jWYApuEkDMBlWB+ZSfsxM7uaAJKKKKACiiigBKMg9OaRxla+dvB/wR+HfxK+LXxw1Lxf4B8MeKtSh8WWttHea1o1veTJENA0hhGHkQkKGdjtHALH1oA+i6K8p/4ZO+CP/RHPh/8A+EvY/wDxqg/sn/BH/ojnw/8A/CXsf/jVAHquRRmvBfiF8Ef2cPhZ4P1HxR4q+GHw80jQrBA9xdv4VtH25YKoVEhLOxYqAqgkkgAE1geLfA/7L3gdrA6v8LvBsMV5bxXf2i38BLc29rBI22Oa6litWS1jY5w85QfI/PythXA+mdw9aNw9a+Zdc8F/sueG/F//AAjd/wDC/wAFxagLi3tJZ4/Aay2VvPPt8iGa8S1NvDI++PakkisfMj4+dc9P4w+A/wCzz4C0N9W1z4T+AbW0WRIVWPwlazzTSOwVIooo4GklkYkBY0VmYnABo6XDrY9zyPWivl2b4b/DDR/HnwH8UeAvh5o/g+4vfFt5bm4h8K/2HetENC1jdHJHJBFMqlo1baygHarDjBr6fjzxxxjimBJRRRQAUUUUAFFFFABRRRQB8q+OPFS+IPiFY+GtQ0rXoND0y6tr6a8h0K9uItRuVIeGJJYonRI43CM8jN1UKONzVgWng1n+I3h3TvDd74qOg6TrV1q15bappgtdPsyyzgiCWS1SWYvLOcBZXULvOcbK9s8nVOf9MtP/AADf/wCO0CHVO15aZ7f6I4z/AORa3iuWxm/evY3fCv8AyOUHp9guPoP3kFegV5v4KW6XxhEbmaGbNhOF8mIpj95BnOWavSKzn8RUdgoooqChr5xxXyZ+1Ja+NfiZ4b+Jq6BbSW2j+HNEvNKh03UPB2oX91rN5c25DyWJjli6BlhWZUlUGScsNnX61oqWrjueWR/B/wAK+PrrQfGOraVqS6ybKxeSN768sUmMLedAt3ZrIkcrRSOzATRsVbOAO3p6DbjPHFSU184GM5zVt3JseWfs0/8AJOtX/wCxz8Wf+pDqNeq180/BHRPind+GPEMvhvxl4Q0nRW8ZeKfs9nqnhK6vriPGv34bdMmpwq2W3EYjXAIHOMn0D/hG/jf/ANFD+H//AIQd9/8ALmkM9Wpkgyvf8K8s/wCEb+N//RQ/h/8A+EHff/Lmg+HPjf8A9FD+H/8A4Qd9/wDLmgDzf4tNqfhLxp8VIW8Ma/4gPjXwrbafoz6PpM97DLdIt3E1tNLGhS2GZ4m3zskeHY7vlatrXm8Q+OvhxrPw18IwW93rXh3+zdF12fVb6WxtL2FreKW5hguYY5pEdonVSTHlfNyOxrq28O/G44H/AAsLwARn/oQ73/5c1Xs/Bnxk08Tm28d/Dq28+Rp5fK8A3i75D95zjWeScck8nFRyrl5ewbNvueV+CPHHj74K/CnxdPqnw2nXVLzxffQaVY+H4NQ1aOMTXEhNzNHFZJItpGoBV40YyLgAIWAqO68O+HfC/gzwrrvh/UPilZeLYbTU7aK+8P8Agu5S71SW4uFuLpLiC90+aK1WW5w6NMsYUE7ZNgavYf8AhHPjd/0UPwB/4Ql9/wDLmkPh343DH/Fwvh+f+5Evv/lzVdWw7HAfCDwTqfw58bfAbw1rTq+saZ8Ntct7zy2DIswutB8xVIABVWyBgAYAwAOK+llzXy/rmg/GAftIeBY38deCW1JvCfiBoLgeDLwQpELzRfMVo/7WJZmYxFWDqFCOCr7wU9MHhz43/wDRQ/h//wCEHff/AC5pt3YlotD1akavKv8AhG/jf/0UP4f/APhB33/y5oPhz43/APRQ/h//AOEHff8Ay5oGXf2ivC+p+Nfgf420bRrdrzVLrS5lt7RWCm4cLkRAkgZfGzkgfNzxmvMoPinbQ/EHV/ifJ4d8T2Xhq10TTfDqRalos+n3t7fXF8QIore5WJ3Efmx5YDaTKQhYqwrv/wDhHfjd1/4WF8P/APwhL7/5c1WvPBnxk1DyPtXjr4dXHkyrPF5vgC8by5F6OudY4Yc8jnmpWl7dQtc8r+KHgf4rJ8YtF8SW/hXw/wCIbaXxXZmyvU128SW006G1uVSOaAWDpCu+aaR5RI2WdFxjbt6J/GNr8VvjmmneIfDfirTNE8M3V1aaVDc+E9UEOp3TwPDLePdiD7OkAiknijBfL+YzHH7sHuV8OfG7n/i4PgAd/wDkQ77/AOXNL/wjvxu/6KH8P/8AwhL7/wCXNCSja3QPU8n+CPgK7b4weFrnQdV8d33gDwf4cutMtv8AhNdFXSxBJM9ssNrbLJZW1zMqRWxLyS+YOIsMW316z+ydj/hlv4Of9iZo3/pDDSf8I58bjj/i4fgD8PAl9/8ALmj9k1f+MXfg6ecf8IZo2PT/AI8Yaq/updg6tnrFFFFABRRRQAUUUUAFFFFABRRRQAUUUUAFFFFABRRRQAVieNNW1PQvC2p3+jaFP4m1W3gZ7XSLaeKB7qTHyp5krKiAnqzHgZIBOAdukNJq6sB8yado3ij4B6v8V/FJ0eDUoNU8Ow+JLrxBfXNvbQz65EkqS2zAyb0hEa22wH5VCvlyzFm9B/Z3+JWv/EbSfEJ8QtaS3Wl6l9jiuLfRrvRZJojbwyhpbC7d54GDSMo3t86qrrgMK9Q1LTbTV9PubC/tYb6xuo2hntriMSRyxsCGRlIIZSCQQeCDWX4L8B+G/h3pJ0rwr4e0rwzpRkab7Do9lFaQb2xltkahdxwOcdhTW1mJ+Rv15T8ZP+SifAr/ALHO5/8AUe1mvVq8U/aOt9bu/E3wUi8OahYaXrTeM5vs93qlg97bpjQNYLboUmhZsruAxIuCQeQNpBntWc9Oa85/aM8K6n41+B/jXRdGt2vNUutLnW3tEYKbhwpIhBJABfG3kgfNzxWevhv43/8ARQvAPTqfAl9/8uaVvDnxvA5+Ifw//wDCDvv/AJc1MkpKzDY4CH4p20PxB1f4nyeHPE9l4atdE03w6kWo6LPp17e31xfECKK3uVikcR+bGCwG0mQhCxDCsD4n+Bfisnxi0XxJb+FdA8RW0niyz+xXqa5dpLaadFa3KpHNCtg6QrvmmkeUSNlpEXGNu31S98F/GTUPJ+1+Ovh1ceTKs0Xm+ALxvLkXo651g4Yc8jnmrC+Hfjd2+IPgBf8AuQ77/wCXNN6yuKytZbHCzePG+JHxyW31Dwx4osLTwnc3UOhWt94X1KO31W/aB4mu5L37ObaO3EbzRR7n+fzGc9EB8P8AD3w68V+KvAGoeH9E0nxRJq194A1XS7rT/EWj3mn2nhe6lRGSx0ue6ULJE8rNGcPcYSCLbNHGiI31UfDvxuH/ADUPwB/4Ql9/8uaP+Ec+N3/RQ/h//wCEHff/AC5oSt/XzGfPXiKC+b4H/Ha50aDx1aeB3+GN6ktv48m1Rp11UWt0ZBCupEzBREyBmT9yxC7clWr7bXr618wftNaD8YIf2b/itJqfjrwPeaavhPVmure08F3lvNLELOXeqSNq0gRiuQGKMASDtbofp2PO48YFU3fcS0JKKKKQwooooAQ15X8G/wDkonx1/wCxztv/AFHtGr1Ns44Gea+dfB+k/Ea/+LPxvk8I+KfC+haaPFlqslvrfhq51KZpf+Ef0jLCSPULcKu3aNuwkEE7jkAAH0ZTZBuWvK/+Eb+N/wD0UP4f/wDhB33/AMuaD4d+N4/5qH8P/wDwg77/AOXNHqBxX7Wfgj4geLtJup/DmiaR4j0Kw0LUm/s261S5tLtr+S3eKOaOOK1nFwUjaUJGSmXkBzkKRz3xE8Z6vdeCfCXwy8U+EvEGl2eraLE/iXUtB0DVNctobUEI1jDLb2mftEyqQxdVESlj8zbM+qN4e+N4/wCah+AP/CDvv/lzQPDvxu5z8Q/h+Pr4Dvv/AJc1Cj0+YPU8E8baTrF38WfEVzZaD4oivp/Emj3On+GotEv5PD+u28Udti/vrjZ5MM8eZcAyRbTZwebFOyRg9p8bNUtvi/pXhDXrSw8WyeGPCvji5tdZ/wCEcN3HfyRxQXdm89t9gY3DxrPIoPlHcVEmVwGr0ZvDnxuIwfiH8P8A/wAIS+/+XNV9N8G/GPSbSO2svHPw6srZM7YYPAF4iLk5OFGs4GSSfrmq9eg7+9c838L2uu2s3wSGs/2yto/xH1aTRk8RTSy6immtomttbCdpv327YeFmJlVSqv8AMCB9UCvnTxdpXxFsfiz8D5PF3irwvrmmnxZdLHb6J4audNmWX+wNXwxkk1C4BXaHG3YCSQdwwQfooVUnd3ZI6iiikMKKKKACiiigAooooA+UfiZ9s0Hx3oerRP4is4JNTs0m1aTUmbSIoZCIja/Y0kJLOxA8xocBpQ3mgKAMPRbzUivhXxg2t6q+p6v4nuNNvLGS/lazNt5txEIVtiTEnlrEh3qof5WJbk59BuvA/hLUPER1mex1SW8a5jvXh33/ANkkuEACTNag+SzrsQh2QnKAg5UGlsfBPhHTfE7eILfS9RXUfPkulV/tr28U0gxJNHAxMUcjDdl0QMdzZPJz0RWupnLyPSPC2f8AhMoM5z9guOvX/WQV6BXm/gq8iu/GEQiWVAlhPxLA8fWSDkbgM/h0x716RWUty1sFFFFQMKKKKACiimt24oA8r/Zp/wCSdav/ANjn4s/9SHUa9Wr5z+EfxY0v4a6Dr2g+INB8cQalF4s8SXBW08C61eQvFPrV7PDIk0Fo8civFLGwZWIIYV2//DS3hH/oEfED/wANx4h/+QaAPVabJ930ryz/AIaW8I/9Aj4gf+G48Q//ACDTW/aU8IsP+QR8QP8Aw3PiH/5BoA83+L0epeMPGHxX3+KNf8O/8IX4WttQ0ZdG1WexjjupFu5TczJG4W5GbeNdkwePCONvzNn0Tx3pPir4ofACCDw9ef2V4m1SxsbkSHUbjTdp3RSyx/aLdTLDuUOu5FJG7pXB+Pte+DvxM1iHU/EPhT4j3d0tuLOYQeCvFdrFeW4feILqKG1RLqEMWPlTq6fO4xh2Bp/258NdSufGk+s6b8S72TxNqFtfSyWfgPxPp8tqLaOJLdIZYLRZIynlbt6uGJdx93CiLe5ysNpcxc8Nt4fuvhn4307xqnifwo3gHUJp9YNl8QdZvDxaR3Ikj1DzoriWIwyofKkChXzhMgMee1rwl4r8Ifsl2Oq6l4q8VaXryXEerzWn9t3M0kBub2J47SS5mZrlkgjcRbfMAfDbw2cDpIfEnwgh8Ez+FD4S+Ilxot1dpfXcd14I8VTzXs6yJIJLi4e1Ms5JjQHzHbKoqHKjbVn4l+N/hh8XtLh03xNovxUm0+Jt32fTvCni7TkkOQf3n2a3j8wAqpAfIU8inO7Tt3QJdDsdez/w1F8PM9f+EM8Sf+l2hV6yK+W4/il4e0n4y+A9RsNC+JU/h3RfCutaVLeX3gnxJdzrNPdaS8CvJNaNNKzLa3B3sW+58xBK59PH7SvhH/oEfED/AMNx4h/+Qat7kx2R6tSNXlf/AA0t4R/6BHxA/wDDceIf/kGkP7S3hH/oEfED/wANx4h/+QaRRe/aI8Wan4H+CXjLW9Gn+yapaabM9vdbQ32dyu0S4IIOzO7kEfLyMVyfw10Wb4dfHDU/CNlr2v6xoVz4attVMOvavcanJBdC4kiZ1luHeRRIoGUDBAYiVUEtnQ1r4+eBPEWj32lal4d8dX2nX0D21za3Hw28QtHNE6lXRlNjyCpII968rvLH4Rr4YutC03R/idaW2oXeny6jdX/grxXqd3c29pMssVqJ7q2kkSLKkBVO1Q8m0Bm3VKurtha5v/ELSfEvw7+Mc/j3XY7/AFrwPd6xpVpaf2d431O0fSzKYrUbtKULa3EZuHVn3Sbtrk7WI2m5qHgOCT9pTw1p/h3WvFlv/Z8U/ibxCJvFurXFqySF4bW1+zSXDQKskpmk2hAFFptAAbFVbjxF8I7zxo3im48N/E6fUjdR35t5vCPi19O+0oiok/2H7N9m81QikP5W4MoYHd81dFo/xg+HWg6/rutWPhvx/FqmuSRS6hdN8PvEjtMY4xHGPmsiFVUHCrhcljjLMS0uVJLoD97XuW/gvDqOlfFj4qaReeINY1+C1m06SKTV7rzdjSW25/LQBY4lJx8kaIvGcZJJ1P2Tsf8ADLXwcH/UmaN/6Qw1534N174UeAvF1/4m0jSfi9/bGoLtu5dQ8P8AjS+jmxwpeKeF42KjhSVyoyFIHFenfsy6Te6D+zl8KtL1OyudO1Ky8J6TbXVpeRNFNBKlnErxujYKsrAgqRkEEdqmKcYpMXVs9MoooqxhRRRQAUUUUAFFFFABRRRQAUUUUAFFFFABRRRQAUlLRQAlLRRQAV5T8Zf+SifAn/sc7n/1HtZr1avHv2gr59B174Ra8+m6xqOm6R4tlub86JpN1qc0ET6LqkCyGG2jkk2+bNEm4LgFxmgD2CvOv2ifFep+B/gj4z1vRp/smqWemzPb3W0N9ncrtEuCCDszu5BHy88Vmr+0p4SXk6P8QOn/AETjxD/8g1V1v4+eBPEmj32lal4d8dX2nX0D21za3Hw28QtHNE6lXRgbHBBUkEe9TLVAZvw10Wb4d/HHVPCNlr2vaxoVx4attVMOv6vcanJBdC4kiZ1luHeRRIoHyBggMRKqCWzzXxC0nxL8O/jJP4912O/1rwPd6xpVpaf2d441O0k0szGK1BbSlC2txGbh1Z90m7a5O1iNpwLyx+ES+F7vQdM0b4nWltqF3p8upXV/4K8V6nd3NvaTLLFaie6tpJEiyuAqnaoeTaAzbq6K58RfCO88aN4puPDfxOn1JrpL8283hDxa2nfaURUSf7Cbb7N5qhFIfy9wZQwO7mnb3k2Gtmu5a1HwHA/7SnhvT/DuteK7f+z4Z/E3iITeLdWuLVo5C8Nra/ZpLhoFWSUzSbQgCi02gANio9C8cJ8F9b+OGreJ/Eusa1ovh6OxvjLq135hVmttzLGoCxQh22jaiIgJyR1atrR/i98O9B1/XdasfDnj+LVNceKXULpvh94kdpjHGI4x81kQqqo4VcLkscZZieb8Ga78KPAXi6/8TaRpPxdGsagu27l1Dw/40vo58DC74p4XjJUcKSuVGQuAanlenz/EW6+Z5HYfE6Hxl8C/2rbC5+JGneO9VPhi/wBR8rT9bjv7a1WXRyZY7QIcLbRysYgQoyVy2XJJ+9Fr5T+N3xA8Ia58H/jJZeF/Cnj+fxT4w8PX1qY/+EA8Qr9rumsXt4FzJZhEyAi5+Udz3NfVaLhiaa0SQdW+4+iiiqGFFFFACV5X8G/+SifHX/sc7b/1HtGr1Nhla8A8OfEex+F/xR+MNvr+ieMP+Jp4lttQsrjSvB2r6lb3EH9iaXCXSa1tpIziWCVCN2QUOaAPoGmSdBXlv/DS3hH/AKBHxA/8Nx4h/wDkGmt+0p4SYYGkfEDP/ZOfEP8A8g0CMf8AaH+HvjXxjqHhq/8AC++/07TI7w3+ix+M9S8Mtds6x+SRPZRuzlSj/K+F+frXAfFCPSfid8GfBPiHwtqPjLSPE3jW2sNI8PLF4u1a1No00Zdp5ore6EcslvAJ5ndwxcw4ZiDXRePvG3wu+Jl1Z3Ot6J8VFntYpbdZNK8KeLtNLxSFS8Uv2W2j81CUX5JNy8dOTm+Pib8LotW8O6lF4R8dQXHhy1ks9ISD4deI0hsopFRGWOIWQjB2RqobblVyoIDMDCVkvUp76FnxJp2oeG/2gfhlHD4l125sL211C2k024vmNrthto9pZFA81ywLmSXe+WO1gvy1f/aS+LenfDfwzpmkXPinTvBuoeKLo6bba3ql5HaRWMYQvPcCST5PMSMN5anrI0YxjOOK8Ta58KPF/jex8XalpHxeOuWLBrWS10HxpbQQnABC28UKxAMFAYbMP/FnJrT+G/xQ8F/DvR9StUsviFfXmp6pd6veXT/DfxAnmT3ErSMAosSFVQVQAdlGSTkmXFuLiKOkubpocT8JfGVv468AfstahD4jHimePxPPbXeoNf8A22YzL4e1ncs0pZiZACM7jnnnrX12tfNFnrfhzV/F/wAEPDXgfw14vstK8O+Irm7l/tTwlrNjb2lr/YmqQhnuLy3ReZZ4kALliXGBX0utavcmOw6iiigoKKKKACiiigAooooA+efFHj3WfC3iTTobjQLd/Dt7fwabHqH9pf6W8sq5DpbCMqYw3DEyhgFdtuFy1rS/HF7e/Ea/8M3GiNYQw2P22C8kukd51Ehjz5aghVOAVJfdgcotcz4u+Hmu+JPHFtqMWl+G7Fra9t5YfFVvLJHq8dtGyvJb7BF86uRIhzMFKyH5DjB0I9D8Yf8AC321+TTNDGh/YDpm8atM9z5YlMgl8v7Lt3HoU34HXf2rdXtcz0ueo+Fv+Rxg/wCvC4/9GQV6DXn/AIV/5HCD/rwuP/RkFegVlLcqIUUUh5qShaKSjNAC0UmaBmgBaKTOelLQAUlLRQAyhc/rT6KAEo6UtFACc0c0tFIAooopgJiilooAbRTqKAGcilWnUlAC0UUUAFFFFABRRRQAUUUUAFFFFABRRRQAUUUUAFFFFABRRSUALRTd1LnNIBaKKKYBSUUtADaKdRQA2l7UtFADKcKWikAUUUUwCiiigAooooAKKKKAEo7UtFADaMU6igBgB5pwpaTOaAFooooAKKKKACiiigAooooA8Km1jwvb+JIfD0viGCPX5l3xaU+ssLp1wWysXmbiMAngdAaS11jwtf8AiG40C38QwXGuW6l59Mh1hnuolGCS0QkLAfMvUfxD1rzP4neJNMn8caTplprGj3d1b6/p80/he3tzBrFxcBkAuRKWJeNEMbkiEfJCy+aFyKs23jjwd41+MGm6Tp2taJY/8Ixe3P8AoouoY7q91CSN0dI4c72jUSysz4+Z8YztY10RfM0Zy929z3HwVZR2fjCIxtK2+wnP7yd5P+WkHTcePwr0ivP/AAtn/hMIO2bC4x7/ALyCu/UVjLcqOwtJS0lSUIx+WsDWvHOh+HvEmgaBf36waxrzzR6ba7HZrgxRmSXGAQoVBnLEDkDOSAde+vLfTrOe7u547a1t0aWWaZgiRqoyWZjwAAMknpivjLU/iJdeKPjL8HvHd9F4Zg8N+JvFbReHdRTX3lv57FdOv4YV+yfZlRVaSZpCwnZlaeNGHACqPvTUR9Ln0Z4K+OeleNPGcnh+DR9YsPMjvJdP1K8jgFrqaWlwlvctDslaRfLlkRcTJGTnKhgCa9IZjxj1rz3wn8DfCvg/4keIfHNjYwjxDrIZZbhLO2gMaOUaRQYYkaQu8auzzGRyQBuCgKPQ1pu1kT1PnX4SfCXS/iVoWva/r+veOJ9Rl8WeJLYtaeOdbs4Uig1u9ghjSGG7SNFSKJFCooACjiu2/wCGafCP/QX+IH/hxvEP/wAnUv7NP/JOtX/7HPxZ/wCpDqNeq0DPKf8Ahmnwj/0F/iB/4cbxD/8AJ1H/AAzT4R/6DHj/AP8ADjeIf/k6vVqa/T1oA8H8VfDX4Q+Bb/S7HxJ8QvEnh+91RzFYW2q/FfW7aS8cFQViV9QBkOWUYXPLD1FdH/wzX4Q25/tnx/j/ALKP4h/+Tq8d+N/iPwz4X8b/ABjsPGtxZx3XijwVa6f4ftL1QZNW2/bUa0tEPM0vnTRnyYwXzLGcciu+8VeLNfvPhRc+EPCdpqOv+ONKg0zTNet9KkggvLCOeFGmmhkuniheURFyvz4DMpPQio5vc5g+1YivPAPwa0/wvc+Jbr4k+ILbw5a3DWk+sTfFrWktIplfy2ieY6jsVw/ylSchuOtQ674L+CnhnwzpviLV/ifrmk+H9T2/YdWvvi5rUNpd7lLL5UraiFfKgsNpOQCa8z+FXxi8JfAv4L+IL3xH4QfwbZaX41v9P8O2GtXNhEhupJZo44I5UuJUt/LTekkrFUVN5Bdc5Yv/AAh/w+8JeDPGelfGzwBbavHY61AVniTWdP1R7y7S7vIdOt4ruCR5EmCxIqMzFWVShYiqvq16B2O81T4MaDH8ePBmgWviPx9/YOpeGNc1KeBfiHrxEs0F1pKQSB/tueEu5+AcHzMnJAx6H/wzT4Q/6DHxA/8ADjeIf/k6vM/gXoOs+FvE37Puk+IIWtdZtPhlrUV1ayAhoHFzoGYjkk5T7vJJ+XqetfUC1T3EndHlf/DNPhH/AKC/xA/8ON4h/wDk6j/hmnwj/wBBj4gf+HG8Q/8AydXq1IaQzyiT9m3wdEjO+tePkRRks3xH8QgAev8Ax/Vz3gr4Y/CP4k2dzdeEfiB4m8U2ttL5M8+i/FfW7xIpMA7GaPUGCtgg4PPNdP8AtO6bf6t+z74/tNNgmu7iXR7hTbW6lpJo9h8yNVHLFk3KFHJzgda8y8MfFrwBP8WfEHxA8P63p974HsfCum6VqGtaOv2m2F095J9mt90QbdIiy8xjmMTJuChhSWrdw7WO31T4H/DnQ77TbLUvFvjLT7zU5jb2NvdfE/Xo5LuUKXKRK1+C7BVZsLk4BPas2y+Gnwi1LxheeErT4heJbrxVZp5lzocPxX1t76BMKdzwDUN6jDockfxD1FeX/GS58VRfHzwj4g1n4b+IL4Wfi2203w/eWl1pTWzWX2WdpTGHvElWWaQln3oq7LeIZ3L83RTfEb4afFr48WXhbTfFPhvRY/B1/qKNaxalBbajqGqzwSx3CW8G4OY0WeeSSXHzy7SM+W5pJ7XDudZ4Z+Gvwi8banqmm+G/iF4k1/UdJk8rULTS/ivrdzLZvll2zImoExncrDDYOVPoa6/9mPVr7Xv2cfhTqep3lxqOo3vhLSbm6vLuVpZp5Xs4meR3YkszMSSxJJJya8F/Z9tZbn4x+CNJ8M+PPDPxF8H+CvCV3pb6x4X0wxLAryWiW9tdXKXc0M07i3eQqiRlfLLbVEqivcP2Tf8Ak1v4Of8AYm6P/wCkMNV0TF1aPV6KKKBhRRRQAUUUUAFFFFABRRRQAUUUUAFFFFABRRRQAU1vu06sXxn4w0bwD4X1LxF4h1GDSdE02Fri7vLhtqRIB19yeAAOSSAMkgUntoBw+lftH+AtZttAmtNR1KWPXdZn8P6eW0K/Tzr6EuJoiGgGwL5cmXYBB5UnzfI2PTo23N618mfDXxNpHw0+JvxJvvGDGC8h0z/hONL0aF1m/syxvHkF1HGo6ztPCHlfJXM6qrbclvoT4a/EaL4hW+rbtG1Tw5qek3v2DUNJ1cQefbSmKOZQWglliYNHNE4KSMMNg4YMA1qroWz1Ozrx79oKwbXtd+EegSalrGm6brHiya2vxomrXWmTTxJomqzrGZraSOTb5sMT7Q2CUGc17DXlPxl/5KJ8Cf8Asc7n/wBR7WaBiL+zT4SP/MW8fgen/CxvEP8A8nUkn7Nvg6JGd9a8fIijJZviP4hAAHf/AI/q9Xry/wDag06/1b9n3x9aadBNdXMuj3Km2t1LyTR7D5kaqOWLJuUKOSTgdamT5VcZy/gv4ZfCP4kWdzd+EfiD4m8U2ttJ5M8+i/FbXLxIpMA7GaPUGCtgg4PPNaOqfA/4c6HfabZaj4t8ZafeanMbext7r4n69HJdyhS5SJWvwXYKrNhcnAJ7VxHhj4tfD+f4s6/8QPD+t6feeBrHwtpulahrWjr9pthdPeSfZrfdEG3SIsvKDmMTJuChhXJfGK48VRfHrwj4g1j4ceIL8Wni2207w/e2l3pTWzWX2WdpTGHvElWWaQln3oq7LeIZ3L81PRpEXdmz1Ky+Gnwi1Lxhe+ErT4heJLrxVZJ5t1ocPxX1t76BMKdzwDUN6jDockfxD1FM8M/Dv4O+Nta1LSPDvxG8Ra9q2mMVv7DTPizrdzPaEMVIljTUSyEMCvzAcgiuVk+K3w4+IXx6sNE0jX/D1o3gTUNQkGl29/bw6nq2sSwSpPBbW25XZFE07SSY/eSlcE7HNeDeFdWu/EXw9+weE9fs/GGtw/DTWLTRNK0KaOTUvBoeOJ/sd8YlBmnbEMCu4gYNa4EUjtLJUqWiuWz2b4teHfhs3wR+L2r/AA++JfiXVfEvhLw7qV2x0n4p6zeyaddRW0zRGaMX7BSHiPyyDBKMCDg19br1NfDeoeNP7X/Z/wDjbovhrx23xI+H9n8LLuSHUxa6fHFpl4bS5U2KNYwwxDEQjYwspeLC5OHAr7lGM1bViVqOooopDCiiigBr/dNeAeHPhvYfFD4o/GG417W/GH/Er8TW2n2VvpfjHV9Nt7eD+xNLn2JDa3UcYzJPM5O3JLnJr6Aryr4Of8lE+Ov/AGOdt/6j2jUAH/DNPhH/AKDHxA/8ON4h/wDk6o7n9nLwXZ28txca748ggiUvJLJ8SPECqigZJJN9gADvXrDV5D+0VbeI9Z0HSNE0vwhqfi3QNRvca/b6TcWUc5s0Uv5OLueFGSVwkb4Ynyy4xkgiJS5VoVFXepzGseD/AII+HfDOmeI9V+KGt6Z4e1MgWGrXnxd1mG0uyVLARStqIR8gEjaTwCan8UeAfg14HutLtvEfxJ8QeH7nVeNPh1T4ta1bPecqP3QfUQZOWUfLn7w9a8j8E/Hbw38Of2YPhvaa3a6X4X8V69p9xo2hnxbeWdrbCEhTPcSTrKypaj92zIWDuURQhJU1zHxQv/C3he1ufD+h+P8AR7LRE+G2m6SG1W9hkHjmxRrlUttNdQzJNtWWMyw+dk3ijyCwicadUjOMrq59NeI/gj8OPB+i3Wsa94u8ZaJpFqoa41DUfifr1vbwgkAF5HvwqjJA5PcVz8PhX4HXHg2fxdF8VNZk8KQTC3l11fi9rJsY5SQAjT/2jsDZZRgnOWHrWp8SfFnw+8X/AAv1vQPEviS48C2mlf2UNUuW2wSaLNK0M1qHlnieEfMIwWYMg6NivFvEnxMvLzQdCur3x9bXeiaZ492+Gfixq6WkemCBdNd3ku/KWO3uEMkl1ZK0XkBiRtkSRAWjXX8C0r2/E9Nfwz4a8N+N/gnr/gXxf4k1nStf8R3NnLNJ451TWbC+tf7E1SYDZPdSwuBLBEwYDIMYwa+jk69K+RPhfcw3Wl/Ax4Nl0p+JOtM+sW8m+31mRtI11pL+DCqohmdmdVUFVBwrOoDt9erVvR2Ji7oWiiikMKKKKACiiigAooooA8i87VM5+x2f43TEen/PLpQJtUOD9jtB1I/0tjj/AMhfyrzbx34m1fw98RNES28Q6isd7qNtAdLuNLSLSvs0gKSb714smckNsRJwxJjTyyCSUTxNq+m/GPTtJPiLUL20vpLpbmx1LS0s7GNRH5kAs5miVriVflDBZJQQJWITAA6F7zSRk9E2z1/wTJdN4wi+0Qwwj7BPtEMzSZ/eQZzlFxXpFef+Ff8AkcoM/wDPhcf+jIP/AK1d/WMviNFsLSGloqRkbDIFJ5Z6N+lS0UgGKpA9KGz6Zp9FMD5p+CWt/FO08M+IYfDfgzwhquir4y8U+Reap4turG4kzr9+W3wppkyrhtwGJGyAD8udo9A/4ST43/8ARPPh/wD+F5ff/Kal/Zp/5J1q/wD2Ofiz/wBSHUa9VoA8p/4ST43/APRPPh//AOF5ff8AympG8RfG4jB+HvgDH/Y933/ymr1emyfd460AeUf8JF8bV5/4V74BP/c93v8A8pqzNGj+LXh+41W4074ZfD23m1S6N9eyjx3flp5iiJuYnRyThI0UdgFAAAFc98VPFfjbVvFHxDh8M+L5vCdv4H8PQ6pBbw2NtcR6ndyLcSlbozRu3kBYEXbCYnO+Q7/u7e2+Iut+MfEnwHXV/AUd1F4q1C0srq2jsRa/aFWR4mlEX2v9xvERkx5h25xUcy5eYFq3FDP+Eg+NvU/D3wB7/wDFd335f8gaj/hIvjcckfD3wB6f8j3ffj/zB65nwhrF54w+HeuxXfxI8feDtX8MahKNcudcs9BXUbULAsvlSeXaS2jQmKRJVkiBPzYL8FRyc3ij4p6X+y3pnjK58Z3dvq01wupltR0uye/aynu4/stvIY40gRhbuBLiEsWYhWTGaqXu7iWpb1zXvjAf2kPA0j+BvA66kvhPxCsFuvjS8MLxG80XzWaT+yQVZWEQVQjBg7ksmwB/Sl8SfG//AKJ54A/8Lu+/+U1M1xt37UXw9Pr4M8S/+l2hV6zT2YRd1dHlX/CSfG//AKJ58P8A/wALy+/+U1B8R/G//onvw/8A/C8vv/lNXq1I3SgZ5QfEXxuYY/4V74AH/c933/ymrK16H4teKLe1h1X4Y/D29gtbuG+ijk8d3+0TROHicgaPglXCsMggFQcZAI7H44+OL34a/CTxV4l02KKfU9PsJJbRLhSYvOxiMuAQSoYqSAQSAcGuS+HN94s8K/FvUfBPiDxheeN7SbQLfWra+1KztLe5gl854Zo/9GiiRojiNlBQuDvBdhjCVm2JvlL6+JPjaf8Amn3gDpx/xXd9/wDKaj/hIPjdyf8AhX3gEf8Ac93x/wDcNXF+LfFfjbwb8cLi98S6h4z0z4by6pp1lpdxo8GizaRumWOPy7zejX677l/L3IAo3r8yjJF7V7bxhpn7QHhLw/pXxL8R6taXX2rW9a0vULXSTaWunICkUIMdkk4LzyxqhMpOyGbJJGaUdUvMbVro6ZfEXxtHT4eeAff/AIru+/8AlNTv2Tf+TXfg6cY/4o3R/wD0hhqv8Idf8Uz/ABK+JGheJPECa8mmS2Mlp5VjHaRW4mgLukaqWfbkZ/ePI2c/NjAFr9k//k1r4Of9ibo3/pDDTTUkmhXu35Hq1FFFMYUUUUAFFFFABRRRQAUUUUAFFFFABRRRQAUUUUAFNbpTqKAM/VdJtta0u8sLuCOe0uoXgmhmjWRXRgQVZWBVhgkYIIOcEEVy3wh+D/h34KeGG0Pw3aJBBLMbq5mW3gga4mKqhkaOCOOJTtRF2xxqoCjAFdzRRsAV4p+0dc63aeJvgpL4c07T9W1lfGc3kWeqX72VvJnQNYDb5khmZcLuIxG2SAOAdw9rryn4y/8AJRPgT/2Odz/6j2s0ANXxF8bgePh54B/Hx3e//KalbxH8bsc/DzwB/wCF3fH/ANw1er1wnxz8c3vw2+EninxJpsUM2pafYSy2iXCkxGbGIy4BBKhipIBBIBwaTdlcDjNej+LXii3tIdU+GPw9vIba7hvoopPHd9tE8Th4nIGj4JVwrDIIDKD1AI018SfGzkD4e+AOBj/ke77H/pmqj8N77xX4X+LeoeCvEHjC88b2kugW+tW19qVlaW9zBL5zwzR/6NFEhiOI2UFC4O/LsMY5nxd4q8a+DfjdcXviXUPGWmfDebVNOstLuNHg0WXSN0yxx+Xeb0a/Xfcv5e5AFG9fmUZYDVmo9xXuuY7T/hIfjb/0T3wD/wCF5ff/ACmoHiH42Z4+H3gH1/5Hu9/+U1czq1v4w0z9oDwl4f0n4l+I9WtLr7VretaXf2ukm0tdOTKRQqY7JJwXnljVCZSdkM2SSM1b8GfEXWfCniT4tHx34oj1PSfDa2d4ksdjHaxW0cluXeOJFLOQSBgO8jEnAboBN+nr+AP/AC/E5L9pjXfjBN+zf8V01PwN4ItNNbwnqq3VxaeM7yeaKI2cu90jbSUEjBckKXQEjG4dR9QIvOSMGvj3xP4y8ceJf2fP2prXxvcKLmz8OX8lppaW8cY0uGfRjMLUsmTIyb8M7McsGIwuFH2GtUtUn3Dq12HUUUUxhRRRQAjdK+dPB+rfEaw+LPxwj8I+FfC+t6afFlq0lxrXiW402ZZf7A0jKLHFYXAKhQh3bwSSRtGMn6Lryv4N/wDJRPjr/wBjnbf+o9o1ACf8JH8b/wDonnw//wDC8vv/AJTUh8Q/G49fh54Ax/2Pd8f/AHDV6tXlv7Qf/Cd/8Izo/wDwgP8AbX2z+1of7S/4R3+zft/2Ly5d/k/2j/o+7f5X3ucZxUt8o0Q/8JF8bccfDzwD/wCF3ff/ACmpP+Ei+Nn/AET7wD1/6Hu9/wDlNXE6140l1L4Anx3afEnx9oy6Fb3kV7AbHRU1K9vYpWia1nSSxkhWYTIYV8gKjEgjfkMbWr3nxO8EaD8G21vxolzqN1qWnab4gii0y3DX9xKkhn3SBQqxggBRFHG2VyXIO0O1tyL6aG1o0fxa8Pz6pPp/wy+H1vPql0b69lHjy+Zp5iiR72J0ck4SONAOgVFAwAK0l8Q/Gzt8PfAH4+O77/5TV13xI8bR/D3wjd6qbdr+9ZktdP0+Nwsl5dysEggUngF3ZRk8AZJ4BNeT/Cy+8deMfhJrS+J/iK2j6zpPiHUrXUfEWm6dZxFbe2lkXZCs0bwxICoG6RJDsVgTubzFm+/kV1XmVvFurfES++LXwPj8W+FfDGh6aPFl00dxoviW41GZpf7A1fCGOTT7cBdu47t5IIUbTkkfRlfMmheINe8Uab+zhqfiK4e+vp/GeoeVqEkCwSX1qNE1wWt08agKjywCKQqFUAucBRwPppatq2gk7jqKKKBhRRRQAUUUUAFFFFAHzdrfhHSPEGtG5vfGmoTaU15DfNoDXdsbNpoirRnJj81VDxo+xZAu4dCCQUt/COjr4jtNUvvGmoavBY3U17Y6ZfXlu0FrNIHXcrLGsrgLJIqiSVwFYjHC41dZ+I0Wg+JLbTLvQdYSwnu4bAa35UX2JZ5RmNP9aJWBJVN6xsgY43AhsSTfErSo/iJb+ChFdS6nNavePMkY+zxAbTsdyfvkMDgA8YJxuXdut1y7mUr2dzsfBeoWt94wi+y3MNwFsbjPkyBtuZIOuPpXo9ef+FT/AMVhb+p0+f8A9GQf5/GvQBWUtzReQtFFFSMKKKKACiikbPagD5r+CX7Qnws8DeF/EOieJPiX4P8AD+tWvjPxV5+napr1rbXEW7X7913xvIGXKsrDI5DA9DXoH/DWPwQ/6LJ8P/8AwqLH/wCO16mue9OoA8q/4ax+CH/RZPh//wCFRY//AB2mv+1h8ENvHxk+H+f+xosf/jter0UAfKnxG8Yfs+/EXXr7Um/aE8P+Hl1XTl0nWrTRfFulRxavZqzssU5kDuhAlmUSQNFJtkYbuFxJD8WPhVdHxgs37SvhfQYtTv7WTR10Hxhp+NItreKJUSJJzJFmRkkMimNkIcDBI3H6nopW0sB8pyeLv2eLzwH4h8MX/wAe/Dept4lulute1i48W6Wt5qmBGjRylNsaxtDCkBSKNB5YIAViWrS+MHxR+B/xg8MpoMv7R/hzwxp2QZ49E8S6Lm52srIHNwk2ArICNm3OSDkcV9NUUNX3Drc+Tx+0R8JdN+PHw7nm+NXhLXbWw8Ha/Z3WuXniHTQWmkvNGaMStCUiV3EUrBVVciNyBhTj1r/hrD4If9Fk+H//AIVFj/8AHa9WopiStojyr/hrH4If9Fk+H/8A4VFj/wDHaQ/tYfBD/osnw/8A/Cosf/jterUUDPD/ABl+0J+z9488Kav4d1n4ueAbnStUtZbK5iXxVZIzRyIVbDCXKnBOCOQcEV5VdeKvhJaaZfGx/ag0HVPEmpS6da3PiXWPGGmR3tvpttcCZre3FoIUBbMoLFdzGUl2cKq19i0UAfLuvfEb4G+KPFH9oav+0jomoaCb631L/hE5vFmkHTRcQ7GiYNt+0bVkiSXy/O8vePu4O2uh0L44/APQfGniXxQnxr8F3Wqa8LaOZrrxXp7LBDAhWKCEBxtQM8snOSWmc5xgD6BooFY+WPAfxE+DPgXx1rnihv2odG8Q3OshBeWWqeI/D62zlFCRMPIgicFFG0fPgg/NuPNeofsm/wDJrnwdP/UmaN/6Qw16q2ccdaFz36UklFJLoPq2OooopgFFFFABRRRQAUUUUAFFFFABRRRQAUUUUAFFFFABRRRQAUUUUAFeKftHeLND8D+J/gnrfiTWdP8AD+i2vjObz9R1S6S2t4d2gawi75HIVcsyqMnksB1Ne10UAeVf8NY/BD/osnw//wDCosf/AI7WN4y/aE/Z98eeFNX8O6z8XPANzpWqWstldRL4qskZo5EKthhLlTgnBHIOCK9uoo33A+OrrxV8JLTTb42P7UOg6n4k1KXTrW58S6x4w0yO9t9NtrgTNb2/2QQoC2ZQWK5YykuzhVWuk174jfAzxR4oOoav+0jomoaCb631P/hE5vFukHTRcQ7GiYNt+07VkiSXy/P8vePu4O2vqGijrcPI+ftB+OHwD0Hxn4l8UJ8a/Bd1quvC2jma58V6eywQwIVighAcbYwzyyYOTulc5xgDitB8R/AKy8ReJ9R1/wDaO8N+OrLxJGkeq6H4k1vw7Np9yEAWPdHHbxsdigAAtg9WDHmvrailZAfCvxN1H9mD4ffBf48Xfw98Y/DWz17xP4T1K1jsNE1TTI3LfYHjS3t44SGw7qrFBnc5yBk190LQ+cYFIuc8ijbQB9FFFMAooooAQ187eEfjd8Ovhr8Wfjhpni7x94X8K6lN4ttbmOz1vWbazmeI+H9IUSBJHUlSyMNwGMqR2NfRDduKRchuemPSgDytv2sfgh1/4XH8P/8AwqLH/wCO1yvjz4+/B3xlZ2SWH7R3h3wfd2s/nLeaF4p0gu42MpjdLkTROnzbuY8gopBGOfoGilYZ8vQ+OP2cIfDPhzQj8bfCUtjpGsrr83meL9PZ9UvhI85lu2LfPm4fzyE2DeiYAUbKPir8S/gx8VL/AES4P7TuieF4tIuY763tdE8SaCYzcxltkzG5hmYsAxG0MExjKk819Q0U3ruT5Hyxb/Ev4E+JLrxcnxA+MPw08c6Lq19bzWWia14h0+8s7SKGFI1YRSPsEruJJGKqBlwB0yeUudE/ZYtfBWoeF/DXxp8G+BbDUNc/t27bw3r2hQG5ZXZ47aVHieOS2Qt8sToQAqg5GQftKilyoZ8sf8LR8EeJvH/wL8P6D8X9J+KOt2/i68upZo9V024vfJ/sHVxueOySNAil0XcIx94ZJJr6lWh87eOtIuR1GKe7uLoPooooGFFFFABRRRQAUUUUAfKvjvw/rviPxzps1n4c1SK7sNStZbfW5dVim0oWyspldrR5iRMUaVAVgLA7CJAORQ0f4V+NtB+J3h7UzrOk6ppyT6jc312NJaG4JnMXyuxuyGYqgRGVMIsYypGBXrn9m3H/AEFbz/viD/43R/Ztx0/tW7IJxykP5f6v6VvFcri10M5O913RueFOPGFv/wBeFx+kkFegD1rznwXay2/jKLzLua63afPjzQg2/vIem1V4/DtXo9ZS3KjsFJS0jVJQbh60ZqNuxA75ridD+LWj+JPGXi7wtpkV1d6n4Zgt5roqEEcxm84BInL/ADMrQOrZwAw25yGCq/T5gd1mjNeP3/xr1eTwp4ZudH8NWd94l8QaldadbaXeaq1vaxm3Fw8sj3IgkYLstmwBESWdRwMsO9+HvjC3+IPgXw94ns4Xt7XWdPt9QihkxuRZY1cKexIDD8qq3UVzpKK+ffht4b8bfE/Stb164+MPjDRP+Km17ToNP0ux0T7Pb29pq93awohm06SQ4jgTJd2JOSTzXWf8Kb8Xf9F2+IH/AIA+Hv8A5VUhnq1FeU/8Kb8Xf9F2+IH/AIA+Hv8A5VUf8Kb8Xf8ARdvH/wD4A+Hv/lVQB6rmjNeTn4PeLt2P+F6+P/8AwB8Pf/Kql/4U74t2g/8AC9fH/wD4A+Hv/lVS8wPV80Zryj/hTni3HPx28f8A/gD4e/8AlVQfg54t/wCi6+Pz/wBuPh7/AOVVMD1fIor5z1Twj47sfjN4W8IxfHDxudN1Xw/q+qzytp+gGZZbW402KNVP9l4Clb2UsCpJKpgjBB7YfBvxd/0Xbx//AOAPh7/5VUeoHq9FeU/8Kb8Xf9F2+IH/AIA+Hv8A5VUH4N+Lv+i7fED/AMAfD3/yqoA9VzRXlH/CnPF3X/hevj//AMAfD3/yqpF+Dvi4/wDNdfH+f+vHw9/8qqQHrNJXlP8Awp3xb0/4Xt4/z/14+Hv/AJVUn/CnfFvP/F9vH3XH/Hj4e/8AlVQB6vkUV5Ofg74ux/yXXx/x0/0Hw9/8qq1/2efFGp+N/gJ8NvEet3P2zWdX8M6bqF7c+WsfmzzWsckj7UAVcszHCgAZwABQB6FRRRTAKKKKACiiigAooooAKKKKACiiigAooooAKKKKACiisTxZ418P+BNPhv8AxJrumeHrGWdbaO51W8jtonlbO2MM5ALHBwvU4oA2tw9aKxNF8beHvEeq6tpmk67pmp6npMiw6jZ2V5HNNZSMCVWZFJMbHBwGAJwa2fxpB1H0lGa8q+Omoa//AGt8MdB0HxPqHhL/AISLxNJp97qGlwWktx5CaRqN1sQXUM0YzLaxZOwnAIBGaYHq1JXlP/Cm/F27/kuvj8f9uPh7/wCVVKfg34u7/Hbx/wD+APh7/wCVVAHqtFeUL8HfFvb47eP/APwB8Pf/ACqo/wCFO+Lun/C9vH//AIA+Hv8A5VUgPV6MivJ/+FO+Len/AAvXx/8A+APh7/5VUo+Dvi3t8dfH/wD4A+Hv/lVQHU9XyB1NLXzn8bvCXjv4bfBnx74t0z44eN7jUtA0C/1W2hu9P0BoXlgtpJUVwulqSpZRkAg4zyOtfREed3TjH0pgSUUUUAFFFFABSZ7d6R84GPWvCtJ0vxj8SviR8Uo4/il4o8K6boGv2+lWOm6LZaQ0KRHSNOumJa5sZpCxlupTkvjBAAGKAPdqWvKP+FN+Ls/8l2+IH/gD4e/+VVDfB3xcP+a7eP8A/wAAfD3/AMqqAPVsiivKP+FOeLf+i6+P/wDwB8Pf/KqgfB3xb3+O3j7/AMAfD3/yqoEer5FG4eteUH4O+LRj/i+3j/r/AM+Ph7/5VUD4OeLD0+O3j/P/AF4+Hv8A5VUhnq+aK8I1jSfGHw1+I3wtST4p+KPFOm6/r9xpV9putWWkLE8Q0jUbpWVrawhkVhLaxHIfGMgg5r3WNcdsDGBTAfRRRQAUUUUAFFFFABRRRQB8gfFLSdPtfHGkeJ4NK0n/AEfXbC3u/ENpd+brEMrMkK2ixlFCRMJEDgSk7JHbyiTmo9I8KWnw9+KWm6vBD4Y1+PxVrV9HHqEGlCPVbRmSWZv9KEr+bGnlvGy7VxuHoQfSpvC2hTeJE8QyeCbaTX0GF1VrW0N0MKVH73du+6cDn2pdL8NaHoet3ms6d4Kt7DV7zcbq/tbW1juJ8tvbfIrhnyeTk8kd63juvIylqjuPCpz4xgP/AE4XB/8AIkH59q9ArzjwXcSz+MIfMtJrUrYT/wCtZDu/eQdNrHpz19a9HrOe5cdgpGpaKgo4v4teLtR8FeB7y+0fTbzVdZmdLSxhtLCe8CzysESSVIVZhChO924AVTzkivE/gp4E8SeF/jf418O+JZ5dWtJ/COm2n9vaP4evtFtZ5EuL15R9peeUPcn7X5jSRSqcyE4DKxr6gopR0bfcdzy2H9m7wND4Qh8NC11p9Nhv21O3ll8S6nJeWtwysrPDdtcefEGV3BVJAp8yTIO9s+h6Jo9n4e0my0zTrdLPT7KFLa2t4xhYo0UKqgegAA/Cr9Nf7pGM09dhHln7NP8AyTvWP+xz8Wf+pDqNeq180fBH4k+I/D/hnxDYWHwo8YeJrWHxl4qCappd3oyW8+dfv2OwXGoRSjBJU7o15U4yME+g/wDC5PF3/RCviB/4HeHv/lrQB6tTJPu4xmvLP+FyeLv+iFfED/wO8Pf/AC1pG+Mni/b/AMkK8f8A433h7/5a0AePfHbw74Y8X+MvjPceN7e0uJfDPgq2v9AnviA+lbhetJeWjHmGUywxgyx4fMUYzwK9K8bfFPUtD+C8f9n/AGvUPGi29hYX8ek6fNql1pM1xGm65ntbcPNiNS0u3blsKM85rP8AE2sDxrqulan4h/Zh8Ra7qekyeZp95qaeGLmazbKtuid9TLRncqnK91B7CpPDXirWfC+seIdWtPgV8RJdR1+8F5e3E+oeHmdmWNIo0X/iajaiIigKPVjyWYmOX3eVsL2dzyf4KXHwrg+AvijSPEWhajq3hnSfGN9Ha6T4j0W8Emp3ElxILaEQXUa/a52Jz5bBmWTDOEZQRb1j9nvV9G+HfhG88RaB4N8T+GfDmmatNfeEPGeotBpejrNOLiGSOVbW5RjaQB7YEoAEyUZRkN6H4juLTxhpTaXr37LOva3pjXj6gbPUYfC9xCbls75yj6mR5h3Nl8ZO45PJrM/sHw61jpNl/wAMh6j9j0iVp9OtvsHhTy7KR2Du8K/2jiNmZQxK4JIBPSnv87AtLW6FL4D3esX3iT9nu6183B1af4YazJObpmaY5uNAK+YWAYvgjJYA5zkCvqJa+X9d+K3ihv2kPA10fgz43jnj8J+IIksWvdC86VWvNFLSqRqWwKhRVYMwbMqbVYByvpa/GTxd/wBEK8f/APgd4e/+WtW9XclRser0jdK8q/4XJ4u/6IV8QP8AwO8Pf/LWj/hcni7/AKIV8QP/AAO8Pf8Ay1pFEv7Tmqahov7P3j6+0y4msrqDRrlzdWzlJYIwh8yRWHKsqbmDDkEZHSvP/h/pHgX4N/HDXrLwwmjeEfB7eFNOvdQhtJI7WxS6kupYraZlBCCWVAV3n5pPLQEnaK7ab4veK5o3ST4EePniZSrK174eKkHqCP7V6V5+2h6db+F/+Eb0n9mLxV4b0CTUbfU7nTtCPhixgu5YZEkQTJHqQDrujj3D+ILgkgkGY3VxOzscR8avH8N9+0P4L1DXNK8WWkHhrxZBp2kW8fhjVJbadGtJzc3iTRwNDMzsY40VSXVIpW4DsB6A/wAP/DXin4/xan4C0620vVtDmvj4p8YWcame4uJ7dkj06Sc5adkaWOYoxKwi3hTC5VV62++JPiDVGtGvf2fvG141nMLm2ae58OuYJQpUSITqp2sAzDcOcMR3NchaaPoNh4pbxNbfsjanb+JGme5bWIrLwqt4ZXzvk84alv3NlsnOTk880JcvyHdnGfAvwJrnwm+PvhLwpP4e8LaZqK+EryfxFrHhvUpri411lmtUhvtRje1iKzPL9oZGeWZjuuBuOCT7j+yf/wAmufB3t/xRuj/+kMNcx4K1Zfhtb3Vv4Q/Zh8SeFoLqQS3EWhp4Ys1mcDAZxHqahjjjJrpf2Tfl/Zb+Dv8A2JujHP8A24w1fRLsLrc9YooopDCiiigAooooAKKKKACiiigAooooAKKKKACiiigBK8c/akt7jX/hu/h3Q7eO/wDGt5PFe6BaswAW7tJUuY7iTusUTxxl277lQfNIoPsTDcMEZFZFx4T0a48QR69Po9hNrcds1lHqT2yG5S3ZtzRCUjcEJAJXOCQDipeuhUWkzzb4Q+J/B+k/D/w34ii1Nbm88dSW+oSakbcibULudI1DOqA7FUGOIBvljCxoTnGetHxa8Mf8J8fBYvp/7fDeWY/sVx9nEvkibyPtOzyfO8oiTyt/mbDu27ea57xt8IdQm8MeHNB+Hd34a8BaZpF/HqC2Unhxrm33RyiVUjigubdYwX3FvvZ3cYPJqw/A2/i+Ko8Sv4jhk8PLrDeIk0X+zsXC6g1g1izC683HkmJmbyzEW3nPmYwtXfmkmzOOkddz11W59q8s+Mn/ACUT4FH/AKnO5/8AUe1mvUxwK8X/AGjNYvPD/if4J39hoWoeJbuLxnNs0vS3t0uJs6BrCnYbiWKIbQSx3SLwpxk4BRR7VXmH7T2qahov7P3j6+0y5msrqDR7l/tVs5SWCMIfMkRhyrKm5gw5BGR0qBfjF4uXp8CviBj/AK/vD3/y1ps/xe8VzRNHL8CPHrxsCGV73w8QQRggj+1elJq6A4bwBpPgb4NfHDXrLwwmjeEvB7eFNOvdQgtJI7WwS5kupYraZlBCCWVAV3n5pPLQEnaK8/8AjV4/hvv2h/Beoa7pXiy0g8NeLIdN0i3j8MapLbTI1rObm7SWOBoZmdjHGiqS6pFK3AdgO3bQ9Ot/C/8AwjekfsxeKvDWgSahb6nc6doJ8MWMF3LDIkiCZI9SAdd0ce4fxBcEkZB7a++JXiDVGtGvf2fvG141nMLm1ae58OuYJQpUSITqp2sAzDcOcMR3NLrzE20szkpPB/hLUfj+niHwdpVtp934Zmvrjxf4ssod1xdyS27Aaa83L3DKZEmKHcsIghQAZVV+dvDS3/wv8CyeL9H03T9G1rWvhvrWo+Hdb0OFUv8AXyscVwL3WQrMxukRoWUo0ymR52MkfmJFX0RY6Voem+Lj4ptP2SNUtfExne5OtQWXhVLzznzvk84alv3NlsnOTk+tXvClxaeA9Q1C/wDDf7LGveHr/UBi8utJh8L2styC27EjpqYL/Mc855OaEmrXL6HjWtaTD8Pfg58evCUemeCp5b34V3Wvvr/hHQ5NOmug9teRqL1pLi4e4dsNIszy7m3SkjPzH7oH3q+PfjLqK+CP2Yfi7o/hn9nTX/AWlX3hjVmuZrFPDtraxs1lIrTypbaiWYKoBJVGYheAeBX2CtW3ckfRRRSGFFFIaAAmvKvg5j/hYnx1/wCxztv/AFHtGr1Ns44r5Wsfj0PhX8ZvjXpTeB/E3ibz/FFpdfa9FfTxCmdB0lfLP2i7hfcNmeFK4Yck5AzqVIUo89RpLzJlJRV2fVLfrXj37Snii40vw1pmgrZeITp3iG6NlqepeH9GvdRlsrIIWm4s43kR5QPJR8DaZC+fkrmf+Gx0/wCiSePf+/ui/wDyypG/bGjYYPwk8e/9/dF/+WVcE8bhJRs6sfvRMcRTjrzHmngD/hXfi39kr4cabrPgxPGWqGzl0jw54X1rTJI/tN4U5eKG4RVCooBN0FIiTzMOMsGwfjT8ObidtQ0a/j0zxxeeB/h3p8eu6t4hhT7VpABnLajpEkjj/THSCdjvMS7o7Ymf920Z7LxB8VPht4u07TLHXf2ZtW1ux0tGSwttQ0rw5cRWisRuWJXvyEBKjIXGcCm6h8TvhlqyaIl7+zFqd4uhxrDpQn0nw5J9gRWyqQZvj5ShhkBMYIzWn9oYTmu6sfvRCrU0rc66nr3xO0nw/wDHT4P3/hC38T6ZaSXq6cHOsRJeFGd4p4Yrm2MkZYyqoBjLKWDnFea6DYeANF+EvxJ0vx/8Ofh9qOifDvVpnaHQ/DcMOl3s/wBjhmWSGzlMgiuSJxAy73JYcN820Z7fGHwfeR+LI9W+BnjLxFD4ou47vVbfWk0G6iuNixpChje/K+XGIk2rjggt95iTp2P7QPhHTPDNn4ds/gB4ltPD9nIk1rpUFroCWkEiSiVHSIahtUrIA4IAIbBGDS+v4T3r1Y6+aH7alolJaEvg34Vj4P6L+zloUljY6dqM3jS+1LUbXTbdILaK7uNB1qWaOKNPlWNGfy1A4CotfU4NfKd58eF+KXxm+CekjwN4m8M+T4ou7r7XrT6eYW26Dqy+WPs93M+4788qFwp5BwD9VrxxXZCtTrLnpyuvLUuMlJXQ6iiitCwooooAKKKKACiiigD5k8VfEHWPD/xI0rR4NT8P3y3t3DD/AMI5Gkj6s1u6nfdlhKFREYMxBiKlUOXDMAM7wr8aJfFPjxrQajbaZo39pXOlW9tcaHfM97LB5itsvyUtgxaNiI1VztTBO7IToPFXw81zxbq0UN74itG8Mx6jbaklgdK/0yNoGSRI0uBMFC748nMRba7LvHBFHT/g9dWetwCTXlm8MWusy67aaWtmUuFuZGdislwZCrxCSWRwoiUglQWIU7t433Zk+x614V/5HGAYwPsFx+H7yDj+X6V6BXn/AIVG3xlAO32C4xn08yDFegVlLfQuOwUUUVJQUUUUAFFFFAHlX7NP/JOtX/7HPxZ/6kOo16rXlX7NP/JO9Y/7HPxZ/wCpDqNeq0AFMk+77U+mv93pmgDwf4o/Fbx1Z+I/GVr4JTw/HaeC9Ei1nUU1u1mmk1N5BM4toXjljFviO3OZmWb5pV/d/Id3T/E74h69pvwRfxb4N006hq1xbWdxa2rabPqJWOaSIO32aBlllKRu7bEIJ21lfEr4F634s8Sa/qHh3xfB4YsvFGkx6Lr9vNpP22WaFDKFltZPORYJvLnlTc6TL9w7PlO6/pvhP4gx2viqz0vX7PwzZQ3lnb+F4bvT0v4razgihEvmojxO6zMJQF81XQbWDD7ozs3BJvUF8VzJ8G+NfF3xG+Hs97oPj3wr/bWn6jLBqVzqHgnULRLZUQEwS6fPfxzwSjcr7pHwUZSEwQ1clH8bPihH+zrp3xCe38MTzXF0bgXEljdWqS6c12kdq6WhmkYPNCwky0+I9y/K/Irs5vgHqmpfD/xxpGoeLVPiDxtdLLrmsWOnGCLyfKht3htoDM5hzbQiMO0kjBmLktwo1fjV8Kdd+IvgGLwn4Y13R/CmnN5aT/bNEe//AHcTxvEkKpdQCMApg53Ag4AXGaqd9eXuhLsQa2d37UPw9Y9T4M8SH/ye0KvWhXjLw6jbftGfDGLWLu1vtTTwR4kW5uLK1a2hkcXuhZZImkkZAf7pdiPU17KtU9xR+FDqRqWkago4/wCLfj3/AIVh8NfEnioWn2+TSrGS5itN/lieQD5Iy2DtDNtBODjOcHpXKfDnxl43t/iPqPgrx1PoGp3i6PBrNnqPh+ymso9ryvFLA8Us0xJRlQiQONwfGxSuT2vxG8D2fxK8B694Wv5JoLTVrOW0ee3IEsO9SBImRjcpIYZGMgda8ruPhX8S9Na+18eLrDW/Ht+unaNFqljo6afZ6fp0dyJbmT7PLNOZJXVpc4bBIiCrHgtUK+rB+RBrXxm8UaP8erjw5q2o2Phbwj9vsrPTptR8HalOmqtNErMi6qs6WkMhlJiRXViWwMMSAb+seKvidoHxo8I+Gf7d8K61pmt3F3d3FlbeGrq3ubLTIVyZWuTqDoX8yS2iB8kBjIzADaRW14y+FPivx5rptdY8YWMngP8AtOz1QaNDohTUN1s8U0cX20XGzyvPhVz/AKPvK5XePvV0Gg/DltL+Jfifxne6h/aN5qlta6fZw/ZxGNPs4QzeUG3EuXmklkZvlzmNcfICaj7trky1vbyMT4U+O/FfiLx1480DxRbaPatoktobWPSDK4RJod5R5ZMeawI++I4xzjbxkt/ZO/5Nb+Dn/YmaN/6Qw1X+Hfwt8beFfiR4n8T674u0HWLPXxCZ7DT/AA5PZSRtEnlxFZXvphjbncDHyeRt6VP+yb/ya38Hf+xN0b/0hhpRvyrm3H9qR6vRRRVDCiiigAooooAKKKKACiiigAooooAKKKKACiiigApDS0UAMI9qVfpTqKAEryr4yf8AJRfgV/2Odz/6j2s16tXlPxl/5KJ8Cv8Asc7n/wBR7WaAPVq5D4uePR8L/hp4j8VfY/7Qk0qykuYrTfsE8gHyRlsHaGbaCcHGc4NdfXNfEjwPZ/ErwHr3ha/kmgtdWs5bN57cgSRb1IEiZBG5ThhkEZAyDUyvbQZw/wAOfGXjeD4jaj4L8dT+H9TvF0eDWrPUfD9jPZR7XleKWB4pZpiSjKhEgcbg+Nilcnmda+M3inRfj1ceG9Y1Gw8LeEvt9lZ6fNqHg/Up01VpYlZkXVVnS0hkMpMSK6sS2BhiQDYuPhX8S9Oa918eLtP1rx5frpujRapY6Omn2en6dHc+bcyfZ5ZpzJK6tLnDYJEQVY8Fq6Hxh8KfFfj3XvsuseMLGTwINStNUGjQ6IU1DfbPFNHF9tFxs8rz4Vc/uN+0ld4+9VfaT7E9LPqY2seK/id4f+NPhHwydd8K61pmuXF3d3FlbeGbq3ubLTIV5la5OoOhfzJLaIHyQGMjMANpFanw/wDih4hn8S/Eex8broel2nhn7PcrJprStHBBJAZX82aTHmFdpO8RxjBxt4yem0H4ctpfxM8TeM73Uf7RvNUtrXTrOH7OIxp9nCGbyg24li80ksjN8ucxrj5MngNP/Z71/WNf8dP478S6J4k8N+MIYodQ0nStFu9LmHlIEi2XK6g7KMD5sKCx5BUcVGt7eT/4APr8jz3xj8WvEvxO/Zx/aZj8Q6Va6Nb6d4Z1H+zLSKOVblbSbSGniNzvP+uKyAsqqoQkryV3H65FfKnxZ/Z/0z4T/A/9pHxDY6xrmof294P1Irb6rrN9feQsemOhy1zcSea5KZEhAZVwgO0V9VLVL4V6B1fqOooopjCkalpDQA096+KfEX/JdvjL/wBjFZ/+mPS6+1j3r4p8Rf8AJdvjL/2MVn/6Y9Lr5TiSLll0klrdfmefjk3Rdu4+uL+KviXXfC+j6bNoUHmS3GoRwXMp0m51P7PAUdmk8i3ZZGwyoODj5q7SsbxNY65e29sdA1a00i5jl3y/bbA3kMybWG0oskTAglWyG/hxg5r8nw9OUasXKN157HzsFaSbRxt94y1e4+G8fizTvFmgHT7S0mub68k8P3EgkMZYlUh+1o8LrtZWjYsdw7EYqKbxp430rS/AM+rWWj28+rXFrbatGqyl45ZgxaONCxC7cD52d8nI2jg1oD4Sh/C2naFNqrTW39r/ANr6qzQD/T5DO1w8YG7EcbTFTjDfIu3JJ3Va+IfgzxB4uutGbTNd03SrbTbuK/WO80mS6d5o92PmW5jAQhsFQuePvDOK9PlpXUIxVrvVrpb07mlk9Ejo/Euv23hXQbzVboOYbWPd5ca7pJWPyoir3ZmIUDuWFec6L8SPEV58P7rVda1Hwv4Q1Gz1e4sLy71EyNZW8ccjKAMyxmRi21cl0ByxGeFO/L4KvvGk2tW3i+SSXSVv7eXSoLK4e1khMUa5mEkDq4LSl2CliQAOQeBQ8N/CfUvAmmXsPhjxNNbXN1qk1/KdYWfUoWjkLkRFHuA25SwJkV1LFQWDdKzoUKUI8k/iuntpb1/4A4RjHRnQfBPxHfeLfHvwC1bUbZLW7utdvWZYlZI5ANF1ULKityqSACRVOSA4BJ6n79WvgX4PeD18D/FL4K6X9pF3K3inU7ueVIvJRpptH1aWTZGCQibnIVckgYySck/fS4r9RyFRWD9xaXf5nu4FWo282Oooor6M9AKKKKACiiigAooooA+erzxX4K0/xRF4fuII49RkmW2Df2VKbYTsm9IWuPL8pZCu0hC4J3Lgciqv/CdeCY9ftdFl0y+tby7ums4GufDN5DBNKqsxCzPbiNvlRmB3YKqSDiuc+JF1fa1410qysovEl1dWGrWLJo9zpLf2PNGsis10btIwAY0dmCvPw8QHlMcZ6aLTbrxN8XpNSvLSeDSvDVoLfT2niZFmu5wDNNHnhgkYRAwGMySjPFbxd7GctGz0XwXp9rYeMYxbWsNsWsJy/kxqu4+ZBycDnr3r0evP/CvPjCDP/Phcf+jYK9ArKW+hUdgoooqSgooooAKbICy4FOooA8y1T9mX4P69q15qep/CjwRqOo3kz3N1eXnhyzlmnldizyO7RkszMSSxOSTk1W/4ZO+CP/RHPh//AOEvY/8AxqvVqKAPKf8Ahk74I/8ARHPh/wD+EvY//GqP+GT/AII/9Ec+H/8A4S9j/wDGq9WooA8p/wCGT/gj/wBEc8Af+EvY/wDxqj/hk/4I/wDRHPAH/hL2P/xqvVqKQHlH/DJ/wS/6I54A/wDCXsf/AI1SH9k/4JY4+DfgDP8A2K9j/wDGq9YopgeTr+yf8E8nPwc8A/8AhL2X/wAap3/DJ/wR/wCiOeAP/CXsf/jVerUUAeU/8MnfBH/ojnw//wDCXsf/AI1Qf2Tvgj2+DngD/wAJex/+NV6tRQB5R/wyf8Ef+iOeAP8Awl7H/wCNUf8ADJ/wS/6I54A/8Jex/wDjVer0UAeUf8Mn/BH/AKI54A/8Jex/+NUv/DJ/wS/6I54A/wDCXsf/AI1Xq1FAHk7fsn/BLjHwc8Adf+hXsf8A41XpWjaPZeH9Ms9N0yyt9O02zgS2tbO1iWKGCJFCpGiKAFVVAAUAAAACr1FABRRRQAUUUUAFFFFABRRRQAUUUUAFFFFABRRRQAUUUUAFFFFABRRRQAVzvjj4e+FviVpMWmeLfDWj+KdNhnFzHZ61YRXkKShWUSBJFIDBXcZHOGI7muiooA8oX9k/4JZ5+DfgD/wmLH/41S/8Mn/BH/ojngD/AMJex/8AjVerUUAeUf8ADJ/wR/6I54B/8Jex/wDjVH/DJ/wR/wCiOeAP/CXsf/jVer0UAeT/APDJ/wAEf+iOeAP/AAl7H/41S/8ADJ/wR/6I54A/8Jex/wDjVer0UAeUH9k74In/AJo54AH/AHK9j/8AGq9UVcEnGKfRQAUUUUAFIaWigBjA8VwHib9n34X+N9cudb8R/Dbwlr2s3QT7RqGqaFa3FxLtUIu+R0LNhVVRk8AAdq9Copb6MDyr/hlL4Kf9Ef8AAX/hM2X/AMao/wCGU/gp/wBEf8Bf+EzZf/Gq9VopcqFZHlX/AAyn8FP+iP8AgL/wmbL/AONUf8Mp/BT/AKI94C/8Jiy/+NV6rRRyrsFjyr/hlP4J/wDRHvAX/hM2X/xql/4ZS+Cf/RHvAX/hM2X/AMar1SijlXYLI8+8M/s+/C/wRrltrXhz4beEdB1q13+RqOl6Fa29xFuRkbZIiBlyrMpweQxHQ13ydTxin0U9th7BRRRTAKKKKACiiigAooooA8i8nVP+fyz/APAN/wD47R5OqDn7Zaf+Ajj/ANq15d8S/tmg+PNC1aGTxFZQSapZpNq0mpMdJihkIhNr9kSQktIxA8xocK0oYygLgcx4a1rU5viZp+oS6lqn9m3PiC+tV1z+0biTTNRjHmrFZJZn5IXVhjzdgUm3ysjtLtHQndpLqZS0TufRvgtLuPxjF9qmhlzYT7fKhKY/eQZzlmr0cGuA8K/L4wg6f8eFwPriSD/69d+DWUtGXHYWiiioKCiiigAooooAKKKKACiiigAooooAKKKKACiiigAooooAKKKKACiiigAooooAKKKKACiiigAooooAKKKKACiiigAooooAKKKKACiiigAooooAKKKKACiiigAooooAKKKKACiiigAooooAKKKKACiiigAooooAKKKKACiiigAooooAKKKKACiiigAooooAKKKKACiiigD52uvA/hO+8RNrU9jqkl21wl68O+/+xvcIAEma1DCFnXYhDlCQUU9Vpmn/AA/8H6Zrkeq2+m6otzHcyXsVu730lpDPJuLyx2zEwo53udyoD+8b1NTeKPHmseFvEmnQ3GgW7eHr3UINNi1D+0sXbSyjKulsIyDGG+UnzQwCu2zaMtl6D8YbnWNW06STQ4bfwxqmqXGj2Go/bS9y1xEZFPm25iARGaCUAiQtwmVBY43j0SM5eZ6l4Lvo7zxlEI0mUpYThvNheP8A5aQY+8Bnj0/rXo+K8/8ACv8AyOFvx/y43HHp+8gr0DNZS3KjsLRRRUlBRRRQAUUUUAFFFFABRRRQAUUUUAFFFFABRRRQAUUUUAFFFFABRRRQAUUUUAFFFFABRRRQAUUUUAFFFFABRRRQAUUUUAFFFFABRRRQAUUUUAFFFFABRRRQAUUUUAFFFFABRRRQAUUUUAFFFFABRRRQAUUUUAFFFFABRRRQAUUUUAFFFFABRRRQAUUUUAFFFFABRRRQB8u+Lvh3rvibxxbahFpfhyxa3vbeSLxVbzSxaulrGyvJbbVi+dZCJEOZghWQ5jOMGI/CNtZ+Kmn+J73wx4W0NNMvJr0X+l/vtQ1ORkaNDO5gjMahXLsoaTLBORsyfWaK6I6NGT1L3hX/AJHG3/68Lj/0ZBXf1wHhX/kcoP8ArwuP/RkFegVjLc0jsFFFFSMKKKKACiiigAooooAKKKKACiiigAooooAKKKKACiiigAooooAKKKKACiiigAooooAKKKKACiiigAooooAKKKKACiiigAooooAKKKKACiiigAooooAKKKKACiiigAooooAKKKKACiiigAooooAKKKKACiiigAooooAKKKKACiiigAooooAKKKKACiiigAooooAKKKKAP//Z)"
      ],
      "metadata": {
        "id": "CabFsNwf2K5R"
      }
    },
    {
      "cell_type": "markdown",
      "source": [
        "## Práctica 3.10\n",
        "**Tendencia del mercado**  \n",
        "Resolver con **Python**.\n",
        "\n",
        "En el mercado de automóviles de gran lujo únicamente se disputan la clientela dos marcas (A y B). Las ventas son $M=100.000$ automóviles anuales, no variando esta cifra con el transcurso de los años. La marca A es líder de mercado en este momento con el 75% de las ventas. Sus directivos desean consolidar su liderazgo e incluso aumentarlo, para lo cual todos los años efectúan una fuerte campaña publicitaria con la que consiguen cada año un 40% de los que fueron clientes de su competidora, aunque la empresa A pierde un 20% de sus clientes que se van a la competencia.\n",
        "* ¿Cuál es la situación a los 3 años?\n",
        "* ¿Y al cabo de mucho tiempo?"
      ],
      "metadata": {
        "id": "lllngWn__QP0"
      }
    },
    {
      "cell_type": "markdown",
      "source": [
        "## Planteamiento y resolución de la práctica 3.10:"
      ],
      "metadata": {
        "id": "EPjjHY4j23xW"
      }
    },
    {
      "cell_type": "markdown",
      "source": [
        "![GRAFO DEL PLANTEAMIENTO DE LA PRÁCTICA 3.10.jpg](data:image/jpeg;base64,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)"
      ],
      "metadata": {
        "id": "lLqA5vwj23gF"
      }
    },
    {
      "cell_type": "markdown",
      "source": [
        "* Ventas = **100.000**\n",
        "* Vector de estado inicial $\\begin{align*}\n",
        "    X_0 &= \\begin{pmatrix}\n",
        "           0.75 \\\\\n",
        "           0.25\n",
        "         \\end{pmatrix}\n",
        "  \\end{align*}$\n",
        "* Matriz de transición $\\begin{align*}\n",
        "    A &= \\begin{pmatrix}\n",
        "           0.80 & 0.40 \\\\\n",
        "           0.20 & 0.60\n",
        "         \\end{pmatrix}\n",
        "  \\end{align*}$\n",
        "* Estado a los tres años $$X_3 = A^3 X_0 = \\begin{align*}\n",
        "    \\begin{pmatrix}\n",
        "           0.80 & 0.40 \\\\\n",
        "           0.20 & 0.60\n",
        "         \\end{pmatrix}^3\n",
        "    \\begin{pmatrix}\n",
        "           0.75 \\\\\n",
        "           0.25\n",
        "         \\end{pmatrix} = \n",
        "    \\begin{pmatrix}\n",
        "           0.688 & 0.624 \\\\\n",
        "           0.312 & 0.376\n",
        "         \\end{pmatrix}\n",
        "    \\begin{pmatrix}\n",
        "           0.75 \\\\\n",
        "           0.25\n",
        "         \\end{pmatrix} =\n",
        "        \\begin{pmatrix}\n",
        "           0.672 \\\\\n",
        "           0.328\n",
        "         \\end{pmatrix}\n",
        "  \\end{align*}$$\n",
        "\n",
        "* Estado a los veinte años $$X_{20} = A^{20} X_0 = \\begin{align*}\n",
        "    \\begin{pmatrix}\n",
        "           0.80 & 0.40 \\\\\n",
        "           0.20 & 0.60\n",
        "         \\end{pmatrix}^{20}\n",
        "    \\begin{pmatrix}\n",
        "           0.75 \\\\\n",
        "           0.25\n",
        "         \\end{pmatrix} = \n",
        "    \\begin{pmatrix}\n",
        "           ^2/_3 \\\\\n",
        "           ^1/_3\n",
        "         \\end{pmatrix}\n",
        "  \\end{align*}$$"
      ],
      "metadata": {
        "id": "M-pZPhUOzEX8"
      }
    },
    {
      "cell_type": "code",
      "source": [
        "import numpy as np\n",
        "\n",
        "X0 = np.array([.75, .25])\n",
        "A = np.array([[.8, .4], [.2 ,.6]])\n",
        "X3 = A@A@A@X0\n",
        "print(\"Situación a los tres años:\", X3)\n",
        "\n",
        "d,P = np.linalg.eig(A)\n",
        "D = np.diag(d)\n",
        "Pinv = np.linalg.inv(P)\n",
        "A10 = P@(D**10)@Pinv\n",
        "X10 = A10@X0\n",
        "print(\"Situación a los diez años:\", X10)\n",
        "print(\"Situación a los veinte años:\", P@(D**20)@Pinv@X0)"
      ],
      "metadata": {
        "colab": {
          "base_uri": "https://localhost:8080/"
        },
        "id": "_sLPDgoezGB9",
        "outputId": "3da3e392-fe37-4aae-e611-c72643102a4c"
      },
      "execution_count": null,
      "outputs": [
        {
          "output_type": "stream",
          "name": "stdout",
          "text": [
            "Situación a los tres años: [0.672 0.328]\n",
            "Situación a los diez años: [0.6666754 0.3333246]\n",
            "Situación a los veinte años: [0.66666667 0.33333333]\n"
          ]
        }
      ]
    },
    {
      "cell_type": "code",
      "source": [
        "# calculamos A cubo:\n",
        "A@A@A"
      ],
      "metadata": {
        "colab": {
          "base_uri": "https://localhost:8080/"
        },
        "id": "RowLVLXxzPJh",
        "outputId": "6759740e-5c10-481e-9811-a20c7c93a9d9"
      },
      "execution_count": null,
      "outputs": [
        {
          "output_type": "execute_result",
          "data": {
            "text/plain": [
              "array([[0.688, 0.624],\n",
              "       [0.312, 0.376]])"
            ]
          },
          "metadata": {},
          "execution_count": 36
        }
      ]
    },
    {
      "cell_type": "code",
      "source": [
        "# comprobamos que esta expresión es igual a A cubo:\n",
        "P@(D**3)@Pinv"
      ],
      "metadata": {
        "colab": {
          "base_uri": "https://localhost:8080/"
        },
        "id": "_lcrM6hkzV9-",
        "outputId": "0a0b9cba-43c8-4f3d-92b9-ed41613709ed"
      },
      "execution_count": null,
      "outputs": [
        {
          "output_type": "execute_result",
          "data": {
            "text/plain": [
              "array([[0.688, 0.624],\n",
              "       [0.312, 0.376]])"
            ]
          },
          "metadata": {},
          "execution_count": 37
        }
      ]
    },
    {
      "cell_type": "code",
      "source": [
        "A@A@A@A@A@A@A@A@A@A"
      ],
      "metadata": {
        "colab": {
          "base_uri": "https://localhost:8080/"
        },
        "id": "72qNvBo_zckG",
        "outputId": "4a085c06-cccb-46db-b82a-0f1931f8cf37"
      },
      "execution_count": null,
      "outputs": [
        {
          "output_type": "execute_result",
          "data": {
            "text/plain": [
              "array([[0.66670162, 0.66659676],\n",
              "       [0.33329838, 0.33340324]])"
            ]
          },
          "metadata": {},
          "execution_count": 38
        }
      ]
    },
    {
      "cell_type": "code",
      "source": [
        "P@(D**10)@Pinv"
      ],
      "metadata": {
        "colab": {
          "base_uri": "https://localhost:8080/"
        },
        "id": "VXqFg6U1zj0F",
        "outputId": "0b153027-51ac-4334-c3fc-ce7184ca485d"
      },
      "execution_count": null,
      "outputs": [
        {
          "output_type": "execute_result",
          "data": {
            "text/plain": [
              "array([[0.66670162, 0.66659676],\n",
              "       [0.33329838, 0.33340324]])"
            ]
          },
          "metadata": {},
          "execution_count": 39
        }
      ]
    },
    {
      "cell_type": "code",
      "source": [
        "np.round(A@A@A@A@A@A@A@A@A@A, 12) == np.round(P@(D**10)@Pinv, 12)"
      ],
      "metadata": {
        "colab": {
          "base_uri": "https://localhost:8080/"
        },
        "id": "POapnkGuzoEd",
        "outputId": "b4d70277-a28b-48d7-e07d-7f753b65e9ad"
      },
      "execution_count": null,
      "outputs": [
        {
          "output_type": "execute_result",
          "data": {
            "text/plain": [
              "array([[ True,  True],\n",
              "       [ True,  True]])"
            ]
          },
          "metadata": {},
          "execution_count": 40
        }
      ]
    }
  ]
}