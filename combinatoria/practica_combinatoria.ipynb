{
  "nbformat": 4,
  "nbformat_minor": 0,
  "metadata": {
    "colab": {
      "provenance": [],
      "toc_visible": true,
      "include_colab_link": true
    },
    "kernelspec": {
      "name": "python3",
      "display_name": "Python 3"
    },
    "language_info": {
      "name": "python"
    }
  },
  "cells": [
    {
      "cell_type": "markdown",
      "metadata": {
        "id": "view-in-github",
        "colab_type": "text"
      },
      "source": [
        "<a href=\"https://colab.research.google.com/github/Mariabermejo068/matematicas/blob/main/combinatoria/practica_combinatoria.ipynb\" target=\"_parent\"><img src=\"https://colab.research.google.com/assets/colab-badge.svg\" alt=\"Open In Colab\"/></a>"
      ]
    },
    {
      "cell_type": "markdown",
      "source": [
        "# Práctica 1. Combinatoria (María Bermejo Marín).\n",
        "Resuelva los siguientes apartados de la práctica.  \n",
        "La práctica 1.1 se proporciona solucionada para que pueda servir como ejemplo.\n"
      ],
      "metadata": {
        "id": "VP-PLgSCPtPC"
      }
    },
    {
      "cell_type": "markdown",
      "source": [
        "## Práctica 1.1\n",
        "Cuatro amigos:\n",
        "* Antonio (A)\n",
        "* Begoña (B)\n",
        "* Cesar (C)\n",
        "* Diana (D)\n",
        "\n",
        "constituyen una asociación y tienen que asignar los siguientes cargos:\n",
        "* Presiente (1)\n",
        "* Vicepresidente (2)\n",
        "* Secretario (3)\n",
        "* Tesorero (4)\n",
        "\n",
        "Se pide:\n",
        "1. Escribiendo la solución en una celda de Markdown analice el caso indicando si se trata de variaciones, permutaciones o combinaciones, con o sin repetición o el caso que sea, y el motivo para clasificar el caso de esta forma.\n",
        "2. Utilizando fórmulas de $\\LaTeX$ calcule cuántos casos existen.\n",
        "3. Cree un programa en Python para calcule cuántos casos existen.\n",
        "4. Cree un programa en Python para imprimir todas las posibilidades y numérelas. Por ejemplo:\n",
        "    - 1 ABCD\n",
        "    - 2 ABDC\n",
        "    - 3 ACBD\n",
        "    - &#20; &#20; &#20; ... ... ..."
      ],
      "metadata": {
        "id": "6oyoxqfbQJDC"
      }
    },
    {
      "cell_type": "markdown",
      "source": [
        "### Solución 1.1\n",
        "* Estamos ante un caso de **permutaciones sin repetición** ya que:\n",
        " - El orden importa, no es lo mismo estar el nº1 que significa ser presidente que el nº 4 que corresponde al tesorero.\n",
        " - Intervienen todos. Son 4 amigos para 4 cargos, todos tienen cargo, lo que cambiar es el orden, esto es, el cargo que obtengan.\n",
        " - No se repiten elementos. Una persona no puede tener dos cargos simultaneamente.\n",
        "* Los casos que se obtienen con las permutaciones sin repetición son $P_{n}=n!$ que para este ejemplo son:\n",
        "\n",
        "$$P_{4}=4!=4 \\cdot 3 \\cdot 2 \\cdot 1 = 24$$"
      ],
      "metadata": {
        "id": "t5unIqR7jdZR"
      }
    },
    {
      "cell_type": "code",
      "source": [
        "import math\n",
        "p = math.factorial(4)\n",
        "print(\"Los casos son: \", p)\n",
        "print(\"Comprobación:  \", 4*3*2*1)"
      ],
      "metadata": {
        "id": "va3_l_-hmFS-",
        "colab": {
          "base_uri": "https://localhost:8080/"
        },
        "outputId": "bccd011a-e7d0-4c8f-85ce-7ce7b85faebd"
      },
      "execution_count": 1,
      "outputs": [
        {
          "output_type": "stream",
          "name": "stdout",
          "text": [
            "Los casos son:  24\n",
            "Comprobación:   24\n"
          ]
        }
      ]
    },
    {
      "cell_type": "markdown",
      "source": [
        "#### Método 1\n",
        "Sin usar librería."
      ],
      "metadata": {
        "id": "kOM3pEAGnh8v"
      }
    },
    {
      "cell_type": "code",
      "source": [
        "lista = ['A', 'B', 'C', 'D']\n",
        "contador = 1\n",
        "\n",
        "for i in lista:\n",
        "    for j in lista:\n",
        "        for k in lista:\n",
        "            for l in lista:\n",
        "                if i != j and i != k and i != l and j != k and j != l and k != l:\n",
        "                    print(f\"{contador:2d} →  {i+j+k+l}\")\n",
        "                    contador += 1"
      ],
      "metadata": {
        "id": "5--ZpSoJncj3",
        "colab": {
          "base_uri": "https://localhost:8080/"
        },
        "outputId": "b7f9e63d-51ba-466a-f432-524724d3657f"
      },
      "execution_count": 2,
      "outputs": [
        {
          "output_type": "stream",
          "name": "stdout",
          "text": [
            " 1 →  ABCD\n",
            " 2 →  ABDC\n",
            " 3 →  ACBD\n",
            " 4 →  ACDB\n",
            " 5 →  ADBC\n",
            " 6 →  ADCB\n",
            " 7 →  BACD\n",
            " 8 →  BADC\n",
            " 9 →  BCAD\n",
            "10 →  BCDA\n",
            "11 →  BDAC\n",
            "12 →  BDCA\n",
            "13 →  CABD\n",
            "14 →  CADB\n",
            "15 →  CBAD\n",
            "16 →  CBDA\n",
            "17 →  CDAB\n",
            "18 →  CDBA\n",
            "19 →  DABC\n",
            "20 →  DACB\n",
            "21 →  DBAC\n",
            "22 →  DBCA\n",
            "23 →  DCAB\n",
            "24 →  DCBA\n"
          ]
        }
      ]
    },
    {
      "cell_type": "markdown",
      "source": [
        "#### Método 2\n",
        "* Usamos la función `permutations` de la librería `itertools`.\n",
        "* Imprimimos todas las permutaciones de los elementos de una lista."
      ],
      "metadata": {
        "id": "2PoCD5GlnwS1"
      }
    },
    {
      "cell_type": "code",
      "source": [
        "from itertools import permutations\n",
        "\n",
        "perm = permutations(['A','B','C','D'])   # obtenemos todas las permutaciones de la lista \n",
        "\n",
        "for i in list(perm):                     # imprimimos todas las permutaciones \n",
        "    print (*i)                           # con el asterisco se muestran las listas sin corchetes ni comas"
      ],
      "metadata": {
        "id": "eKkB1gQnn6_P",
        "colab": {
          "base_uri": "https://localhost:8080/"
        },
        "outputId": "38a76b74-79b4-4132-9754-5b3bcb9d9133"
      },
      "execution_count": 3,
      "outputs": [
        {
          "output_type": "stream",
          "name": "stdout",
          "text": [
            "A B C D\n",
            "A B D C\n",
            "A C B D\n",
            "A C D B\n",
            "A D B C\n",
            "A D C B\n",
            "B A C D\n",
            "B A D C\n",
            "B C A D\n",
            "B C D A\n",
            "B D A C\n",
            "B D C A\n",
            "C A B D\n",
            "C A D B\n",
            "C B A D\n",
            "C B D A\n",
            "C D A B\n",
            "C D B A\n",
            "D A B C\n",
            "D A C B\n",
            "D B A C\n",
            "D B C A\n",
            "D C A B\n",
            "D C B A\n"
          ]
        }
      ]
    },
    {
      "cell_type": "markdown",
      "source": [
        "## Práctica 1.2\n",
        "Cuatro amigos:\n",
        "* Antonio (A)\n",
        "* Begoña (B)\n",
        "* Cesar (C)\n",
        "* Diana (D)\n",
        "\n",
        "constituyen una asociación y tienen que asignar los siguientes cargos:\n",
        "* Presiente (1)\n",
        "* Secretario (3)\n",
        "* Tesorero (4)\n",
        "\n",
        "Se pide:\n",
        "1. Escribiendo la solución en una celda de Markdown analice el caso indicando si se trata de variaciones, permutaciones o combinaciones, con o sin repetición o el caso que sea, y el motivo para clasificar el caso de esta forma.\n",
        "2. Utilizando fórmulas de $\\LaTeX$ calcule cuántos casos existen.\n",
        "3. Cree un programa en Python para calcule cuántos casos existen.\n",
        "4. Cree un programa en Python para imprimir todas las posibilidades y numérelas. Por ejemplo:\n",
        "    - 1 ABC\n",
        "    - 2 ABD\n",
        "    - 3 ACB\n",
        "    - &#20; &#20; &#20; ... ... ..."
      ],
      "metadata": {
        "id": "sxSuCpAFSBPJ"
      }
    },
    {
      "cell_type": "markdown",
      "source": [
        "### Solución 1.2\n",
        "+ Estamos ante un caso de **variaciones sin repetición**, ya que:\n",
        "\n",
        " - Si el cargo de presidente (1) ya está ocupado, los restantes \n",
        "amigos únicamente pueden aspirar a los otros dos cargos que son: secretario (3) y tesorero (4). Si los cargos de presidente (1) y secretario (3) estuvieran ocupados, los amigos pueden aspirar únicamente a ocupar el puesto de tesorero (4).\n",
        "\n",
        " - El orden importa porque los cargos a los que aspiran son distintos y tienen diferentes responsabilidades. Es decir, no es lo mismo que un amigo sea presidente (1) a que sea secretario (3) o tesorero (4). El orden de ABC no sería lo mismo que CBA, ya que los cargos sin diferentes.\n",
        "\n",
        " - Además, son sin repetición porque si uno de los amigos ha obtenido el puesto de presidente (1), él al mismo tiempo, ya no podría ser secretario (3) ni tesorero (4).\n",
        "\n",
        "+ Variaciones sin repetición de 4 elementos tomados de 3 en 3:\n",
        "\n",
        "$$V^r_n=\\frac{n!}{(n-r)!}=n \\cdot (n-1) \\cdot (n-2) \\cdots (n-r+1)$$\n",
        "\n",
        "$$V^r_n=\\frac{4!}{(4-3)!}=\\frac{4!}{1!}=\\frac{4 \\cdot 3 \\cdot 2\\cdot 1!}{1!}=4 \\cdot 3\\cdot 2=24$$"
      ],
      "metadata": {
        "id": "xx9qsw_ej9Pd"
      }
    },
    {
      "cell_type": "code",
      "source": [
        "import itertools\n",
        "it = itertools.permutations(['A','B','C','D'],3)\n",
        "li = list(it)\n",
        "print(li)\n",
        "\n",
        "print()\n",
        "for i in range(len(li)):\n",
        "      #print(\"Variación\",i+1,\":\", *li[i])\n",
        "      #print(f\"Variación {i+1:2d}: {li[i]}\")\n",
        "      print(f\"Variación {i+1:2d}: \", *li[i])\n"
      ],
      "metadata": {
        "colab": {
          "base_uri": "https://localhost:8080/"
        },
        "id": "RIb0ygHWdRIt",
        "outputId": "65ea7589-39c5-4061-97eb-c256b81e8463"
      },
      "execution_count": 1,
      "outputs": [
        {
          "output_type": "stream",
          "name": "stdout",
          "text": [
            "[('A', 'B', 'C'), ('A', 'B', 'D'), ('A', 'C', 'B'), ('A', 'C', 'D'), ('A', 'D', 'B'), ('A', 'D', 'C'), ('B', 'A', 'C'), ('B', 'A', 'D'), ('B', 'C', 'A'), ('B', 'C', 'D'), ('B', 'D', 'A'), ('B', 'D', 'C'), ('C', 'A', 'B'), ('C', 'A', 'D'), ('C', 'B', 'A'), ('C', 'B', 'D'), ('C', 'D', 'A'), ('C', 'D', 'B'), ('D', 'A', 'B'), ('D', 'A', 'C'), ('D', 'B', 'A'), ('D', 'B', 'C'), ('D', 'C', 'A'), ('D', 'C', 'B')]\n",
            "\n",
            "Variación  1:  A B C\n",
            "Variación  2:  A B D\n",
            "Variación  3:  A C B\n",
            "Variación  4:  A C D\n",
            "Variación  5:  A D B\n",
            "Variación  6:  A D C\n",
            "Variación  7:  B A C\n",
            "Variación  8:  B A D\n",
            "Variación  9:  B C A\n",
            "Variación 10:  B C D\n",
            "Variación 11:  B D A\n",
            "Variación 12:  B D C\n",
            "Variación 13:  C A B\n",
            "Variación 14:  C A D\n",
            "Variación 15:  C B A\n",
            "Variación 16:  C B D\n",
            "Variación 17:  C D A\n",
            "Variación 18:  C D B\n",
            "Variación 19:  D A B\n",
            "Variación 20:  D A C\n",
            "Variación 21:  D B A\n",
            "Variación 22:  D B C\n",
            "Variación 23:  D C A\n",
            "Variación 24:  D C B\n"
          ]
        }
      ]
    },
    {
      "cell_type": "markdown",
      "source": [
        "## Práctica 1.3\n",
        "Invente un caso de **variaciones sin repetición**.\n",
        "Se pide contestar a los mismos puntos que el caso anterior.\n",
        "\n",
        "### ¿Cuántos números de 3 cifras podemos formar con los números: **1, 2, 3, 4, 5 y 6**; sin que se repita ninguna cifra?"
      ],
      "metadata": {
        "id": "D0S1DjF4MKmz"
      }
    },
    {
      "cell_type": "markdown",
      "source": [
        "### Solución 1.3\n",
        "+ Sabemos que es un caso de **variaciones sin repetición**, ya que:\n",
        "\n",
        " - Si una de las cifras del 1 al 6 ya ha salido, por ejemplo, en el lugar de las centenas, ya no puede volver a salir otra cifra en las centenas porque ya estaría ocupada, solo podría colocarse en el lugar de las decenas o de las unidades. Si los puestos de las centenas y las decenas estuvieran ocupados, los números pueden aspirar únicamente a ocupar el puesto de las unidades.\n",
        "\n",
        " - El orden importa porque los números formados con las mismas 3 cifras pero en órdenes distintos, hacen que los numeros que se formen sean totalmente diferentes unos de otros. Por ejemplo, el número 342 y el número 423 tienen las mismas cifras: 2, 3 y 4, pero son diferentes, ya que el orden importa.\n",
        "\n",
        " - Además, son sin repetición porque si una de las cifras del 1 al 6 ya ha salido, por ejemplo, en el puesto de las unidades, esa cifra al mismo tiempo ya no podría estar ni en el puesto de las decenas ni en el de las centenas.\n",
        "Si ponemos un ejemplo, vemos que si sale el 2 en las centenas, ya no puede volver a salir el 2 ni en las decenas ni en las unidades.\n",
        "\n",
        "+ Variaciones sin repetición de 6 elementos tomados de 3 en 3:\n",
        "\n",
        "$$V^r_n=\\frac{n!}{(n-r)!}=n \\cdot (n-1) \\cdot (n-2) \\cdots (n-r+1)$$\n",
        "\n",
        "$$V^r_n=\\frac{6!}{(6-3)!}=\\frac{6!}{3!}=\\frac{6 \\cdot 5 \\cdot 4\\cdot 3!}{3!}=6 \\cdot 5\\cdot 4=120$$"
      ],
      "metadata": {
        "id": "AfyuPIASj_20"
      }
    },
    {
      "cell_type": "code",
      "source": [
        "import itertools\n",
        "it = itertools.permutations(['1','2','3','4','5','6'],3)\n",
        "li = list(it)\n",
        "print(li)\n",
        "\n",
        "print()\n",
        "for i in range(len(li)):\n",
        "      #print(\"Variación\",i+1,\":\", *li[i])\n",
        "      #print(f\"Variación {i+1:3d}: {li[i]}\")\n",
        "      print(f\"Variación {i+1:3d}: \", *li[i])\n"
      ],
      "metadata": {
        "colab": {
          "base_uri": "https://localhost:8080/"
        },
        "id": "6HEHssEClbDh",
        "outputId": "a83cf595-9b43-4e7f-a1a9-4aeeb83dc7c6"
      },
      "execution_count": 3,
      "outputs": [
        {
          "output_type": "stream",
          "name": "stdout",
          "text": [
            "[('1', '2', '3'), ('1', '2', '4'), ('1', '2', '5'), ('1', '2', '6'), ('1', '3', '2'), ('1', '3', '4'), ('1', '3', '5'), ('1', '3', '6'), ('1', '4', '2'), ('1', '4', '3'), ('1', '4', '5'), ('1', '4', '6'), ('1', '5', '2'), ('1', '5', '3'), ('1', '5', '4'), ('1', '5', '6'), ('1', '6', '2'), ('1', '6', '3'), ('1', '6', '4'), ('1', '6', '5'), ('2', '1', '3'), ('2', '1', '4'), ('2', '1', '5'), ('2', '1', '6'), ('2', '3', '1'), ('2', '3', '4'), ('2', '3', '5'), ('2', '3', '6'), ('2', '4', '1'), ('2', '4', '3'), ('2', '4', '5'), ('2', '4', '6'), ('2', '5', '1'), ('2', '5', '3'), ('2', '5', '4'), ('2', '5', '6'), ('2', '6', '1'), ('2', '6', '3'), ('2', '6', '4'), ('2', '6', '5'), ('3', '1', '2'), ('3', '1', '4'), ('3', '1', '5'), ('3', '1', '6'), ('3', '2', '1'), ('3', '2', '4'), ('3', '2', '5'), ('3', '2', '6'), ('3', '4', '1'), ('3', '4', '2'), ('3', '4', '5'), ('3', '4', '6'), ('3', '5', '1'), ('3', '5', '2'), ('3', '5', '4'), ('3', '5', '6'), ('3', '6', '1'), ('3', '6', '2'), ('3', '6', '4'), ('3', '6', '5'), ('4', '1', '2'), ('4', '1', '3'), ('4', '1', '5'), ('4', '1', '6'), ('4', '2', '1'), ('4', '2', '3'), ('4', '2', '5'), ('4', '2', '6'), ('4', '3', '1'), ('4', '3', '2'), ('4', '3', '5'), ('4', '3', '6'), ('4', '5', '1'), ('4', '5', '2'), ('4', '5', '3'), ('4', '5', '6'), ('4', '6', '1'), ('4', '6', '2'), ('4', '6', '3'), ('4', '6', '5'), ('5', '1', '2'), ('5', '1', '3'), ('5', '1', '4'), ('5', '1', '6'), ('5', '2', '1'), ('5', '2', '3'), ('5', '2', '4'), ('5', '2', '6'), ('5', '3', '1'), ('5', '3', '2'), ('5', '3', '4'), ('5', '3', '6'), ('5', '4', '1'), ('5', '4', '2'), ('5', '4', '3'), ('5', '4', '6'), ('5', '6', '1'), ('5', '6', '2'), ('5', '6', '3'), ('5', '6', '4'), ('6', '1', '2'), ('6', '1', '3'), ('6', '1', '4'), ('6', '1', '5'), ('6', '2', '1'), ('6', '2', '3'), ('6', '2', '4'), ('6', '2', '5'), ('6', '3', '1'), ('6', '3', '2'), ('6', '3', '4'), ('6', '3', '5'), ('6', '4', '1'), ('6', '4', '2'), ('6', '4', '3'), ('6', '4', '5'), ('6', '5', '1'), ('6', '5', '2'), ('6', '5', '3'), ('6', '5', '4')]\n",
            "\n",
            "Variación   1:  1 2 3\n",
            "Variación   2:  1 2 4\n",
            "Variación   3:  1 2 5\n",
            "Variación   4:  1 2 6\n",
            "Variación   5:  1 3 2\n",
            "Variación   6:  1 3 4\n",
            "Variación   7:  1 3 5\n",
            "Variación   8:  1 3 6\n",
            "Variación   9:  1 4 2\n",
            "Variación  10:  1 4 3\n",
            "Variación  11:  1 4 5\n",
            "Variación  12:  1 4 6\n",
            "Variación  13:  1 5 2\n",
            "Variación  14:  1 5 3\n",
            "Variación  15:  1 5 4\n",
            "Variación  16:  1 5 6\n",
            "Variación  17:  1 6 2\n",
            "Variación  18:  1 6 3\n",
            "Variación  19:  1 6 4\n",
            "Variación  20:  1 6 5\n",
            "Variación  21:  2 1 3\n",
            "Variación  22:  2 1 4\n",
            "Variación  23:  2 1 5\n",
            "Variación  24:  2 1 6\n",
            "Variación  25:  2 3 1\n",
            "Variación  26:  2 3 4\n",
            "Variación  27:  2 3 5\n",
            "Variación  28:  2 3 6\n",
            "Variación  29:  2 4 1\n",
            "Variación  30:  2 4 3\n",
            "Variación  31:  2 4 5\n",
            "Variación  32:  2 4 6\n",
            "Variación  33:  2 5 1\n",
            "Variación  34:  2 5 3\n",
            "Variación  35:  2 5 4\n",
            "Variación  36:  2 5 6\n",
            "Variación  37:  2 6 1\n",
            "Variación  38:  2 6 3\n",
            "Variación  39:  2 6 4\n",
            "Variación  40:  2 6 5\n",
            "Variación  41:  3 1 2\n",
            "Variación  42:  3 1 4\n",
            "Variación  43:  3 1 5\n",
            "Variación  44:  3 1 6\n",
            "Variación  45:  3 2 1\n",
            "Variación  46:  3 2 4\n",
            "Variación  47:  3 2 5\n",
            "Variación  48:  3 2 6\n",
            "Variación  49:  3 4 1\n",
            "Variación  50:  3 4 2\n",
            "Variación  51:  3 4 5\n",
            "Variación  52:  3 4 6\n",
            "Variación  53:  3 5 1\n",
            "Variación  54:  3 5 2\n",
            "Variación  55:  3 5 4\n",
            "Variación  56:  3 5 6\n",
            "Variación  57:  3 6 1\n",
            "Variación  58:  3 6 2\n",
            "Variación  59:  3 6 4\n",
            "Variación  60:  3 6 5\n",
            "Variación  61:  4 1 2\n",
            "Variación  62:  4 1 3\n",
            "Variación  63:  4 1 5\n",
            "Variación  64:  4 1 6\n",
            "Variación  65:  4 2 1\n",
            "Variación  66:  4 2 3\n",
            "Variación  67:  4 2 5\n",
            "Variación  68:  4 2 6\n",
            "Variación  69:  4 3 1\n",
            "Variación  70:  4 3 2\n",
            "Variación  71:  4 3 5\n",
            "Variación  72:  4 3 6\n",
            "Variación  73:  4 5 1\n",
            "Variación  74:  4 5 2\n",
            "Variación  75:  4 5 3\n",
            "Variación  76:  4 5 6\n",
            "Variación  77:  4 6 1\n",
            "Variación  78:  4 6 2\n",
            "Variación  79:  4 6 3\n",
            "Variación  80:  4 6 5\n",
            "Variación  81:  5 1 2\n",
            "Variación  82:  5 1 3\n",
            "Variación  83:  5 1 4\n",
            "Variación  84:  5 1 6\n",
            "Variación  85:  5 2 1\n",
            "Variación  86:  5 2 3\n",
            "Variación  87:  5 2 4\n",
            "Variación  88:  5 2 6\n",
            "Variación  89:  5 3 1\n",
            "Variación  90:  5 3 2\n",
            "Variación  91:  5 3 4\n",
            "Variación  92:  5 3 6\n",
            "Variación  93:  5 4 1\n",
            "Variación  94:  5 4 2\n",
            "Variación  95:  5 4 3\n",
            "Variación  96:  5 4 6\n",
            "Variación  97:  5 6 1\n",
            "Variación  98:  5 6 2\n",
            "Variación  99:  5 6 3\n",
            "Variación 100:  5 6 4\n",
            "Variación 101:  6 1 2\n",
            "Variación 102:  6 1 3\n",
            "Variación 103:  6 1 4\n",
            "Variación 104:  6 1 5\n",
            "Variación 105:  6 2 1\n",
            "Variación 106:  6 2 3\n",
            "Variación 107:  6 2 4\n",
            "Variación 108:  6 2 5\n",
            "Variación 109:  6 3 1\n",
            "Variación 110:  6 3 2\n",
            "Variación 111:  6 3 4\n",
            "Variación 112:  6 3 5\n",
            "Variación 113:  6 4 1\n",
            "Variación 114:  6 4 2\n",
            "Variación 115:  6 4 3\n",
            "Variación 116:  6 4 5\n",
            "Variación 117:  6 5 1\n",
            "Variación 118:  6 5 2\n",
            "Variación 119:  6 5 3\n",
            "Variación 120:  6 5 4\n"
          ]
        }
      ]
    },
    {
      "cell_type": "markdown",
      "source": [
        "## Práctica 1.4\n",
        "Invente un caso de **variaciones con repetición**.\n",
        "Se pide contestar a los mismos puntos que el caso anterior."
      ],
      "metadata": {
        "id": "gvlnqCaRMTua"
      }
    },
    {
      "cell_type": "markdown",
      "source": [
        "Si lanzamos una **moneda** al aire 6 veces (sabiendo que un lado es la cara: c y el otro cruz: x), ¿cuántos posibles resultados pueden obtenerse?"
      ],
      "metadata": {
        "id": "6J8M_6vD4Cdu"
      }
    },
    {
      "cell_type": "markdown",
      "source": [
        "### Solución 1.4\n",
        "+ En este caso, se trata de un problema de **variación con repetición**, ya que:\n",
        "\n",
        " - El orden importa, porque aunque en total sacáramos, por ejemplo, 2 veces cara y 4 cruz, serían casos distintos si salieran: ccxxxx, xxcxxc, xxxcxc... Es decir, el orden en que salgan importa.\n",
        " - Además, se trata de una variación con repetición porque las 2 únicas posibilidades son cara o cruz, y por tanto, sabemos que al tirar 6 veces la moneda, se van a repetir los resultados saliendo varias veces cara o cruz.\n",
        "\n",
        "+ Tenemos que formar grupos de 6 a partir de 2 posibilidades:\n",
        "$$VR_n,_k = n^k$$\n",
        "$$VR_2,_6 = 2^6 = 64$$\n"
      ],
      "metadata": {
        "id": "hzvsgRDbkCy1"
      }
    },
    {
      "cell_type": "code",
      "source": [
        "import itertools\n",
        "\n",
        "def variaciones_con_repeticion(n,seq):\n",
        "    contador = 0\n",
        "    for p in itertools.product(seq,repeat=n):\n",
        "      contador += 1\n",
        "      print(contador,\" \".join(p))\n",
        "\n",
        "secuencia = 'cx'\n",
        "m = len(secuencia)\n",
        "n = 6\n",
        "variaciones_con_repeticion(n, secuencia)\n",
        "\n",
        "print(f\"El numero de variaciones con repetición de {m} elementos tomados de {n} en {n} son {m**n}. \")\n"
      ],
      "metadata": {
        "colab": {
          "base_uri": "https://localhost:8080/"
        },
        "id": "dHHQ-s6k7vCW",
        "outputId": "355decc2-b928-4ef1-fad3-9d4babd1f1f0"
      },
      "execution_count": 18,
      "outputs": [
        {
          "output_type": "stream",
          "name": "stdout",
          "text": [
            "1 c c c c c c\n",
            "2 c c c c c x\n",
            "3 c c c c x c\n",
            "4 c c c c x x\n",
            "5 c c c x c c\n",
            "6 c c c x c x\n",
            "7 c c c x x c\n",
            "8 c c c x x x\n",
            "9 c c x c c c\n",
            "10 c c x c c x\n",
            "11 c c x c x c\n",
            "12 c c x c x x\n",
            "13 c c x x c c\n",
            "14 c c x x c x\n",
            "15 c c x x x c\n",
            "16 c c x x x x\n",
            "17 c x c c c c\n",
            "18 c x c c c x\n",
            "19 c x c c x c\n",
            "20 c x c c x x\n",
            "21 c x c x c c\n",
            "22 c x c x c x\n",
            "23 c x c x x c\n",
            "24 c x c x x x\n",
            "25 c x x c c c\n",
            "26 c x x c c x\n",
            "27 c x x c x c\n",
            "28 c x x c x x\n",
            "29 c x x x c c\n",
            "30 c x x x c x\n",
            "31 c x x x x c\n",
            "32 c x x x x x\n",
            "33 x c c c c c\n",
            "34 x c c c c x\n",
            "35 x c c c x c\n",
            "36 x c c c x x\n",
            "37 x c c x c c\n",
            "38 x c c x c x\n",
            "39 x c c x x c\n",
            "40 x c c x x x\n",
            "41 x c x c c c\n",
            "42 x c x c c x\n",
            "43 x c x c x c\n",
            "44 x c x c x x\n",
            "45 x c x x c c\n",
            "46 x c x x c x\n",
            "47 x c x x x c\n",
            "48 x c x x x x\n",
            "49 x x c c c c\n",
            "50 x x c c c x\n",
            "51 x x c c x c\n",
            "52 x x c c x x\n",
            "53 x x c x c c\n",
            "54 x x c x c x\n",
            "55 x x c x x c\n",
            "56 x x c x x x\n",
            "57 x x x c c c\n",
            "58 x x x c c x\n",
            "59 x x x c x c\n",
            "60 x x x c x x\n",
            "61 x x x x c c\n",
            "62 x x x x c x\n",
            "63 x x x x x c\n",
            "64 x x x x x x\n",
            "El numero de variaciones con repetición de 2 elementos tomados de 6 en 6 son 64. \n"
          ]
        }
      ]
    },
    {
      "cell_type": "markdown",
      "source": [
        "## Práctica 1.5\n",
        "Invente un caso de **permutaciones sin repetición**.\n",
        "Se pide contestar a los mismos puntos que el caso anterior."
      ],
      "metadata": {
        "id": "0OCAC-I-G5F6"
      }
    },
    {
      "cell_type": "markdown",
      "source": [
        "¿Cuántas palabras (de 4 letras) podríamos formar (que tengan sentido o no) usando las 4 letras de la palabra **A M O R**? Teniendo en cuenta que no se puede repetir ninguna letra."
      ],
      "metadata": {
        "id": "XDttvemKCVRw"
      }
    },
    {
      "cell_type": "markdown",
      "source": [
        "### Solución 1.5\n",
        "+ Estamos ante un problema de **permutaciones sin repetición** porque:\n",
        "\n",
        " - Se cogen todos los elementos para los casos posibles. Es decir, todos los elementos deben estar incluidos. En este problema, observamos que las 4 letras de A M O R tienen que estar siempre incorporadas en todas las posibilidades, aunque no importe el orden en el que estas estén colocadas.\n",
        " - Por ello, vemos que el orden no importa. Los requisitos son que todos los elementos deben estar incluidos y sin repetirse ninguno de ellos.\n",
        "\n",
        "+ Con lo cual, podemos comprobar que con estas 4 letras (A M O R), existen 24 permutaciones posibles:\n",
        "\n",
        "$$n! = 4! = 4\\cdot 3 \\cdot 2 \\cdot 1 = 24$$"
      ],
      "metadata": {
        "id": "FvLcj6XXkFOV"
      }
    },
    {
      "cell_type": "code",
      "source": [
        "lista = ['A', 'M', 'O', 'R']\n",
        "contador = 1\n",
        "\n",
        "for i in lista:\n",
        "    for j in lista:\n",
        "        for k in lista:\n",
        "            for l in lista:\n",
        "                if i != j and i != k and i != l and j != k and j != l and k != l:\n",
        "                    print(f\"{contador:2d} →  {i+j+k+l}\")\n",
        "                    contador += 1\n"
      ],
      "metadata": {
        "colab": {
          "base_uri": "https://localhost:8080/"
        },
        "id": "CsaEHVtwuweb",
        "outputId": "ee7b7e44-6acd-488d-c82d-30984df104f9"
      },
      "execution_count": 1,
      "outputs": [
        {
          "output_type": "stream",
          "name": "stdout",
          "text": [
            " 1 →  AMOR\n",
            " 2 →  AMRO\n",
            " 3 →  AOMR\n",
            " 4 →  AORM\n",
            " 5 →  ARMO\n",
            " 6 →  AROM\n",
            " 7 →  MAOR\n",
            " 8 →  MARO\n",
            " 9 →  MOAR\n",
            "10 →  MORA\n",
            "11 →  MRAO\n",
            "12 →  MROA\n",
            "13 →  OAMR\n",
            "14 →  OARM\n",
            "15 →  OMAR\n",
            "16 →  OMRA\n",
            "17 →  ORAM\n",
            "18 →  ORMA\n",
            "19 →  RAMO\n",
            "20 →  RAOM\n",
            "21 →  RMAO\n",
            "22 →  RMOA\n",
            "23 →  ROAM\n",
            "24 →  ROMA\n"
          ]
        }
      ]
    },
    {
      "cell_type": "markdown",
      "source": [
        "## Práctica 1.6\n",
        "Invente un caso de **permutaciones con repetición**.\n",
        "Se pide contestar a los mismos puntos que el caso anterior."
      ],
      "metadata": {
        "id": "YWUXIczqLj3W"
      }
    },
    {
      "cell_type": "markdown",
      "source": [
        "¿Cuántas palabras podemos escribir (que tengan sentido o no) reordenando las letras de la palabra **N A R A N J A**? "
      ],
      "metadata": {
        "id": "lLKA1AxHwZY8"
      }
    },
    {
      "cell_type": "markdown",
      "source": [
        "### Solución 1.6\n",
        "+ Estamos ante un problema de **permutaciones con repetición** porque:\n",
        "\n",
        " - Se cogen todos los elementos para los casos posibles. Es decir, todos los elementos deben estar incluidos. En este problema, observamos que las 7 letras de N A R A N J A (que son dos N, tres A, una R y una J) tienen que estar siempre incorporadas en todas las posibilidades, aunque no importe el orden en el que estas estén colocadas.\n",
        " - Por otra parte, vemos que el orden no importa. Los requisitos son que todos los elementos deben estar incluidos y, en este caso, sí que hay repetición ya que hay varias letras que coinciden. \n",
        "\n",
        "+ Con lo cual, podemos comprobar que con estas letras (N A R A N J A), existen 420 permutaciones posibles:\n",
        "\n",
        "$$PR^{k_1,k_2,...,k_r}_n  = \\frac{n!}{k_1! \\cdot k_2! \\cdot ..., \\cdot k_r!}$$\n",
        "\n",
        "$$PR^{1,1,2,3}_7  = \\frac{7!}{1! \\cdot 1! \\cdot 2! \\cdot 3!} = 420$$\n"
      ],
      "metadata": {
        "id": "siAxWVVekHs6"
      }
    },
    {
      "cell_type": "code",
      "source": [
        "from itertools import permutations\n",
        "\n",
        "p = permutations(\"NARANJA\")\n",
        "lista = [''.join(i) for i in p]\n",
        "conjunto = set(lista)\n",
        "ordenada = list(conjunto)\n",
        "ordenada.sort()\n",
        "print(ordenada)\n",
        "print(f\"El número de casos obtenidos es: {len(ordenada)}.\")\n"
      ],
      "metadata": {
        "colab": {
          "base_uri": "https://localhost:8080/"
        },
        "id": "a_J_uzsF4px0",
        "outputId": "b20db999-7023-4a47-a89e-201936d2ef1b"
      },
      "execution_count": 7,
      "outputs": [
        {
          "output_type": "stream",
          "name": "stdout",
          "text": [
            "['AAAJNNR', 'AAAJNRN', 'AAAJRNN', 'AAANJNR', 'AAANJRN', 'AAANNJR', 'AAANNRJ', 'AAANRJN', 'AAANRNJ', 'AAARJNN', 'AAARNJN', 'AAARNNJ', 'AAJANNR', 'AAJANRN', 'AAJARNN', 'AAJNANR', 'AAJNARN', 'AAJNNAR', 'AAJNNRA', 'AAJNRAN', 'AAJNRNA', 'AAJRANN', 'AAJRNAN', 'AAJRNNA', 'AANAJNR', 'AANAJRN', 'AANANJR', 'AANANRJ', 'AANARJN', 'AANARNJ', 'AANJANR', 'AANJARN', 'AANJNAR', 'AANJNRA', 'AANJRAN', 'AANJRNA', 'AANNAJR', 'AANNARJ', 'AANNJAR', 'AANNJRA', 'AANNRAJ', 'AANNRJA', 'AANRAJN', 'AANRANJ', 'AANRJAN', 'AANRJNA', 'AANRNAJ', 'AANRNJA', 'AARAJNN', 'AARANJN', 'AARANNJ', 'AARJANN', 'AARJNAN', 'AARJNNA', 'AARNAJN', 'AARNANJ', 'AARNJAN', 'AARNJNA', 'AARNNAJ', 'AARNNJA', 'AJAANNR', 'AJAANRN', 'AJAARNN', 'AJANANR', 'AJANARN', 'AJANNAR', 'AJANNRA', 'AJANRAN', 'AJANRNA', 'AJARANN', 'AJARNAN', 'AJARNNA', 'AJNAANR', 'AJNAARN', 'AJNANAR', 'AJNANRA', 'AJNARAN', 'AJNARNA', 'AJNNAAR', 'AJNNARA', 'AJNNRAA', 'AJNRAAN', 'AJNRANA', 'AJNRNAA', 'AJRAANN', 'AJRANAN', 'AJRANNA', 'AJRNAAN', 'AJRNANA', 'AJRNNAA', 'ANAAJNR', 'ANAAJRN', 'ANAANJR', 'ANAANRJ', 'ANAARJN', 'ANAARNJ', 'ANAJANR', 'ANAJARN', 'ANAJNAR', 'ANAJNRA', 'ANAJRAN', 'ANAJRNA', 'ANANAJR', 'ANANARJ', 'ANANJAR', 'ANANJRA', 'ANANRAJ', 'ANANRJA', 'ANARAJN', 'ANARANJ', 'ANARJAN', 'ANARJNA', 'ANARNAJ', 'ANARNJA', 'ANJAANR', 'ANJAARN', 'ANJANAR', 'ANJANRA', 'ANJARAN', 'ANJARNA', 'ANJNAAR', 'ANJNARA', 'ANJNRAA', 'ANJRAAN', 'ANJRANA', 'ANJRNAA', 'ANNAAJR', 'ANNAARJ', 'ANNAJAR', 'ANNAJRA', 'ANNARAJ', 'ANNARJA', 'ANNJAAR', 'ANNJARA', 'ANNJRAA', 'ANNRAAJ', 'ANNRAJA', 'ANNRJAA', 'ANRAAJN', 'ANRAANJ', 'ANRAJAN', 'ANRAJNA', 'ANRANAJ', 'ANRANJA', 'ANRJAAN', 'ANRJANA', 'ANRJNAA', 'ANRNAAJ', 'ANRNAJA', 'ANRNJAA', 'ARAAJNN', 'ARAANJN', 'ARAANNJ', 'ARAJANN', 'ARAJNAN', 'ARAJNNA', 'ARANAJN', 'ARANANJ', 'ARANJAN', 'ARANJNA', 'ARANNAJ', 'ARANNJA', 'ARJAANN', 'ARJANAN', 'ARJANNA', 'ARJNAAN', 'ARJNANA', 'ARJNNAA', 'ARNAAJN', 'ARNAANJ', 'ARNAJAN', 'ARNAJNA', 'ARNANAJ', 'ARNANJA', 'ARNJAAN', 'ARNJANA', 'ARNJNAA', 'ARNNAAJ', 'ARNNAJA', 'ARNNJAA', 'JAAANNR', 'JAAANRN', 'JAAARNN', 'JAANANR', 'JAANARN', 'JAANNAR', 'JAANNRA', 'JAANRAN', 'JAANRNA', 'JAARANN', 'JAARNAN', 'JAARNNA', 'JANAANR', 'JANAARN', 'JANANAR', 'JANANRA', 'JANARAN', 'JANARNA', 'JANNAAR', 'JANNARA', 'JANNRAA', 'JANRAAN', 'JANRANA', 'JANRNAA', 'JARAANN', 'JARANAN', 'JARANNA', 'JARNAAN', 'JARNANA', 'JARNNAA', 'JNAAANR', 'JNAAARN', 'JNAANAR', 'JNAANRA', 'JNAARAN', 'JNAARNA', 'JNANAAR', 'JNANARA', 'JNANRAA', 'JNARAAN', 'JNARANA', 'JNARNAA', 'JNNAAAR', 'JNNAARA', 'JNNARAA', 'JNNRAAA', 'JNRAAAN', 'JNRAANA', 'JNRANAA', 'JNRNAAA', 'JRAAANN', 'JRAANAN', 'JRAANNA', 'JRANAAN', 'JRANANA', 'JRANNAA', 'JRNAAAN', 'JRNAANA', 'JRNANAA', 'JRNNAAA', 'NAAAJNR', 'NAAAJRN', 'NAAANJR', 'NAAANRJ', 'NAAARJN', 'NAAARNJ', 'NAAJANR', 'NAAJARN', 'NAAJNAR', 'NAAJNRA', 'NAAJRAN', 'NAAJRNA', 'NAANAJR', 'NAANARJ', 'NAANJAR', 'NAANJRA', 'NAANRAJ', 'NAANRJA', 'NAARAJN', 'NAARANJ', 'NAARJAN', 'NAARJNA', 'NAARNAJ', 'NAARNJA', 'NAJAANR', 'NAJAARN', 'NAJANAR', 'NAJANRA', 'NAJARAN', 'NAJARNA', 'NAJNAAR', 'NAJNARA', 'NAJNRAA', 'NAJRAAN', 'NAJRANA', 'NAJRNAA', 'NANAAJR', 'NANAARJ', 'NANAJAR', 'NANAJRA', 'NANARAJ', 'NANARJA', 'NANJAAR', 'NANJARA', 'NANJRAA', 'NANRAAJ', 'NANRAJA', 'NANRJAA', 'NARAAJN', 'NARAANJ', 'NARAJAN', 'NARAJNA', 'NARANAJ', 'NARANJA', 'NARJAAN', 'NARJANA', 'NARJNAA', 'NARNAAJ', 'NARNAJA', 'NARNJAA', 'NJAAANR', 'NJAAARN', 'NJAANAR', 'NJAANRA', 'NJAARAN', 'NJAARNA', 'NJANAAR', 'NJANARA', 'NJANRAA', 'NJARAAN', 'NJARANA', 'NJARNAA', 'NJNAAAR', 'NJNAARA', 'NJNARAA', 'NJNRAAA', 'NJRAAAN', 'NJRAANA', 'NJRANAA', 'NJRNAAA', 'NNAAAJR', 'NNAAARJ', 'NNAAJAR', 'NNAAJRA', 'NNAARAJ', 'NNAARJA', 'NNAJAAR', 'NNAJARA', 'NNAJRAA', 'NNARAAJ', 'NNARAJA', 'NNARJAA', 'NNJAAAR', 'NNJAARA', 'NNJARAA', 'NNJRAAA', 'NNRAAAJ', 'NNRAAJA', 'NNRAJAA', 'NNRJAAA', 'NRAAAJN', 'NRAAANJ', 'NRAAJAN', 'NRAAJNA', 'NRAANAJ', 'NRAANJA', 'NRAJAAN', 'NRAJANA', 'NRAJNAA', 'NRANAAJ', 'NRANAJA', 'NRANJAA', 'NRJAAAN', 'NRJAANA', 'NRJANAA', 'NRJNAAA', 'NRNAAAJ', 'NRNAAJA', 'NRNAJAA', 'NRNJAAA', 'RAAAJNN', 'RAAANJN', 'RAAANNJ', 'RAAJANN', 'RAAJNAN', 'RAAJNNA', 'RAANAJN', 'RAANANJ', 'RAANJAN', 'RAANJNA', 'RAANNAJ', 'RAANNJA', 'RAJAANN', 'RAJANAN', 'RAJANNA', 'RAJNAAN', 'RAJNANA', 'RAJNNAA', 'RANAAJN', 'RANAANJ', 'RANAJAN', 'RANAJNA', 'RANANAJ', 'RANANJA', 'RANJAAN', 'RANJANA', 'RANJNAA', 'RANNAAJ', 'RANNAJA', 'RANNJAA', 'RJAAANN', 'RJAANAN', 'RJAANNA', 'RJANAAN', 'RJANANA', 'RJANNAA', 'RJNAAAN', 'RJNAANA', 'RJNANAA', 'RJNNAAA', 'RNAAAJN', 'RNAAANJ', 'RNAAJAN', 'RNAAJNA', 'RNAANAJ', 'RNAANJA', 'RNAJAAN', 'RNAJANA', 'RNAJNAA', 'RNANAAJ', 'RNANAJA', 'RNANJAA', 'RNJAAAN', 'RNJAANA', 'RNJANAA', 'RNJNAAA', 'RNNAAAJ', 'RNNAAJA', 'RNNAJAA', 'RNNJAAA']\n",
            "El número de casos obtenidos es: 420.\n"
          ]
        }
      ]
    },
    {
      "cell_type": "markdown",
      "source": [
        "## Práctica 1.7\n",
        "Invente un caso de **combinaciones sin repetición**.\n",
        "Se pide contestar a los mismos puntos que el caso anterior."
      ],
      "metadata": {
        "id": "opCrIDtJGg1R"
      }
    },
    {
      "cell_type": "markdown",
      "source": [
        "Si participan en una carrera 8 corredores (con dorsales numerados del 1 al 8), y se entregarán 60 euros como premio tan solo a los **3 primeros** clasificados, ¿cúantas repartos distintos se podrían hacer? "
      ],
      "metadata": {
        "id": "A75nZQQR9iP7"
      }
    },
    {
      "cell_type": "markdown",
      "source": [
        "### Solución 1.7\n",
        "+ Sabemos que se trata de un problema de **combinaciones sin repetición**, ya que:\n",
        " - Los lugares que ocupan los elementos son indistinguibles. Es decir, el premio va a ser de 60 euros tanto para el primer clasificado, como para el segundo y el tercero (el premio no será de mayor o menor cantidad según el puesto de los clasificados, sino que será igual para los 3).\n",
        " - El orden no importa. Se tiene en cuenta a los 3 primeros corredores que se clasifiquen, pero su orden no es relevante. (Por ejemplo, daría igual que el corredor 1 llamado David llegara primero, segundo o tercero; porque lo importante sería que se clasificara entre los 3 primeros, que son los que obtendrán el mismo premio de 60 euros).\n",
        "\n",
        "* Estamos en un caso de combinaciones sin repetición.\n",
        "* Las Combinaciones de $m$ elementos (en este caso, son 8 corredores) tomados de $n$ en $n$ ($m \\geq n$) (que en este problema, vemos que serán tomados en grupos de 3 en 3), son todas las agrupaciones posibles que se pueden hacer con $m$ elementos (8 corredores) de forma que:\n",
        " - No entran todos los elementos, tan solo se podrán clasificar 3 corredores de los 8 que participan en la carrera.\n",
        " - No importa el orden, solo importa que estén entre los 3 primeros clasificados.\n",
        " - No se repiten elementos, porque si una persona ha sido el primer clasificado, ya no podrá volver a clasificarse, y el resto de puestos serán para los demás corredores. Por tanto, un corredor no puede obtener 2 puestos dentro de la clasificación, cada puesto corresponde a una persona diferente.\n",
        "\n",
        " $$ C^n_m = \\frac{V^n_m}{P_n} $$\n",
        "\n",
        " $$ C^n_m = C_{m,n} = \\binom{m}{n} = \\frac{m!}{n!(m-n)!} \\quad m \\geq n$$\n",
        "\n",
        "+ En este caso, se clasificarán y obtendrán premio tan solo 3 corredores de los 8 que participan en la carrera:\n",
        "$$ C^3_8 = C_{8,3} = \\binom{8}{3} = \\frac{8!}{3!(8-3)!} = 56$$\n"
      ],
      "metadata": {
        "id": "Zs46BsRnkJcl"
      }
    },
    {
      "cell_type": "code",
      "source": [
        "from math import factorial\n",
        "print(f\"Los casos que se obtienen son {int(factorial(8)/factorial(3)/factorial(8-3))}\")"
      ],
      "metadata": {
        "colab": {
          "base_uri": "https://localhost:8080/"
        },
        "id": "XnWM_ZDGFVZx",
        "outputId": "a6e2bc51-ec0c-45c4-de81-ba1a5a4c3905"
      },
      "execution_count": 8,
      "outputs": [
        {
          "output_type": "stream",
          "name": "stdout",
          "text": [
            "Los casos que se obtienen son 56\n"
          ]
        }
      ]
    },
    {
      "cell_type": "code",
      "source": [
        "from itertools import combinations\n",
        "c = combinations('12345678', 3)\n",
        "\n",
        "for i in c:\n",
        "    print(\"\".join(i), end=\", \")\n"
      ],
      "metadata": {
        "colab": {
          "base_uri": "https://localhost:8080/"
        },
        "id": "KAlCEsS-FeuH",
        "outputId": "e09fc0ec-2260-4264-cd64-a9d77d4f0ca7"
      },
      "execution_count": 9,
      "outputs": [
        {
          "output_type": "stream",
          "name": "stdout",
          "text": [
            "123, 124, 125, 126, 127, 128, 134, 135, 136, 137, 138, 145, 146, 147, 148, 156, 157, 158, 167, 168, 178, 234, 235, 236, 237, 238, 245, 246, 247, 248, 256, 257, 258, 267, 268, 278, 345, 346, 347, 348, 356, 357, 358, 367, 368, 378, 456, 457, 458, 467, 468, 478, 567, 568, 578, 678, "
          ]
        }
      ]
    },
    {
      "cell_type": "markdown",
      "source": [
        "## Práctica 1.8\n",
        "Invente un caso de **combinaciones con repetición**.\n",
        "Se pide contestar a los mismos puntos que el caso anterior."
      ],
      "metadata": {
        "id": "-7Y5WWlDGzAR"
      }
    },
    {
      "cell_type": "markdown",
      "source": [
        "En una tienda de chuches, hay **caramelos** de 6 sabores distintos (Naranja, Limón, Cocacola, Fresa, Manzana y Piña). ¿De cuántas formas distintas podríamos elegir 3 caramelos?"
      ],
      "metadata": {
        "id": "PbOwsaZ_HNRo"
      }
    },
    {
      "cell_type": "markdown",
      "source": [
        "### Solución 1.8\n",
        "+ Nos encontramos ante un problema de **combinaciones con repetición**, y lo podemos comprobar por las siguientes razones:\n",
        " - Los elementos se pueden repetir. Es decir, al escoger 3 caramelos entre los 6 sabores distintos que ofrece la tienda, los sabores se pueden repetir (por ejemplo, podríamos comprar 1 de Fresa y 2 de Piña, 2 de Fresa y 1 de Limón o 3 de Fresa; así, vemos que los sabores podrían ser iguales en varios caramelos). \n",
        "+ Las combinaciones $m$ elementos (en este caso, la tienda dispone de 6 sabores) tomados de $n$ en $n$ (que en este problema, serán tomados en grupos de 3 en 3, para formar las distintas posibilidades).\n",
        " \n",
        "\n",
        "\n",
        "$$CR^n_m = CR_{n,m} = C_{n,m+n-1} = \\binom{m+n-1}{n} = \\frac{(m+n-1)!}{n! \\cdot (m-1)!} $$\n",
        "\n",
        "$$CR^3_6 = CR_{6,3} = \\binom{6+3-1}{3} = \\frac{(6+3-1)!}{3! \\cdot (6-1)!} = 56 $$"
      ],
      "metadata": {
        "id": "ReRULqd8kL1F"
      }
    },
    {
      "cell_type": "code",
      "source": [
        "from itertools import combinations_with_replacement\n",
        "c = combinations_with_replacement('NLCFMP', 3)\n",
        "\n",
        "for i in c:\n",
        "    print(*i)\n",
        "\n",
        "m = 6\n",
        "n = 3\n"
      ],
      "metadata": {
        "colab": {
          "base_uri": "https://localhost:8080/"
        },
        "id": "tkle5yOqLoVq",
        "outputId": "ebb4702a-2383-4728-ca7d-ca4d0f8cc955"
      },
      "execution_count": 13,
      "outputs": [
        {
          "output_type": "stream",
          "name": "stdout",
          "text": [
            "N N N\n",
            "N N L\n",
            "N N C\n",
            "N N F\n",
            "N N M\n",
            "N N P\n",
            "N L L\n",
            "N L C\n",
            "N L F\n",
            "N L M\n",
            "N L P\n",
            "N C C\n",
            "N C F\n",
            "N C M\n",
            "N C P\n",
            "N F F\n",
            "N F M\n",
            "N F P\n",
            "N M M\n",
            "N M P\n",
            "N P P\n",
            "L L L\n",
            "L L C\n",
            "L L F\n",
            "L L M\n",
            "L L P\n",
            "L C C\n",
            "L C F\n",
            "L C M\n",
            "L C P\n",
            "L F F\n",
            "L F M\n",
            "L F P\n",
            "L M M\n",
            "L M P\n",
            "L P P\n",
            "C C C\n",
            "C C F\n",
            "C C M\n",
            "C C P\n",
            "C F F\n",
            "C F M\n",
            "C F P\n",
            "C M M\n",
            "C M P\n",
            "C P P\n",
            "F F F\n",
            "F F M\n",
            "F F P\n",
            "F M M\n",
            "F M P\n",
            "F P P\n",
            "M M M\n",
            "M M P\n",
            "M P P\n",
            "P P P\n"
          ]
        }
      ]
    },
    {
      "cell_type": "markdown",
      "source": [
        "## Práctica 1.9\n",
        "En el gobierno se crea una unidad de crisis formada por el presidente (P) y 4 ministros (A,B,C,D) que se reúnen sentados alrededor de una **mesa redonda**.\n",
        "\n",
        "Se pide:  \n",
        "1. Calcule de cuantas formas pueden llegar a sentarse si el ministro de defensa (D) siempre ha de estar al lado del presidente (P). Escriba la solución en una celda de Markdown utilizando fórmulas en $\\LaTeX$  explicando el caso.\n",
        "2. Cree un programa en Python para calcular el número de casos que se pueden dar al sentarse en la mesa.\n",
        "3. Cree un programa en Python para imprimir todas las posibilidades y numérelas. Por ejemplo:\n",
        "    - 1 PDABC\n",
        "    - 2 PDACB\n",
        "    - 3 PDBCD\n",
        "    - 4 PDBDC\n",
        "    - 5 PDCAB\n",
        "    - 6 PDCBA\n",
        "    - 7 DPABC\n",
        "    - 8 DPACB\n",
        "    - &#20; &#20; &#20; ... ... ...\n"
      ],
      "metadata": {
        "id": "SOzxh_YgHnDG"
      }
    },
    {
      "cell_type": "markdown",
      "source": [
        "### Solución 1.9\n",
        "+ Se trata de un caso de **permutaciones circulares**, ya que los elementos se colocan en forma circular alrededor de una mesa redonda, en la cual no existe ni elemento primero ni último.\n",
        "+ Además, el orden sí que importa porque el problema nos dice que el ministro de defensa (D) siempre tiene que sentarse al lado del presidente (P).\n",
        "\n",
        " - La fórmula correspondiente es:\n",
        " $$PC_n = P_{n-1} = {(n-1)!} $$\n",
        "+ En este problema, sería: \n",
        " - Como el presidente (P) y el ministro de defensa (D) deben sentarse siempre juntos, constituyen un elemento al que denominaremos E; por tanto, la forma en la que se colocarían 4 elementos alrededor de la mesa circular es:\n",
        "\n",
        "  $$PC_4 = P_{4-1} = {(4-1)!} = {3!} = 6$$\n",
        " - Por otra parte, observamos que el elemento E podría permutarse entre sí. Es decir, en uno de los casos, el presidente (P) se sentaría a la derecha del ministro de defensa (D); y en el otro caso, se situaría a su izquierda. La fórmula sería la que aparece a continuación:\n",
        "\n",
        "  $$P_2 = {2!} = 2$$\n",
        " - Puesto que los 2 sucesos son independientes y suceden a la vez, se relacionan de forma multiplicativa entre ellos. Por esta razón, el resultado de este problema lo hallaremos haciendo el producto de los 2 sucesos:\n",
        "\n",
        "  $$PC_4 {\\cdot P_2} = 6 \\cdot 2 = 12$$\n"
      ],
      "metadata": {
        "id": "F8kV034OkQZX"
      }
    },
    {
      "cell_type": "code",
      "source": [
        "import math\n",
        "from itertools import permutations\n",
        "\n",
        "p = list(permutations('ABC'))\n",
        "\n",
        "texto = ''  \n",
        "for v in p:\n",
        "\n",
        "    texto += 'PD' + ''.join(v) + ','   \n",
        "for v in p:\n",
        "\n",
        "    texto += 'DP' + ''.join(v) + ','  \n",
        "\n",
        "print(texto[:-1])   "
      ],
      "metadata": {
        "colab": {
          "base_uri": "https://localhost:8080/"
        },
        "id": "hRxMdZXJTdhG",
        "outputId": "cf072555-5ce1-4396-b922-97b3647abe8d"
      },
      "execution_count": 14,
      "outputs": [
        {
          "output_type": "stream",
          "name": "stdout",
          "text": [
            "PDABC,PDACB,PDBAC,PDBCA,PDCAB,PDCBA,DPABC,DPACB,DPBAC,DPBCA,DPCAB,DPCBA\n"
          ]
        }
      ]
    },
    {
      "cell_type": "markdown",
      "source": [
        "## Práctica 1.10\n",
        "* Realice una breve explicación teórica del **triángulo de Pascal**, o también llamado triángulo de Tartaglia, y de las fórmulas de los números combinatorios.\n",
        "* Cree un programa en Python para hacer el triángulo de Pascal."
      ],
      "metadata": {
        "id": "eiHdMOP-MkrZ"
      }
    },
    {
      "cell_type": "markdown",
      "source": [
        "### Solución 1.10"
      ],
      "metadata": {
        "id": "j0UT2579kTSM"
      }
    },
    {
      "cell_type": "markdown",
      "source": [
        "+ El **triángulo de Pascal** es un triángulo de números enteros, infinito y simétrico. Es decir, consiste en una representación de los coeficientes binomiales ordenados en forma de triángulo. \n",
        "\n",
        "+ Se empieza con un 1 en la primera fila, y en las filas siguientes se van colocando números de forma que cada uno de ellos sea la suma de los dos números que tiene encima.\n",
        "\n",
        "+ La fórmula del número combinatorio es:\n",
        "\n",
        " $$ C^n_m = \\binom{m}{n} = \\frac{m!}{n!(m-n)!}$$"
      ],
      "metadata": {
        "id": "j-Kz0bI6aN9L"
      }
    },
    {
      "cell_type": "code",
      "source": [
        "num = int(input(\"Enter the number of rows:\"))\n",
        "\n",
        "for n in range(num):\n",
        "    print(' '*(num-n), end='')\n",
        "\n",
        "    print(' '.join(map(str, str(11**n))))\n"
      ],
      "metadata": {
        "colab": {
          "base_uri": "https://localhost:8080/"
        },
        "id": "G3zVZ-bLaPgY",
        "outputId": "c668dc96-e6bd-4bf1-9caa-c98a5a04b72b"
      },
      "execution_count": 24,
      "outputs": [
        {
          "output_type": "stream",
          "name": "stdout",
          "text": [
            "Enter the number of rows:7\n",
            "       1\n",
            "      1 1\n",
            "     1 2 1\n",
            "    1 3 3 1\n",
            "   1 4 6 4 1\n",
            "  1 6 1 0 5 1\n",
            " 1 7 7 1 5 6 1\n"
          ]
        }
      ]
    }
  ]
}